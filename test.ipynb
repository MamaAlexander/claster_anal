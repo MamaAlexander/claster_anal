{
 "cells": [
  {
   "cell_type": "markdown",
   "metadata": {},
   "source": [
    "Соединение и аутентификация\n",
    "\n",
    "При удачном подключении к почте увидим сообщение [b'Authentication successful']"
   ]
  },
  {
   "cell_type": "code",
   "execution_count": 8,
   "metadata": {},
   "outputs": [
    {
     "name": "stdout",
     "output_type": "stream",
     "text": [
      "Found 1833 emails\n",
      "Added text/plain part from email 5120\n",
      "Added text/plain part from email 5119\n",
      "Added text/plain part from email 5117\n",
      "Added text/plain part from email 5116\n",
      "Added text/plain part from email 5113\n",
      "Added text/plain part from email 5112\n",
      "Added text/plain part from email 5111\n",
      "Added text/plain part from email 5110\n",
      "Added text/plain part from email 5109\n",
      "Added text/plain part from email 5107\n",
      "Added text/plain part from email 5102\n",
      "Added text/plain part from email 5101\n",
      "Added text/plain part from email 5100\n",
      "Added text/plain part from email 5099\n",
      "Added text/plain part from email 5098\n",
      "Added text/plain part from email 5097\n",
      "Added text/plain part from email 5096\n",
      "Added text/plain part from email 5095\n",
      "Added text/plain part from email 5094\n",
      "Added text/plain part from email 5093\n",
      "Added text/plain part from email 5092\n",
      "Added text/plain part from email 5091\n",
      "Added text/plain part from email 5090\n",
      "Added text/plain part from email 5089\n",
      "Added text/plain part from email 5088\n",
      "Added text/plain part from email 5087\n",
      "Added text/plain part from email 5086\n",
      "Added text/plain part from email 5085\n",
      "Added text/plain part from email 5084\n",
      "Added text/plain part from email 5083\n",
      "Added text/plain part from email 5081\n",
      "Added text/plain part from email 5080\n",
      "Added text/plain part from email 5079\n",
      "Added text/plain part from email 5078\n",
      "Added text/plain part from email 5077\n",
      "Added text/plain part from email 5076\n",
      "Added text/plain part from email 5075\n",
      "Added text/plain part from email 5073\n",
      "Added text/plain part from email 5072\n",
      "Added text/plain part from email 5071\n",
      "Added text/plain part from email 5070\n",
      "Added text/plain part from email 5069\n",
      "Added text/plain part from email 5068\n",
      "Added text/plain part from email 5067\n",
      "Added text/plain part from email 5066\n",
      "Added text/plain part from email 5065\n",
      "Added text/plain part from email 5064\n",
      "Added text/plain part from email 5063\n",
      "Added text/plain part from email 5062\n",
      "Added text/plain part from email 5061\n",
      "Added text/plain part from email 5060\n",
      "Added text/plain part from email 5059\n",
      "Added text/plain part from email 5058\n",
      "Added text/plain part from email 5057\n",
      "Added text/plain part from email 5056\n",
      "Added text/plain part from email 5055\n",
      "Added text/plain part from email 5053\n",
      "Added text/plain part from email 5052\n",
      "Added text/plain part from email 5051\n",
      "Added text/plain part from email 5050\n",
      "Added text/plain part from email 5049\n",
      "Added text/plain part from email 5048\n",
      "Added text/plain part from email 5047\n",
      "Added text/plain part from email 5046\n",
      "Added text/plain part from email 5045\n",
      "Added text/plain part from email 5044\n",
      "Added text/plain part from email 5043\n",
      "Added text/plain part from email 5042\n",
      "Added text/plain part from email 5041\n",
      "Added text/plain part from email 5040\n",
      "Added text/plain part from email 5039\n",
      "Added text/plain part from email 5038\n",
      "Added text/plain part from email 5037\n",
      "Added text/plain part from email 5036\n",
      "Added text/plain part from email 5035\n",
      "Added text/plain part from email 5034\n",
      "Added text/plain part from email 5030\n",
      "Added text/plain part from email 5029\n",
      "Added text/plain part from email 5028\n",
      "Added text/plain part from email 5027\n",
      "Added text/plain part from email 5026\n",
      "Added text/plain part from email 5025\n",
      "Added text/plain part from email 5024\n",
      "Added text/plain part from email 5023\n",
      "Added text/plain part from email 5022\n",
      "Added text/plain part from email 5021\n",
      "Added text/plain part from email 5020\n",
      "Added text/plain part from email 5019\n",
      "Added text/plain part from email 5018\n",
      "Added text/plain part from email 5017\n",
      "Added text/plain part from email 5016\n",
      "Added text/plain part from email 5015\n",
      "Added text/plain part from email 5014\n",
      "Added text/plain part from email 5013\n",
      "Added text/plain part from email 5012\n",
      "Added text/plain part from email 5010\n",
      "Added text/plain part from email 5009\n",
      "Added text/plain part from email 5008\n",
      "Added text/plain part from email 5006\n",
      "Added text/plain part from email 5005\n",
      "Added text/plain part from email 5004\n",
      "Added text/plain part from email 5003\n",
      "Added text/plain part from email 5002\n",
      "Added text/plain part from email 5001\n",
      "Added text/plain part from email 5000\n",
      "Added text/plain part from email 4999\n",
      "Added text/plain part from email 4998\n",
      "Added text/plain part from email 4997\n",
      "Added text/plain part from email 4996\n",
      "Added text/plain part from email 4995\n",
      "Added text/plain part from email 4994\n",
      "Added text/plain part from email 4993\n",
      "Added text/plain part from email 4992\n",
      "Added text/plain part from email 4991\n",
      "Added text/plain part from email 4990\n",
      "Added text/plain part from email 4989\n",
      "Added text/plain part from email 4988\n",
      "Added text/plain part from email 4987\n",
      "Added text/plain part from email 4985\n",
      "Added text/plain part from email 4984\n",
      "Added text/plain part from email 4983\n",
      "Added text/plain part from email 4982\n",
      "Added text/plain part from email 4981\n",
      "Added text/plain part from email 4980\n",
      "Added text/plain part from email 4979\n",
      "Added text/plain part from email 4978\n",
      "Added text/plain part from email 4977\n",
      "Added text/plain part from email 4976\n",
      "Added text/plain part from email 4975\n",
      "Added text/plain part from email 4974\n",
      "Added text/plain part from email 4973\n",
      "Added text/plain part from email 4972\n",
      "Added text/plain part from email 4971\n",
      "Added text/plain part from email 4970\n",
      "Added text/plain part from email 4969\n",
      "Added text/plain part from email 4968\n",
      "Added text/plain part from email 4967\n",
      "Added text/plain part from email 4963\n",
      "Added text/plain part from email 4962\n",
      "Added text/plain part from email 4961\n",
      "Added text/plain part from email 4960\n",
      "Added text/plain part from email 4959\n",
      "Added text/plain part from email 4958\n",
      "Added text/plain part from email 4957\n",
      "Added text/plain part from email 4956\n",
      "Added text/plain part from email 4955\n",
      "Added text/plain part from email 4954\n",
      "Added text/plain part from email 4953\n",
      "Added text/plain part from email 4952\n",
      "Added text/plain part from email 4951\n",
      "Added text/plain part from email 4950\n",
      "Added text/plain part from email 4949\n",
      "Added text/plain part from email 4948\n",
      "Added text/plain part from email 4947\n",
      "Added text/plain part from email 4946\n",
      "Added text/plain part from email 4945\n",
      "Added text/plain part from email 4943\n",
      "Added text/plain part from email 4942\n",
      "Added text/plain part from email 4941\n",
      "Added text/plain part from email 4940\n",
      "Added text/plain part from email 4939\n",
      "Added text/plain part from email 4938\n",
      "Added text/plain part from email 4937\n",
      "Added text/plain part from email 4936\n",
      "Added text/plain part from email 4935\n",
      "Added text/plain part from email 4934\n",
      "Added text/plain part from email 4933\n",
      "Added text/plain part from email 4932\n",
      "Added text/plain part from email 4931\n",
      "Added text/plain part from email 4930\n",
      "Added text/plain part from email 4929\n",
      "Added text/plain part from email 4928\n",
      "Added text/plain part from email 4926\n",
      "Added text/plain part from email 4924\n",
      "Added text/plain part from email 4923\n",
      "Added text/plain part from email 4922\n",
      "Added text/plain part from email 4921\n",
      "Added text/plain part from email 4920\n",
      "Added text/plain part from email 4919\n",
      "Added text/plain part from email 4918\n",
      "Added text/plain part from email 4917\n",
      "Added text/plain part from email 4916\n",
      "Added text/plain part from email 4915\n",
      "Added text/plain part from email 4914\n",
      "Added text/plain part from email 4913\n",
      "Added text/plain part from email 4912\n",
      "Added text/plain part from email 4911\n",
      "Added text/plain part from email 4910\n",
      "Added text/plain part from email 4909\n",
      "Added text/plain part from email 4908\n",
      "Added text/plain part from email 4907\n",
      "Added text/plain part from email 4906\n",
      "Added text/plain part from email 4905\n",
      "Added text/plain part from email 4904\n",
      "Added text/plain part from email 4902\n",
      "Added text/plain part from email 4901\n",
      "Added text/plain part from email 4900\n",
      "Added text/plain part from email 4899\n",
      "Added text/plain part from email 4898\n",
      "Added text/plain part from email 4897\n",
      "Added text/plain part from email 4896\n",
      "Added text/plain part from email 4895\n",
      "Added text/plain part from email 4894\n",
      "Added text/plain part from email 4893\n",
      "Added text/plain part from email 4892\n",
      "Added text/plain part from email 4891\n",
      "Added text/plain part from email 4890\n",
      "Added text/plain part from email 4889\n",
      "Added text/plain part from email 4888\n",
      "Added text/plain part from email 4887\n",
      "Added text/plain part from email 4886\n",
      "Added text/plain part from email 4881\n",
      "Added text/plain part from email 4879\n",
      "Added text/plain part from email 4878\n",
      "Added text/plain part from email 4877\n",
      "Added text/plain part from email 4876\n",
      "Added text/plain part from email 4875\n",
      "Added text/plain part from email 4874\n",
      "Added text/plain part from email 4873\n",
      "Added text/plain part from email 4872\n",
      "Added text/plain part from email 4870\n",
      "Added text/plain part from email 4869\n",
      "Added text/plain part from email 4868\n",
      "Added text/plain part from email 4867\n",
      "Added text/plain part from email 4866\n",
      "Added text/plain part from email 4864\n",
      "Added text/plain part from email 4863\n",
      "Added text/plain part from email 4862\n",
      "Added text/plain part from email 4861\n",
      "Added text/plain part from email 4860\n",
      "Added text/plain part from email 4859\n",
      "Added text/plain part from email 4858\n",
      "Added text/plain part from email 4857\n",
      "Added text/plain part from email 4856\n",
      "Added text/plain part from email 4855\n",
      "Added text/plain part from email 4854\n",
      "Added text/plain part from email 4853\n",
      "Added text/plain part from email 4852\n",
      "Added text/plain part from email 4851\n",
      "Added text/plain part from email 4850\n",
      "Added text/plain part from email 4848\n",
      "Added text/plain part from email 4847\n",
      "Added text/plain part from email 4846\n",
      "Added text/plain part from email 4845\n",
      "Added text/plain part from email 4844\n",
      "Added text/plain part from email 4838\n",
      "Added text/plain part from email 4837\n",
      "Added text/plain part from email 4836\n",
      "Added text/plain part from email 4834\n",
      "Added text/plain part from email 4827\n",
      "Added text/plain part from email 4826\n",
      "Added text/plain part from email 4825\n",
      "Added text/plain part from email 4824\n",
      "Added text/plain part from email 4823\n",
      "Added text/plain part from email 4821\n",
      "Added text/plain part from email 4820\n",
      "Added text/plain part from email 4819\n",
      "Added text/plain part from email 4818\n",
      "Added text/plain part from email 4817\n",
      "Added text/plain part from email 4816\n",
      "Added text/plain part from email 4815\n",
      "Added text/plain part from email 4814\n",
      "Added text/plain part from email 4813\n",
      "Added text/plain part from email 4812\n",
      "Added text/plain part from email 4811\n",
      "Added text/plain part from email 4810\n",
      "Added text/plain part from email 4809\n",
      "Added text/plain part from email 4808\n",
      "Added text/plain part from email 4806\n",
      "Added text/plain part from email 4801\n",
      "Added text/plain part from email 4800\n",
      "Added text/plain part from email 4799\n",
      "Added text/plain part from email 4798\n",
      "Added text/plain part from email 4797\n",
      "Added text/plain part from email 4796\n",
      "Added text/plain part from email 4795\n",
      "Added text/plain part from email 4794\n",
      "Added text/plain part from email 4793\n",
      "Added text/plain part from email 4792\n",
      "Added text/plain part from email 4791\n",
      "Added text/plain part from email 4790\n",
      "Added text/plain part from email 4789\n",
      "Added text/plain part from email 4788\n",
      "Added text/plain part from email 4784\n",
      "Added text/plain part from email 4783\n",
      "Added text/plain part from email 4782\n",
      "Added text/plain part from email 4781\n",
      "Added text/plain part from email 4780\n",
      "Added text/plain part from email 4779\n",
      "Added text/plain part from email 4778\n",
      "Added text/plain part from email 4777\n",
      "Added text/plain part from email 4776\n",
      "Added text/plain part from email 4775\n",
      "Added text/plain part from email 4773\n",
      "Added text/plain part from email 4772\n",
      "Added text/plain part from email 4771\n",
      "Added text/plain part from email 4770\n",
      "Added text/plain part from email 4764\n",
      "Added text/plain part from email 4763\n",
      "Added text/plain part from email 4762\n",
      "Added text/plain part from email 4761\n",
      "Added text/plain part from email 4760\n",
      "Added text/plain part from email 4759\n",
      "Added text/plain part from email 4758\n",
      "Added text/plain part from email 4757\n",
      "Added text/plain part from email 4756\n",
      "Added text/plain part from email 4755\n",
      "Added text/plain part from email 4754\n",
      "Added text/plain part from email 4753\n",
      "Added text/plain part from email 4752\n",
      "Added text/plain part from email 4751\n",
      "Added text/plain part from email 4750\n",
      "Added text/plain part from email 4749\n",
      "Added text/plain part from email 4748\n",
      "Added text/plain part from email 4747\n",
      "Added text/plain part from email 4746\n",
      "Added text/plain part from email 4745\n",
      "Added text/plain part from email 4744\n",
      "Added text/plain part from email 4743\n",
      "Added text/plain part from email 4742\n",
      "Added text/plain part from email 4741\n",
      "Added text/plain part from email 4740\n",
      "Added text/plain part from email 4739\n",
      "Added text/plain part from email 4738\n",
      "Added text/plain part from email 4737\n",
      "Added text/plain part from email 4734\n",
      "Added text/plain part from email 4733\n",
      "Added text/plain part from email 4732\n",
      "Added text/plain part from email 4731\n",
      "Added text/plain part from email 4730\n",
      "Added text/plain part from email 4729\n",
      "Added text/plain part from email 4728\n",
      "Added text/plain part from email 4727\n",
      "Added text/plain part from email 4726\n",
      "Added text/plain part from email 4725\n",
      "Added text/plain part from email 4723\n",
      "Added text/plain part from email 4722\n",
      "Added text/plain part from email 4721\n",
      "Added text/plain part from email 4720\n",
      "Added text/plain part from email 4719\n",
      "Added text/plain part from email 4718\n",
      "Added text/plain part from email 4717\n",
      "Added text/plain part from email 4716\n",
      "Added text/plain part from email 4715\n",
      "Added text/plain part from email 4712\n",
      "Added text/plain part from email 4709\n",
      "Added text/plain part from email 4708\n",
      "Added text/plain part from email 4706\n",
      "Added text/plain part from email 4705\n",
      "Added text/plain part from email 4704\n",
      "Added text/plain part from email 4701\n",
      "Added non-multipart email b'4700'\n",
      "Added non-multipart email b'4700'\n",
      "Added non-multipart email b'4700'\n",
      "Added non-multipart email b'4700'\n",
      "Added non-multipart email b'4700'\n",
      "Added non-multipart email b'4700'\n",
      "Added non-multipart email b'4700'\n",
      "Added non-multipart email b'4700'\n",
      "Added non-multipart email b'4700'\n",
      "Added non-multipart email b'4700'\n",
      "Added non-multipart email b'4700'\n",
      "Added non-multipart email b'4700'\n",
      "Added non-multipart email b'4700'\n",
      "Added non-multipart email b'4700'\n",
      "Added non-multipart email b'4700'\n",
      "Added non-multipart email b'4700'\n",
      "Added non-multipart email b'4700'\n",
      "Added non-multipart email b'4700'\n",
      "Added non-multipart email b'4700'\n",
      "Added non-multipart email b'4700'\n",
      "Added non-multipart email b'4700'\n",
      "Added non-multipart email b'4700'\n",
      "Added non-multipart email b'4700'\n",
      "Added non-multipart email b'4700'\n",
      "Added non-multipart email b'4700'\n",
      "Added non-multipart email b'4700'\n",
      "Added non-multipart email b'4700'\n",
      "Added non-multipart email b'4700'\n",
      "Added non-multipart email b'4700'\n",
      "Added non-multipart email b'4700'\n",
      "Added non-multipart email b'4700'\n",
      "Added non-multipart email b'4700'\n",
      "Added non-multipart email b'4700'\n",
      "Added non-multipart email b'4700'\n",
      "Added non-multipart email b'4700'\n",
      "Added non-multipart email b'4700'\n",
      "Added non-multipart email b'4700'\n",
      "Added non-multipart email b'4700'\n",
      "Added non-multipart email b'4700'\n",
      "Added non-multipart email b'4700'\n",
      "Added non-multipart email b'4700'\n",
      "Added non-multipart email b'4700'\n",
      "Added non-multipart email b'4700'\n",
      "Added non-multipart email b'4700'\n",
      "Added non-multipart email b'4700'\n",
      "Added non-multipart email b'4700'\n",
      "Added non-multipart email b'4700'\n",
      "Added non-multipart email b'4700'\n",
      "Added non-multipart email b'4700'\n",
      "Added non-multipart email b'4700'\n",
      "Added non-multipart email b'4700'\n",
      "Added non-multipart email b'4700'\n",
      "Added non-multipart email b'4700'\n",
      "Added non-multipart email b'4700'\n",
      "Added non-multipart email b'4700'\n",
      "Added non-multipart email b'4700'\n",
      "Added non-multipart email b'4700'\n",
      "Added non-multipart email b'4700'\n",
      "Added non-multipart email b'4700'\n",
      "Added non-multipart email b'4700'\n",
      "Added non-multipart email b'4700'\n",
      "Added non-multipart email b'4700'\n",
      "Added non-multipart email b'4700'\n",
      "Added non-multipart email b'4700'\n",
      "Added non-multipart email b'4700'\n",
      "Added non-multipart email b'4700'\n",
      "Added non-multipart email b'4700'\n",
      "Added non-multipart email b'4700'\n",
      "Added non-multipart email b'4700'\n",
      "Added non-multipart email b'4700'\n",
      "Added non-multipart email b'4700'\n",
      "Added non-multipart email b'4700'\n",
      "Added non-multipart email b'4700'\n",
      "Added non-multipart email b'4700'\n",
      "Added non-multipart email b'4700'\n",
      "Added non-multipart email b'4700'\n",
      "Added non-multipart email b'4700'\n",
      "Added non-multipart email b'4700'\n",
      "Added non-multipart email b'4700'\n",
      "Added non-multipart email b'4700'\n",
      "Added non-multipart email b'4700'\n",
      "Added non-multipart email b'4700'\n",
      "Added non-multipart email b'4700'\n",
      "Added non-multipart email b'4700'\n",
      "Added non-multipart email b'4700'\n",
      "Added non-multipart email b'4700'\n",
      "Added non-multipart email b'4700'\n",
      "Added non-multipart email b'4700'\n",
      "Added non-multipart email b'4700'\n",
      "Added non-multipart email b'4700'\n",
      "Added non-multipart email b'4700'\n",
      "Added non-multipart email b'4700'\n",
      "Added non-multipart email b'4700'\n",
      "Added non-multipart email b'4700'\n",
      "Added non-multipart email b'4700'\n",
      "Added non-multipart email b'4700'\n",
      "Added non-multipart email b'4700'\n",
      "Added non-multipart email b'4700'\n",
      "Added non-multipart email b'4700'\n",
      "Added non-multipart email b'4700'\n",
      "Added non-multipart email b'4700'\n",
      "Added non-multipart email b'4700'\n",
      "Added non-multipart email b'4700'\n",
      "Added non-multipart email b'4700'\n",
      "Added non-multipart email b'4700'\n",
      "Added non-multipart email b'4700'\n",
      "Added non-multipart email b'4700'\n",
      "Added non-multipart email b'4700'\n",
      "Added non-multipart email b'4700'\n",
      "Added non-multipart email b'4700'\n",
      "Added non-multipart email b'4700'\n",
      "Added non-multipart email b'4700'\n",
      "Added non-multipart email b'4700'\n",
      "Added non-multipart email b'4700'\n",
      "Added non-multipart email b'4700'\n",
      "Added non-multipart email b'4700'\n",
      "Added non-multipart email b'4700'\n",
      "Added non-multipart email b'4700'\n",
      "Added non-multipart email b'4700'\n",
      "Added non-multipart email b'4700'\n",
      "Added non-multipart email b'4700'\n",
      "Added non-multipart email b'4700'\n",
      "Added non-multipart email b'4700'\n",
      "Added non-multipart email b'4700'\n",
      "Added non-multipart email b'4700'\n",
      "Added non-multipart email b'4700'\n",
      "Added non-multipart email b'4700'\n",
      "Added non-multipart email b'4700'\n",
      "Added non-multipart email b'4700'\n",
      "Added non-multipart email b'4700'\n",
      "Added non-multipart email b'4700'\n",
      "Added non-multipart email b'4700'\n",
      "Added non-multipart email b'4700'\n",
      "Added non-multipart email b'4700'\n",
      "Added non-multipart email b'4700'\n",
      "Added non-multipart email b'4700'\n",
      "Added non-multipart email b'4700'\n",
      "Added non-multipart email b'4700'\n",
      "Added non-multipart email b'4700'\n",
      "Added non-multipart email b'4700'\n",
      "Added non-multipart email b'4700'\n",
      "Added non-multipart email b'4700'\n",
      "Added non-multipart email b'4700'\n",
      "Added non-multipart email b'4700'\n",
      "Added non-multipart email b'4700'\n",
      "Added non-multipart email b'4700'\n",
      "Added non-multipart email b'4700'\n",
      "Added non-multipart email b'4700'\n",
      "Added non-multipart email b'4700'\n",
      "Added non-multipart email b'4700'\n",
      "Added non-multipart email b'4700'\n",
      "Added non-multipart email b'4700'\n",
      "Added non-multipart email b'4700'\n",
      "Added non-multipart email b'4700'\n",
      "Added non-multipart email b'4700'\n",
      "Added non-multipart email b'4700'\n",
      "Added non-multipart email b'4700'\n",
      "Added non-multipart email b'4700'\n",
      "Added non-multipart email b'4700'\n",
      "Added non-multipart email b'4700'\n",
      "Added non-multipart email b'4700'\n",
      "Added non-multipart email b'4700'\n",
      "Added non-multipart email b'4700'\n",
      "Added non-multipart email b'4700'\n",
      "Added non-multipart email b'4700'\n",
      "Added non-multipart email b'4700'\n",
      "Added non-multipart email b'4700'\n",
      "Added non-multipart email b'4700'\n",
      "Added non-multipart email b'4700'\n",
      "Added non-multipart email b'4700'\n",
      "Added non-multipart email b'4700'\n",
      "Added non-multipart email b'4700'\n",
      "Added non-multipart email b'4700'\n",
      "Added non-multipart email b'4700'\n",
      "Added non-multipart email b'4700'\n",
      "Added non-multipart email b'4700'\n",
      "Added non-multipart email b'4700'\n",
      "Added non-multipart email b'4700'\n",
      "Added non-multipart email b'4700'\n",
      "Added non-multipart email b'4700'\n",
      "Added non-multipart email b'4700'\n",
      "Added non-multipart email b'4700'\n",
      "Added non-multipart email b'4700'\n",
      "Added non-multipart email b'4700'\n",
      "Added non-multipart email b'4700'\n",
      "Added non-multipart email b'4700'\n",
      "Added non-multipart email b'4700'\n",
      "Added non-multipart email b'4700'\n",
      "Added non-multipart email b'4700'\n",
      "Added non-multipart email b'4700'\n",
      "Added non-multipart email b'4700'\n",
      "Added non-multipart email b'4700'\n",
      "Added non-multipart email b'4700'\n",
      "Added non-multipart email b'4700'\n",
      "Added non-multipart email b'4700'\n",
      "Added non-multipart email b'4700'\n",
      "Added non-multipart email b'4700'\n",
      "Added non-multipart email b'4700'\n",
      "Added non-multipart email b'4700'\n",
      "Added non-multipart email b'4700'\n",
      "Added non-multipart email b'4700'\n",
      "Added non-multipart email b'4700'\n",
      "Added non-multipart email b'4700'\n",
      "Added non-multipart email b'4700'\n",
      "Added non-multipart email b'4700'\n",
      "Added non-multipart email b'4700'\n",
      "Added non-multipart email b'4700'\n",
      "Added non-multipart email b'4700'\n",
      "Added non-multipart email b'4700'\n",
      "Added non-multipart email b'4700'\n",
      "Added non-multipart email b'4700'\n",
      "Added non-multipart email b'4700'\n",
      "Added non-multipart email b'4700'\n",
      "Added non-multipart email b'4700'\n",
      "Added non-multipart email b'4700'\n",
      "Added non-multipart email b'4700'\n",
      "Added non-multipart email b'4700'\n",
      "Added non-multipart email b'4700'\n",
      "Added non-multipart email b'4700'\n",
      "Added non-multipart email b'4700'\n",
      "Added non-multipart email b'4700'\n",
      "Added non-multipart email b'4700'\n",
      "Added non-multipart email b'4700'\n",
      "Added non-multipart email b'4700'\n",
      "Added non-multipart email b'4700'\n",
      "Added non-multipart email b'4700'\n",
      "Added non-multipart email b'4700'\n",
      "Added non-multipart email b'4700'\n",
      "Added non-multipart email b'4700'\n",
      "Added non-multipart email b'4700'\n",
      "Added non-multipart email b'4700'\n",
      "Added non-multipart email b'4700'\n",
      "Added non-multipart email b'4700'\n",
      "Added non-multipart email b'4700'\n",
      "Added non-multipart email b'4700'\n",
      "Added non-multipart email b'4700'\n",
      "Added non-multipart email b'4700'\n",
      "Added non-multipart email b'4700'\n",
      "Added non-multipart email b'4700'\n",
      "Added non-multipart email b'4700'\n",
      "Added non-multipart email b'4700'\n",
      "Added non-multipart email b'4700'\n",
      "Added non-multipart email b'4700'\n",
      "Added non-multipart email b'4700'\n",
      "Added non-multipart email b'4700'\n",
      "Added non-multipart email b'4700'\n",
      "Added non-multipart email b'4700'\n",
      "Added non-multipart email b'4700'\n",
      "Added non-multipart email b'4700'\n",
      "Added non-multipart email b'4700'\n",
      "Added non-multipart email b'4700'\n",
      "Added non-multipart email b'4700'\n",
      "Added non-multipart email b'4700'\n",
      "Added non-multipart email b'4700'\n",
      "Added non-multipart email b'4700'\n",
      "Added non-multipart email b'4700'\n",
      "Added non-multipart email b'4700'\n",
      "Added non-multipart email b'4700'\n",
      "Added non-multipart email b'4700'\n",
      "Added non-multipart email b'4700'\n",
      "Added non-multipart email b'4700'\n",
      "Added non-multipart email b'4700'\n",
      "Added non-multipart email b'4700'\n",
      "Added non-multipart email b'4700'\n",
      "Added non-multipart email b'4700'\n",
      "Added non-multipart email b'4700'\n",
      "Added non-multipart email b'4700'\n",
      "Added non-multipart email b'4700'\n",
      "Added non-multipart email b'4700'\n",
      "Added non-multipart email b'4700'\n"
     ]
    }
   ],
   "source": [
    "import imaplib\n",
    "import email\n",
    "import os\n",
    "import re\n",
    "from email.header import decode_header\n",
    "from bs4 import BeautifulSoup\n",
    "\n",
    "def read(sender_of_interest=None):\n",
    "    # Очищаем файл перед записью\n",
    "    with open('filtered_emails.txt', 'r+') as f:\n",
    "        f.truncate(0) \n",
    "\n",
    "    # Читаем учетные данные из переменных окружения\n",
    "    email_user = os.getenv('EMAIL_USER')\n",
    "    email_pass = os.getenv('EMAIL_PASS')\n",
    "\n",
    "    # Подключаемся к серверу\n",
    "    imap = imaplib.IMAP4_SSL(\"imap.gmail.com\", 993)\n",
    "    # imap.login(email_user, email_pass)\n",
    "    imap.login('remboplas@gmail.com', 'jmsv ehgo ncwi sgrj')\n",
    "    imap.select('INBOX')\n",
    "\n",
    "    # Поиск всех писем\n",
    "    if sender_of_interest:\n",
    "        status, response = imap.uid('search', None, 'ALL', f'FROM {sender_of_interest}')\n",
    "    else:\n",
    "        status, response = imap.uid('search', None, 'ALL')\n",
    "\n",
    "    if status == 'OK':\n",
    "        unread_msg_nums = response[0].split()\n",
    "        print(f\"Found {len(unread_msg_nums)} emails\")  # Отладочная информация\n",
    "    else:\n",
    "        unread_msg_nums = []\n",
    "        print(\"No emails found\")\n",
    "\n",
    "    # Инвертируем список ID, чтобы получить последние письма первыми\n",
    "    unread_msg_nums = unread_msg_nums[::-1]\n",
    "\n",
    "    data_list = []\n",
    "    count = 0  # Счётчик писем\n",
    "\n",
    "    for e_id in unread_msg_nums:\n",
    "        if count >= 400:  # Ограничение на 400 последних писем\n",
    "            break\n",
    "\n",
    "        e_id = e_id.decode('utf-8')\n",
    "        _, response = imap.uid('fetch', e_id, '(RFC822)')\n",
    "\n",
    "        # Используем message_from_bytes для правильного парсинга писем\n",
    "        raw_email = response[0][1]\n",
    "        email_message = email.message_from_bytes(raw_email)\n",
    "\n",
    "        # Проверка, multipart или нет, чтобы обработать текстовые и HTML части\n",
    "        if email_message.is_multipart():\n",
    "            for part in email_message.walk():\n",
    "                content_type = part.get_content_type()\n",
    "                if content_type == 'text/plain':  # Извлекаем только текстовую часть\n",
    "                    body = part.get_payload(decode=True).decode('utf-8', errors='ignore')\n",
    "                    data_list.append(body)\n",
    "                    print(f\"Added text/plain part from email {e_id}\")  # Отладочная информация\n",
    "                    count += 1\n",
    "                    break  # Если нашли нужную часть, выходим\n",
    "        else:\n",
    "            # Если не multipart, просто получаем тело письма\n",
    "            body = email_message.get_payload(decode=True).decode('utf-8', errors='ignore')\n",
    "            data_list.append(body)\n",
    "            count += 1\n",
    "\n",
    "    # Запись в файл\n",
    "    with open('filtered_emails.txt', 'w', encoding='utf-8') as f:\n",
    "        for elem in data_list:\n",
    "            # Удаляем блоки стилей <style>...</style>\n",
    "            elem = re.sub(r\"<style.*?>.*?</style>\", \"\", elem, flags=re.S)\n",
    "            elem = re.sub(r\"&nbsp;\", \"\", elem, flags=re.S)\n",
    "            # Удаляем все HTML-теги\n",
    "            elem = re.sub(r\"<[^>]+>\", \"\", elem, flags=re.S)\n",
    "            \n",
    "            if 'Высылаю обратную связь' in elem:\n",
    "                print(f\"Added non-multipart email {e_id}\")  # Отладочная информация\n",
    "\n",
    "                # Разбиваем на строки и записываем строки, если они не пустые\n",
    "                for line in elem.splitlines():\n",
    "                    if line.strip():  # Проверяем, не пустая ли строка\n",
    "                        f.write(line + '\\n')  # Записываем в файл\n",
    "\n",
    "                # Добавляем разделитель для каждого письма\n",
    "                f.write('\\n++++++++++++++++++++++++++++++++++++++++++++++++++++++++++++++++++++++++\\n')\n",
    "\n",
    "    # Завершаем работу с сервером\n",
    "    imap.logout()\n",
    "\n",
    "# Вызов функции\n",
    "read()\n"
   ]
  },
  {
   "cell_type": "code",
   "execution_count": 9,
   "metadata": {},
   "outputs": [
    {
     "name": "stdout",
     "output_type": "stream",
     "text": [
      "-------- Перенаправленное сообщение --------\n",
      "Тема: \tОС по итогам просмотра Мышанского Владимира Викторовича от \n",
      "26.09.2024.\n",
      "Дата: \tTue, 01 Oct 2024 17:57:40 +0300\n",
      "От: \tТернов Сергей \n",
      "Отвечать: \tТернов Сергей \n",
      "Кому: \tАлексей Аникеев \n",
      "Копия: \tСергей Викторович Лавриченко , Ваге Акобян \n",
      "Добрый день.\n",
      "Высылаю обратную связь по продавцу Скляров Николай Евгеньевич , название \n",
      "ТТ г.Гуково, ул. Комсомольская, д.49 Б, дата: 27.09.2024\n",
      "В указанный период была: Продажа\n",
      "*1. Оценка*\n",
      "Максимальная оценка проверок по критериям – 100 баллов. Итоги просмотра:\n",
      "Уровень сервиса - 23 из 25\n",
      "НЭП - 60 из 67\n",
      "Продажа аксессуаров - 0 из 6\n",
      "Отработка по акции - 2 из 2\n",
      "Итоговая сумма баллов с учетом обязательных и не обязательных пунктов - \n",
      "85 балов или 85%\n",
      "*2.Выявленные отклонения, рекомендация*\n",
      "Продавец не в уставной форме обуви.\n",
      "Продавец не проверил состояние ткущего АКБ.\n",
      "Клиенту не было предложено доп. товары. Так же не было демонстрации \n",
      "аксессуаров.\n",
      "Клинту не выдали визитных карточек и листовок.\n",
      "С уважением, Тернов Сергей - Оператор видеонаблюдения\n",
      "Отдел аналитики, мониторинга и контроля\n",
      "Компания \"АКБ-ЦЕНТР\" & ТСС \"Батарейка\"\n",
      "горячая линия:8(800)222-07-70\n",
      "адрес офиса: Ставропольский край, г. Минеральные Воды, ул. Московская, 29а\n",
      "eco-oper3@akb-centr.com \n",
      "http://avto-batt.ru/\n",
      "-- \n",
      "С уважением, Сергей Лавриченко\n",
      "Руководитель отдела аналитики, мониторинга и контроля\n",
      "Компания \"АКБ-ЦЕНТР\" & ТСС \"Батарейка\"\n",
      "моб. 8 938 35 00 135\n",
      "многоканальный: 8(800)222-07-70 доб. 151\n",
      "адрес офиса: Ставропольский край, г. Минеральные Воды,\n",
      "ул. Московская, 29а\n",
      "reco@akb-centr.com\n",
      "http://avto-batt.ru/\n"
     ]
    }
   ],
   "source": [
    "with open('filtered_emails.txt', 'r') as file:\n",
    "    lines = file.readlines()\n",
    "\n",
    "text = []  # Список для хранения блоков текста\n",
    "cnt = 0  # Начальная позиция для нарезки\n",
    "\n",
    "# Проходим по всем строкам файла\n",
    "for i in range(len(lines)):\n",
    "    # Проверяем, если строка содержит только плюсики (ваш разделитель)\n",
    "    if lines[i].strip() == '++++++++++++++++++++++++++++++++++++++++++++++++++++++++++++++++++++++++':\n",
    "        # Добавляем блок текста от cnt до i в список text\n",
    "        text.append(''.join(lines[cnt:i]).strip())\n",
    "        cnt = i + 1  # Обновляем начало следующего блока\n",
    "\n",
    "# Добавляем последний блок текста, если он есть после последней строки с плюсами\n",
    "if cnt < len(lines):\n",
    "    text.append(''.join(lines[cnt:]).strip())\n",
    "\n",
    "# print(text[0])\n",
    "print(text[len(text)-1])\n"
   ]
  },
  {
   "cell_type": "code",
   "execution_count": 10,
   "metadata": {},
   "outputs": [
    {
     "name": "stdout",
     "output_type": "stream",
     "text": [
      "['Хорошилов Михаил Владимирович', 'г.Светлоград ул.Сельскохозяйственная', '17.10.2024', 'когда пришли клиенты, пол был грязным. центре полу лежала метла. не задает открытых вопросов уточняющих режим эксплуатации авто/другого средства мобильности, характеристики авто, сложности эксплуатации, выясняет наличие доп. оборудования (потребителя энергии). использовал способы стимулирования клиента к совершению покупки. показывает состояние уровень жидкости акб. рассказывает/напоминает о режиме предложил клиенту купить сопутствующий ассортимент, аксессуары. не предлагал рассрочку. выдал визитки. сообщил бсо. сообщил, нужно приезжать через 3-4 месяца проверку. поступит звонок от колл-центра.']\n",
      "['Воронков Сергей Владимирович', 'Не найдено', '17.10.2024', 'не проверил текущее состояние акб. использовал способы стимулирования клиента к совершению покупки. не сообщил, рекомендовано приезжать проверку через 3-4 месяца. прошлая оценка от 12.10 задает вопросов уточняющих режим эксплуатации. показывает уровень жидкости новом предлагал рассрочку. ждем месяца проверку.']\n",
      "['Шульженко Никита Андреевич', 'Не найдено', '14.10.2024', 'не задает открытых вопросов уточняющих режим эксплуатации авто/другого средства мобильности, характеристики авто, сложности эксплуатации, выясняет наличие доп. оборудования (потребителя энергии). провёл развернутую презентацию продукта (доп. товары). не предлагал рассрочку. выдал клиенту визитки. сообщил о бсо. сообщил, рекомендовано приезжать проверку каждые 3-4 месяца.']\n",
      "['Евланов Андрей Юрьевич', 'Не найдено', '14.10.2024', 'не проверил текущее состояние акб. задает открытых вопросов уточняющих режим эксплуатации авто/другого средства мобильности, характеристики авто, сложности эксплуатации, выясняет наличие доп. оборудования (потребителя энергии). выдал клиенту визитки. при выдаче гарантийного талона покупателю, сообщил о звонке колл-центра. \\u200b\\u200b\\u200b\\u200b\\u200b\\u200b\\u200b']\n",
      "['Газюр Иван Александрович', 'г.Невинномысск ул. Гагарина', '14.10.2024', 'не использовал способы стимулирования клиента к совершению покупки. показывает состояние уровень жидкости акб. провёл развернутую презентацию продукта (доп. товары). не выдал клиенту визитки. сообщил о бсо. сообщил, рекомендовано приезжать проверку через 3-4 месяца.']\n",
      "['Шарафеев Роман Халимович', 'Не найдено', '18.10.2024', 'находится тт без бейджа. не задает открытых вопросов уточняющих режим эксплуатации авто/другого средства мобильности, характеристики авто. использовал способы стимулирования клиента к совершению покупки. показывает состояние уровень жидкости акб. предложил клиенту купить сопутствующий ассортимент, аксессуары. не сообщил, рекомендовано приезжать проверку через 3-4 месяца.']\n",
      "['Шарафеев Николай Халимович', 'Не найдено', '18.10.2024', 'не задает открытых вопросов уточняющих режим эксплуатации авто/другого средства мобильности, характеристики авто. использовал способы стимулирования клиента к совершению покупки. очень хорошо проконсультировал выполнив почти все пункти.']\n",
      "['Вартанян Эрик Вартанович', 'г.Армавир \\xa0ул.Советской Армии', '16.10.2024', 'не показывает состояние уровень жидкости новом акб. при выдаче гарантийного талона покупателю, сообщил о звонке колл-центра. закрыл все возражения клиента, очень хорошо проконсультировал, благодаря этому продажа завершилось успешно.']\n",
      "['Нестеренко Павел Сергеевич', 'г.Армавир \\xa0ул.Тургенева/C', '16.10.2024', 'не использовал способы стимулирования клиента к совершению покупки. показывает состояние уровень жидкости акб. предложил клиенту купить сопутствующий ассортимент, аксессуары. не выдал визитки.']\n",
      "['Добряков Дмитрий Сергеевич С', 'Не найдено', '17.10.2024', 'не использовал способы стимулирования клиента к совершению покупки. показал состояние уровень жидкости новом акб. не предлагал рассрочку. выдал визитки. сообщил о бсо. звонке колл-центра.']\n",
      "['Биркина Евгений Львович', 'Не найдено', '20.10.2024', 'не уточнил наличие дисконтной карты. хорошо проконсультировал.']\n",
      "['Бахмутский Даниил Андреевич', 'Не найдено', '19.10.2024', 'не уточнил наличие дисконтной карты. не сообщил, поступит звонок от колл-центра.']\n",
      "['Пикуль Денис Геннадьевич', 'Не найдено', '20.10.2024', 'при подъезде автомобиля не вышел улицу. проверил текущее состояние акб. задал открытых вопросов уточняющих режим эксплуатации авто/другого средства мобильности, характеристики авто. уточнил наличие дисконтной карты. продемонстрировал покупателю доп. товар аксессуары.']\n",
      "['Морозов Алексей Игоревич', 'Не найдено', '16.10.2024', 'не использовал способы стимулирования клиента к совершению покупки. показывает состояние уровень жидкости новом акб. продемонстрировал покупателю доп. товар аксессуары. выдал клиенту визитки. при выдаче гарантийного талона покупателю, сообщил о звонке колл-центра.']\n",
      "['Дзуцева Давид Таймуразович', 'Не найдено', '15.10.2024', 'то время когда консультировал клиента, другой сделал громкость музыки выше. как мне это неуважительно отношению клиента. (08:27) не проверил текущее состояние акб. использовал способы стимулирования клиента к совершению покупки. предложил клиенту купить сопутствующий ассортимент, аксессуары. не выдал визитки. сообщил, рекомендовано приезжать проверку через 3-4 месяца. поступит звонок от колл-центра.']\n",
      "['Тегаев Тимур Витальевич', 'г.Владикавказ \\xa0ул. Московская', '17.10.2024', 'не проверил текущее состояние акб. использовал способы стимулирования клиента к совершению покупки. провёл развернутую презентацию продукта (доп. товары). не выдал клиенту визитки.']\n",
      "['Плазунов Владислав Романович', 'г.Ессентуки \\xa0ул. Октябрьская', '18.10.2024', 'не использовал способы стимулирования клиента к совершению покупки. показывает состояние уровень жидкости акб. не выдал клиенту визитки.']\n",
      "['Меликян Владимир Манукович', 'Не найдено', '14.10.2024', 'не использовал способы стимулирования клиента к совершению покупки. показывает состояние уровень жидкости акб. предложил клиенту купить сопутствующий ассортимент, аксессуары. не выдал визитки. сообщил, рекомендовано приезжать проверку через 3-4 месяца.']\n",
      "['Баканов Юрий Александрович', 'Не найдено', '14.10.2024', 'не задает открытых вопросов уточняющих режим эксплуатации авто/другого средства мобильности, характеристики авто. использовал способы стимулирования клиента к совершению покупки. показывает состояние уровень жидкости акб. предложил клиенту купить сопутствующий ассортимент, аксессуары. выдал визитки. не сообщил о бсо. сообщил, рекомендовано приезжать проверку через 3-4 месяца.']\n",
      "['Пацюк Владислав Сергеевич', 'Не найдено', '16.10.2024', 'не задает открытых вопросов уточняющих режим эксплуатации. уточнил, какие критерии важны при выборе обращает внимание. показал состояние уровень жидкости новом акб. рассказал о режиме эксплуатации акб: периодичность зарядки, проверке уровня цвета электролита. провёл развернутую презентацию продукта (доп. товары). клиенту об актуальных акциях, предложениях.']\n",
      "['Киселёв Денис Николаевич', 'Не найдено', '16.10.2024', 'не проверил текущее состояние акб: заряд, уровень жидкости. задавал открытые вопросы уточняющие режим эксплуатации авто. использовал способы стимулирования клиента к совершению покупки. показал жидкости новом акб. рассказал о режиме периодичность зарядки, проверке уровня цвета электролита. клиенту об актуальных акциях, предложениях. сообщил звонке колл-центра.']\n",
      "['Еретина Денис Александрович', 'Не найдено', '20.10.2024', 'не проверил текущее состояние акб. задавал открытые вопросы уточняющие режим эксплуатации авто. уточнил, какие критерии важны при выборе обращает внимание. показал нагрузочной вилкой заряда уровень жидкости новом предложил клиенту купить сопутствующий ассортимент, аксессуары. провёл развернутую презентацию продукта (доп. товары). рассказал об актуальных акциях, предложениях. выдал визитные карточки.']\n",
      "['Куцемилов Денис Александрович', 'Не найдено', '20.10.2024', 'не задает открытые вопросы уточняющие режим эксплуатации авто. уточнил, какие критерии важны при выборе обращает внимание. показал состояние уровень жидкости новом акб. рассказал о режиме акб: периодичность зарядки, проверке уровня цвета электролита. предложил клиенту купить сопутствующий ассортимент, аксессуары. провёл развернутую презентацию продукта (доп. товары). об актуальных акциях, предложениях. выдал визитные карточки.']\n",
      "['Морозов Илья Леонидович', 'г.Ставрополь \\xa0ул. Шпаковская', '18.10.2024', 'не использовал способы стимулирования клиента к совершению покупки. показал состояние уровень жидкости новом акб. провёл развернутую презентацию продукта (доп. товары). рассказал клиенту об актуальных акциях, предложениях. выдал визитные карточки. при выдаче гарантийного талона, акцентировал внимание важных местах этом талоне. не сообщил о звонке колл-центра.']\n",
      "['Кобрин Владислав Александрович Г', 'Не найдено', '19.10.2024', 'не показал состояние уровень жидкости новом акб. предложил клиенту купить сопутствующий ассортимент, аксессуары. провёл развернутую презентацию продукта (доп. товары). рассказал об актуальных акциях, предложениях. выдал визитные карточки. сообщил о звонке колл-центра.']\n",
      "['Травников Игорь Олегович', 'Не найдено', '15.10.2024', 'не проверил текущее состояние акб: заряд, уровень жидкости. рассказал клиенту об актуальных акциях, предложениях. выдал визитные карточки. сообщил о проверке состояния акб через 3-4 месяца.']\n",
      "['Кожевников Виктор Александрович Г', 'Не найдено', '16.10.2024', 'не задает открытые вопросы уточняющие режим эксплуатации авто. показал нагрузочной вилкой состояние заряда акб. уровень жидкости новом рассказал о режиме провёл развернутую презентацию продукта (доп. товары). клиенту об актуальных акциях, предложениях. выдал визитные карточки. сообщил бсо. проверке состояния акб через 3-4 месяца. обслуживал клиента кепке. был без бейджа.']\n",
      "['Богатов Александр Дмитриевич Г', 'Не найдено', '19.10.2024', 'не показал состояние уровень жидкости новом акб. провёл развернутую презентацию продукта (доп. товары). рассказал клиенту об актуальных акциях, предложениях. оказал помощь установке']\n",
      "['Кочергин Евгений Александрович Г', 'г.Армавир \\xa0ул.Советской Армии', '16.10.2024', 'не рассказал о режиме эксплуатации акб: периодичность зарядки, проверке уровня цвета электролита. использовал способы стимулирования клиента к совершению покупки. уточнил, какие критерии важны при выборе.']\n",
      "['Тарало Виталий Николаевич', 'г.Светлоград ул.Сельскохозяйственная', '17.10.2024', 'нет чистоты порядка тт ( грязные полы). не проверил текущее состояние акб: заряд, уровень жидкости. задавал открытые вопросы уточняющие режим эксплуатации авто. уточнил, какие критерии важны при выборе. показал жидкости новом акб. рассказал о режиме периодичность зарядки, проверке уровня цвета электролита. провёл развернутую презентацию продукта (доп. товары). клиенту об актуальных акциях, предложениях.']\n",
      "['Бадаев Ренат Олегович Г', 'г.Ставрополь \\xa0ул. Серова', '15.10.2024', 'не уточнил, какие критерии важны при выборе обращает внимание. показал нагрузочной вилкой состояние заряда акб. уровень жидкости новом рассказал о режиме эксплуатации акб: периодичность зарядки, проверке уровня цвета электролита. предложил клиенту купить сопутствующий ассортимент, аксессуары. провёл развернутую презентацию продукта (доп. товары). об актуальных акциях, предложениях. при выдаче гарантийного талона, акцентировал внимание важных местах этом талоне.']\n",
      "['Данилидти Григорий Вячеславович Ст', 'Не найдено', '15.10.2024', 'не показал состояние уровень жидкости новом акб.']\n",
      "['Кинасова Олег Игоревич', 'г.Армавир \\xa0ул.Железнодорожная', '17.10.2024', 'не проверил текущее состояние акб: заряд, уровень жидкости. уточнил, какие критерии важны при выборе обращает внимание. рассказал о режиме эксплуатации периодичность зарядки, проверке уровня цвета электролита. предложил клиенту купить сопутствующий ассортимент, аксессуары. провёл развернутую презентацию продукта (доп. товары). не выдал визитные карточки. сообщил бсо \"ждем через 3-4 месяца проверку состояния акб\". оказал помощь установке акб. футболка соответствует требованиям.']\n",
      "['Гринь Сергей Сергеевич Г', 'Не найдено', '16.10.2024', 'не сообщил \"ждем через 3-4 месяца проверку состояния акб\". рассказал клиенту об актуальных акциях, предложениях. о режиме эксплуатации акб: периодичность зарядки, проверке уровня цвета электролита. показал состояние уровень жидкости новом акб. использовал способы стимулирования клиента к совершению покупки. уточнил, какие критерии важны при выборе обращает внимание.']\n",
      "['Иванов Юрий Владимирович С', 'Не найдено', '17.10.2024', 'не сообщил о звонке колл-центра. выдал визитные карточки. провёл развернутую презентацию продукта (доп. товары). рассказал режиме эксплуатации акб: периодичность зарядки, проверке уровня цвета электролита.']\n",
      "['Куликов Андрей Владимирович Г', 'г.Пятигорск ул. Коллективная 26А\\nДата', '17.10.2024', 'не проверил текущее состояние акб: заряд, уровень жидкости. показал жидкости новом акб. выдал визитные карточки.']\n",
      "['Ивченко Владимир Романович', 'г.Невинномысск ул. Гагарина', '17.10.2024', 'не проверил текущее состояние акб. использовал способы стимулирования клиента к совершению покупки. показывает уровень жидкости новом не выдал клиенту визитки. при выдаче гарантийного талона покупателю, сообщил о звонке колл-центра.']\n",
      "['Овсянников Сергей Алексеевич С', 'Не найдено', '17.10.2024', 'не использовал способы стимулирования клиента к совершению покупки. показал состояние уровень жидкости акб. не сообщил о бсо. сообщил, рекомендовано приезжать проверку через 3-4 месяца. презентовал слишком много моделей из-за этого клиент долго мог определиться.']\n",
      "['Мелконян Араик Каренович', 'Не найдено', '14.10.2024', 'не задал открытых вопросов уточняющих режим эксплуатации. использовал способы стимулирования клиента к совершению покупки. показывает состояние уровень жидкости акб. предложил клиенту купить сопутствующий ассортимент, аксессуары. выдал визитки. не сообщил, рекомендовано приезжать проверку через 3-4 месяца. при выдаче гарантийного талона покупателю, сообщил о звонке колл-центра.']\n",
      "['Загалов Игорь Русланович', 'Не найдено', '17.10.2024', 'не показывает состояние уровень жидкости новом акб. выдал клиенту визитки. хорошо проконсультировал.']\n",
      "['Торкунов Сергей Васильевич', 'г.Михайловск ул. Трунова', '17.10.2024', 'не проверил текущее состояние акб. задал открытых вопросов уточняющих режим эксплуатации авто/другого средства мобильности, характеристики авто. показывает уровень жидкости предложил клиенту купить сопутствующий ассортимент, аксессуары. не предлагал рассрочку. сообщил, рекомендовано приезжать проверку через 3-4 месяца.']\n",
      "['Носов Роман Евгеньевич', 'Не найдено', '15.10.2024', 'не проверил текущее состояние акб. использовал способы стимулирования клиента к совершению покупки. показывает уровень жидкости новом продемонстрировал покупателю доп. товар аксессуары. выдал клиенту визитки. не сообщил о бсо. сообщил, рекомендовано приезжать проверку каждые 3-4 месяца. при выдаче гарантийного талона покупателю, звонке колл-центра. оказал помощь установке']\n",
      "['Сазанов Павел Александрович', 'Не найдено', '15.10.2024', 'не задал открытых вопросов уточняющих режим эксплуатации авто/другого средства мобильности, характеристики авто. использовал способы стимулирования клиента к совершению покупки. показывает состояние уровень жидкости новом акб. продемонстрировал покупателю доп. товар аксессуары. не сообщил о бсо. сообщил, рекомендовано приезжать проверку каждые 3-4 месяца.']\n",
      "['Андросов Сергей Викторович', 'г.Зеленокумск ул. Площадь Ленина', '18.10.2024', 'не проверил текущее состояние акб. показывает уровень жидкости новом не предлагал рассрочку. выдал клиенту визитки. сообщил о бсо. сообщил, рекомендовано приезжать проверку каждые 3-4 месяца. при выдаче гарантийного талона покупателю, звонке колл-центра.']\n",
      "['Давыдов Дмитрий Иванович', 'Не найдено', '15.10.2024', 'не использовал способы стимулирования клиента к совершению покупки. показывает нагрузочной вилкой состояние заряда акб. уровень жидкости новом продемонстрировал покупателю доп. товар аксессуары. выдал клиенту визитки. при выдаче гарантийного талона покупателю, сообщил о звонке колл-центра.']\n",
      "['Ермаков Евгений Владимирович', 'Не найдено', '18.10.2024', 'не задает открытых вопросов уточняющих режим эксплуатации авто/другого средства мобильности, характеристики авто. использовал способы стимулирования клиента к совершению покупки. показывает состояние уровень жидкости новом акб. продемонстрировал покупателю доп. товар аксессуары. выдал клиенту визитки. не сообщил о бсо. сообщил, рекомендовано приезжать проверку каждые 3-4 месяца. оказал помощь установке']\n",
      "['Петросян Эдуард Александрович', 'г.Ставрополь \\xa0ул. Толстого', '18.10.2024', 'не задает открытых вопросов уточняющих режим эксплуатации авто/другого средства мобильности, характеристики авто. использовал способы стимулирования клиента к совершению покупки. показывает состояние уровень жидкости новом акб. не предлагал рассрочку. выдал визитки. сообщил, поступит звонок от колл-центра.']\n",
      "['Бирюлькин Анатолий Юрьевич', 'Не найдено', '18.10.2024', 'не использовал способы стимулирования клиента к совершению покупки. показывает состояние уровень жидкости акб. не сообщил, поступит звонок от колл-центра.']\n",
      "['Савельев Станислав Александрович', 'Не найдено', '17.10.2024', 'находится тт без бейджа. не показывает состояние уровень жидкости новом акб. при выдаче гарантийного талона покупателю, сообщил о звонке колл-центра.']\n",
      "['Кондраков Сергей Дмитриевич', 'Не найдено', '17.10.2024', 'не задает открытых вопросов уточняющих режим эксплуатации авто/другого средства мобильности, характеристики авто. уточнил наличие дисконтной карты. использовал способы стимулирования клиента к совершению покупки. показывает состояние уровень жидкости новом акб. выдал клиенту визитки. не предлагал рассрочку.']\n",
      "['Щербаков Александр Юрьевич', 'Не найдено', '16.10.2024', 'не задал открытых вопросов уточняющих режим эксплуатации авто/другого средства мобильности, характеристики авто. показывает нагрузочной вилкой состояние заряда акб. уровень жидкости новом выдал клиенту визитки. не предлагал рассрочку.']\n",
      "['Василенко Александр Юрьевич', 'Не найдено', '17.10.2024', 'не использовал способы стимулирования клиента к совершению покупки. показывает состояние заряда акб. не продемонстрировал покупателю доп. товар аксессуары. предлагал рассрочку. выдал клиенту визитки. сообщил, рекомендовано приезжать проверку каждые 3-4 месяца.']\n",
      "['Сорокин Евгений Валерьевич', 'г.Зеленокумск ул. Площадь Ленина', '18.10.2024', 'не использовал способы стимулирования клиента к совершению покупки. показывает состояние уровень жидкости акб. продемонстрировал покупателю доп. товар аксессуары. выдал клиенту визитки.']\n",
      "['Павленко Сергей Анатольевич', 'Не найдено', '17.10.2024', 'не использовал способы стимулирования клиента к совершению покупки. показывает состояние уровень жидкости новом акб. продемонстрировал покупателю доп. товар аксессуары. выдал клиенту визитки. не сообщил о бсо. сообщил, рекомендовано приезжать проверку каждые 3-4 месяца. при выдаче гарантийного талона покупателю, звонке колл-центра.']\n",
      "['Сыромятников Никита Романович П', 'п.Иноземцево \\xa0ул. Гагарина', '17.10.2024', 'не использовал способы стимулирования клиента к совершению покупки. показывает состояние уровень жидкости акб. предложил клиенту купить сопутствующий ассортимент, аксессуары. не выдал визитки. сообщил о бсо. сообщил, рекомендовано приезжать проверку через 3-4 месяца.']\n",
      "['Чугунов Николай Николаевич', 'Не найдено', '18.10.2024', 'не использовал способы стимулирования клиента к совершению покупк. показывает состояние уровень жидкости акб. достойно проконсультировал.']\n",
      "['Ломакин Максим Сергеевич', 'г.Пятигорск \\xa0ул.Первомайская', '18.10.2024', 'не использовал способы стимулирования клиента к совершению покупки. показывает состояние уровень жидкости акб. не выдал клиенту визитки.']\n",
      "['Арутюнян Арут Дереникович', 'Не найдено', '14.10.2024', 'не использовал способы стимулирования клиента к совершению покупки. показывает состояние уровень жидкости акб. предложил клиенту купить сопутствующий ассортимент, аксессуары. не сообщил о бсо. сообщил, рекомендовано приезжать проверку через 3-4 месяца. звонке колл-центра.']\n",
      "['Беднов Данил Сергеевич', 'Не найдено', '15.10.2024', 'не использовал способы стимулирования клиента к совершению покупки. показывает состояние уровень жидкости акб. предложил клиенту купить сопутствующий ассортимент, аксессуары. выдал гарантийный талон. не визитки. сообщил, рекомендовано приезжать проверку через 3-4 месяца.']\n",
      "['Никульников Иван Романович', 'Не найдено', '17.10.2024', 'не использовал способы стимулирования клиента к совершению покупки. показывает состояние уровень жидкости акб. целом достойно проконсультировал.']\n",
      "['Лясковский Виталий Сергеевич', 'г.Кисловодск \\xa0ул. 40 лет Октября', '18.10.2024', 'не задал открытых вопросов уточняющих режим эксплуатации авто/другого средства мобильности, характеристики авто. не выдал визитки. сообщил о бсо. сообщил, рекомендовано приезжать проверку через 3-4 месяца.']\n",
      "['Романовский Михаил Вячеславович', 'г.Ессентуки \\xa0ул. Володарского', '18.10.2024', 'не использовал способы стимулирования клиента к совершению покупки. достойно проконсультировал.']\n",
      "['Зуев Никита Евгеньевич', 'Не найдено', '19.10.2024', 'текущая оценка от 19.10 видел, клиент магазине, не подошел к нему сразу. задает открытых вопросов уточняющих режим эксплуатации. использовал способы стимулирования клиента совершению покупки. показывает нагрузочной вилкой состояние заряда акб. уровень жидкости предложил клиенту купить сопутствующий ассортимент, аксессуары. >не выдал визитки. сообщил о бсо. рекомендовано приезжать проверку через 3-4 месяца. >']\n",
      "['Тумарево Александр Олегович', 'Не найдено', '16.10.2024', 'текущая оценка от 16.10 не показывает состояние уровень жидкости акб. >не выдал клиенту визитки. сообщил о звонке колл-центра. >как мне достойно проконсультировал. >']\n",
      "['Минеев Алексей Сергеевич', 'Не найдено', '19.10.2024', 'не использовал способы стимулирования клиента к совершению покупки. показывает состояние уровень жидкости акб. предложил клиенту купить сопутствующий ассортимент, аксессуары. сообщил о звонке колл-центра. не оказал помощь установке']\n",
      "['Дробышевский Игорь Сергеевич', 'Не найдено', '15.10.2024', 'не использовал способы стимулирования клиента к совершению покупки. показывает состояние уровень жидкости акб. провёл развернутую презентацию продукта. не сообщил о звонке колл-центра.']\n",
      "['Зубенко Максим Эдуардович', 'Не найдено', '20.10.2024', 'не задал открытых вопросов уточняющих режим эксплуатации авто/другого средства мобильности, характеристики авто. использовал способы стимулирования клиента к совершению покупки. показывает состояние уровень жидкости новом акб. продемонстрировал покупателю доп. товар аксессуары. выдал клиенту визитки. не сообщил о бсо. сообщил, рекомендовано приезжать проверку каждые 3-4 месяца. при выдаче гарантийного талона покупателю, звонке колл-центра.']\n",
      "['Мчедлишвили Марк Важаевич', 'Не найдено', '16.10.2024', 'находится ртт нарушением формы одежды обуви. не использовал способы стимулирования клиента к совершению покупки. показывает состояние уровень жидкости акб. сообщил, рекомендовано через 3-4 месяца приезжать проверку. не сообщил о звонке колл-центра.']\n",
      "['Тоноян Арман Арменович Г', 'Не найдено', '20.10.2024', 'не задал открытых вопросов уточняющих режим эксплуатации авто/другого средства мобильности, характеристики авто. уточнил наличие дисконтной карты. использовал способы стимулирования клиента к совершению покупки. сообщил рекомендовано приезжать проверку через 3-4 месяца.']\n",
      "['Зуев Никита Евгеньевич', 'Не найдено', '19.10.2024', 'видел, клиент магазине, не подошел к нему сразу. задает открытых вопросов уточняющих режим эксплуатации. использовал способы стимулирования клиента совершению покупки. показывает нагрузочной вилкой состояние заряда акб. уровень жидкости предложил клиенту купить сопутствующий ассортимент, аксессуары. не выдал визитки. сообщил о бсо. рекомендовано приезжать проверку через 3-4 месяца.']\n",
      "['Тумарево Александр Олегович', 'Не найдено', '16.10.2024', 'не показывает состояние уровень жидкости акб. не выдал клиенту визитки. сообщил о звонке колл-центра. как мне достойно проконсультировал.']\n",
      "['Никольский Сергей Александрович', 'Не найдено', '20.10.2024', 'находится тт не форме. использовал способы стимулирования клиента к совершению покупки. показывает состояние уровень жидкости новом акб. выдал клиенту визитки. не оказал помощь установке']\n",
      "['Панкова Данил Александрович', 'Не найдено', '20.10.2024', 'не использовал способы стимулирования клиента к совершению покупки. показывает состояние уровень жидкости акб. не выдал визитки. сообщил о звонке колл-центра.']\n",
      "['Харламов Максим Владимирович', 'Не найдено', '14.10.2024', 'не задал открытых вопросов уточняющих режим эксплуатации авто/другого средства мобильности, характеристики авто. использовал способы стимулирования клиента к совершению покупки. показывает состояние уровень жидкости акб.']\n",
      "['Киянов Данил Сергеевич', 'г.Пятигорск ул.Калинина', '16.10.2024', 'не уточнил, какие критерии важны при выборе. не использовал способы стимулирования клиента к совершению покупки. показывает состояние уровень жидкости новом акб. выдал клиенту визитки.']\n",
      "['Кокорев Дмитрий Анатольевич', 'г.Пятигорск ул. Мира 201а', '16.10.2024', 'не использовал способы стимулирования клиента к совершению покупки. показывает состояние уровень жидкости акб. выдал клиенту визитки. у намного меньше ошибок чем было прошлый раз.']\n",
      "['Калашник Иван Владимирович', 'Не найдено', '17.10.2024', 'не находится тт форме. использовал способы стимулирования клиента к совершению покупки. показывает состояние уровень жидкости акб. выдал клиенту визитки.']\n",
      "['Базуткин Анатолий Михайлович', 'г.Ессентуки \\xa0ул. Первомайская', '18.10.2024', 'не задал открытых вопросов уточняющих режим эксплуатации авто/другого средства мобильности, характеристики авто. использовал способы стимулирования клиента к совершению покупки. показывает состояние уровень жидкости акб.']\n",
      "['Ильин Егор Сергеевич', 'Не найдено', '20.10.2024', 'не проверил текущее состояние акб. использовал способы стимулирования клиента к совершению покупки. показывает уровень жидкости новом провёл развернутую презентацию продукта.']\n",
      "['Корниенко Алексей Александрович', 'Не найдено', '19.10.2024', 'не задает открытых вопросов уточняющих режим эксплуатации авто/другого средства мобильности, характеристики авто. использовал способы стимулирования клиента к совершению покупки. показывает состояние уровень жидкости акб. предложил клиенту купить сопутствующий ассортимент, аксессуары.']\n",
      "['Костриков Андрей Владиславович', 'Не найдено', '19.10.2024', 'текущая оценка от 19.10 не проверил текущее состояние акб: заряд, уровень жидкости. использовал способы стимулирования клиента к совершению покупки. показывает жидкости нового акб. >']\n",
      "['Чернышёв Андрей Алексеевич', 'Не найдено', '19.10.2024', 'текущая оценка от 19.10 не задает открытых вопросов уточняющих режим эксплуатации авто/другого средства мобильности, характеристики авто. уточнил, какие критерии важны при выборе. показывает состояние уровень жидкости акб. сообщил, рекомендовано приезжать проверку через 3-4 месяца. выдал клиенту визитки. >>при выдаче гарантийного талона покупателю, сообщил о звонке колл-центра. >>']\n",
      "['Сыроватский Евгений Александрович', 'Не найдено', '20.10.2024', 'не проверил текущее состояние акб. показывает нагрузочной вилкой заряда уровень жидкости сообщил, рекомендовано приезжать проверку через 3-4 месяца. не поступит звонок от колл-центра.']\n",
      "['Чернышёв Андрей Алексеевич', 'Не найдено', '19.10.2024', 'текущая оценка от 19.10 не задает открытых вопросов уточняющих режим эксплуатации авто/другого средства мобильности, характеристики авто. уточнил, какие критерии важны при выборе. показывает состояние уровень жидкости акб. сообщил, рекомендовано приезжать проверку через 3-4 месяца. выдал клиенту визитки. >при выдаче гарантийного талона покупателю, сообщил о звонке колл-центра. >']\n",
      "['Талубаев Андрей Сергеевич', 'Не найдено', '15.10.2024', 'не задает открытых вопросов уточняющих режим эксплуатации авто/другого средства мобильности, характеристики авто. использовал способы стимулирования клиента к совершению покупки. показывает состояние уровень жидкости новом акб. продемонстрировал покупателю доп. товар аксессуары.']\n",
      "['Прудников Андрей Сергеевич', 'Не найдено', '20.10.2024', 'не задает открытых вопросов уточняющих режим эксплуатации авто/другого средства мобильности, характеристики авто. показывает состояние уровень жидкости акб. выдал клиенту визитки. сообщил, рекомендовано прийти проверку через 3-4 месяца. не поступит звонок от колл-центра.']\n",
      "['Козко Андрей Евгеньевич', 'Не найдено', '20.10.2024.', 'не задает открытых вопросов уточняющих режим эксплуатации авто/другого средства мобильности, характеристики авто. показывает состояние уровень жидкости акб. сообщил, рекомендовано приехать проверку через 3-4 месяца.']\n",
      "['Кичкина Борис Владимирович', 'Не найдено', '19.10.2024', 'отлично проконсультировал. нет никаких отклонений.']\n",
      "['Кондаков Владислав Альбертович', 'Не найдено', '15.10.2024', 'не использовал способы стимулирования клиента к совершению покупки. показывает состояние уровень жидкости новом акб. выдал клиенту визитки. целом консультация была хорошая.']\n",
      "['Петросян Наречь Варданович', 'Не найдено', '19.10.2024', 'не использовал способы стимулирования клиента к совершению покупки. показывает состояние уровень жидкости акб. сообщил, поступит звонок от колл-центра для оценки качества обслуживания.']\n",
      "['Покася Даниил Владимирович', 'Не найдено', '16.10.2024', 'не использовал способы стимулирования клиента к совершению покупки. показывает состояние уровень жидкости нового акб. не сообщил, поступит звонок от колл-центра для оценки качества обслуживания/']\n",
      "['Костриков Андрей Владиславович', 'Не найдено', '19.10.2024', 'не проверил текущее состояние акб: заряд, уровень жидкости. использовал способы стимулирования клиента к совершению покупки. показывает жидкости нового акб.']\n",
      "['Чернышёв Андрей Алексеевич', 'Не найдено', '19.10.2024', 'не задает открытых вопросов уточняющих режим эксплуатации авто/другого средства мобильности, характеристики авто. уточнил, какие критерии важны при выборе. показывает состояние уровень жидкости акб. сообщил, рекомендовано приезжать проверку через 3-4 месяца. выдал клиенту визитки. при выдаче гарантийного талона покупателю, сообщил о звонке колл-центра.']\n",
      "['Романцов Кирилл Алексеевич', 'г.Армавир \\xa0ул.Ковтюха', '17.10.2024', 'не использовал способы стимулирования клиента к совершению покупки. показывает состояние уровень жидкости новом акб. продемонстрировал покупателю доп. товар аксессуары. выдал клиенту визитки.']\n",
      "['Калашников Сергей Романович', 'Не найдено', '17.10.2024', 'не предлагал рассрочку. выдал клиенту визитки. при выдаче гарантийного талона покупателю, сообщил о звонке колл-центра. хорошо проконсультировал.']\n",
      "['Ткачёв Максим Михайлович', 'г.Михайловск ул.Заезд Привольный 14/1 дата', '17.10.2024', 'не проверил текущее состояние акб. задал открытых вопросов уточняющих режим эксплуатации авто/другого средства мобильности, характеристики авто. использовал способы стимулирования клиента к совершению покупки. показывает уровень жидкости новом не предлагал рассрочку. выдал клиенту визитки.']\n",
      "['Лошкарев Юрий Юрьевич', 'г.Михайловск ул. Трунова', '17.10.2024', 'не показывает состояние уровень жидкости новом акб. очень хорошо проконсультировал.']\n",
      "['Гасанов Надир Рабазанович', 'Не найдено', '14.10.2024', 'не задает открытых вопросов уточняющих режим эксплуатации авто/другого средства мобильности, характеристики авто. использовал способы стимулирования клиента к совершению покупки. показывает состояние заряда уровень жидкости новом акб. продемонстрировал покупателю доп. товар аксессуары. не предлагал рассрочку. при выдаче гарантийного талона покупателю, сообщил о звонке колл-центра.']\n",
      "['Ангилов Владимир Сергеевич', 'г.Минеральные Воды ул.Московская 29/6 дата', '17.10.2024', 'не проверил текущее состояние акб. показывает уровень жидкости новом продемонстрировал покупателю доп. товар аксессуары. целом хорошо проконсультировал.']\n",
      "['Смирнов Олег Алексеевич', 'г.Зеленокумск ул. Площадь Ленина', '18.10.2024', 'не задает открытых вопросов уточняющих режим эксплуатации авто/другого средства мобильности, характеристики авто. показывает состояние уровень жидкости новом акб. не предлагал рассрочку. выдал клиенту визитки. при выдаче гарантийного талона покупателю, сообщил о звонке колл-центра.']\n",
      "['Богачёв Дмитрий Сергеевич', 'Не найдено', '17.10.2024', 'не задает открытых вопросов уточняющих режим эксплуатации авто/другого средства мобильности, характеристики авто. показывает состояние уровень жидкости новом акб. продемонстрировал покупателю доп. товар аксессуары. сообщил, рекомендовано приезжать проверку каждые 3-4 месяца. при выдаче гарантийного талона покупателю, сообщил о звонке колл-центра.']\n",
      "['Козоброд Дмитрий Олегович', 'Не найдено', '19.10.2024', 'не использовал способы стимулирования клиента к совершению покупки. показывает состояние уровень жидкости новом акб. при выдаче гарантийного талона покупателю, сообщил о звонке колл-центра.']\n",
      "['Озеров Максим Алексеевич', 'Не найдено', '19.10.2024', 'не проверил текущее состояние старого акб. не задал открытых вопросов. использовал способы стимулирования клиента к совершению покупки. показывает нагрузочной вилкой заряда уровень жидкости новом продемонстрировал покупателю доп. товар аксессуары. сообщил, рекомендовано приезжать проверку каждые 3-4 месяца.']\n",
      "['Зубок Вениамин Игоревич', 'г.Ессентуки \\xa0ул. Володарского', '18.10.2024', 'не проверил текущее состояние старого акб. использовал способы стимулирования клиента к совершению покупки. показывает уровень жидкости новом продемонстрировал покупателю доп. товар аксессуары. не предлагал рассрочку. выдал клиенту визитки. сообщил о бсо. сообщил, рекомендовано приезжать проверку каждые 3-4 месяца. оказал помощь установке']\n",
      "['Шолкова Дмитрий Романович', 'г.Ессентуки \\xa0ул. Октябрьская', '18.10.2024', 'не показывает состояние заряда, уровень жидкости новом акб (потому продажа была этом магазине, забрали из другой тт). выдал клиенту визитки. не сообщил о бсо. предлагал рассрочку. сообщил, рекомендовано приезжать проверку каждые 3-4 месяца.']\n",
      "['Петросян Артема Гургенович', 'Не найдено', '17.10.2024', 'не показывает состояние уровень жидкости новом акб. продемонстрировал покупателю доп. товар аксессуары. не предлагал рассрочку. выдал клиенту визитки. сообщил о бсо. сообщил, рекомендовано приезжать проверку каждые 3-4 месяца. при выдаче гарантийного талона покупателю, звонке колл-центра.']\n",
      "['Менша Геннадий Владимирович', 'г.Пятигорск ул.Калинина', '18.10.2024', 'не показывает состояние уровень жидкости новом акб. продемонстрировал покупателю доп. товар аксессуары. не предлагал рассрочку. выдал клиенту визитки. сообщил, рекомендовано приезжать проверку каждые 3-4 месяца. при выдаче гарантийного талона покупателю, сообщил о звонке колл-центра.']\n",
      "['Батищев Даниил Сергеевич', 'г.Пятигорск \\xa0ул.Первомайская', '16.10.2024', 'не задал открытых вопросов уточняющих режим эксплуатации авто/другого средства мобильности, характеристики авто. показывает состояние уровень жидкости новом акб. продемонстрировал покупателю доп. товар аксессуары. выдал клиенту визитки. при выдаче гарантийного талона покупателю, сообщил о звонке колл-центра.']\n",
      "['Крамаров Олег Павлович', 'Не найдено', '18.10.2024', 'не задал открытых вопросов уточняющих режим эксплуатации авто/другого средства мобильности, характеристики авто. показывает состояние уровень жидкости новом акб. продемонстрировал покупателю доп. товар аксессуары. не предлагал рассрочку.']\n",
      "['Нестеренко Аркадия Николаевич', 'г.Ставрополь \\xa0ул. Толстого', '18.10.2024', 'не задает открытых вопросов уточняющих режим эксплуатации авто/другого средства мобильности, характеристики авто. использовал способы стимулирования клиента к совершению покупки. показывает состояние уровень жидкости новом акб. выдал клиенту визитки. не оказал помощь установке']\n",
      "['Нерубацкома Сергей Анатольевич Г', 'г.Минеральные Воды ул.Московская 29/6\\nДата', '15.10.2024', 'не сообщил о звонке колл-центра. рассказал клиенту об актуальных акциях, предложениях. предложил купить сопутствующий ассортимент, аксессуары. режиме эксплуатации акб: периодичность зарядки, проверке уровня цвета электролита. показал состояние уровень жидкости новом акб. нагрузочной вилкой заряда нового проверил текущее заряд, жидкости.']\n",
      "['Типаева Рамиль Николаевич Г', 'Не найдено', '19.10.2024', 'не рассказал клиенту об актуальных акциях, предложениях. показал состояние уровень жидкости новом акб.']\n",
      "['Шаповалов Никита Геннадьевич Г', 'г.Ипатово ул.Гагарина', '18.10.2024', 'не проверил текущее состояние акб: заряд, уровень жидкости. задавал открытые вопросы уточняющие режим эксплуатации авто. уточнил, какие критерии важны при выборе обращает внимание. показал жидкости новом акб. рассказал о режиме периодичность зарядки, проверке уровня цвета электролита. провёл развернутую презентацию продукта (доп. товары). клиенту об актуальных акциях, предложениях. выдал визитные карточки. сообщил звонке колл-центра.']\n",
      "['Гробовой Евгений Юрьевич Г', 'г.Невинномысск ул. Гагарина', '14.10.2024', 'не уточнил, какие критерии важны при выборе обращает внимание. резюмировал: озвучил потребность/запрос клиента, режим эксплуатации доп. оборудование. рассказал о продукте используя развернутую презентацию озвучиванием характеристик преимуществ той иной модели. использовал способы стимулирования клиента к совершению покупки. режиме акб: периодичность зарядки, проверке уровня цвета электролита. показал состояние уровень жидкости новом акб. предложил клиенту купить сопутствующий ассортимент, аксессуары. провёл продукта (доп. товары). об актуальных акциях, предложениях. выдал визитные карточки. оказал помощь установке']\n",
      "['Абрамкий Эрнест Александрович Г', 'Не найдено', '19.10.2024', 'находится ртт нарушением формы одежды(футболка не соответствует требованиям). проверил текущее состояние акб: заряд, уровень жидкости. уточнил, какие критерии важны при выборе обращает внимание. показал жидкости новом акб. рассказал о режиме эксплуатации периодичность зарядки, проверке уровня цвета электролита. предложил клиенту купить сопутствующий ассортимент, аксессуары. провёл развернутую презентацию продукта (доп. товары). об актуальных акциях, предложениях. выдал визитные карточки. сообщил \"ждем через 3-4 месяца проверку состояния акб\" оказал помощь установке']\n",
      "['Селезнёв Виталий Владимирович Г', 'Не найдено', '16.10.2024', 'не проверил текущее состояние акб. использовал способы стимулирования клиента к совершению покупки. предложил клиенту купить сопутствующий ассортимент, аксессуары. провёл развернутую презентацию продукта (доп. товары). рассказал об актуальных акциях, предложениях. сообщил о звонке колл-центра.']\n",
      "['Мартиросян Григорий Гарникович Г', 'г.Владикавказ \\xa0ул. Тургеневская', '17.10.2024', 'находился тт без бейджа. не уточнил, какие критерии важны при выборе обращает внимание. провёл развернутую презентацию продукта (доп. товары). рассказал клиенту об актуальных акциях, предложениях.']\n",
      "['Балашов Павел Алексеевич Г', 'г.Ипатово ул.Гагарина', '18.10.2024', 'не проверил текущее состояние акб: заряд, уровень жидкости. уточнил, какие критерии важны при выборе обращает внимание. показал жидкости акб. провёл развернутую презентацию продукта (доп. товары). рассказал клиенту об актуальных акциях, предложениях. выдал визитные карточки.']\n",
      "['Браун Дмитрий Павлович Г', 'Не найдено', '20.10.2024', 'не уточнил, какие критерии важны при выборе обращает внимание. проверил текущее состояние акб: заряд, уровень жидкости. показал нагрузочной вилкой заряда нового акб. жидкости новом предложил клиенту купить сопутствующий ассортимент, аксессуары. провёл развернутую презентацию продукта (доп. товары). рассказал об актуальных акциях, предложениях. грамотно отработал возражения.']\n",
      "['Козлов Антон Александрович Г', 'г.Михайловск ул.Заезд Привольный 14/1\\nДата', '14.10.2024', 'не выдал визитные карточки. рассказал клиенту об актуальных акциях, предложениях. провёл развернутую презентацию продукта (доп. товары). предложил купить сопутствующий ассортимент, аксессуары. показал состояние уровень жидкости новом акб. уточнил, какие критерии важны при выборе обращает внимание. проверил текущее акб: заряд, жидкости.']\n",
      "['Валиев Таймураз Придонович Г', 'г.Владикавказ \\xa0ул. Гвардейская', '14.10.2024', 'не уточнил, какие критерии важны при выборе обращает внимание. показал состояние уровень жидкости новом акб. рассказал клиенту об актуальных акциях, предложениях. выдал визитные карточки.']\n",
      "['Кирикова Роман Юрьевич Г', 'Не найдено', '19.10.2024', 'не сообщил о звонке колл-центра. рассказал клиенту об актуальных акциях, предложениях. провёл развернутую презентацию продукта (доп. товары). предложил купить сопутствующий ассортимент, аксессуары. режиме эксплуатации акб: периодичность зарядки, проверке уровня цвета электролита. показал состояние уровень жидкости новом акб.']\n",
      "['Мышанский Владимир Викторович Г', 'Не найдено', '19.10.2024', 'не показал состояние уровень жидкости новом акб. предложил клиенту купить сопутствующий ассортимент, аксессуары. провёл развернутую презентацию продукта (доп. товары). рассказал об актуальных акциях, предложениях.']\n",
      "['Геращенко Антон Вячеславович Г', 'Не найдено', '15.10.2024', 'не уточнил наличие дисконтной карты (личной, родственника знакомого). во время презентации вовлекал клиента диалог при помощи уточняющих вопросов. предложил клиенту купить сопутствующий ассортимент, аксессуары. провёл развернутую презентацию продукта (доп. товары). рассказал об актуальных акциях, предложениях.']\n",
      "['Слепченко Владимир Александрович Г', 'Не найдено', '15.10.2024', 'не сообщил о звонке колл-центра. предложил клиенту купить сопутствующий ассортимент, аксессуары. рассказал об актуальных акциях, предложениях. провёл развернутую презентацию продукта (доп. товары). режиме эксплуатации акб: периодичность зарядки, проверке уровня цвета электролита.']\n",
      "['Гукасова Карэн Рантикович Г', 'Не найдено', '15.10.2024', 'не проверил текущее состояние акб: заряд, уровень жидкости. показал жидкости новом акб. рассказал о режиме эксплуатации периодичность зарядки, проверке уровня цвета электролита. предложил клиенту купить сопутствующий ассортимент, аксессуары. провёл развернутую презентацию продукта (доп. товары). об актуальных акциях, предложениях.']\n",
      "['Жигарь Никита Александрович С', 'Не найдено', '11.10.2024', 'не показал состояние уровень жидкости новом акб. проверил текущее акб: заряд, жидкости. предложил клиенту купить сопутствующий ассортимент, аксессуары. провёл развернутую презентацию продукта (доп. товары). рассказал об актуальных акциях, предложениях. выдал визитные карточки. сообщил \"ждем через 3-4 месяца проверку состояния акб\" о звонке колл-центра.']\n",
      "['Чемисова Дмитрий Викторович Г', 'г.Владикавказ \\xa0ул. Владикавказская/Владивостокская\\nДата', '10.10.2024', 'не выдал визитные карточки. провёл развернутую презентацию продукта (доп. товары). показал состояние уровень жидкости новом акб.']\n",
      "['Запорожцев Игорь Михайлович Г', 'г.Пятигорск \\xa0ул.Первомайская', '10.10.2024', 'не показывает состояние уровень жидкости новом акб. выдал визитные карточки.']\n",
      "['Мешкова Евгений Витальевич Г', 'Не найдено', '11.10.2024', 'не показывает состояние уровень жидкости новом акб. рассказал клиенту об актуальных акциях, предложениях. выдал визитные карточки.']\n",
      "['Шумскома Андрей Михайлович П', 'Не найдено', '12.10.2024', 'не предложил клиенту купить сопутствующий ассортимент, аксессуары. провёл развернутую презентацию продукта (доп. товары). рассказал об актуальных акциях, предложениях. выдал визитные карточки. сообщил о звонке колл-центра.']\n",
      "['Фёдоров Кирилл Андреевич Г', 'Не найдено', '11.10.2024', 'не показал состояние уровень жидкости новом акб. рассказал о режиме эксплуатации акб: периодичность зарядки, проверке уровня цвета электролита. провёл развернутую презентацию продукта (доп. товары). клиенту об актуальных акциях, предложениях. сообщил \"ждем через 3-4 месяца проверку состояния акб\". звонке колл-центра.']\n",
      "['Комашня Сергей Григорьевич Г', 'Не найдено', '11.10.2024', 'не задавал открытые вопросы уточняющие режим эксплуатации авто. уточнял, какие критерии важны при выборе обращает внимание. показал состояние уровень жидкости новом акб рассказал о режиме акб: периодичность зарядки, проверке уровня цвета электролита. предложил клиенту купить сопутствующий ассортимент, аксессуары. провёл развернутую презентацию продукта (доп. товары). об актуальных акциях, предложениях выдал визитные карточки. сообщил бсо. \"ждем через 3-4 месяца проверку состояния акб\". звонке колл-центра.']\n",
      "['Юрченко Виталий Вячеславович Г', 'Не найдено', '11.10.2024', 'не показал состояние уровень жидкости новом акб. провёл развернутую презентацию продукта (доп. товары). рассказал клиенту об актуальных акциях, предложениях. выдал визитные карточки.']\n",
      "['Скляров Николай Евгеньевич Г', 'Не найдено', '11.10.2024', 'не задает открытые вопросы уточняющие режим эксплуатации авто. уточнил, какие критерии важны при выборе обращает внимание. показал состояние уровень жидкости новом акб. рассказал о режиме акб: периодичность зарядки, проверке уровня цвета электролита. сообщил звонке колл-центра. выдал визитные карточки.']\n",
      "['Остапенко Максим Андреевич Г', 'Не найдено', '11.10.2024', 'не уточнил наличие дисконтной карты. озвучил потребность/запрос клиента, режим эксплуатации доп. оборудование. во время презентации вовлекал клиента диалог при помощи уточняющих вопросов. использовал способы стимулирования к совершению покупки, используя фразы «берем?», «оформляем?», «когда планируете покупку?». предложил клиенту купить сопутствующий ассортимент, аксессуары. провёл развернутую презентацию продукта (доп. товары). выдал визитные карточки. сообщил о бсо.']\n",
      "['Тоноян Арман Арменович Г', 'Не найдено', '11.10.2024', 'не использовал способы стимулирования клиента к совершению покупки, используя фразы «берем?», «оформляем?», «когда планируете покупку?». предложил клиенту купить сопутствующий ассортимент, аксессуары. провёл развернутую презентацию продукта (доп. товары). рассказал об актуальных акциях, предложениях. выдал визитные карточки.']\n",
      "['Монакова Никита Алексеевич Г', 'г.Ставрополь \\xa0ул. Рогожникова', '13.10.2024', 'не уточнил, какие критерии важны при выборе обращает внимание. задавал открытых вопросов уточняющие режим эксплуатации авто. показал состояние уровень жидкости новом акб. провёл развернутую презентацию продукта (доп. товары). рассказал клиенту об актуальных акциях, предложениях. сообщил о звонке колл-центра.']\n",
      "['Добряков Дмитрий Сергеевич С', 'Не найдено', '11.10.2024', 'не показал состояние уровень жидкости новом акб. рассказал о режиме эксплуатации акб: периодичность зарядки, проверке уровня цвета электролита и.т.д. клиенту об актуальных акциях, предложениях. выдал визитки. сообщил бсо. \"ждем через 3-4 месяца проверку состояния акб\". звонке колл-центра.']\n",
      "['Овсянников Сергей Алексеевич С', 'Не найдено', '11.10.2024', 'не задавал открытых вопросов уточняющие режим эксплуатации авто. уточнил, какие критерии важны при выборе обращает внимание. показал состояние уровень жидкости акб.']\n",
      "['Осипов Эрик Артурович Г', 'Не найдено', '10.10.2024.', 'не уточнил, какие критерии важны при выборе обращает внимание. показал состояние уровень жидкости новом акб. провёл развернутую презентацию продукта (доп. товары).']\n",
      "['Травников Игорь Олегович', 'Не найдено', '08.10.2024', 'не задает открытых вопросов уточняющих режим эксплуатации авто/другого средства мобильности, характеристики авто. использовал способы стимулирования клиента к совершению покупки. показывает состояние уровень жидкости новом акб. выдал клиенту визитки. при выдаче гарантийного талона покупателю, сообщил о звонке колл-центра.']\n",
      "['Забгаев Станислав Сергеевич', 'Не найдено', '10.10.2024', 'не показывает состояние уровень жидкости новом акб. продемонстрировал покупателю доп. товар аксессуары. не предлагал рассрочку. выдал клиенту визитки. сообщил о бсо. сообщил, рекомендовано приезжать проверку каждые 3-4 месяца.']\n",
      "['Воронков Сергей Владимирович', 'Не найдено', '12.10.2024', 'не задает вопросов уточняющих режим эксплуатации. не показывает состояние уровень жидкости новом акб. предлагал рассрочку. сообщил, ждем через 3-4 месяца проверку.']\n",
      "['Григорян Самвел Юрьевич', 'г.Армавир \\xa0ул.Мира', '12.10.2024', 'не задает открытых вопросов уточняющих режим эксплуатации. не показывает состояние уровень жидкости новом акб. предлагал рассрочку. выдал визитки. сообщил о бсо.']\n",
      "['Бондаренко Дмитрий Андреевич', 'г.Армавир \\xa0ул.Ковтюха', '12.10.2024', 'не показывает состояние уровень жидкости акб. не предлагал рассрочку. при выдаче гарантийного талона покупателю, сообщил о звонке колл-центра.']\n",
      "['Агаев Артема Олегович', 'Не найдено', '13.10.2024', 'не использовал способы стимулирования клиента к совершению покупки. показывает состояние уровень жидкости новом акб. продемонстрировал покупателю доп. товар аксессуары. не предлагал рассрочку. выдал клиенту визитки. сообщили о бсо. сообщил, рекомендовано приезжать проверку каждые 3-4 месяца.']\n",
      "['Савельев Станислав Александрович', 'Не найдено', '11.10.2024', 'не показывает состояние уровень жидкости новом акб. выдал клиенту визитки. при выдаче гарантийного талона покупателю, сообщил о звонке колл-центра.']\n",
      "['Сопин Сергей Сергеевич', 'Не найдено', '10.10.2024', 'не проверил текущее состояние старого акб. использовал способы стимулирования клиента к совершению покупки. не показывает уровень жидкости новом продемонстрировал покупателю доп. товар аксессуары. предлагал рассрочку. выдал клиенту визитки. при выдаче гарантийного талона покупателю, сообщил о звонке колл-центра.']\n",
      "['Гусаинов Эльдар Рустамович', 'г.Ставрополь \\xa0ул. Толстого', '10.10.2024', 'не задает открытых вопросов уточняющих режим эксплуатации авто/другого средства мобильности, характеристики авто. использовал способы стимулирования клиента к совершению покупки. показывает состояние уровень жидкости новом акб. продемонстрировал покупателю доп. товар аксессуары. не предлагал рассрочку. при выдаче гарантийного талона покупателю, сообщил о звонке колл-центра. оказал помощь донести до багажника.']\n",
      "['Собиева Алан Сергеевич', 'Не найдено', '10.10.2024', 'не задал открытых вопросов уточняющих режим эксплуатации. уточнил, какие критерии важны при выборе. использовал способы стимулирования клиента к совершению покупки. показывает состояние уровень жидкости новом акб. продемонстрировал покупателю доп. товар аксессуары. не предлагал рассрочку. выдал клиенту визитки. сообщил о бсо. сообщил, рекомендовано приезжать проверку каждые 3-4 месяца. при выдаче гарантийного талона покупателю, звонке колл-центра.']\n",
      "['Айрапетян Ваге Азатович', 'Не найдено', '10.10.2024', 'находится тт без бейджа. не показывает нагрузочной вилкой состояние заряда акб. уровень жидкости новом не продемонстрировал покупателю доп. товар аксессуары. предлагал рассрочку. выдал клиенту визитки.']\n",
      "['Мартиросян Григорий Гарникович', 'г.Владикавказ \\xa0ул. Тургеневская', '13.10.2024', 'не уточнил наличие дисконтной карты. показывает состояние уровень жидкости новом акб. провёл развернутую презентацию продукта (доп. товары). не предлагал рассрочку. выдал клиенту визитки. сообщил, поступит звонок от колл-центра.']\n",
      "['Меликян Владимир Манукович', 'Не найдено', '10.10.2024', 'не проверил текущее состояние старого акб. показывает уровень жидкости новом выдал клиенту визитки. не сообщил о бсо. сообщил, рекомендовано приезжать проверку каждые 3-4 месяца.']\n",
      "['Каюд Олег Витальевич', 'Не найдено', '10.10.2024', 'не показывает состояние уровень жидкости новом акб. продемонстрировал покупателю доп. товар аксессуары. не предлагал рассрочку. выдал клиенту визитки. сообщил о бсо. сообщил, рекомендовано приезжать проверку каждые 3-4 месяца. при выдаче гарантийного талона покупателю, звонке колл-центра. оказал помощь установке']\n",
      "['Куликов Андрей Владимирович', 'г.Пятигорск ул. Коллективная 26А дата', '10.10.2024', 'не задал открытых вопросов уточняющих режим эксплуатации. использовал способы стимулирования клиента к совершению покупки. \\u200b\\u200b\\u200b\\u200bпродавец показывает состояние уровень жидкости акб. провёл развернутую презентацию продукта (доп. товары). не сообщил о звонке колл-центра. оказал помощь установке акб же донести до багажника.']\n",
      "['Рудиков Антон Николаевич', 'Не найдено', '12.10.2024', 'не показывает состояние уровень жидкости новом акб. выдал клиенту визитки. не предлагал рассрочку. очень хорошо проконсультировал.']\n",
      "['Мащенко Роман Александрович', 'г.Ставрополь \\xa0ул. Доваторцев', '13.10.2024', 'не задает открытых вопросов уточняющих режим эксплуатации авто/другого средства мобильности, характеристики авто. уточнил, какие критерии важны при выборе. не использовал способы стимулирования клиента к совершению покупки. показывает состояние уровень жидкости новом акб. продемонстрировал покупателю доп. товар аксессуары. предлагал рассрочку. оказал помощь донести до багажника.']\n",
      "['Калайтанов Максим Игоревич', 'г.Ставрополь \\xa0ул. Рогожникова', '10.10.2024', 'не показывает состояние уровень жидкости новом акб. рассказывает/напоминает о режиме эксплуатации не провёл развернутую презентацию продукта (доп. товары). предлагал рассрочку. при выдаче гарантийного талона покупателю, сообщил звонке колл-центра. оказал помощь донести до багажника.']\n",
      "['Тищенко Алексей Владимирович', 'г.Ставрополь \\xa0ул. Серова', '10.10.2024', 'при подъезде автомобиля не вышел улицу. проверил текущее состояние старого акб. использовал способы стимулирования клиента к совершению покупки. показывает нагрузочной вилкой заряда не уровень жидкости новом продемонстрировал покупателю доп. товар аксессуары. выдал клиенту визитки. сообщил о бсо. сообщил, рекомендовано приезжать проверку каждые 3-4 месяца. при выдаче гарантийного талона покупателю, звонке колл-центра. оказал помощь донести до багажника.']\n",
      "['Дзуцева Давид Таймуразович', 'Не найдено', '10.10.2024', 'не задал открытых вопросов уточняющих режим эксплуатации. не использовал способы стимулирования клиента к совершению покупки. показывает состояние уровень жидкости новом акб. предлагал рассрочку. выдал клиенту визитки. при выдаче гарантийного талона покупателю, сообщил о звонке колл-центра. оценила работу мере возможности, так-как он разговаривает только по-русски по-оссетински.']\n",
      "['Бодень Сергей Сергеевич', 'Не найдено', '11.10.2024', 'не использовал способы стимулирования клиента к совершению покупки. показывает состояние уровень жидкости акб. не выдал клиенту визитки. сообщил, поступит звонок от колл-центра.']\n",
      "['Пацюк Владислав Сергеевич', 'Не найдено', '11.10.2024', 'не задает открытых вопросов уточняющих режим эксплуатации. показывает состояние уровень жидкости акб. предложил клиенту купить сопутствующий ассортимент, аксессуары. не сообщил, поступит звонок от колл-центра.']\n",
      "['Еретина Денис Александрович', 'Не найдено', '11.10.2024.', 'не задает открытых вопросов уточняющих режим эксплуатации. показывает состояние уровень жидкости акб. предложил клиенту купить сопутствующий ассортимент, аксессуары. клиенту выдали визитных карточек листовок. не сообщил, поступит звонок от колл-центра.']\n",
      "['Биркина Евгений Львович', 'Не найдено', '11.10.2024', 'не показывает состояние уровень жидкости новом акб. очень хорошо проконсультировал.']\n",
      "['Дудник Денис Александрович', 'Не найдено', '10.10.2024', 'не проверил текущее состояние старого акб. использовал способы стимулирования клиента к совершению покупки. показывает уровень жидкости новом провёл развернутую презентацию продукта (доп. товары). не предлагал рассрочку. сообщил о бсо. сообщил, рекомендовано приезжать проверку каждые 3-4 месяца. при выдаче гарантийного талона покупателю, звонке колл-центра.']\n",
      "['Тысячный Евгений Андреевич', 'Не найдено', '12.10.2024', 'не задает открытых вопросов уточняющих режим эксплуатации. использовал способы стимулирования клиента к совершению покупки. показывает состояние уровень жидкости акб. предложил клиенту купить сопутствующий ассортимент, аксессуары. не предлагал рассрочку. сообщил рекомендовано приезжать проверку через 3-4 месяца.']\n",
      "['Сухин Артема Андреевич', 'Не найдено', '11.10.2024', 'не показывает состояние уровень жидкости новом акб. провёл развернутую презентацию продукта (доп. товары). не предлагал рассрочку. выдал клиенту визитки. сообщил о бсо.']\n",
      "['Рулев Ярослав Дмитриевич', 'г.Ставрополь \\xa0ул. Шпаковская', '10.10.2024', 'не задал открытых вопросов уточняющих режим эксплуатации. показывает состояние уровень жидкости новом акб. провёл развернутую презентацию продукта (доп. товары). не предлагал рассрочку.']\n",
      "['Бирюлькин Анатолий Юрьевич', 'Не найдено', '10.10.2024', 'не показывает состояние уровень жидкости новом акб. выдал клиенту визитки. не предлагал рассрочку. оказал помощь установке']\n",
      "['Чугунов Николай Николаевич', 'Не найдено', '10.10.2024', 'не задает открытых вопросов уточняющих режим эксплуатации не уточнил, какие критерии важны при выборе. показывает состояние уровень жидкости новом акб. при выдаче гарантийного талона покупателю, сообщил о звонке колл-центра.']\n",
      "['Петросян Эдуард Александрович', 'Не найдено', '12.10.2024', 'не использовал способы стимулирования клиента к совершению покупки. из-за этого клиент долго мог определиться брать нет. процессе сильно помог другой (рудиков антон николаевич). показывает состояние уровень жидкости новом акб. не предлагал рассрочку. выдал визитки.']\n",
      "['Морозов Илья Леонидович', 'г.Ставрополь \\xa0ул. Шпаковская', '12.10.2024', 'не задает вопросов уточняющих режим эксплуатации. показывает состояние уровень жидкости новом акб. продемонстрировал покупателю доп. товар аксессуары. не предлагал рассрочку. при выдаче гарантийного талона покупателю, сообщил о звонке колл-центра. оказал помощь установке']\n",
      "['Диденко Денис Владимирович', 'г.Ставрополь \\xa0ул. Рогожникова', '10.10.2024', 'не показывает состояние уровень жидкости новом акб. не предлагал рассрочку. оказал помощь установке целом хорошо проконсультировал.']\n",
      "['Нетипаном Евгений Викторович', 'г.Ставрополь \\xa0ул. Вавилова', '12.10.2024', '\\u200b\\u200b\\u200b\\u200bпродавец не уточнил наличие дисконтной карты. не показывает состояние уровень жидкости акб. предлагал рассрочку. сообщил поступит звонок от колл-центра.']\n",
      "['Михайлов Владимир', 'г.Пятигорск ул.Калинина', '10.10.2024', 'не задает открытых вопросов уточняющих режим эксплуатации. уточнил, какие критерии важны при выборе. использовал способы стимулирования клиента к совершению покупки. показал состояние уровень жидкости акб. не выдал клиенту визитки. сообщил, поступит звонок от колл-центра.']\n",
      "['Хорошилов Михаил Владимирович', 'г.Светлоград ул.Сельскохозяйственная', '12.10.2024', 'не использовал способы стимулирования клиента к совершению покупки. не предлагал рассрочку. выдал клиенту визитки. сообщил о бсо. сообщил, нужно приезжать через 3-4 месяца проверку. поступит звонок от колл-центра.']\n",
      "['Сыромятников Никита Романович П', 'п.Иноземцево \\xa0ул. Гагарина', '11.10.2024', 'не показал состояние уровень жидкости акб']\n",
      "['Марков Виталий Александрович Ст', 'Не найдено', '12.10.2024', 'не форме. показывает состояние уровень жидкости новом акб. рассказал о режиме эксплуатации акб: периодичность зарядки, проверке уровня цвета электролита. предложил клиенту купить сопутствующий ассортимент, аксессуары. провёл развернутую презентацию продукта (доп. товары). об актуальных акциях, предложениях.']\n",
      "['Бузоева Амир Хасанович Г', 'г.Владикавказ \\xa0ул. Владикавказская/Владивостокская\\xa0\\nДата', '10.10.2024', 'бардак прикассовой зоне. находится ртт не форме, без бейджа. поприветствовал клиента сразу же. уточнил, какие критерии важны при выборе обращает внимание. уточнил наличие дисконтной карты (личной, родственника знакомого). озвучил потребность/запрос клиента, режим эксплуатации доп. оборудование. рассказал о продукте используя развернутую презентацию озвучиванием характеристик преимуществ. во время презентации вовлекал диалог помощи уточняющих вопросов. предпринял попытку отработать возникшие возражения. пытался закрыть все возражения клиента. использовал способы стимулирования к совершению покупки, фразы «берем?» предложил клиенту купить сопутствующий ассортимент, аксессуары. провёл продукта (доп. товары). об актуальных акциях, предложениях. сообщил бсо отсутствие субординации отношению во консультации жевал жвачку, подтягивался, находился бейджа, долгое подходил клиенту, хотя был свободен.']\n",
      "['Юрченко Виталий Вячеславович Г', 'Не найдено', '08.10.2024', 'не проверил текущее состояние акб: заряд, уровень жидкости. показал жидкости новом акб. рассказал о режиме эксплуатации периодичность зарядки, проверке уровня цвета электролита т.д. провёл развернутую презентацию продукта (доп. товары). клиенту об актуальных акциях, предложениях. сообщил звонке колл-центра.']\n",
      "['Москалёв Сергей Сергеевич Г', 'Не найдено', '11.10.2024.', 'не использовал способы стимулирования клиента к совершению покупки, используя фразы «берем?», «оформляем?», «когда планируете покупку?». показал состояние уровень жидкости новом акб. выдал клиенту визитки.']\n",
      "['Мирошниченко Максим Иванович Ст', 'Не найдено', '12.10.2024', 'не задавал открытые вопросы уточняющие режим эксплуатации авто/другого средства мобильности, характеристики авто, сложности эксплуатации. уточнял, какие критерии важны при выборе. показал состояние уровень жидкости новом акб. предложил клиенту купить сопутствующий ассортимент, аксессуары. провёл развернутую презентацию продукта (доп. товары). при выдаче гарантийного талона покупателю, сообщил о звонке колл-центра.']\n",
      "['Сазонов Дмитрий Александрович Г', 'Не найдено', 'Не найдено', 'не проверил текущее состояние акб: заряд, уровень жидкости. уточнил, какие критерии важны при выборе, обращать внимание. рассказал о режиме эксплуатации периодичность зарядки, проверке уровня жидкости и.т.д. выдал гарантийный талон. использовал способы стимулирования клиента к совершению покупки. показал новом акб. визитные карточки. сообщил бсо. сказал \"ждем через 3-4 месяца проверку состояния акб\". звонке колл-центра. цветом выделены отклонения выявленные прошлый просмотр, необходимо обратить']\n",
      "['Филькова Максим Михайлович', 'Не найдено', '11.10.2024', 'не показывает состояние уровень жидкости акб. не выдал визитки. сообщил, поступит звонок от колл-центра. целом хорошо проконсультировал.']\n",
      "['Тегаев Тимур Витальевич', 'г.Владикавказ \\xa0ул. Московская', '12.10.2024', 'не уточнил наличие дисконтной карты. показывает состояние уровень жидкости новом акб. не предлагал рассрочку. выдал клиенту визитки. при выдаче гарантийного талона покупателю, сообщил о звонке колл-центра.']\n",
      "['Тарало Виталий Николаевич', 'г.Светлоград ул.Сельскохозяйственная', '12.10.2024', 'не показывает нагрузочной вилкой состояние заряда акб. уровень жидкости новом выдал клиенту визитки. не оказал помощь установке']\n",
      "['Бадаев Ренат Олегович', 'г.Ставрополь \\xa0ул. Серова', '11.10.2024', 'не использовал способы стимулирования клиента к совершению покупки. не показывает состояние уровень жидкости новом акб. продемонстрировал покупателю доп. товар аксессуары. предлагал рассрочку. выдал клиенту визитки. при выдаче гарантийного талона покупателю, сообщил о звонке колл-центра.']\n",
      "['Григорянец Самсон Владимирович', 'г.Армавир \\xa0ул.Ковтюха', '12.10.2024', 'не показывает состояние уровень жидкости новом акб. не предлагал рассрочку. при выдаче гарантийного талона покупателю, сообщил о звонке колл-центра. целом очень хорошо проконсультировал.']\n",
      "['Иванов Юрий Владимирович', 'Не найдено', '11.10.2024', 'не задал вопросов уточняющих режим эксплуатации. не показывает нагрузочной вилкой состояние заряда акб. уровень жидкости новом предлагал рассрочку. выдал клиенту визитки.']\n",
      "['Кинасова Олег Игоревич', 'г.Армавир \\xa0ул.Железнодорожная', '12.10.2024', 'не показывает нагрузочной вилкой состояние заряда акб. не уровень жидкости выдал клиенту визитки. предлагал рассрочку. сообщил о бсо. нужно через 3-4 месяца проверку.']\n",
      "['Петриченко Захар Дмитриевич', 'Не найдено', 'Не найдено', 'текущая оценка от 11.10 >\\u200b\\u200b\\u200b\\u200bпродавец не задает открытых вопросов уточняющих режим эксплуатации авто. продемонстрировал покупателю доп. товар аксессуары. >не сообщил, поступит звонок колл-центра. >']\n",
      "['Куцемилов Денис Александрович', 'Не найдено', '08.10.2024', 'не задает открытых вопросов уточняющих режим эксплуатации. показывает состояние уровень жидкости акб. клиенту выдали визитных карточек листовок. сообщил о звонке колл-центра.']\n",
      "['Герасимов Богдан Сергеевич', 'Не найдено', '11.10.2024', 'не задает открытых вопросов уточняющих режим эксплуатации. не уточнил, какие критерии важны при выборе. показывает состояние уровень жидкости акб. выдал клиенту визитки. сообщает \"ждем через 3-4 месяца проверку состояния акб\". сообщил, поступит звонок от колл-центра.']\n",
      "['Пасюков Алексей Юрьевич', 'Не найдено', '11.10.2024', 'не задал открытых вопросов уточняющих режим эксплуатации авто. уточнил, какие критерии важны при выборе. показывает состояние уровень жидкости новом акб. не продемонстрировал покупателю доп. товар аксессуары. выдал клиенту визитки. при выдаче гарантийного талона покупателю, сообщил о звонке колл-центра.']\n",
      "['Петриченко Захар Дмитриевич', 'Не найдено', '11.10.2024', '\\u200b\\u200b\\u200b\\u200bпродавец не задает открытых вопросов уточняющих режим эксплуатации авто. продемонстрировал покупателю доп. товар аксессуары. не сообщил, поступит звонок от колл-центра.']\n",
      "['Селезнёв Виталий Владимирович', 'Не найдено', '11.10.2024', '\\u200b\\u200b\\u200b\\u200b\\u200bпродавец не задал открытых вопросов уточняющих режим эксплуатации. не сообщил, поступит звонок от колл-центра.']\n",
      "['Браева Зелима Батразович', 'Не найдено', '12.10.2024', 'не задает открытых вопросов уточняющих режим эксплуатации. показывает нагрузочной вилкой состояние заряда акб. не уровень жидкости новом продемонстрировал покупателю доп. товар аксессуары. предлагал рассрочку. выдал клиенту визитки. сообщил о бсо. сообщил, рекомендовано приезжать проверку каждые 3-4 месяца. при выдаче гарантийного талона покупателю, звонке колл-центра.']\n",
      "['Давыдов Дмитрий Геннадьевич', 'Не найдено', '12.10.2024', 'без бейджа. не показывает состояние уровень жидкости новом акб. не продемонстрировал покупателю доп. товар аксессуары. предлагал рассрочку. выдал клиенту визитки.']\n",
      "['Кодзаева Георгий Русланович', 'г.Владикавказ \\xa0ул. Маркова', '12.10.2024', 'не задал открытых вопросов уточняющих режим эксплуатации. не уточнил, какие критерии важны при выборе. показывает состояние уровень жидкости новом акб. продемонстрировал покупателю доп. товар аксессуары. предлагал рассрочку. выдал клиенту визитки.']\n",
      "['Киянов Данил Сергеевич', 'г.Пятигорск ул.Калинина', '10.10.2024', 'не задал вопросов уточняющих режим эксплуатации. не использовал способы стимулирования клиента к совершению покупки. показывает состояние уровень жидкости новом акб. продемонстрировал покупателю доп. товар аксессуары. предлагал рассрочку. выдал клиенту визитки. сообщил о бсо. сообщил, рекомендовано приезжать проверку каждые 3-4 месяца. при выдаче гарантийного талона покупателю, звонке колл-центра.']\n",
      "['Ломакин Максим Сергеевич', 'г.Пятигорск \\xa0ул.Первомайская', '10.10.2024', 'не показывает состояние уровень жидкости новом акб. не предлагал рассрочку. выдал клиенту визитки.']\n",
      "['Кондаков Владислав Альбертович', 'Не найдено', '08.10.2024', 'не показывает состояние уровень жидкости новом акб. выдал клиенту визитки. при выдаче гарантийного талона покупателю, сообщил о звонке колл-центра.']\n",
      "['Черкашин Игорь Владимирович', 'Не найдено', '11.10.2024', 'не проверил текущее состояние старого акб. использовал способы стимулирования клиента к совершению покупки. задает открытых вопросов уточняющих режим эксплуатации. не выдал визиток.']\n",
      "['Ляпунов Андрей Александрович', 'Не найдено', '08.10.2024', 'не показывает состояние уровень жидкости акб. не сообщил \"поступит звонок от колл-центра для оценки качества обслуживания\" хорошо проконсультировал.']\n",
      "['Мышанский Владимир Викторович', 'Не найдено', '04.10.2024.', 'не задал вопросов уточняющих режим эксплуатации. показывает состояние уровень жидкости акб. целом очень хорошо проконсультировал.']\n",
      "['Петросян Нарек Варданович', 'Не найдено', '02.10.2024', 'находится ртт нарушением формы обуви. не показывает состояние уровень жидкости нового акб так же была произведена презентация аксессуаров. выдал клиенту визитки рекламные буклеты. сообщает важные составляющие гарантийного талона. сообщил, поступит звонок от колл-центра для оценки качества обслуживания.']\n",
      "['Мухин Даниил Алексеевич', 'Не найдено', '03.10.2024', 'не показывает состояние уровень жидкости нового акб было озвучено предложение приобрести доп. товары. так же была произведена презентация аксессуаров. сообщает \"ждем через 3-4 месяца проверку состояния акб\". выдал клиенту визитки рекламные буклеты. важные составляющие гарантийного талона. о том, поступит звонке колл-центра. помог донести до машины. очень уверенно говорит при презентации.']\n",
      "['Дробышевский Игорь Сергеевич', 'Не найдено', '06.10.2024', 'не проверил новый акб клиента нагрузочной вилкой. показывает состояние уровень жидкости нового выдал клиенту визитки рекламные буклеты. сообщает важные составляющие гарантийного талона.']\n",
      "['Мчедлишвили Марк Важаевич', 'Не найдено', '05.10.2024', 'находится ртт нарушением формы одежды обуви. хорошо консультировал, грамотно отработал все возражения.']\n",
      "['Сергачёв Егор Сергеевич', 'Не найдено', '05.10.2024', 'текущая оценка обусловлена тем, другой вмешался ход продажи. находится ртт нарушением формы одежды обуви. не проверил состояние текущего акб. показывает уровень жидкости нового акб выдал клиенту визитки рекламные буклеты. сообщает важные составляющие гарантийного талона.']\n",
      "['Сыроватский Евгений Александрович', 'Не найдено', '04.10.2024', 'находится ртт нарушением формы одежды обуви. не показывает состояние уровень жидкости нового акб выдал клиенту визитки рекламные буклеты. сообщает важные составляющие гарантийного талона. так же было озвучено о том, поступит звонке колл-центра.']\n",
      "['Гребенников Олег Петрович', 'Не найдено', '02.10.2024', 'не показывает состояние уровень жидкости нового акб выдал клиенту визитки рекламные буклеты. >очень качественно отработал возражения. грамотная консультация презентацией. >']\n",
      "['Сергиенко Евгений Викторович', 'Не найдено', '03.10.2024', 'ртт беспорядок. разбросаны товары залу. клиент споткнулся об акб. не вышел улицу текущим акб клиента. находится нарушением формы обуви. выдал клиенту визитки рекламные буклеты. сообщает важные составляющие гарантийного талона.']\n",
      "['Устюжанин Сергей Валентинович', 'Не найдено', '02.10.2024', 'не проверил текущий акб клиента нагрузочной вилкой. показывает состояние уровень жидкости клиента. было озвучено предложение приобрести доп. товары. так же была произведена презентация аксессуаров.']\n",
      "['Гребенников Олег Петрович', 'Не найдено', '02.10.2024', 'не показывает состояние уровень жидкости нового акб выдал клиенту визитки рекламные буклеты. очень качественно отработал возражения. грамотная консультация презентацией.']\n",
      "['Козлов Сергей Дмитриевич', 'Не найдено', '04.10.2024', 'находится ртт нарушением формы обуви. не показывает состояние уровень жидкости нового акб было озвучено предложение приобрести доп. товары. так же была произведена презентация аксессуаров. сообщает \"ждем через 3-4 месяца проверку состояния акб\". выдал клиенту визитки рекламные буклеты. важные составляющие гарантийного талона.']\n",
      "['Мешкова Евгений Витальевич', 'Не найдено', '05.10.2024', 'находится ртт нарушением формата обуви.. не проверил новый акб клиента нагрузочной вилкой. показывает состояние уровень жидкости нового было озвучено предложение приобрести доп. товары. так же была произведена презентация аксессуаров. клиенту о возможности бсо. сообщает \"ждем через 3-4 месяца проверку состояния акб\". выдал клиенту визитки рекламные буклеты.']\n",
      "['Герасимов Богдан Сергеевич', 'Не найдено', '04.10.2024', 'находится ртт нарушением формы одежды обуви. не рассказывает о режиме эксплуатации акб. проверил текущий акб клиента нагрузочной вилкой. показывает состояние уровень жидкости нового было озвучено предложение приобрести доп. товары. так же была произведена презентация аксессуаров. сообщает \"ждем через 3-4 месяца проверку состояния акб\". выдал клиенту визитки рекламные буклеты. важные составляющие гарантийного талона.']\n",
      "['Покася Даниил Владимирович', 'Не найдено', '04.10.2024', 'находится ртт нарушением формы одежды обуви. не показывает состояние уровень жидкости нового акб было озвучено предложение приобрести доп. товары. так же была произведена презентация аксессуаров. выдал клиенту визитки рекламные буклеты. сообщает важные составляющие гарантийного талона.']\n",
      "['Абрамкий Эрнест Александрович', 'Не найдено', '04.10.2024', 'находится ртт нарушением формы одежды обуви. без бейджа. не было озвучено предложение приобрести доп. товары. так же была произведена презентация аксессуаров. выдал клиенту визитки рекламные буклеты. сообщает важные составляющие гарантийного талона. о том, поступит звонке колл-центра.']\n",
      "['Кожевников Виктор Александрович', 'Не найдено', '02.10.2024', 'не рассказывает о режиме эксплуатации акб. проверил новый акб клиента нагрузочной вилкой. показывает состояние уровень жидкости нового так же была произведена презентация аксессуаров. сообщает \"ждем через 3-4 месяца проверку состояния акб\". выдал клиенту визитки рекламные буклеты. важные составляющие гарантийного талона. было озвучено том, поступит звонке колл-центра.']\n",
      "['Прудников Андрей Сергеевич', 'Не найдено', '03.10.2024', 'находится ртт нарушением формы одежды обуви. не проверил текущее состояние акб: заряд, уровень жидкости. задавал активно вопросы, а так же уточнял важные критерии. новый акб клиента нагрузочной вилкой. показывает жидкости нового было озвучено предложение приобрести доп. товары. так была произведена презентация аксессуаров. выдал клиенту визитки рекламные буклеты. сообщает составляющие гарантийного талона.']\n",
      "['Костриков Андрей Владиславович', 'Не найдено', '04.10.2024', 'находится ртт нарушением формы одежды обуви. не проверил акб клиента нагрузочной вилкой. показывает состояние уровень жидкости нового клиенту озвучено о возможности бсо. сообщает \"ждем через 3-4 месяца проверку состояния акб\". выдал клиенту визитки рекламные буклеты. важные составляющие гарантийного талона. очень неуверенное завершение продажи, конкретно были сложности при работе компьютером.']\n",
      "['Кочубеев Сергей Сергеевич', 'Не найдено', '03.10.2024', 'не показывает состояние уровень жидкости нового акб не была произведена презентация аксессуаров. выдал клиенту визитки рекламные буклеты. сообщает важные составляющие гарантийного талона.']\n",
      "['Тумарево Александр Олегович', 'Не найдено', '04.10.2024', 'находится ртт нарушением формата обуви. так же не была произведена презентация аксессуаров. выдал клиенту визитки рекламные буклеты. сообщает важные составляющие гарантийного талона.']\n",
      "['Бодень Сергей Сергеевич', 'Не найдено', '05.10.2024', 'не уточнил наличие дисконтной карты. проверил акб клиента нагрузочной вилкой. так же была произведена презентация аксессуаров. выдал клиенту визитки рекламные буклеты. сообщает важные составляющие гарантийного талона.']\n",
      "['Гринь Сергей Сергеевич', 'Не найдено', '04.10.2024', 'находится ртт без бейджа. не уточнил наличие дисконтной карты было озвучено предложение приобрести доп. товары. так же была произведена презентация аксессуаров. выдал клиенту визитки рекламные буклеты.']\n",
      "['Остапенко Максим Андреевич', 'Не найдено', '05.10.2024', 'находится ртт нарушением формы одежды обуви. не было озвучено предложение приобрести доп. товары. так же была произведена презентация аксессуаров. выдал клиенту визитки рекламные буклеты. сообщает важные составляющие гарантийного талона.']\n",
      "['Сазонов Дмитрий Александрович', 'Не найдено', '06.10.2024', 'находится ртт нарушением формы одежды обуви. не рассказывает о режиме эксплуатации акб. проверил новый акб клиента нагрузочной вилкой. показывает состояние уровень жидкости нового было озвучено предложение приобрести доп. товары. так же была произведена презентация аксессуаров. клиенту возможности бсо. сообщает \"ждем через 3-4 месяца проверку состояния акб\". выдал клиенту визитки рекламные буклеты. важные составляющие гарантийного талона. том, поступит звонке колл-центра.']\n",
      "['Ковалёв Дмитрий Александрович', 'Не найдено', '27.09.2024', 'не выдал клиенту визитки рекламные буклеты. полные полки акб. хорошая уверенная консультация. грамотно отработал все возражения. очень обходителен клиентом.']\n",
      "['Курохтина Николай Николаевич', 'Не найдено', '25.09.2024', 'не выдал клиенту визитки рекламные буклеты. магазине все чисто. полные полки акб. очень грамотная консультация. полностью отработаны возражения.']\n",
      "['Фёдоров Кирилл Андреевич', 'Не найдено', '25.09.2024', 'не была произведена презентация аксессуаров. не выдал клиенту визитки рекламные буклеты. сообщает важные составляющие гарантийного талона. магазине все чисто. полные полки акб.']\n",
      "['Корецкома Даниил Александрович', 'Не найдено', '26.09.2024', 'не показывает состояние уровень жидкости нового акб. было озвучено предложение приобрести доп. товары. так же была произведена презентация аксессуаров. выдал клиенту визитки рекламные буклеты. сообщает важные составляющие гарантийного талона. магазине все чисто. полные полки']\n",
      "['Зуев Никита Евгеньевич', 'Не найдено', '26.09.2024', 'ртт не уставном формате обуви. проверил состояние уровень жидкости акб клиента. так же была произведена презентация аксессуаров. выдал клиенту визитки рекламные буклеты. магазине все чисто. полные полки акб.']\n",
      "['Мерхолин Дмитрий Владимирович', 'Не найдено', '26.09.2024', 'ртт замечен беспорядок пред кассовой зоне. не выдал клиенту визитки рекламные буклеты. сообщает важные составляющие гарантийного талона. полные полки акб. хорошая уверенная консультация.']\n",
      "['Асланян Саркис Арамович', 'Не найдено', '25.09.2024', 'не выдал клиенту визитки рекламные буклеты. сообщил \"ждем через 3-4 месяца проверку состояния акб\" сообщает важные составляющие гарантийного талона. магазине все чисто. полные полки акб.']\n",
      "['Камбулов Евгений Петрович', 'Не найдено', '27.09.2024', 'не показывает состояние уровень жидкости нового акб было озвучено предложение приобрести доп. товары. так же была произведена презентация аксессуаров. выдал клиенту визитки рекламные буклеты. сообщает важные составляющие гарантийного талона. о том, поступит звонок колл-центра. магазине все чисто. полные полки акб.']\n",
      "['Сторожев Максим Геннадьевич', 'Не найдено', '27.09.2024', 'обслуживает клиентов не фирменной одежде обуви. показывает состояние уровень жидкости нового акб было озвучено предложение приобрести доп. товары. так же была произведена презентация аксессуаров. выдал клиенту визитки рекламные буклеты. сообщает важные составляющие гарантийного талона. магазине все чисто. полные полки акб.']\n",
      "['Смагина Артема Романович', 'Не найдено', '24.09.2024', 'не проверил состояние текущего акб клиента. так же было проверки нагрузочной вилке нового показывает уровень жидкости акб. озвучено предложение приобрести доп. товары. была произведена презентация аксессуаров. выдал клиенту визитки рекламные буклеты. сообщает важные составляющие гарантийного талона. не о звонке колл-центра. возможность пользоваться бсо от нашей компании. магазине все чисто. полные полки']\n",
      "['Браун Дмитрий Павлович', 'Не найдено', '26.09.2024', 'не было озвучено предложение приобрести доп. товары. так же была произведена презентация аксессуаров. выдал клиенту визитки рекламные буклеты. сообщает важные составляющие гарантийного талона. не о звонке колл-центра. магазине все чисто. полные полки акб. грамотно отработал возражения.']\n",
      "['Кобрин Владислав Александрович', 'Не найдено', '27.09.2024', '>на ртт беспорядок пред кассовой зоне. не выдал клиенту визитки рекламные буклеты. предложил купить сопутствующий ассортимент, аксессуары. >не был продемонстрирован доп. товар. > полные полки акб.']\n",
      "['Кобрин Владислав Александрович', 'Не найдено', '27.09.2024', 'ртт беспорядок пред кассовой зоне. не выдал клиенту визитки рекламные буклеты. предложил купить сопутствующий ассортимент, аксессуары. не был продемонстрирован доп. товар. полные полки акб.']\n",
      "['Изварин Владимир Павлович', 'Не найдено', '27.09.2024', 'не уставной форме обуви. выдал клиенту визитки рекламные буклеты. >при выдаче гарантийного талона уточнил покупателю важные опции гарантии. сообщает \"ждем через 3-4 месяца проверку состояния акб\" показывает состояние уровень жидкости новом акб. покупателю, сообщил о звонке колл-центра. >в магазине все чисто. полные полки >']\n",
      "['Гудков Александр Алексеевич', 'Не найдено', '26.09.2024', 'не уставной форме обуви. выдал клиенту визитки рекламные буклеты. предложил купить сопутствующий ассортимент, аксессуары. не был продемонстрирован доп. товар. магазине все чисто. полные полки акб.']\n",
      "['Изварин Владимир Павлович', 'Не найдено', '27.09.2024', 'не уставной форме обуви. выдал клиенту визитки рекламные буклеты. при выдаче гарантийного талона уточнил покупателю важные опции гарантии. сообщает \"ждем через 3-4 месяца проверку состояния акб\" показывает состояние уровень жидкости новом акб. покупателю, сообщил о звонке колл-центра. магазине все чисто. полные полки']\n",
      "['Киселёв Денис Николаевич', 'Не найдено', '25.09.2024', 'не показал состояние уровень жидкости новом акб. было озвучено предложение приобрести доп. товары. так же была произведена презентация аксессуаров. выдал клиенту визитки рекламные буклеты. сообщает клиенту, мы ждем его через 3-4 месяца проверку состояния при выдаче гарантийного талона, указал важные составляющие. магазине все чисто. полные полки грамотно отработал возражения.']\n",
      "['Тоноян Арман Арменович', 'Не найдено', '27.09.2024', 'работает не уставной форме одежды. использовал способы стимулирования клиента к совершению покупки, используя фразы «берем?». рассказывает/напоминает о режиме эксплуатации акб: периодичность зарядки, проверке уровня жидкости. не было озвучено том, компания оказывает бсо. магазине все чисто. полные полки акб.']\n",
      "['Скляров Николай Евгеньевич', 'Не найдено', '26.09.2024', 'обслуживает клиента не рабочей форме. показал состояние уровень жидкости новом акб. было озвучено предложение приобрести доп. товары. так же была произведена презентация аксессуаров. выдал клиенту визитки рекламные буклеты. сообщает клиенту, мы ждем его через 3-4 месяца проверку состояния не о звонке колл-центра. магазине все чисто. полные полки грамотно отработал возражения.']\n",
      "['Комашня Сергей Григорьевич', 'Не найдено', '26.09.2024', 'обслуживает клиента не рабочей форме. показал состояние уровень жидкости новом акб. было озвучено предложение приобрести доп. товары. так же была произведена презентация аксессуаров. выдал клиенту визитки рекламные буклеты. сообщает клиенту, мы ждем его через 3-4 месяца проверку состояния не о звонке колл-центра. магазине все чисто. полные полки грамотно отработал возражения.']\n",
      "['Комашня Сергей Григорьевич', 'Не найдено', '26.09.2024', 'обслуживает клиента не рабочей форме. показал состояние уровень жидкости новом акб. было озвучено предложение приобрести доп. товары. так же была произведена презентация аксессуаров. выдал клиенту визитки рекламные буклеты. сообщает клиенту, мы ждем его через 3-4 месяца проверку состояния не о звонке колл-центра. магазине все чисто. полные полки грамотно отработал возражения.']\n",
      "['Шумскома Андрей Михайлович', 'Не найдено', '26.09.2024', 'не выдал клиенту визитки рекламные буклеты. >в магазине все чисто. полные полки акб. >консультацию провел хорошо. грамотно отработал возражения. >']\n",
      "['Комашня Сергей Григорьевич', 'Не найдено', '26.09.2024', 'закрыл ртт 19:08. не показал состояние уровень жидкости новом акб. было озвучено предложение приобрести доп. товары. так же была произведена презентация аксессуаров. выдал клиенту визитки рекламные буклеты. магазине все чисто. полные полки консультацию провел хорошо. грамотно отработал возражения.']\n",
      "['Скляров Николай Евгеньевич', 'Не найдено', '26.09.2024', 'не выдал клиенту визитки рекламные буклеты. магазине все чисто. полные полки акб. консультацию провел хорошо. грамотно отработал возражения.']\n",
      "['Чернышёв Андрей Алексеевич', 'Не найдено', '26.09.2024', 'не уставной форме одежды без беджа. выдал клиенту визитки рекламные буклеты. при выдаче гарантийного талона уточнил покупателю важные опции гарантии. продемонстрировал доп. товар аксессуары. показывает состояние уровень жидкости новом акб. покупателю, сообщил о звонке колл-центра. магазине все чисто. полные полки']\n",
      "['Ковалёв Дмитрий Александрович', 'Не найдено', '26.09.2024', 'не выдал клиенту визитки рекламные буклеты. проверил текущее состояние акб посетителя: заряд, уровень жидкости. показывает жидкости новом акб. при выдаче гарантийного талона покупателю, сообщил о звонке колл-центра. целом очень достойная консультация. внимательно слушал, благодаря чему продажа завершилась успешно. магазине все чисто. полные полки']\n",
      "['Курохтина Николай Николаевич', 'Не найдено', '26.09.2024', 'не выдал клиенту визитки рекламные буклеты. при выдаче гарантийного талона покупателю, озвучил важные моменты гарантийными случаями. целом очень достойная консультация. внимательно слушал, благодаря чему продажа завершилась успешно. магазине все чисто. полные полки акб.']\n",
      "['Сазонов Дмитрий Александрович', 'Не найдено', '26.09.2024', 'не выдал клиенту визитки рекламные буклеты. не было озвучено о том, будет произведен звонок колл-центра. целом очень достойная консультация. внимательно слушал, благодаря чему продажа завершилась успешно. клиент ушел довольный покупкой, обещал вернуться ближайшее время.']\n",
      "['Аникеев Алексей Романович', 'Не найдено', '26.09.2024', 'не выдал клиенту визитки рекламные буклеты. >не было озвучено о том, будет произведен звонок колл-центра. >в целом очень достойная консультация. внимательно слушал, благодаря чему продажа завершилась успешно. >клиент ушел довольный покупкой, обещал вернуться ближайшее время. >']\n",
      "['Аникеев Алексей Романович', 'Не найдено', '26.09.2024', 'не выдал клиенту визитки рекламные буклеты. не было озвучено о том, будет произведен звонок колл-центра. целом очень достойная консультация. внимательно слушал, благодаря чему продажа завершилась успешно. клиент ушел довольный покупкой, обещал вернуться ближайшее время.']\n",
      "['Слепченко Владимир Александрович', 'Не найдено', '27.09.2024.', 'ртт наблюдается беспорядок пред кассовой зоне, прикассовый стол. очень плохо отработан сервис. клиенту не было выдано визитных карт, рекламных брошюр. выдал клиенту гарантийный талон, соответственно озвучено ключевых моментов мануале гарантийного талона. предупредил покупателя о звонке колл-центра для оценки качества обслуживания. не сообщил бсо. том, профилактики использования акб желательно приезжать бсо раз 3-4 месяца. предложение приобрести доп. товар. производилась презентация аксессуаров. проверил состояние нового акб, уровень жидкости.']\n",
      "['Кочубеев Сергей Сергеевич', 'Не найдено', '27.09.2024.', 'ртт есть пустоты ветринах. клиенту не выдали визитных карточек листовок. проверил состояние нового акб, уровень жидкости. предупредил покупателя о звонке колл-центра для оценки качества обслуживания. было озвучено предложение приобрести доп. товар. не производилась презентация аксессуаров.']\n",
      "['Мерхолин Дмитрий Владимирович', 'Не найдено', '27.09.2024.', 'клиент не был проинформирован про бсо. обсуживает клиента без беджа. было озвучено клиенту, о необходимости периодического обслуживания акб раз 3-4 месяца. клиенту выдали визитных карточек листовок. проверил состояние нового акб, уровень жидкости. выдавая гарантийный талон, рассказал важных моментах гарантийных случаев. предложение приобрести доп. товар. не производилась презентация аксессуаров.']\n",
      "['Комашня Сергей Григорьевич', 'Не найдено', '27.09.2024', 'момент завершения сделки не показал состояние уровень жидкости акб. покупателю озвучены предложения купить сопутствующий товар. не производилась презентация доп. товарам. клинту выдали визитных карточек листовок.']\n",
      "['Сергачёв Егор Сергеевич', 'Не найдено', '26.09.2024', 'находиться ртт неуставном формате обуви. момент завершения сделки не показал состояние уровень жидкости акб. проверил акб помощью нагрузочной вилки. клинту выдали визитных карточек листовок. очень затяжная консультация. не отдал клиенту гарантийный талон. клиент забыл сдачу(16:42)']\n",
      "['Чернышёв Андрей Алексеевич', 'Не найдено', '27.09.2024', 'находиться ртт не уставной форме одежды обуви. момент завершения сделки показал состояние уровень жидкости акб. клиент был проинформирован о поступлении звонка от оператора колл-центра. клинту выдали визитных карточек листовок клиенту провели развернутую презентацию доп. товаров']\n",
      "['Киселёв Денис Николаевич', 'Не найдено', '26.09.2024', 'не проверил текущее состояние акб. момент завершения сделки показал уровень жидкости так же акб нагрузочной вилкой. клиенту были предложены продемонстрированы доп. товары. клинту выдали визитных карточек листовок.']\n",
      "['Изварин Владимир Павлович', 'Не найдено', '26.09.2024', 'не использовал способы стимуляции клиента для покупки.не показывал демонстрацию акб']\n",
      "['Кобрин Владислав Александрович', 'Не найдено', '26.09.2024', 'не проверил состояние текущего акб. так же продемонстрировал уровень жидкости новом были озвучены предложения приобрести доп. товары. продемонстрированы клиенту. выдал клиенту визитных карт листовок..']\n",
      "['Скляр Николай Евгеньевич', 'Не найдено', '27.09.2024', 'не уставной форме обуви. проверил состояние ткущего акб. клиенту было предложено доп. товары. так же демонстрации аксессуаров. клинту выдали визитных карточек листовок.']\n"
     ]
    }
   ],
   "source": [
    "import re\n",
    "import pymorphy2\n",
    "\n",
    "# Инициализация MorphAnalyzer\n",
    "morph = pymorphy2.MorphAnalyzer()\n",
    "\n",
    "# Функция для нормализации ФИО\n",
    "def fio_converter(fio):\n",
    "    words = fio.split()  # Разделяем ФИО на отдельные слова\n",
    "    normalized_words = []\n",
    "    \n",
    "    for word in words:\n",
    "        parsed = morph.parse(word)[0]  # Получаем наиболее вероятный разбор слова\n",
    "        # Приводим слово к нормальной форме в мужском роде, именительном падеже, единственном числе\n",
    "        if 'Name' in parsed.tag or 'Patr' in parsed.tag:\n",
    "            inflected = parsed.inflect({'nomn', 'masc', 'sing'})\n",
    "            word_normal = inflected.word if inflected else parsed.normal_form\n",
    "        else:\n",
    "            word_normal = parsed.normal_form\n",
    "        normalized_words.append(word_normal.capitalize())\n",
    "    \n",
    "    return ' '.join(normalized_words)\n",
    "\n",
    "# Функции для удаления текста по правилам\n",
    "def sliser(string, substring, flag):\n",
    "    index = string.find(substring)\n",
    "    if index == -1:\n",
    "        return string\n",
    "\n",
    "    index_back_n = string.find('\\n', index)\n",
    "    if index_back_n == -1:\n",
    "        index_back_n = len(string)\n",
    "\n",
    "    if flag == 'delete_after':\n",
    "        string = string[:index].strip()\n",
    "    elif flag == 'delete_before':\n",
    "        string = string[index_back_n + 1:].strip()\n",
    "    elif flag == 'delete_only':\n",
    "        string = string[:index].strip() + ' ' + string[index_back_n + 1:].strip()\n",
    "    return string\n",
    "\n",
    "def multi_sliser(string, substrings, flag):\n",
    "    for substring in substrings:\n",
    "        string = sliser(string, substring, flag)\n",
    "    return string\n",
    "\n",
    "# Удаление стоп-слов, кроме цифр\n",
    "def remove_stopwords(text, stopwords):\n",
    "    words = text.split()\n",
    "    filtered_words = [word for word in words if word.lower() not in stopwords or word.isdigit()]\n",
    "    return ' '.join(filtered_words)\n",
    "\n",
    "# Удаление повторяющихся слов, сохраняя их первый экземпляр\n",
    "def remove_duplicates(text):\n",
    "    seen = set()\n",
    "    unique_words = []\n",
    "    for word in text.split():\n",
    "        if word not in seen:\n",
    "            seen.add(word)\n",
    "            unique_words.append(word)\n",
    "    return ' '.join(unique_words)\n",
    "\n",
    "# Функция для удаления всех \">\" в начале строки\n",
    "def remove_leading_arrows(text):\n",
    "    # Регулярное выражение удалит все символы \">\" в начале строки, независимо от количества и пробелов\n",
    "    return re.sub(r'^(>\\s*)+', '', text).strip()\n",
    "\n",
    "# Функция для удаления специфической фразы, если текст начинается с указанного слова\n",
    "def remove_specific_phrase(text, phrase):\n",
    "    if text.startswith(phrase.split()[0]):\n",
    "        # Найдём конец этой фразы\n",
    "        end_index = text.find(phrase) + len(phrase)\n",
    "        # Вернём текст после фразы, с учётом возможных специфических фраз\n",
    "        if phrase.split()[0] == '2.1.':\n",
    "            return text[end_index+5:].strip()\n",
    "        else:\n",
    "            return text[end_index+3:].strip()\n",
    "    # Если текст не начинается с \"Цветом\", вернём его без изменений\n",
    "    return text\n",
    "\n",
    "# Главная функция для обработки текста и создания массива\n",
    "def process_text_data(text):\n",
    "    # Определяем стоп-слова\n",
    "    stopwords = {'и', 'в', 'по', 'на', 'с', 'также', 'или', 'что', 'но', 'за', 'продавец', 'продавца', 'продавцу', 'продавцом', '.', ',', 'РТТ', '>2.1.', '>>2.1.', '>продавец', '>>продавец'}\n",
    "\n",
    "    # Фразы, которые нужно удалить\n",
    "    specific_phrase = \"Цветом выделены отклонения выявленные прошлый просмотр, необходимо обратить внимание.\"\n",
    "    specific_phrase2 = \"2.1. Текущая оценка от \"\n",
    "    result = []\n",
    "    \n",
    "    for block in text:\n",
    "        \n",
    "        # Удаляем все ведущие символы \">\" в начале строки\n",
    "        block = remove_leading_arrows(block)\n",
    "\n",
    "        # Извлекаем ФИО, адрес и дату из текста с адаптированными регулярными выражениями\n",
    "        fio_match = re.search(r'продавцу\\s+([\\w\\s]+)', block, re.IGNORECASE)\n",
    "        tt_address_match = re.search(r'((?:г\\.\\s*|п\\.\\s*)[\\w\\s]+ул\\.[\\w\\s\\d/]+)', block, re.IGNORECASE)\n",
    "        date_match = re.search(r'дата[:]*\\s*([\\d.]+)', block, re.IGNORECASE)\n",
    "        \n",
    "        fio = fio_converter(fio_match.group(1)) if fio_match else \"Не найдено\"\n",
    "        tt_address = tt_address_match.group(1).strip() if tt_address_match else \"Не найдено\"\n",
    "        date = date_match.group(1) if date_match else \"Не найдено\"\n",
    "\n",
    "        # Очищаем текст\n",
    "        cleaned_text = multi_sliser(block, ['2.Выявленные отклонения'], 'delete_before')\n",
    "        cleaned_text = multi_sliser(cleaned_text, ['С уважением'], 'delete_after')\n",
    "        cleaned_text = multi_sliser(cleaned_text, ['2.2.'], 'delete_after')\n",
    "\n",
    "        # Удаляем фразы\n",
    "        cleaned_text = remove_specific_phrase(cleaned_text, specific_phrase)\n",
    "        cleaned_text = remove_specific_phrase(cleaned_text, specific_phrase2)\n",
    "\n",
    "        # Удаляем стоп-слова\n",
    "        cleaned_text = remove_stopwords(cleaned_text, stopwords)\n",
    "        \n",
    "        # Удаляем повторяющиеся слова\n",
    "        cleaned_text = remove_duplicates(cleaned_text)\n",
    "        cleaned_text = cleaned_text.lower()\n",
    "        # Добавляем обработанный блок в результат\n",
    "        result.append([fio, tt_address, date, cleaned_text])\n",
    "\n",
    "    return result\n",
    "\n",
    "# Применение функции\n",
    "# text_data — массив блоков текста\n",
    "processed_data = process_text_data(text)\n",
    "\n",
    "# Вывод результата\n",
    "for entry in processed_data:\n",
    "    print(entry)\n"
   ]
  },
  {
   "cell_type": "code",
   "execution_count": 11,
   "metadata": {},
   "outputs": [],
   "source": [
    "import pandas as pd\n",
    "# Создание DataFrame из массива данных\n",
    "df = pd.DataFrame(processed_data, columns=[\"ФИО продавца\", \"Адрес ТТ\", \"Дата\", \"Очищенный текст\"])\n",
    "df.drop(0, inplace=True)\n",
    "# os.remove('data.xlsx')\n",
    "df.to_excel('data.xlsx')"
   ]
  },
  {
   "cell_type": "markdown",
   "metadata": {},
   "source": [
    "Первый способ"
   ]
  },
  {
   "cell_type": "code",
   "execution_count": 12,
   "metadata": {},
   "outputs": [
    {
     "name": "stdout",
     "output_type": "stream",
     "text": [
      "\n",
      " 269 x 768 \n",
      "\n"
     ]
    }
   ],
   "source": [
    "import numpy as np\n",
    "import torch\n",
    "from transformers import AutoTokenizer, AutoModel\n",
    "\n",
    "# Инициализация токенизатора и модели\n",
    "tokenizer = AutoTokenizer.from_pretrained(\"cointegrated/LaBSE-en-ru\")\n",
    "model = AutoModel.from_pretrained(\"cointegrated/LaBSE-en-ru\")\n",
    "\n",
    "# Извлечение текстов из столбца\n",
    "sentences = df['Очищенный текст'].tolist()\n",
    "\n",
    "# Если столбец 'embeddings' уже существует, удаляем его\n",
    "if 'embeddings' in df.columns:\n",
    "    df.drop(columns=['embeddings'], inplace=True)\n",
    "\n",
    "# Создание списка для сохранения эмбеддингов\n",
    "embeddings_list = []\n",
    "\n",
    "# Векторизация предложений с использованием LaBSE\n",
    "for s in sentences:\n",
    "    encoded_input = tokenizer(s, padding=True, truncation=True, max_length=64, return_tensors='pt')\n",
    "    with torch.no_grad():\n",
    "        model_output = model(**encoded_input)\n",
    "    embedding = model_output.pooler_output\n",
    "    embeddings_list.append(embedding[0].numpy())  # Получаем вектор как numpy массив\n",
    "\n",
    "# Преобразуем список эмбеддингов в массив\n",
    "embeddings = np.asarray(embeddings_list)\n",
    "print('\\n', len(embeddings), 'x', len(embeddings[0]), '\\n')\n",
    "\n",
    "# Добавляем новые эмбеддинги в датафрейм\n",
    "df['embeddings'] = embeddings.tolist()\n",
    "# Сохраняем датафрейм в Excel\n",
    "df.to_excel('data.xlsx')\n"
   ]
  },
  {
   "cell_type": "markdown",
   "metadata": {},
   "source": [
    "Второй и третий способ"
   ]
  },
  {
   "cell_type": "code",
   "execution_count": 13,
   "metadata": {},
   "outputs": [
    {
     "name": "stdout",
     "output_type": "stream",
     "text": [
      "Размерность матрицы TF-IDF: (269, 465)\n"
     ]
    },
    {
     "data": {
      "application/vnd.jupyter.widget-view+json": {
       "model_id": "ea486cc2c4a8482da4759325373bd7fb",
       "version_major": 2,
       "version_minor": 0
      },
      "text/plain": [
       "modules.json:   0%|          | 0.00/229 [00:00<?, ?B/s]"
      ]
     },
     "metadata": {},
     "output_type": "display_data"
    },
    {
     "name": "stderr",
     "output_type": "stream",
     "text": [
      "c:\\Users\\sanya\\anaconda3\\Lib\\site-packages\\huggingface_hub\\file_download.py:139: UserWarning: `huggingface_hub` cache-system uses symlinks by default to efficiently store duplicated files but your machine does not support them in C:\\Users\\sanya\\.cache\\huggingface\\hub\\models--sentence-transformers--paraphrase-multilingual-MiniLM-L12-v2. Caching files will still work but in a degraded version that might require more space on your disk. This warning can be disabled by setting the `HF_HUB_DISABLE_SYMLINKS_WARNING` environment variable. For more details, see https://huggingface.co/docs/huggingface_hub/how-to-cache#limitations.\n",
      "To support symlinks on Windows, you either need to activate Developer Mode or to run Python as an administrator. In order to activate developer mode, see this article: https://docs.microsoft.com/en-us/windows/apps/get-started/enable-your-device-for-development\n",
      "  warnings.warn(message)\n"
     ]
    },
    {
     "data": {
      "application/vnd.jupyter.widget-view+json": {
       "model_id": "341f5220061e4e5f8ef300fcd1216f41",
       "version_major": 2,
       "version_minor": 0
      },
      "text/plain": [
       "config_sentence_transformers.json:   0%|          | 0.00/122 [00:00<?, ?B/s]"
      ]
     },
     "metadata": {},
     "output_type": "display_data"
    },
    {
     "data": {
      "application/vnd.jupyter.widget-view+json": {
       "model_id": "4253714c771949c49a70972b4633fec9",
       "version_major": 2,
       "version_minor": 0
      },
      "text/plain": [
       "README.md:   0%|          | 0.00/4.12k [00:00<?, ?B/s]"
      ]
     },
     "metadata": {},
     "output_type": "display_data"
    },
    {
     "data": {
      "application/vnd.jupyter.widget-view+json": {
       "model_id": "4d3e7c63113947439d3a68df298bb486",
       "version_major": 2,
       "version_minor": 0
      },
      "text/plain": [
       "sentence_bert_config.json:   0%|          | 0.00/53.0 [00:00<?, ?B/s]"
      ]
     },
     "metadata": {},
     "output_type": "display_data"
    },
    {
     "data": {
      "application/vnd.jupyter.widget-view+json": {
       "model_id": "a4917a969b244de0ba95ebc845e23fd8",
       "version_major": 2,
       "version_minor": 0
      },
      "text/plain": [
       "config.json:   0%|          | 0.00/645 [00:00<?, ?B/s]"
      ]
     },
     "metadata": {},
     "output_type": "display_data"
    },
    {
     "data": {
      "application/vnd.jupyter.widget-view+json": {
       "model_id": "127958c781894e88ac2425f515203f27",
       "version_major": 2,
       "version_minor": 0
      },
      "text/plain": [
       "model.safetensors:   0%|          | 0.00/471M [00:00<?, ?B/s]"
      ]
     },
     "metadata": {},
     "output_type": "display_data"
    },
    {
     "data": {
      "application/vnd.jupyter.widget-view+json": {
       "model_id": "fe5a1e97363e4a95bf0509ecf5d045fc",
       "version_major": 2,
       "version_minor": 0
      },
      "text/plain": [
       "tokenizer_config.json:   0%|          | 0.00/480 [00:00<?, ?B/s]"
      ]
     },
     "metadata": {},
     "output_type": "display_data"
    },
    {
     "data": {
      "application/vnd.jupyter.widget-view+json": {
       "model_id": "70563ccd5476440ea93afab14dc5b581",
       "version_major": 2,
       "version_minor": 0
      },
      "text/plain": [
       "tokenizer.json:   0%|          | 0.00/9.08M [00:00<?, ?B/s]"
      ]
     },
     "metadata": {},
     "output_type": "display_data"
    },
    {
     "data": {
      "application/vnd.jupyter.widget-view+json": {
       "model_id": "e32827de098a4916a6f2a9e4090ac11f",
       "version_major": 2,
       "version_minor": 0
      },
      "text/plain": [
       "special_tokens_map.json:   0%|          | 0.00/239 [00:00<?, ?B/s]"
      ]
     },
     "metadata": {},
     "output_type": "display_data"
    },
    {
     "data": {
      "application/vnd.jupyter.widget-view+json": {
       "model_id": "8b3a35b52cef4f749e9a969a9a5ab34f",
       "version_major": 2,
       "version_minor": 0
      },
      "text/plain": [
       "1_Pooling/config.json:   0%|          | 0.00/190 [00:00<?, ?B/s]"
      ]
     },
     "metadata": {},
     "output_type": "display_data"
    },
    {
     "name": "stdout",
     "output_type": "stream",
     "text": [
      "Размерность матрицы BERT: (269, 384)\n"
     ]
    }
   ],
   "source": [
    "from sklearn.feature_extraction.text import TfidfVectorizer\n",
    "from sentence_transformers import SentenceTransformer\n",
    "import pandas as pd\n",
    "\n",
    "def vectorize_texts(texts, method=\"tfidf\"):\n",
    "    if method == \"tfidf\":\n",
    "        # Векторизация с помощью TF-IDF (без стоп-слов)\n",
    "        vectorizer = TfidfVectorizer(max_features=1000)\n",
    "        X = vectorizer.fit_transform(texts).toarray()  # Преобразуем в плотный массив\n",
    "        print(\"Размерность матрицы TF-IDF:\", X.shape)\n",
    "        return X\n",
    "\n",
    "    elif method == \"bert\":\n",
    "        # Векторизация с помощью Sentence-BERT\n",
    "        model = SentenceTransformer('sentence-transformers/paraphrase-multilingual-MiniLM-L12-v2')\n",
    "        X = model.encode(texts)\n",
    "        print(\"Размерность матрицы BERT:\", X.shape)\n",
    "        return X\n",
    "    \n",
    "\n",
    "# Извлекаем очищенные тексты из датафрейма\n",
    "cleaned_texts = df['Очищенный текст'].tolist()\n",
    "\n",
    "# Удаляем столбец embeddings TF-IDF, если он уже существует\n",
    "if 'embeddings TF-IDF' in df.columns:\n",
    "    df.drop(columns=['embeddings TF-IDF'], inplace=True)\n",
    "\n",
    "# Векторизация с использованием TF-IDF\n",
    "X_tfidf = vectorize_texts(cleaned_texts, method=\"tfidf\")\n",
    "# Добавляем вектора как новый столбец, каждый вектор как отдельный список\n",
    "df['embeddings TF-IDF'] = list(X_tfidf)\n",
    "\n",
    "# Удаляем столбец embeddings Sentence-BERT, если он уже существует\n",
    "if 'embeddings Sentence-BERT' in df.columns:\n",
    "    df.drop(columns=['embeddings Sentence-BERT'], inplace=True)\n",
    "\n",
    "# Векторизация с использованием Sentence-BERT\n",
    "X_bert = vectorize_texts(cleaned_texts, method=\"bert\")\n",
    "# Добавляем вектора как новый столбец, каждый вектор как отдельный список\n",
    "df['embeddings Sentence-BERT'] = list(X_bert)\n",
    "\n",
    "# Сохраняем датафрейм в Excel\n",
    "df.to_excel('data.xlsx')\n"
   ]
  },
  {
   "cell_type": "code",
   "execution_count": 14,
   "metadata": {},
   "outputs": [
    {
     "data": {
      "text/html": [
       "<div>\n",
       "<style scoped>\n",
       "    .dataframe tbody tr th:only-of-type {\n",
       "        vertical-align: middle;\n",
       "    }\n",
       "\n",
       "    .dataframe tbody tr th {\n",
       "        vertical-align: top;\n",
       "    }\n",
       "\n",
       "    .dataframe thead th {\n",
       "        text-align: right;\n",
       "    }\n",
       "</style>\n",
       "<table border=\"1\" class=\"dataframe\">\n",
       "  <thead>\n",
       "    <tr style=\"text-align: right;\">\n",
       "      <th></th>\n",
       "      <th>ФИО продавца</th>\n",
       "      <th>Адрес ТТ</th>\n",
       "      <th>Дата</th>\n",
       "      <th>Очищенный текст</th>\n",
       "      <th>embeddings</th>\n",
       "      <th>embeddings TF-IDF</th>\n",
       "      <th>embeddings Sentence-BERT</th>\n",
       "    </tr>\n",
       "  </thead>\n",
       "  <tbody>\n",
       "    <tr>\n",
       "      <th>1</th>\n",
       "      <td>Воронков Сергей Владимирович</td>\n",
       "      <td>Не найдено</td>\n",
       "      <td>17.10.2024</td>\n",
       "      <td>не проверил текущее состояние акб. использовал...</td>\n",
       "      <td>[-0.40605172514915466, 0.5676323175430298, -0....</td>\n",
       "      <td>[0.0, 0.2641074362202742, 0.0, 0.3451280682546...</td>\n",
       "      <td>[0.021372376, 0.115748845, 0.028288256, -0.298...</td>\n",
       "    </tr>\n",
       "    <tr>\n",
       "      <th>2</th>\n",
       "      <td>Шульженко Никита Андреевич</td>\n",
       "      <td>Не найдено</td>\n",
       "      <td>14.10.2024</td>\n",
       "      <td>не задает открытых вопросов уточняющих режим э...</td>\n",
       "      <td>[-0.41750243306159973, -0.012586541473865509, ...</td>\n",
       "      <td>[0.0, 0.0, 0.0, 0.0, 0.0, 0.0, 0.0, 0.0, 0.270...</td>\n",
       "      <td>[0.042710427, 0.1548902, -0.044505354, -0.1229...</td>\n",
       "    </tr>\n",
       "    <tr>\n",
       "      <th>3</th>\n",
       "      <td>Евланов Андрей Юрьевич</td>\n",
       "      <td>Не найдено</td>\n",
       "      <td>14.10.2024</td>\n",
       "      <td>не проверил текущее состояние акб. задает откр...</td>\n",
       "      <td>[-0.5012819170951843, 0.012747802771627903, -0...</td>\n",
       "      <td>[0.0, 0.0, 0.0, 0.0, 0.0, 0.0, 0.0, 0.0, 0.292...</td>\n",
       "      <td>[0.03622968, 0.07837429, -0.057751473, -0.1088...</td>\n",
       "    </tr>\n",
       "    <tr>\n",
       "      <th>4</th>\n",
       "      <td>Газюр Иван Александрович</td>\n",
       "      <td>г.Невинномысск ул. Гагарина</td>\n",
       "      <td>14.10.2024</td>\n",
       "      <td>не использовал способы стимулирования клиента ...</td>\n",
       "      <td>[-0.4312092661857605, 0.41128847002983093, -0....</td>\n",
       "      <td>[0.0, 0.0, 0.0, 0.0, 0.0, 0.0, 0.0, 0.0, 0.0, ...</td>\n",
       "      <td>[0.006302618, 0.14870247, -0.091361165, -0.340...</td>\n",
       "    </tr>\n",
       "    <tr>\n",
       "      <th>5</th>\n",
       "      <td>Шарафеев Роман Халимович</td>\n",
       "      <td>Не найдено</td>\n",
       "      <td>18.10.2024</td>\n",
       "      <td>находится тт без бейджа. не задает открытых во...</td>\n",
       "      <td>[-0.48751944303512573, 0.3256247043609619, -0....</td>\n",
       "      <td>[0.0, 0.0, 0.0, 0.0, 0.0, 0.0, 0.0, 0.0, 0.326...</td>\n",
       "      <td>[0.11293991, 0.043835245, 0.008999126, -0.2027...</td>\n",
       "    </tr>\n",
       "    <tr>\n",
       "      <th>...</th>\n",
       "      <td>...</td>\n",
       "      <td>...</td>\n",
       "      <td>...</td>\n",
       "      <td>...</td>\n",
       "      <td>...</td>\n",
       "      <td>...</td>\n",
       "      <td>...</td>\n",
       "    </tr>\n",
       "    <tr>\n",
       "      <th>265</th>\n",
       "      <td>Чернышёв Андрей Алексеевич</td>\n",
       "      <td>Не найдено</td>\n",
       "      <td>27.09.2024</td>\n",
       "      <td>находиться ртт не уставной форме одежды обуви....</td>\n",
       "      <td>[-0.591986894607544, 0.190727099776268, -0.316...</td>\n",
       "      <td>[0.0, 0.0, 0.0, 0.0, 0.0, 0.0, 0.0, 0.0, 0.0, ...</td>\n",
       "      <td>[-0.0801706, 0.17511532, -0.1371665, -0.154168...</td>\n",
       "    </tr>\n",
       "    <tr>\n",
       "      <th>266</th>\n",
       "      <td>Киселёв Денис Николаевич</td>\n",
       "      <td>Не найдено</td>\n",
       "      <td>26.09.2024</td>\n",
       "      <td>не проверил текущее состояние акб. момент заве...</td>\n",
       "      <td>[-0.4121675491333008, 0.4967484474182129, -0.7...</td>\n",
       "      <td>[0.0, 0.0, 0.0, 0.0, 0.0, 0.0, 0.0, 0.0, 0.0, ...</td>\n",
       "      <td>[-0.095878795, 0.109620534, -0.07306712, -0.27...</td>\n",
       "    </tr>\n",
       "    <tr>\n",
       "      <th>267</th>\n",
       "      <td>Изварин Владимир Павлович</td>\n",
       "      <td>Не найдено</td>\n",
       "      <td>26.09.2024</td>\n",
       "      <td>не использовал способы стимуляции клиента для ...</td>\n",
       "      <td>[-0.29481032490730286, 0.4810492694377899, -0....</td>\n",
       "      <td>[0.0, 0.0, 0.0, 0.0, 0.0, 0.0, 0.0, 0.0, 0.0, ...</td>\n",
       "      <td>[0.04345471, 0.116950095, 0.20589969, -0.24657...</td>\n",
       "    </tr>\n",
       "    <tr>\n",
       "      <th>268</th>\n",
       "      <td>Кобрин Владислав Александрович</td>\n",
       "      <td>Не найдено</td>\n",
       "      <td>26.09.2024</td>\n",
       "      <td>не проверил состояние текущего акб. так же про...</td>\n",
       "      <td>[-0.595455527305603, 0.7615640759468079, -0.88...</td>\n",
       "      <td>[0.0, 0.0, 0.0, 0.0, 0.0, 0.0, 0.0, 0.0, 0.0, ...</td>\n",
       "      <td>[-0.1321206, 0.07315433, -0.07691516, -0.25874...</td>\n",
       "    </tr>\n",
       "    <tr>\n",
       "      <th>269</th>\n",
       "      <td>Скляр Николай Евгеньевич</td>\n",
       "      <td>Не найдено</td>\n",
       "      <td>27.09.2024</td>\n",
       "      <td>не уставной форме обуви. проверил состояние тк...</td>\n",
       "      <td>[-0.3622187376022339, 0.6538322567939758, -0.5...</td>\n",
       "      <td>[0.0, 0.0, 0.0, 0.0, 0.0, 0.0, 0.0, 0.0, 0.0, ...</td>\n",
       "      <td>[-0.23054107, 0.1301293, -0.058011413, -0.2131...</td>\n",
       "    </tr>\n",
       "  </tbody>\n",
       "</table>\n",
       "<p>269 rows × 7 columns</p>\n",
       "</div>"
      ],
      "text/plain": [
       "                       ФИО продавца                     Адрес ТТ        Дата  \\\n",
       "1      Воронков Сергей Владимирович                   Не найдено  17.10.2024   \n",
       "2        Шульженко Никита Андреевич                   Не найдено  14.10.2024   \n",
       "3            Евланов Андрей Юрьевич                   Не найдено  14.10.2024   \n",
       "4          Газюр Иван Александрович  г.Невинномысск ул. Гагарина  14.10.2024   \n",
       "5          Шарафеев Роман Халимович                   Не найдено  18.10.2024   \n",
       "..                              ...                          ...         ...   \n",
       "265      Чернышёв Андрей Алексеевич                   Не найдено  27.09.2024   \n",
       "266        Киселёв Денис Николаевич                   Не найдено  26.09.2024   \n",
       "267       Изварин Владимир Павлович                   Не найдено  26.09.2024   \n",
       "268  Кобрин Владислав Александрович                   Не найдено  26.09.2024   \n",
       "269        Скляр Николай Евгеньевич                   Не найдено  27.09.2024   \n",
       "\n",
       "                                       Очищенный текст  \\\n",
       "1    не проверил текущее состояние акб. использовал...   \n",
       "2    не задает открытых вопросов уточняющих режим э...   \n",
       "3    не проверил текущее состояние акб. задает откр...   \n",
       "4    не использовал способы стимулирования клиента ...   \n",
       "5    находится тт без бейджа. не задает открытых во...   \n",
       "..                                                 ...   \n",
       "265  находиться ртт не уставной форме одежды обуви....   \n",
       "266  не проверил текущее состояние акб. момент заве...   \n",
       "267  не использовал способы стимуляции клиента для ...   \n",
       "268  не проверил состояние текущего акб. так же про...   \n",
       "269  не уставной форме обуви. проверил состояние тк...   \n",
       "\n",
       "                                            embeddings  \\\n",
       "1    [-0.40605172514915466, 0.5676323175430298, -0....   \n",
       "2    [-0.41750243306159973, -0.012586541473865509, ...   \n",
       "3    [-0.5012819170951843, 0.012747802771627903, -0...   \n",
       "4    [-0.4312092661857605, 0.41128847002983093, -0....   \n",
       "5    [-0.48751944303512573, 0.3256247043609619, -0....   \n",
       "..                                                 ...   \n",
       "265  [-0.591986894607544, 0.190727099776268, -0.316...   \n",
       "266  [-0.4121675491333008, 0.4967484474182129, -0.7...   \n",
       "267  [-0.29481032490730286, 0.4810492694377899, -0....   \n",
       "268  [-0.595455527305603, 0.7615640759468079, -0.88...   \n",
       "269  [-0.3622187376022339, 0.6538322567939758, -0.5...   \n",
       "\n",
       "                                     embeddings TF-IDF  \\\n",
       "1    [0.0, 0.2641074362202742, 0.0, 0.3451280682546...   \n",
       "2    [0.0, 0.0, 0.0, 0.0, 0.0, 0.0, 0.0, 0.0, 0.270...   \n",
       "3    [0.0, 0.0, 0.0, 0.0, 0.0, 0.0, 0.0, 0.0, 0.292...   \n",
       "4    [0.0, 0.0, 0.0, 0.0, 0.0, 0.0, 0.0, 0.0, 0.0, ...   \n",
       "5    [0.0, 0.0, 0.0, 0.0, 0.0, 0.0, 0.0, 0.0, 0.326...   \n",
       "..                                                 ...   \n",
       "265  [0.0, 0.0, 0.0, 0.0, 0.0, 0.0, 0.0, 0.0, 0.0, ...   \n",
       "266  [0.0, 0.0, 0.0, 0.0, 0.0, 0.0, 0.0, 0.0, 0.0, ...   \n",
       "267  [0.0, 0.0, 0.0, 0.0, 0.0, 0.0, 0.0, 0.0, 0.0, ...   \n",
       "268  [0.0, 0.0, 0.0, 0.0, 0.0, 0.0, 0.0, 0.0, 0.0, ...   \n",
       "269  [0.0, 0.0, 0.0, 0.0, 0.0, 0.0, 0.0, 0.0, 0.0, ...   \n",
       "\n",
       "                              embeddings Sentence-BERT  \n",
       "1    [0.021372376, 0.115748845, 0.028288256, -0.298...  \n",
       "2    [0.042710427, 0.1548902, -0.044505354, -0.1229...  \n",
       "3    [0.03622968, 0.07837429, -0.057751473, -0.1088...  \n",
       "4    [0.006302618, 0.14870247, -0.091361165, -0.340...  \n",
       "5    [0.11293991, 0.043835245, 0.008999126, -0.2027...  \n",
       "..                                                 ...  \n",
       "265  [-0.0801706, 0.17511532, -0.1371665, -0.154168...  \n",
       "266  [-0.095878795, 0.109620534, -0.07306712, -0.27...  \n",
       "267  [0.04345471, 0.116950095, 0.20589969, -0.24657...  \n",
       "268  [-0.1321206, 0.07315433, -0.07691516, -0.25874...  \n",
       "269  [-0.23054107, 0.1301293, -0.058011413, -0.2131...  \n",
       "\n",
       "[269 rows x 7 columns]"
      ]
     },
     "execution_count": 14,
     "metadata": {},
     "output_type": "execute_result"
    }
   ],
   "source": [
    "df"
   ]
  },
  {
   "cell_type": "code",
   "execution_count": 16,
   "metadata": {},
   "outputs": [
    {
     "name": "stdout",
     "output_type": "stream",
     "text": [
      "Число кластеров: 3\n",
      "                                     Очищенный текст  DBSCAN Cluster\n",
      "1  не проверил текущее состояние акб. использовал...              -1\n",
      "2  не задает открытых вопросов уточняющих режим э...               0\n",
      "3  не проверил текущее состояние акб. задает откр...              -1\n",
      "4  не использовал способы стимулирования клиента ...               0\n",
      "5  находится тт без бейджа. не задает открытых во...               0\n"
     ]
    }
   ],
   "source": [
    "from sklearn.cluster import DBSCAN\n",
    "import numpy as np\n",
    "import pandas as pd\n",
    "\n",
    "# Укажите параметры DBSCAN\n",
    "dbscan = DBSCAN(eps=0.1, min_samples=5, metric='cosine')\n",
    "\n",
    "# Применяем DBSCAN для кластеризации\n",
    "cluster_labels = dbscan.fit_predict(embeddings)\n",
    "\n",
    "# Добавляем метки кластеров в датафрейм\n",
    "df['DBSCAN Cluster'] = cluster_labels\n",
    "\n",
    "# Выводим результат\n",
    "print(\"Число кластеров:\", len(set(cluster_labels)) - (1 if -1 in cluster_labels else 0))  # -1 — это шум\n",
    "print(df[['Очищенный текст', 'DBSCAN Cluster']].head())\n",
    "\n",
    "# Сохраняем результат в Excel\n",
    "df.to_excel('data.xlsx', index=False)\n"
   ]
  },
  {
   "cell_type": "code",
   "execution_count": 17,
   "metadata": {},
   "outputs": [
    {
     "name": "stderr",
     "output_type": "stream",
     "text": [
      "c:\\Users\\sanya\\anaconda3\\Lib\\site-packages\\umap\\umap_.py:1952: UserWarning: n_jobs value 1 overridden to 1 by setting random_state. Use no seed for parallelism.\n",
      "  warn(\n"
     ]
    },
    {
     "data": {
      "application/vnd.plotly.v1+json": {
       "config": {
        "plotlyServerURL": "https://plot.ly"
       },
       "data": [
        {
         "customdata": [
          [
           "не проверил текущее состояние акб. использовал способы стимулирования клиента к совершению покупки. не сообщил, рекомендовано приезжать проверку через 3-4 месяца. прошлая оценка от 12.10 задает вопросов уточняющих режим эксплуатации. показывает уровень жидкости новом предлагал рассрочку. ждем месяца проверку.",
           -1
          ],
          [
           "не задает открытых вопросов уточняющих режим эксплуатации авто/другого средства мобильности, характеристики авто, сложности эксплуатации, выясняет наличие доп. оборудования (потребителя энергии). провёл развернутую презентацию продукта (доп. товары). не предлагал рассрочку. выдал клиенту визитки. сообщил о бсо. сообщил, рекомендовано приезжать проверку каждые 3-4 месяца.",
           0
          ],
          [
           "не проверил текущее состояние акб. задает открытых вопросов уточняющих режим эксплуатации авто/другого средства мобильности, характеристики авто, сложности эксплуатации, выясняет наличие доп. оборудования (потребителя энергии). выдал клиенту визитки. при выдаче гарантийного талона покупателю, сообщил о звонке колл-центра. ​​​​​​​",
           -1
          ],
          [
           "не использовал способы стимулирования клиента к совершению покупки. показывает состояние уровень жидкости акб. провёл развернутую презентацию продукта (доп. товары). не выдал клиенту визитки. сообщил о бсо. сообщил, рекомендовано приезжать проверку через 3-4 месяца.",
           0
          ],
          [
           "находится тт без бейджа. не задает открытых вопросов уточняющих режим эксплуатации авто/другого средства мобильности, характеристики авто. использовал способы стимулирования клиента к совершению покупки. показывает состояние уровень жидкости акб. предложил клиенту купить сопутствующий ассортимент, аксессуары. не сообщил, рекомендовано приезжать проверку через 3-4 месяца.",
           0
          ],
          [
           "не задает открытых вопросов уточняющих режим эксплуатации авто/другого средства мобильности, характеристики авто. использовал способы стимулирования клиента к совершению покупки. очень хорошо проконсультировал выполнив почти все пункти.",
           0
          ],
          [
           "не показывает состояние уровень жидкости новом акб. при выдаче гарантийного талона покупателю, сообщил о звонке колл-центра. закрыл все возражения клиента, очень хорошо проконсультировал, благодаря этому продажа завершилось успешно.",
           -1
          ],
          [
           "не использовал способы стимулирования клиента к совершению покупки. показывает состояние уровень жидкости акб. предложил клиенту купить сопутствующий ассортимент, аксессуары. не выдал визитки.",
           0
          ],
          [
           "не использовал способы стимулирования клиента к совершению покупки. показал состояние уровень жидкости новом акб. не предлагал рассрочку. выдал визитки. сообщил о бсо. звонке колл-центра.",
           0
          ],
          [
           "не уточнил наличие дисконтной карты. хорошо проконсультировал.",
           -1
          ],
          [
           "не уточнил наличие дисконтной карты. не сообщил, поступит звонок от колл-центра.",
           -1
          ],
          [
           "при подъезде автомобиля не вышел улицу. проверил текущее состояние акб. задал открытых вопросов уточняющих режим эксплуатации авто/другого средства мобильности, характеристики авто. уточнил наличие дисконтной карты. продемонстрировал покупателю доп. товар аксессуары.",
           -1
          ],
          [
           "не использовал способы стимулирования клиента к совершению покупки. показывает состояние уровень жидкости новом акб. продемонстрировал покупателю доп. товар аксессуары. выдал клиенту визитки. при выдаче гарантийного талона покупателю, сообщил о звонке колл-центра.",
           0
          ],
          [
           "то время когда консультировал клиента, другой сделал громкость музыки выше. как мне это неуважительно отношению клиента. (08:27) не проверил текущее состояние акб. использовал способы стимулирования клиента к совершению покупки. предложил клиенту купить сопутствующий ассортимент, аксессуары. не выдал визитки. сообщил, рекомендовано приезжать проверку через 3-4 месяца. поступит звонок от колл-центра.",
           -1
          ],
          [
           "не проверил текущее состояние акб. использовал способы стимулирования клиента к совершению покупки. провёл развернутую презентацию продукта (доп. товары). не выдал клиенту визитки.",
           -1
          ],
          [
           "не использовал способы стимулирования клиента к совершению покупки. показывает состояние уровень жидкости акб. не выдал клиенту визитки.",
           0
          ],
          [
           "не использовал способы стимулирования клиента к совершению покупки. показывает состояние уровень жидкости акб. предложил клиенту купить сопутствующий ассортимент, аксессуары. не выдал визитки. сообщил, рекомендовано приезжать проверку через 3-4 месяца.",
           0
          ],
          [
           "не задает открытых вопросов уточняющих режим эксплуатации авто/другого средства мобильности, характеристики авто. использовал способы стимулирования клиента к совершению покупки. показывает состояние уровень жидкости акб. предложил клиенту купить сопутствующий ассортимент, аксессуары. выдал визитки. не сообщил о бсо. сообщил, рекомендовано приезжать проверку через 3-4 месяца.",
           0
          ],
          [
           "не задает открытых вопросов уточняющих режим эксплуатации. уточнил, какие критерии важны при выборе обращает внимание. показал состояние уровень жидкости новом акб. рассказал о режиме эксплуатации акб: периодичность зарядки, проверке уровня цвета электролита. провёл развернутую презентацию продукта (доп. товары). клиенту об актуальных акциях, предложениях.",
           0
          ],
          [
           "не проверил текущее состояние акб: заряд, уровень жидкости. задавал открытые вопросы уточняющие режим эксплуатации авто. использовал способы стимулирования клиента к совершению покупки. показал жидкости новом акб. рассказал о режиме периодичность зарядки, проверке уровня цвета электролита. клиенту об актуальных акциях, предложениях. сообщил звонке колл-центра.",
           0
          ],
          [
           "не проверил текущее состояние акб. задавал открытые вопросы уточняющие режим эксплуатации авто. уточнил, какие критерии важны при выборе обращает внимание. показал нагрузочной вилкой заряда уровень жидкости новом предложил клиенту купить сопутствующий ассортимент, аксессуары. провёл развернутую презентацию продукта (доп. товары). рассказал об актуальных акциях, предложениях. выдал визитные карточки.",
           0
          ],
          [
           "не задает открытые вопросы уточняющие режим эксплуатации авто. уточнил, какие критерии важны при выборе обращает внимание. показал состояние уровень жидкости новом акб. рассказал о режиме акб: периодичность зарядки, проверке уровня цвета электролита. предложил клиенту купить сопутствующий ассортимент, аксессуары. провёл развернутую презентацию продукта (доп. товары). об актуальных акциях, предложениях. выдал визитные карточки.",
           0
          ],
          [
           "не использовал способы стимулирования клиента к совершению покупки. показал состояние уровень жидкости новом акб. провёл развернутую презентацию продукта (доп. товары). рассказал клиенту об актуальных акциях, предложениях. выдал визитные карточки. при выдаче гарантийного талона, акцентировал внимание важных местах этом талоне. не сообщил о звонке колл-центра.",
           0
          ],
          [
           "не показал состояние уровень жидкости новом акб. предложил клиенту купить сопутствующий ассортимент, аксессуары. провёл развернутую презентацию продукта (доп. товары). рассказал об актуальных акциях, предложениях. выдал визитные карточки. сообщил о звонке колл-центра.",
           0
          ],
          [
           "не проверил текущее состояние акб: заряд, уровень жидкости. рассказал клиенту об актуальных акциях, предложениях. выдал визитные карточки. сообщил о проверке состояния акб через 3-4 месяца.",
           -1
          ],
          [
           "не задает открытые вопросы уточняющие режим эксплуатации авто. показал нагрузочной вилкой состояние заряда акб. уровень жидкости новом рассказал о режиме провёл развернутую презентацию продукта (доп. товары). клиенту об актуальных акциях, предложениях. выдал визитные карточки. сообщил бсо. проверке состояния акб через 3-4 месяца. обслуживал клиента кепке. был без бейджа.",
           0
          ],
          [
           "не показал состояние уровень жидкости новом акб. провёл развернутую презентацию продукта (доп. товары). рассказал клиенту об актуальных акциях, предложениях. оказал помощь установке",
           0
          ],
          [
           "не рассказал о режиме эксплуатации акб: периодичность зарядки, проверке уровня цвета электролита. использовал способы стимулирования клиента к совершению покупки. уточнил, какие критерии важны при выборе.",
           -1
          ],
          [
           "нет чистоты порядка тт ( грязные полы). не проверил текущее состояние акб: заряд, уровень жидкости. задавал открытые вопросы уточняющие режим эксплуатации авто. уточнил, какие критерии важны при выборе. показал жидкости новом акб. рассказал о режиме периодичность зарядки, проверке уровня цвета электролита. провёл развернутую презентацию продукта (доп. товары). клиенту об актуальных акциях, предложениях.",
           0
          ],
          [
           "не уточнил, какие критерии важны при выборе обращает внимание. показал нагрузочной вилкой состояние заряда акб. уровень жидкости новом рассказал о режиме эксплуатации акб: периодичность зарядки, проверке уровня цвета электролита. предложил клиенту купить сопутствующий ассортимент, аксессуары. провёл развернутую презентацию продукта (доп. товары). об актуальных акциях, предложениях. при выдаче гарантийного талона, акцентировал внимание важных местах этом талоне.",
           0
          ],
          [
           "не показал состояние уровень жидкости новом акб.",
           1
          ],
          [
           "не проверил текущее состояние акб: заряд, уровень жидкости. уточнил, какие критерии важны при выборе обращает внимание. рассказал о режиме эксплуатации периодичность зарядки, проверке уровня цвета электролита. предложил клиенту купить сопутствующий ассортимент, аксессуары. провёл развернутую презентацию продукта (доп. товары). не выдал визитные карточки. сообщил бсо \"ждем через 3-4 месяца проверку состояния акб\". оказал помощь установке акб. футболка соответствует требованиям.",
           0
          ],
          [
           "не сообщил \"ждем через 3-4 месяца проверку состояния акб\". рассказал клиенту об актуальных акциях, предложениях. о режиме эксплуатации акб: периодичность зарядки, проверке уровня цвета электролита. показал состояние уровень жидкости новом акб. использовал способы стимулирования клиента к совершению покупки. уточнил, какие критерии важны при выборе обращает внимание.",
           0
          ],
          [
           "не сообщил о звонке колл-центра. выдал визитные карточки. провёл развернутую презентацию продукта (доп. товары). рассказал режиме эксплуатации акб: периодичность зарядки, проверке уровня цвета электролита.",
           -1
          ],
          [
           "не проверил текущее состояние акб: заряд, уровень жидкости. показал жидкости новом акб. выдал визитные карточки.",
           -1
          ],
          [
           "не проверил текущее состояние акб. использовал способы стимулирования клиента к совершению покупки. показывает уровень жидкости новом не выдал клиенту визитки. при выдаче гарантийного талона покупателю, сообщил о звонке колл-центра.",
           0
          ],
          [
           "не использовал способы стимулирования клиента к совершению покупки. показал состояние уровень жидкости акб. не сообщил о бсо. сообщил, рекомендовано приезжать проверку через 3-4 месяца. презентовал слишком много моделей из-за этого клиент долго мог определиться.",
           0
          ],
          [
           "не задал открытых вопросов уточняющих режим эксплуатации. использовал способы стимулирования клиента к совершению покупки. показывает состояние уровень жидкости акб. предложил клиенту купить сопутствующий ассортимент, аксессуары. выдал визитки. не сообщил, рекомендовано приезжать проверку через 3-4 месяца. при выдаче гарантийного талона покупателю, сообщил о звонке колл-центра.",
           0
          ],
          [
           "не показывает состояние уровень жидкости новом акб. выдал клиенту визитки. хорошо проконсультировал.",
           1
          ],
          [
           "не проверил текущее состояние акб. задал открытых вопросов уточняющих режим эксплуатации авто/другого средства мобильности, характеристики авто. показывает уровень жидкости предложил клиенту купить сопутствующий ассортимент, аксессуары. не предлагал рассрочку. сообщил, рекомендовано приезжать проверку через 3-4 месяца.",
           0
          ],
          [
           "не проверил текущее состояние акб. использовал способы стимулирования клиента к совершению покупки. показывает уровень жидкости новом продемонстрировал покупателю доп. товар аксессуары. выдал клиенту визитки. не сообщил о бсо. сообщил, рекомендовано приезжать проверку каждые 3-4 месяца. при выдаче гарантийного талона покупателю, звонке колл-центра. оказал помощь установке",
           0
          ],
          [
           "не задал открытых вопросов уточняющих режим эксплуатации авто/другого средства мобильности, характеристики авто. использовал способы стимулирования клиента к совершению покупки. показывает состояние уровень жидкости новом акб. продемонстрировал покупателю доп. товар аксессуары. не сообщил о бсо. сообщил, рекомендовано приезжать проверку каждые 3-4 месяца.",
           0
          ],
          [
           "не проверил текущее состояние акб. показывает уровень жидкости новом не предлагал рассрочку. выдал клиенту визитки. сообщил о бсо. сообщил, рекомендовано приезжать проверку каждые 3-4 месяца. при выдаче гарантийного талона покупателю, звонке колл-центра.",
           0
          ],
          [
           "не использовал способы стимулирования клиента к совершению покупки. показывает нагрузочной вилкой состояние заряда акб. уровень жидкости новом продемонстрировал покупателю доп. товар аксессуары. выдал клиенту визитки. при выдаче гарантийного талона покупателю, сообщил о звонке колл-центра.",
           0
          ],
          [
           "не задает открытых вопросов уточняющих режим эксплуатации авто/другого средства мобильности, характеристики авто. использовал способы стимулирования клиента к совершению покупки. показывает состояние уровень жидкости новом акб. продемонстрировал покупателю доп. товар аксессуары. выдал клиенту визитки. не сообщил о бсо. сообщил, рекомендовано приезжать проверку каждые 3-4 месяца. оказал помощь установке",
           0
          ],
          [
           "не задает открытых вопросов уточняющих режим эксплуатации авто/другого средства мобильности, характеристики авто. использовал способы стимулирования клиента к совершению покупки. показывает состояние уровень жидкости новом акб. не предлагал рассрочку. выдал визитки. сообщил, поступит звонок от колл-центра.",
           0
          ],
          [
           "не использовал способы стимулирования клиента к совершению покупки. показывает состояние уровень жидкости акб. не сообщил, поступит звонок от колл-центра.",
           0
          ],
          [
           "находится тт без бейджа. не показывает состояние уровень жидкости новом акб. при выдаче гарантийного талона покупателю, сообщил о звонке колл-центра.",
           -1
          ],
          [
           "не задает открытых вопросов уточняющих режим эксплуатации авто/другого средства мобильности, характеристики авто. уточнил наличие дисконтной карты. использовал способы стимулирования клиента к совершению покупки. показывает состояние уровень жидкости новом акб. выдал клиенту визитки. не предлагал рассрочку.",
           0
          ],
          [
           "не задал открытых вопросов уточняющих режим эксплуатации авто/другого средства мобильности, характеристики авто. показывает нагрузочной вилкой состояние заряда акб. уровень жидкости новом выдал клиенту визитки. не предлагал рассрочку.",
           0
          ],
          [
           "не использовал способы стимулирования клиента к совершению покупки. показывает состояние заряда акб. не продемонстрировал покупателю доп. товар аксессуары. предлагал рассрочку. выдал клиенту визитки. сообщил, рекомендовано приезжать проверку каждые 3-4 месяца.",
           0
          ],
          [
           "не использовал способы стимулирования клиента к совершению покупки. показывает состояние уровень жидкости акб. продемонстрировал покупателю доп. товар аксессуары. выдал клиенту визитки.",
           0
          ],
          [
           "не использовал способы стимулирования клиента к совершению покупки. показывает состояние уровень жидкости новом акб. продемонстрировал покупателю доп. товар аксессуары. выдал клиенту визитки. не сообщил о бсо. сообщил, рекомендовано приезжать проверку каждые 3-4 месяца. при выдаче гарантийного талона покупателю, звонке колл-центра.",
           0
          ],
          [
           "не использовал способы стимулирования клиента к совершению покупки. показывает состояние уровень жидкости акб. предложил клиенту купить сопутствующий ассортимент, аксессуары. не выдал визитки. сообщил о бсо. сообщил, рекомендовано приезжать проверку через 3-4 месяца.",
           0
          ],
          [
           "не использовал способы стимулирования клиента к совершению покупк. показывает состояние уровень жидкости акб. достойно проконсультировал.",
           0
          ],
          [
           "не использовал способы стимулирования клиента к совершению покупки. показывает состояние уровень жидкости акб. не выдал клиенту визитки.",
           0
          ],
          [
           "не использовал способы стимулирования клиента к совершению покупки. показывает состояние уровень жидкости акб. предложил клиенту купить сопутствующий ассортимент, аксессуары. не сообщил о бсо. сообщил, рекомендовано приезжать проверку через 3-4 месяца. звонке колл-центра.",
           0
          ],
          [
           "не использовал способы стимулирования клиента к совершению покупки. показывает состояние уровень жидкости акб. предложил клиенту купить сопутствующий ассортимент, аксессуары. выдал гарантийный талон. не визитки. сообщил, рекомендовано приезжать проверку через 3-4 месяца.",
           0
          ],
          [
           "не использовал способы стимулирования клиента к совершению покупки. показывает состояние уровень жидкости акб. целом достойно проконсультировал.",
           0
          ],
          [
           "не задал открытых вопросов уточняющих режим эксплуатации авто/другого средства мобильности, характеристики авто. не выдал визитки. сообщил о бсо. сообщил, рекомендовано приезжать проверку через 3-4 месяца.",
           0
          ],
          [
           "не использовал способы стимулирования клиента к совершению покупки. достойно проконсультировал.",
           -1
          ],
          [
           "текущая оценка от 19.10 видел, клиент магазине, не подошел к нему сразу. задает открытых вопросов уточняющих режим эксплуатации. использовал способы стимулирования клиента совершению покупки. показывает нагрузочной вилкой состояние заряда акб. уровень жидкости предложил клиенту купить сопутствующий ассортимент, аксессуары. >не выдал визитки. сообщил о бсо. рекомендовано приезжать проверку через 3-4 месяца. >",
           -1
          ],
          [
           "текущая оценка от 16.10 не показывает состояние уровень жидкости акб. >не выдал клиенту визитки. сообщил о звонке колл-центра. >как мне достойно проконсультировал. >",
           -1
          ],
          [
           "не использовал способы стимулирования клиента к совершению покупки. показывает состояние уровень жидкости акб. предложил клиенту купить сопутствующий ассортимент, аксессуары. сообщил о звонке колл-центра. не оказал помощь установке",
           0
          ],
          [
           "не использовал способы стимулирования клиента к совершению покупки. показывает состояние уровень жидкости акб. провёл развернутую презентацию продукта. не сообщил о звонке колл-центра.",
           0
          ],
          [
           "не задал открытых вопросов уточняющих режим эксплуатации авто/другого средства мобильности, характеристики авто. использовал способы стимулирования клиента к совершению покупки. показывает состояние уровень жидкости новом акб. продемонстрировал покупателю доп. товар аксессуары. выдал клиенту визитки. не сообщил о бсо. сообщил, рекомендовано приезжать проверку каждые 3-4 месяца. при выдаче гарантийного талона покупателю, звонке колл-центра.",
           0
          ],
          [
           "находится ртт нарушением формы одежды обуви. не использовал способы стимулирования клиента к совершению покупки. показывает состояние уровень жидкости акб. сообщил, рекомендовано через 3-4 месяца приезжать проверку. не сообщил о звонке колл-центра.",
           -1
          ],
          [
           "не задал открытых вопросов уточняющих режим эксплуатации авто/другого средства мобильности, характеристики авто. уточнил наличие дисконтной карты. использовал способы стимулирования клиента к совершению покупки. сообщил рекомендовано приезжать проверку через 3-4 месяца.",
           0
          ],
          [
           "видел, клиент магазине, не подошел к нему сразу. задает открытых вопросов уточняющих режим эксплуатации. использовал способы стимулирования клиента совершению покупки. показывает нагрузочной вилкой состояние заряда акб. уровень жидкости предложил клиенту купить сопутствующий ассортимент, аксессуары. не выдал визитки. сообщил о бсо. рекомендовано приезжать проверку через 3-4 месяца.",
           -1
          ],
          [
           "не показывает состояние уровень жидкости акб. не выдал клиенту визитки. сообщил о звонке колл-центра. как мне достойно проконсультировал.",
           -1
          ],
          [
           "находится тт не форме. использовал способы стимулирования клиента к совершению покупки. показывает состояние уровень жидкости новом акб. выдал клиенту визитки. не оказал помощь установке",
           0
          ],
          [
           "не использовал способы стимулирования клиента к совершению покупки. показывает состояние уровень жидкости акб. не выдал визитки. сообщил о звонке колл-центра.",
           0
          ],
          [
           "не задал открытых вопросов уточняющих режим эксплуатации авто/другого средства мобильности, характеристики авто. использовал способы стимулирования клиента к совершению покупки. показывает состояние уровень жидкости акб.",
           0
          ],
          [
           "не уточнил, какие критерии важны при выборе. не использовал способы стимулирования клиента к совершению покупки. показывает состояние уровень жидкости новом акб. выдал клиенту визитки.",
           -1
          ],
          [
           "не использовал способы стимулирования клиента к совершению покупки. показывает состояние уровень жидкости акб. выдал клиенту визитки. у намного меньше ошибок чем было прошлый раз.",
           0
          ],
          [
           "не находится тт форме. использовал способы стимулирования клиента к совершению покупки. показывает состояние уровень жидкости акб. выдал клиенту визитки.",
           0
          ],
          [
           "не задал открытых вопросов уточняющих режим эксплуатации авто/другого средства мобильности, характеристики авто. использовал способы стимулирования клиента к совершению покупки. показывает состояние уровень жидкости акб.",
           0
          ],
          [
           "не проверил текущее состояние акб. использовал способы стимулирования клиента к совершению покупки. показывает уровень жидкости новом провёл развернутую презентацию продукта.",
           0
          ],
          [
           "не задает открытых вопросов уточняющих режим эксплуатации авто/другого средства мобильности, характеристики авто. использовал способы стимулирования клиента к совершению покупки. показывает состояние уровень жидкости акб. предложил клиенту купить сопутствующий ассортимент, аксессуары.",
           0
          ],
          [
           "текущая оценка от 19.10 не проверил текущее состояние акб: заряд, уровень жидкости. использовал способы стимулирования клиента к совершению покупки. показывает жидкости нового акб. >",
           -1
          ],
          [
           "текущая оценка от 19.10 не задает открытых вопросов уточняющих режим эксплуатации авто/другого средства мобильности, характеристики авто. уточнил, какие критерии важны при выборе. показывает состояние уровень жидкости акб. сообщил, рекомендовано приезжать проверку через 3-4 месяца. выдал клиенту визитки. >>при выдаче гарантийного талона покупателю, сообщил о звонке колл-центра. >>",
           0
          ],
          [
           "не проверил текущее состояние акб. показывает нагрузочной вилкой заряда уровень жидкости сообщил, рекомендовано приезжать проверку через 3-4 месяца. не поступит звонок от колл-центра.",
           -1
          ],
          [
           "текущая оценка от 19.10 не задает открытых вопросов уточняющих режим эксплуатации авто/другого средства мобильности, характеристики авто. уточнил, какие критерии важны при выборе. показывает состояние уровень жидкости акб. сообщил, рекомендовано приезжать проверку через 3-4 месяца. выдал клиенту визитки. >при выдаче гарантийного талона покупателю, сообщил о звонке колл-центра. >",
           0
          ],
          [
           "не задает открытых вопросов уточняющих режим эксплуатации авто/другого средства мобильности, характеристики авто. использовал способы стимулирования клиента к совершению покупки. показывает состояние уровень жидкости новом акб. продемонстрировал покупателю доп. товар аксессуары.",
           0
          ],
          [
           "не задает открытых вопросов уточняющих режим эксплуатации авто/другого средства мобильности, характеристики авто. показывает состояние уровень жидкости акб. выдал клиенту визитки. сообщил, рекомендовано прийти проверку через 3-4 месяца. не поступит звонок от колл-центра.",
           0
          ],
          [
           "не задает открытых вопросов уточняющих режим эксплуатации авто/другого средства мобильности, характеристики авто. показывает состояние уровень жидкости акб. сообщил, рекомендовано приехать проверку через 3-4 месяца.",
           0
          ],
          [
           "отлично проконсультировал. нет никаких отклонений.",
           -1
          ],
          [
           "не использовал способы стимулирования клиента к совершению покупки. показывает состояние уровень жидкости новом акб. выдал клиенту визитки. целом консультация была хорошая.",
           0
          ],
          [
           "не использовал способы стимулирования клиента к совершению покупки. показывает состояние уровень жидкости акб. сообщил, поступит звонок от колл-центра для оценки качества обслуживания.",
           0
          ],
          [
           "не использовал способы стимулирования клиента к совершению покупки. показывает состояние уровень жидкости нового акб. не сообщил, поступит звонок от колл-центра для оценки качества обслуживания/",
           0
          ],
          [
           "не проверил текущее состояние акб: заряд, уровень жидкости. использовал способы стимулирования клиента к совершению покупки. показывает жидкости нового акб.",
           -1
          ],
          [
           "не задает открытых вопросов уточняющих режим эксплуатации авто/другого средства мобильности, характеристики авто. уточнил, какие критерии важны при выборе. показывает состояние уровень жидкости акб. сообщил, рекомендовано приезжать проверку через 3-4 месяца. выдал клиенту визитки. при выдаче гарантийного талона покупателю, сообщил о звонке колл-центра.",
           0
          ],
          [
           "не использовал способы стимулирования клиента к совершению покупки. показывает состояние уровень жидкости новом акб. продемонстрировал покупателю доп. товар аксессуары. выдал клиенту визитки.",
           0
          ],
          [
           "не предлагал рассрочку. выдал клиенту визитки. при выдаче гарантийного талона покупателю, сообщил о звонке колл-центра. хорошо проконсультировал.",
           -1
          ],
          [
           "не проверил текущее состояние акб. задал открытых вопросов уточняющих режим эксплуатации авто/другого средства мобильности, характеристики авто. использовал способы стимулирования клиента к совершению покупки. показывает уровень жидкости новом не предлагал рассрочку. выдал клиенту визитки.",
           0
          ],
          [
           "не показывает состояние уровень жидкости новом акб. очень хорошо проконсультировал.",
           1
          ],
          [
           "не задает открытых вопросов уточняющих режим эксплуатации авто/другого средства мобильности, характеристики авто. использовал способы стимулирования клиента к совершению покупки. показывает состояние заряда уровень жидкости новом акб. продемонстрировал покупателю доп. товар аксессуары. не предлагал рассрочку. при выдаче гарантийного талона покупателю, сообщил о звонке колл-центра.",
           0
          ],
          [
           "не проверил текущее состояние акб. показывает уровень жидкости новом продемонстрировал покупателю доп. товар аксессуары. целом хорошо проконсультировал.",
           -1
          ],
          [
           "не задает открытых вопросов уточняющих режим эксплуатации авто/другого средства мобильности, характеристики авто. показывает состояние уровень жидкости новом акб. не предлагал рассрочку. выдал клиенту визитки. при выдаче гарантийного талона покупателю, сообщил о звонке колл-центра.",
           0
          ],
          [
           "не задает открытых вопросов уточняющих режим эксплуатации авто/другого средства мобильности, характеристики авто. показывает состояние уровень жидкости новом акб. продемонстрировал покупателю доп. товар аксессуары. сообщил, рекомендовано приезжать проверку каждые 3-4 месяца. при выдаче гарантийного талона покупателю, сообщил о звонке колл-центра.",
           0
          ],
          [
           "не использовал способы стимулирования клиента к совершению покупки. показывает состояние уровень жидкости новом акб. при выдаче гарантийного талона покупателю, сообщил о звонке колл-центра.",
           0
          ],
          [
           "не проверил текущее состояние старого акб. не задал открытых вопросов. использовал способы стимулирования клиента к совершению покупки. показывает нагрузочной вилкой заряда уровень жидкости новом продемонстрировал покупателю доп. товар аксессуары. сообщил, рекомендовано приезжать проверку каждые 3-4 месяца.",
           -1
          ],
          [
           "не проверил текущее состояние старого акб. использовал способы стимулирования клиента к совершению покупки. показывает уровень жидкости новом продемонстрировал покупателю доп. товар аксессуары. не предлагал рассрочку. выдал клиенту визитки. сообщил о бсо. сообщил, рекомендовано приезжать проверку каждые 3-4 месяца. оказал помощь установке",
           0
          ],
          [
           "не показывает состояние заряда, уровень жидкости новом акб (потому продажа была этом магазине, забрали из другой тт). выдал клиенту визитки. не сообщил о бсо. предлагал рассрочку. сообщил, рекомендовано приезжать проверку каждые 3-4 месяца.",
           -1
          ],
          [
           "не показывает состояние уровень жидкости новом акб. продемонстрировал покупателю доп. товар аксессуары. не предлагал рассрочку. выдал клиенту визитки. сообщил о бсо. сообщил, рекомендовано приезжать проверку каждые 3-4 месяца. при выдаче гарантийного талона покупателю, звонке колл-центра.",
           0
          ],
          [
           "не показывает состояние уровень жидкости новом акб. продемонстрировал покупателю доп. товар аксессуары. не предлагал рассрочку. выдал клиенту визитки. сообщил, рекомендовано приезжать проверку каждые 3-4 месяца. при выдаче гарантийного талона покупателю, сообщил о звонке колл-центра.",
           0
          ],
          [
           "не задал открытых вопросов уточняющих режим эксплуатации авто/другого средства мобильности, характеристики авто. показывает состояние уровень жидкости новом акб. продемонстрировал покупателю доп. товар аксессуары. выдал клиенту визитки. при выдаче гарантийного талона покупателю, сообщил о звонке колл-центра.",
           0
          ],
          [
           "не задал открытых вопросов уточняющих режим эксплуатации авто/другого средства мобильности, характеристики авто. показывает состояние уровень жидкости новом акб. продемонстрировал покупателю доп. товар аксессуары. не предлагал рассрочку.",
           0
          ],
          [
           "не задает открытых вопросов уточняющих режим эксплуатации авто/другого средства мобильности, характеристики авто. использовал способы стимулирования клиента к совершению покупки. показывает состояние уровень жидкости новом акб. выдал клиенту визитки. не оказал помощь установке",
           0
          ],
          [
           "не сообщил о звонке колл-центра. рассказал клиенту об актуальных акциях, предложениях. предложил купить сопутствующий ассортимент, аксессуары. режиме эксплуатации акб: периодичность зарядки, проверке уровня цвета электролита. показал состояние уровень жидкости новом акб. нагрузочной вилкой заряда нового проверил текущее заряд, жидкости.",
           -1
          ],
          [
           "не рассказал клиенту об актуальных акциях, предложениях. показал состояние уровень жидкости новом акб.",
           -1
          ],
          [
           "не проверил текущее состояние акб: заряд, уровень жидкости. задавал открытые вопросы уточняющие режим эксплуатации авто. уточнил, какие критерии важны при выборе обращает внимание. показал жидкости новом акб. рассказал о режиме периодичность зарядки, проверке уровня цвета электролита. провёл развернутую презентацию продукта (доп. товары). клиенту об актуальных акциях, предложениях. выдал визитные карточки. сообщил звонке колл-центра.",
           0
          ],
          [
           "не уточнил, какие критерии важны при выборе обращает внимание. резюмировал: озвучил потребность/запрос клиента, режим эксплуатации доп. оборудование. рассказал о продукте используя развернутую презентацию озвучиванием характеристик преимуществ той иной модели. использовал способы стимулирования клиента к совершению покупки. режиме акб: периодичность зарядки, проверке уровня цвета электролита. показал состояние уровень жидкости новом акб. предложил клиенту купить сопутствующий ассортимент, аксессуары. провёл продукта (доп. товары). об актуальных акциях, предложениях. выдал визитные карточки. оказал помощь установке",
           -1
          ],
          [
           "находится ртт нарушением формы одежды(футболка не соответствует требованиям). проверил текущее состояние акб: заряд, уровень жидкости. уточнил, какие критерии важны при выборе обращает внимание. показал жидкости новом акб. рассказал о режиме эксплуатации периодичность зарядки, проверке уровня цвета электролита. предложил клиенту купить сопутствующий ассортимент, аксессуары. провёл развернутую презентацию продукта (доп. товары). об актуальных акциях, предложениях. выдал визитные карточки. сообщил \"ждем через 3-4 месяца проверку состояния акб\" оказал помощь установке",
           -1
          ],
          [
           "не проверил текущее состояние акб. использовал способы стимулирования клиента к совершению покупки. предложил клиенту купить сопутствующий ассортимент, аксессуары. провёл развернутую презентацию продукта (доп. товары). рассказал об актуальных акциях, предложениях. сообщил о звонке колл-центра.",
           -1
          ],
          [
           "находился тт без бейджа. не уточнил, какие критерии важны при выборе обращает внимание. провёл развернутую презентацию продукта (доп. товары). рассказал клиенту об актуальных акциях, предложениях.",
           -1
          ],
          [
           "не проверил текущее состояние акб: заряд, уровень жидкости. уточнил, какие критерии важны при выборе обращает внимание. показал жидкости акб. провёл развернутую презентацию продукта (доп. товары). рассказал клиенту об актуальных акциях, предложениях. выдал визитные карточки.",
           0
          ],
          [
           "не уточнил, какие критерии важны при выборе обращает внимание. проверил текущее состояние акб: заряд, уровень жидкости. показал нагрузочной вилкой заряда нового акб. жидкости новом предложил клиенту купить сопутствующий ассортимент, аксессуары. провёл развернутую презентацию продукта (доп. товары). рассказал об актуальных акциях, предложениях. грамотно отработал возражения.",
           0
          ],
          [
           "не выдал визитные карточки. рассказал клиенту об актуальных акциях, предложениях. провёл развернутую презентацию продукта (доп. товары). предложил купить сопутствующий ассортимент, аксессуары. показал состояние уровень жидкости новом акб. уточнил, какие критерии важны при выборе обращает внимание. проверил текущее акб: заряд, жидкости.",
           0
          ],
          [
           "не уточнил, какие критерии важны при выборе обращает внимание. показал состояние уровень жидкости новом акб. рассказал клиенту об актуальных акциях, предложениях. выдал визитные карточки.",
           -1
          ],
          [
           "не сообщил о звонке колл-центра. рассказал клиенту об актуальных акциях, предложениях. провёл развернутую презентацию продукта (доп. товары). предложил купить сопутствующий ассортимент, аксессуары. режиме эксплуатации акб: периодичность зарядки, проверке уровня цвета электролита. показал состояние уровень жидкости новом акб.",
           -1
          ],
          [
           "не показал состояние уровень жидкости новом акб. предложил клиенту купить сопутствующий ассортимент, аксессуары. провёл развернутую презентацию продукта (доп. товары). рассказал об актуальных акциях, предложениях.",
           0
          ],
          [
           "не уточнил наличие дисконтной карты (личной, родственника знакомого). во время презентации вовлекал клиента диалог при помощи уточняющих вопросов. предложил клиенту купить сопутствующий ассортимент, аксессуары. провёл развернутую презентацию продукта (доп. товары). рассказал об актуальных акциях, предложениях.",
           -1
          ],
          [
           "не сообщил о звонке колл-центра. предложил клиенту купить сопутствующий ассортимент, аксессуары. рассказал об актуальных акциях, предложениях. провёл развернутую презентацию продукта (доп. товары). режиме эксплуатации акб: периодичность зарядки, проверке уровня цвета электролита.",
           -1
          ],
          [
           "не проверил текущее состояние акб: заряд, уровень жидкости. показал жидкости новом акб. рассказал о режиме эксплуатации периодичность зарядки, проверке уровня цвета электролита. предложил клиенту купить сопутствующий ассортимент, аксессуары. провёл развернутую презентацию продукта (доп. товары). об актуальных акциях, предложениях.",
           0
          ],
          [
           "не показал состояние уровень жидкости новом акб. проверил текущее акб: заряд, жидкости. предложил клиенту купить сопутствующий ассортимент, аксессуары. провёл развернутую презентацию продукта (доп. товары). рассказал об актуальных акциях, предложениях. выдал визитные карточки. сообщил \"ждем через 3-4 месяца проверку состояния акб\" о звонке колл-центра.",
           0
          ],
          [
           "не выдал визитные карточки. провёл развернутую презентацию продукта (доп. товары). показал состояние уровень жидкости новом акб.",
           0
          ],
          [
           "не показывает состояние уровень жидкости новом акб. выдал визитные карточки.",
           1
          ],
          [
           "не показывает состояние уровень жидкости новом акб. рассказал клиенту об актуальных акциях, предложениях. выдал визитные карточки.",
           -1
          ],
          [
           "не предложил клиенту купить сопутствующий ассортимент, аксессуары. провёл развернутую презентацию продукта (доп. товары). рассказал об актуальных акциях, предложениях. выдал визитные карточки. сообщил о звонке колл-центра.",
           -1
          ],
          [
           "не показал состояние уровень жидкости новом акб. рассказал о режиме эксплуатации акб: периодичность зарядки, проверке уровня цвета электролита. провёл развернутую презентацию продукта (доп. товары). клиенту об актуальных акциях, предложениях. сообщил \"ждем через 3-4 месяца проверку состояния акб\". звонке колл-центра.",
           0
          ],
          [
           "не задавал открытые вопросы уточняющие режим эксплуатации авто. уточнял, какие критерии важны при выборе обращает внимание. показал состояние уровень жидкости новом акб рассказал о режиме акб: периодичность зарядки, проверке уровня цвета электролита. предложил клиенту купить сопутствующий ассортимент, аксессуары. провёл развернутую презентацию продукта (доп. товары). об актуальных акциях, предложениях выдал визитные карточки. сообщил бсо. \"ждем через 3-4 месяца проверку состояния акб\". звонке колл-центра.",
           0
          ],
          [
           "не показал состояние уровень жидкости новом акб. провёл развернутую презентацию продукта (доп. товары). рассказал клиенту об актуальных акциях, предложениях. выдал визитные карточки.",
           0
          ],
          [
           "не задает открытые вопросы уточняющие режим эксплуатации авто. уточнил, какие критерии важны при выборе обращает внимание. показал состояние уровень жидкости новом акб. рассказал о режиме акб: периодичность зарядки, проверке уровня цвета электролита. сообщил звонке колл-центра. выдал визитные карточки.",
           0
          ],
          [
           "не уточнил наличие дисконтной карты. озвучил потребность/запрос клиента, режим эксплуатации доп. оборудование. во время презентации вовлекал клиента диалог при помощи уточняющих вопросов. использовал способы стимулирования к совершению покупки, используя фразы «берем?», «оформляем?», «когда планируете покупку?». предложил клиенту купить сопутствующий ассортимент, аксессуары. провёл развернутую презентацию продукта (доп. товары). выдал визитные карточки. сообщил о бсо.",
           -1
          ],
          [
           "не использовал способы стимулирования клиента к совершению покупки, используя фразы «берем?», «оформляем?», «когда планируете покупку?». предложил клиенту купить сопутствующий ассортимент, аксессуары. провёл развернутую презентацию продукта (доп. товары). рассказал об актуальных акциях, предложениях. выдал визитные карточки.",
           -1
          ],
          [
           "не уточнил, какие критерии важны при выборе обращает внимание. задавал открытых вопросов уточняющие режим эксплуатации авто. показал состояние уровень жидкости новом акб. провёл развернутую презентацию продукта (доп. товары). рассказал клиенту об актуальных акциях, предложениях. сообщил о звонке колл-центра.",
           0
          ],
          [
           "не показал состояние уровень жидкости новом акб. рассказал о режиме эксплуатации акб: периодичность зарядки, проверке уровня цвета электролита и.т.д. клиенту об актуальных акциях, предложениях. выдал визитки. сообщил бсо. \"ждем через 3-4 месяца проверку состояния акб\". звонке колл-центра.",
           0
          ],
          [
           "не задавал открытых вопросов уточняющие режим эксплуатации авто. уточнил, какие критерии важны при выборе обращает внимание. показал состояние уровень жидкости акб.",
           0
          ],
          [
           "не уточнил, какие критерии важны при выборе обращает внимание. показал состояние уровень жидкости новом акб. провёл развернутую презентацию продукта (доп. товары).",
           -1
          ],
          [
           "не задает открытых вопросов уточняющих режим эксплуатации авто/другого средства мобильности, характеристики авто. использовал способы стимулирования клиента к совершению покупки. показывает состояние уровень жидкости новом акб. выдал клиенту визитки. при выдаче гарантийного талона покупателю, сообщил о звонке колл-центра.",
           0
          ],
          [
           "не показывает состояние уровень жидкости новом акб. продемонстрировал покупателю доп. товар аксессуары. не предлагал рассрочку. выдал клиенту визитки. сообщил о бсо. сообщил, рекомендовано приезжать проверку каждые 3-4 месяца.",
           0
          ],
          [
           "не задает вопросов уточняющих режим эксплуатации. не показывает состояние уровень жидкости новом акб. предлагал рассрочку. сообщил, ждем через 3-4 месяца проверку.",
           -1
          ],
          [
           "не задает открытых вопросов уточняющих режим эксплуатации. не показывает состояние уровень жидкости новом акб. предлагал рассрочку. выдал визитки. сообщил о бсо.",
           0
          ],
          [
           "не показывает состояние уровень жидкости акб. не предлагал рассрочку. при выдаче гарантийного талона покупателю, сообщил о звонке колл-центра.",
           1
          ],
          [
           "не использовал способы стимулирования клиента к совершению покупки. показывает состояние уровень жидкости новом акб. продемонстрировал покупателю доп. товар аксессуары. не предлагал рассрочку. выдал клиенту визитки. сообщили о бсо. сообщил, рекомендовано приезжать проверку каждые 3-4 месяца.",
           0
          ],
          [
           "не показывает состояние уровень жидкости новом акб. выдал клиенту визитки. при выдаче гарантийного талона покупателю, сообщил о звонке колл-центра.",
           1
          ],
          [
           "не проверил текущее состояние старого акб. использовал способы стимулирования клиента к совершению покупки. не показывает уровень жидкости новом продемонстрировал покупателю доп. товар аксессуары. предлагал рассрочку. выдал клиенту визитки. при выдаче гарантийного талона покупателю, сообщил о звонке колл-центра.",
           0
          ],
          [
           "не задает открытых вопросов уточняющих режим эксплуатации авто/другого средства мобильности, характеристики авто. использовал способы стимулирования клиента к совершению покупки. показывает состояние уровень жидкости новом акб. продемонстрировал покупателю доп. товар аксессуары. не предлагал рассрочку. при выдаче гарантийного талона покупателю, сообщил о звонке колл-центра. оказал помощь донести до багажника.",
           0
          ],
          [
           "не задал открытых вопросов уточняющих режим эксплуатации. уточнил, какие критерии важны при выборе. использовал способы стимулирования клиента к совершению покупки. показывает состояние уровень жидкости новом акб. продемонстрировал покупателю доп. товар аксессуары. не предлагал рассрочку. выдал клиенту визитки. сообщил о бсо. сообщил, рекомендовано приезжать проверку каждые 3-4 месяца. при выдаче гарантийного талона покупателю, звонке колл-центра.",
           0
          ],
          [
           "находится тт без бейджа. не показывает нагрузочной вилкой состояние заряда акб. уровень жидкости новом не продемонстрировал покупателю доп. товар аксессуары. предлагал рассрочку. выдал клиенту визитки.",
           -1
          ],
          [
           "не уточнил наличие дисконтной карты. показывает состояние уровень жидкости новом акб. провёл развернутую презентацию продукта (доп. товары). не предлагал рассрочку. выдал клиенту визитки. сообщил, поступит звонок от колл-центра.",
           0
          ],
          [
           "не проверил текущее состояние старого акб. показывает уровень жидкости новом выдал клиенту визитки. не сообщил о бсо. сообщил, рекомендовано приезжать проверку каждые 3-4 месяца.",
           0
          ],
          [
           "не показывает состояние уровень жидкости новом акб. продемонстрировал покупателю доп. товар аксессуары. не предлагал рассрочку. выдал клиенту визитки. сообщил о бсо. сообщил, рекомендовано приезжать проверку каждые 3-4 месяца. при выдаче гарантийного талона покупателю, звонке колл-центра. оказал помощь установке",
           0
          ],
          [
           "не задал открытых вопросов уточняющих режим эксплуатации. использовал способы стимулирования клиента к совершению покупки. ​​​​продавец показывает состояние уровень жидкости акб. провёл развернутую презентацию продукта (доп. товары). не сообщил о звонке колл-центра. оказал помощь установке акб же донести до багажника.",
           0
          ],
          [
           "не показывает состояние уровень жидкости новом акб. выдал клиенту визитки. не предлагал рассрочку. очень хорошо проконсультировал.",
           1
          ],
          [
           "не задает открытых вопросов уточняющих режим эксплуатации авто/другого средства мобильности, характеристики авто. уточнил, какие критерии важны при выборе. не использовал способы стимулирования клиента к совершению покупки. показывает состояние уровень жидкости новом акб. продемонстрировал покупателю доп. товар аксессуары. предлагал рассрочку. оказал помощь донести до багажника.",
           0
          ],
          [
           "не показывает состояние уровень жидкости новом акб. рассказывает/напоминает о режиме эксплуатации не провёл развернутую презентацию продукта (доп. товары). предлагал рассрочку. при выдаче гарантийного талона покупателю, сообщил звонке колл-центра. оказал помощь донести до багажника.",
           0
          ],
          [
           "при подъезде автомобиля не вышел улицу. проверил текущее состояние старого акб. использовал способы стимулирования клиента к совершению покупки. показывает нагрузочной вилкой заряда не уровень жидкости новом продемонстрировал покупателю доп. товар аксессуары. выдал клиенту визитки. сообщил о бсо. сообщил, рекомендовано приезжать проверку каждые 3-4 месяца. при выдаче гарантийного талона покупателю, звонке колл-центра. оказал помощь донести до багажника.",
           -1
          ],
          [
           "не задал открытых вопросов уточняющих режим эксплуатации. не использовал способы стимулирования клиента к совершению покупки. показывает состояние уровень жидкости новом акб. предлагал рассрочку. выдал клиенту визитки. при выдаче гарантийного талона покупателю, сообщил о звонке колл-центра. оценила работу мере возможности, так-как он разговаривает только по-русски по-оссетински.",
           0
          ],
          [
           "не использовал способы стимулирования клиента к совершению покупки. показывает состояние уровень жидкости акб. не выдал клиенту визитки. сообщил, поступит звонок от колл-центра.",
           0
          ],
          [
           "не задает открытых вопросов уточняющих режим эксплуатации. показывает состояние уровень жидкости акб. предложил клиенту купить сопутствующий ассортимент, аксессуары. не сообщил, поступит звонок от колл-центра.",
           -1
          ],
          [
           "не задает открытых вопросов уточняющих режим эксплуатации. показывает состояние уровень жидкости акб. предложил клиенту купить сопутствующий ассортимент, аксессуары. клиенту выдали визитных карточек листовок. не сообщил, поступит звонок от колл-центра.",
           0
          ],
          [
           "не показывает состояние уровень жидкости новом акб. очень хорошо проконсультировал.",
           1
          ],
          [
           "не проверил текущее состояние старого акб. использовал способы стимулирования клиента к совершению покупки. показывает уровень жидкости новом провёл развернутую презентацию продукта (доп. товары). не предлагал рассрочку. сообщил о бсо. сообщил, рекомендовано приезжать проверку каждые 3-4 месяца. при выдаче гарантийного талона покупателю, звонке колл-центра.",
           0
          ],
          [
           "не задает открытых вопросов уточняющих режим эксплуатации. использовал способы стимулирования клиента к совершению покупки. показывает состояние уровень жидкости акб. предложил клиенту купить сопутствующий ассортимент, аксессуары. не предлагал рассрочку. сообщил рекомендовано приезжать проверку через 3-4 месяца.",
           0
          ],
          [
           "не показывает состояние уровень жидкости новом акб. провёл развернутую презентацию продукта (доп. товары). не предлагал рассрочку. выдал клиенту визитки. сообщил о бсо.",
           0
          ],
          [
           "не задал открытых вопросов уточняющих режим эксплуатации. показывает состояние уровень жидкости новом акб. провёл развернутую презентацию продукта (доп. товары). не предлагал рассрочку.",
           0
          ],
          [
           "не показывает состояние уровень жидкости новом акб. выдал клиенту визитки. не предлагал рассрочку. оказал помощь установке",
           1
          ],
          [
           "не задает открытых вопросов уточняющих режим эксплуатации не уточнил, какие критерии важны при выборе. показывает состояние уровень жидкости новом акб. при выдаче гарантийного талона покупателю, сообщил о звонке колл-центра.",
           0
          ],
          [
           "не использовал способы стимулирования клиента к совершению покупки. из-за этого клиент долго мог определиться брать нет. процессе сильно помог другой (рудиков антон николаевич). показывает состояние уровень жидкости новом акб. не предлагал рассрочку. выдал визитки.",
           -1
          ],
          [
           "не задает вопросов уточняющих режим эксплуатации. показывает состояние уровень жидкости новом акб. продемонстрировал покупателю доп. товар аксессуары. не предлагал рассрочку. при выдаче гарантийного талона покупателю, сообщил о звонке колл-центра. оказал помощь установке",
           0
          ],
          [
           "не показывает состояние уровень жидкости новом акб. не предлагал рассрочку. оказал помощь установке целом хорошо проконсультировал.",
           1
          ],
          [
           "​​​​продавец не уточнил наличие дисконтной карты. не показывает состояние уровень жидкости акб. предлагал рассрочку. сообщил поступит звонок от колл-центра.",
           -1
          ],
          [
           "не задает открытых вопросов уточняющих режим эксплуатации. уточнил, какие критерии важны при выборе. использовал способы стимулирования клиента к совершению покупки. показал состояние уровень жидкости акб. не выдал клиенту визитки. сообщил, поступит звонок от колл-центра.",
           0
          ],
          [
           "не использовал способы стимулирования клиента к совершению покупки. не предлагал рассрочку. выдал клиенту визитки. сообщил о бсо. сообщил, нужно приезжать через 3-4 месяца проверку. поступит звонок от колл-центра.",
           -1
          ],
          [
           "не показал состояние уровень жидкости акб",
           -1
          ],
          [
           "не форме. показывает состояние уровень жидкости новом акб. рассказал о режиме эксплуатации акб: периодичность зарядки, проверке уровня цвета электролита. предложил клиенту купить сопутствующий ассортимент, аксессуары. провёл развернутую презентацию продукта (доп. товары). об актуальных акциях, предложениях.",
           0
          ],
          [
           "бардак прикассовой зоне. находится ртт не форме, без бейджа. поприветствовал клиента сразу же. уточнил, какие критерии важны при выборе обращает внимание. уточнил наличие дисконтной карты (личной, родственника знакомого). озвучил потребность/запрос клиента, режим эксплуатации доп. оборудование. рассказал о продукте используя развернутую презентацию озвучиванием характеристик преимуществ. во время презентации вовлекал диалог помощи уточняющих вопросов. предпринял попытку отработать возникшие возражения. пытался закрыть все возражения клиента. использовал способы стимулирования к совершению покупки, фразы «берем?» предложил клиенту купить сопутствующий ассортимент, аксессуары. провёл продукта (доп. товары). об актуальных акциях, предложениях. сообщил бсо отсутствие субординации отношению во консультации жевал жвачку, подтягивался, находился бейджа, долгое подходил клиенту, хотя был свободен.",
           -1
          ],
          [
           "не проверил текущее состояние акб: заряд, уровень жидкости. показал жидкости новом акб. рассказал о режиме эксплуатации периодичность зарядки, проверке уровня цвета электролита т.д. провёл развернутую презентацию продукта (доп. товары). клиенту об актуальных акциях, предложениях. сообщил звонке колл-центра.",
           0
          ],
          [
           "не использовал способы стимулирования клиента к совершению покупки, используя фразы «берем?», «оформляем?», «когда планируете покупку?». показал состояние уровень жидкости новом акб. выдал клиенту визитки.",
           -1
          ],
          [
           "не задавал открытые вопросы уточняющие режим эксплуатации авто/другого средства мобильности, характеристики авто, сложности эксплуатации. уточнял, какие критерии важны при выборе. показал состояние уровень жидкости новом акб. предложил клиенту купить сопутствующий ассортимент, аксессуары. провёл развернутую презентацию продукта (доп. товары). при выдаче гарантийного талона покупателю, сообщил о звонке колл-центра.",
           0
          ],
          [
           "не проверил текущее состояние акб: заряд, уровень жидкости. уточнил, какие критерии важны при выборе, обращать внимание. рассказал о режиме эксплуатации периодичность зарядки, проверке уровня жидкости и.т.д. выдал гарантийный талон. использовал способы стимулирования клиента к совершению покупки. показал новом акб. визитные карточки. сообщил бсо. сказал \"ждем через 3-4 месяца проверку состояния акб\". звонке колл-центра. цветом выделены отклонения выявленные прошлый просмотр, необходимо обратить",
           0
          ],
          [
           "не показывает состояние уровень жидкости акб. не выдал визитки. сообщил, поступит звонок от колл-центра. целом хорошо проконсультировал.",
           -1
          ],
          [
           "не уточнил наличие дисконтной карты. показывает состояние уровень жидкости новом акб. не предлагал рассрочку. выдал клиенту визитки. при выдаче гарантийного талона покупателю, сообщил о звонке колл-центра.",
           -1
          ],
          [
           "не показывает нагрузочной вилкой состояние заряда акб. уровень жидкости новом выдал клиенту визитки. не оказал помощь установке",
           1
          ],
          [
           "не использовал способы стимулирования клиента к совершению покупки. не показывает состояние уровень жидкости новом акб. продемонстрировал покупателю доп. товар аксессуары. предлагал рассрочку. выдал клиенту визитки. при выдаче гарантийного талона покупателю, сообщил о звонке колл-центра.",
           0
          ],
          [
           "не показывает состояние уровень жидкости новом акб. не предлагал рассрочку. при выдаче гарантийного талона покупателю, сообщил о звонке колл-центра. целом очень хорошо проконсультировал.",
           1
          ],
          [
           "не задал вопросов уточняющих режим эксплуатации. не показывает нагрузочной вилкой состояние заряда акб. уровень жидкости новом предлагал рассрочку. выдал клиенту визитки.",
           0
          ],
          [
           "не показывает нагрузочной вилкой состояние заряда акб. не уровень жидкости выдал клиенту визитки. предлагал рассрочку. сообщил о бсо. нужно через 3-4 месяца проверку.",
           -1
          ],
          [
           "текущая оценка от 11.10 >​​​​продавец не задает открытых вопросов уточняющих режим эксплуатации авто. продемонстрировал покупателю доп. товар аксессуары. >не сообщил, поступит звонок колл-центра. >",
           -1
          ],
          [
           "не задает открытых вопросов уточняющих режим эксплуатации. показывает состояние уровень жидкости акб. клиенту выдали визитных карточек листовок. сообщил о звонке колл-центра.",
           -1
          ],
          [
           "не задает открытых вопросов уточняющих режим эксплуатации. не уточнил, какие критерии важны при выборе. показывает состояние уровень жидкости акб. выдал клиенту визитки. сообщает \"ждем через 3-4 месяца проверку состояния акб\". сообщил, поступит звонок от колл-центра.",
           -1
          ],
          [
           "не задал открытых вопросов уточняющих режим эксплуатации авто. уточнил, какие критерии важны при выборе. показывает состояние уровень жидкости новом акб. не продемонстрировал покупателю доп. товар аксессуары. выдал клиенту визитки. при выдаче гарантийного талона покупателю, сообщил о звонке колл-центра.",
           0
          ],
          [
           "​​​​продавец не задает открытых вопросов уточняющих режим эксплуатации авто. продемонстрировал покупателю доп. товар аксессуары. не сообщил, поступит звонок от колл-центра.",
           -1
          ],
          [
           "​​​​​продавец не задал открытых вопросов уточняющих режим эксплуатации. не сообщил, поступит звонок от колл-центра.",
           -1
          ],
          [
           "не задает открытых вопросов уточняющих режим эксплуатации. показывает нагрузочной вилкой состояние заряда акб. не уровень жидкости новом продемонстрировал покупателю доп. товар аксессуары. предлагал рассрочку. выдал клиенту визитки. сообщил о бсо. сообщил, рекомендовано приезжать проверку каждые 3-4 месяца. при выдаче гарантийного талона покупателю, звонке колл-центра.",
           0
          ],
          [
           "без бейджа. не показывает состояние уровень жидкости новом акб. не продемонстрировал покупателю доп. товар аксессуары. предлагал рассрочку. выдал клиенту визитки.",
           -1
          ],
          [
           "не задал открытых вопросов уточняющих режим эксплуатации. не уточнил, какие критерии важны при выборе. показывает состояние уровень жидкости новом акб. продемонстрировал покупателю доп. товар аксессуары. предлагал рассрочку. выдал клиенту визитки.",
           0
          ],
          [
           "не задал вопросов уточняющих режим эксплуатации. не использовал способы стимулирования клиента к совершению покупки. показывает состояние уровень жидкости новом акб. продемонстрировал покупателю доп. товар аксессуары. предлагал рассрочку. выдал клиенту визитки. сообщил о бсо. сообщил, рекомендовано приезжать проверку каждые 3-4 месяца. при выдаче гарантийного талона покупателю, звонке колл-центра.",
           0
          ],
          [
           "не показывает состояние уровень жидкости новом акб. не предлагал рассрочку. выдал клиенту визитки.",
           1
          ],
          [
           "не показывает состояние уровень жидкости новом акб. выдал клиенту визитки. при выдаче гарантийного талона покупателю, сообщил о звонке колл-центра.",
           1
          ],
          [
           "не проверил текущее состояние старого акб. использовал способы стимулирования клиента к совершению покупки. задает открытых вопросов уточняющих режим эксплуатации. не выдал визиток.",
           -1
          ],
          [
           "не показывает состояние уровень жидкости акб. не сообщил \"поступит звонок от колл-центра для оценки качества обслуживания\" хорошо проконсультировал.",
           -1
          ],
          [
           "не задал вопросов уточняющих режим эксплуатации. показывает состояние уровень жидкости акб. целом очень хорошо проконсультировал.",
           -1
          ],
          [
           "находится ртт нарушением формы обуви. не показывает состояние уровень жидкости нового акб так же была произведена презентация аксессуаров. выдал клиенту визитки рекламные буклеты. сообщает важные составляющие гарантийного талона. сообщил, поступит звонок от колл-центра для оценки качества обслуживания.",
           2
          ],
          [
           "не показывает состояние уровень жидкости нового акб было озвучено предложение приобрести доп. товары. так же была произведена презентация аксессуаров. сообщает \"ждем через 3-4 месяца проверку состояния акб\". выдал клиенту визитки рекламные буклеты. важные составляющие гарантийного талона. о том, поступит звонке колл-центра. помог донести до машины. очень уверенно говорит при презентации.",
           0
          ],
          [
           "не проверил новый акб клиента нагрузочной вилкой. показывает состояние уровень жидкости нового выдал клиенту визитки рекламные буклеты. сообщает важные составляющие гарантийного талона.",
           -1
          ],
          [
           "находится ртт нарушением формы одежды обуви. хорошо консультировал, грамотно отработал все возражения.",
           -1
          ],
          [
           "текущая оценка обусловлена тем, другой вмешался ход продажи. находится ртт нарушением формы одежды обуви. не проверил состояние текущего акб. показывает уровень жидкости нового акб выдал клиенту визитки рекламные буклеты. сообщает важные составляющие гарантийного талона.",
           -1
          ],
          [
           "находится ртт нарушением формы одежды обуви. не показывает состояние уровень жидкости нового акб выдал клиенту визитки рекламные буклеты. сообщает важные составляющие гарантийного талона. так же было озвучено о том, поступит звонке колл-центра.",
           -1
          ],
          [
           "не показывает состояние уровень жидкости нового акб выдал клиенту визитки рекламные буклеты. >очень качественно отработал возражения. грамотная консультация презентацией. >",
           -1
          ],
          [
           "ртт беспорядок. разбросаны товары залу. клиент споткнулся об акб. не вышел улицу текущим акб клиента. находится нарушением формы обуви. выдал клиенту визитки рекламные буклеты. сообщает важные составляющие гарантийного талона.",
           -1
          ],
          [
           "не проверил текущий акб клиента нагрузочной вилкой. показывает состояние уровень жидкости клиента. было озвучено предложение приобрести доп. товары. так же была произведена презентация аксессуаров.",
           -1
          ],
          [
           "не показывает состояние уровень жидкости нового акб выдал клиенту визитки рекламные буклеты. очень качественно отработал возражения. грамотная консультация презентацией.",
           -1
          ],
          [
           "находится ртт нарушением формы обуви. не показывает состояние уровень жидкости нового акб было озвучено предложение приобрести доп. товары. так же была произведена презентация аксессуаров. сообщает \"ждем через 3-4 месяца проверку состояния акб\". выдал клиенту визитки рекламные буклеты. важные составляющие гарантийного талона.",
           0
          ],
          [
           "находится ртт нарушением формата обуви.. не проверил новый акб клиента нагрузочной вилкой. показывает состояние уровень жидкости нового было озвучено предложение приобрести доп. товары. так же была произведена презентация аксессуаров. клиенту о возможности бсо. сообщает \"ждем через 3-4 месяца проверку состояния акб\". выдал клиенту визитки рекламные буклеты.",
           0
          ],
          [
           "находится ртт нарушением формы одежды обуви. не рассказывает о режиме эксплуатации акб. проверил текущий акб клиента нагрузочной вилкой. показывает состояние уровень жидкости нового было озвучено предложение приобрести доп. товары. так же была произведена презентация аксессуаров. сообщает \"ждем через 3-4 месяца проверку состояния акб\". выдал клиенту визитки рекламные буклеты. важные составляющие гарантийного талона.",
           0
          ],
          [
           "находится ртт нарушением формы одежды обуви. не показывает состояние уровень жидкости нового акб было озвучено предложение приобрести доп. товары. так же была произведена презентация аксессуаров. выдал клиенту визитки рекламные буклеты. сообщает важные составляющие гарантийного талона.",
           2
          ],
          [
           "находится ртт нарушением формы одежды обуви. без бейджа. не было озвучено предложение приобрести доп. товары. так же была произведена презентация аксессуаров. выдал клиенту визитки рекламные буклеты. сообщает важные составляющие гарантийного талона. о том, поступит звонке колл-центра.",
           -1
          ],
          [
           "не рассказывает о режиме эксплуатации акб. проверил новый акб клиента нагрузочной вилкой. показывает состояние уровень жидкости нового так же была произведена презентация аксессуаров. сообщает \"ждем через 3-4 месяца проверку состояния акб\". выдал клиенту визитки рекламные буклеты. важные составляющие гарантийного талона. было озвучено том, поступит звонке колл-центра.",
           -1
          ],
          [
           "находится ртт нарушением формы одежды обуви. не проверил текущее состояние акб: заряд, уровень жидкости. задавал активно вопросы, а так же уточнял важные критерии. новый акб клиента нагрузочной вилкой. показывает жидкости нового было озвучено предложение приобрести доп. товары. так была произведена презентация аксессуаров. выдал клиенту визитки рекламные буклеты. сообщает составляющие гарантийного талона.",
           -1
          ],
          [
           "находится ртт нарушением формы одежды обуви. не проверил акб клиента нагрузочной вилкой. показывает состояние уровень жидкости нового клиенту озвучено о возможности бсо. сообщает \"ждем через 3-4 месяца проверку состояния акб\". выдал клиенту визитки рекламные буклеты. важные составляющие гарантийного талона. очень неуверенное завершение продажи, конкретно были сложности при работе компьютером.",
           0
          ],
          [
           "не показывает состояние уровень жидкости нового акб не была произведена презентация аксессуаров. выдал клиенту визитки рекламные буклеты. сообщает важные составляющие гарантийного талона.",
           2
          ],
          [
           "находится ртт нарушением формата обуви. так же не была произведена презентация аксессуаров. выдал клиенту визитки рекламные буклеты. сообщает важные составляющие гарантийного талона.",
           -1
          ],
          [
           "не уточнил наличие дисконтной карты. проверил акб клиента нагрузочной вилкой. так же была произведена презентация аксессуаров. выдал клиенту визитки рекламные буклеты. сообщает важные составляющие гарантийного талона.",
           -1
          ],
          [
           "находится ртт без бейджа. не уточнил наличие дисконтной карты было озвучено предложение приобрести доп. товары. так же была произведена презентация аксессуаров. выдал клиенту визитки рекламные буклеты.",
           -1
          ],
          [
           "находится ртт нарушением формы одежды обуви. не было озвучено предложение приобрести доп. товары. так же была произведена презентация аксессуаров. выдал клиенту визитки рекламные буклеты. сообщает важные составляющие гарантийного талона.",
           2
          ],
          [
           "находится ртт нарушением формы одежды обуви. не рассказывает о режиме эксплуатации акб. проверил новый акб клиента нагрузочной вилкой. показывает состояние уровень жидкости нового было озвучено предложение приобрести доп. товары. так же была произведена презентация аксессуаров. клиенту возможности бсо. сообщает \"ждем через 3-4 месяца проверку состояния акб\". выдал клиенту визитки рекламные буклеты. важные составляющие гарантийного талона. том, поступит звонке колл-центра.",
           0
          ],
          [
           "не выдал клиенту визитки рекламные буклеты. полные полки акб. хорошая уверенная консультация. грамотно отработал все возражения. очень обходителен клиентом.",
           -1
          ],
          [
           "не выдал клиенту визитки рекламные буклеты. магазине все чисто. полные полки акб. очень грамотная консультация. полностью отработаны возражения.",
           -1
          ],
          [
           "не была произведена презентация аксессуаров. не выдал клиенту визитки рекламные буклеты. сообщает важные составляющие гарантийного талона. магазине все чисто. полные полки акб.",
           -1
          ],
          [
           "не показывает состояние уровень жидкости нового акб. было озвучено предложение приобрести доп. товары. так же была произведена презентация аксессуаров. выдал клиенту визитки рекламные буклеты. сообщает важные составляющие гарантийного талона. магазине все чисто. полные полки",
           2
          ],
          [
           "ртт не уставном формате обуви. проверил состояние уровень жидкости акб клиента. так же была произведена презентация аксессуаров. выдал клиенту визитки рекламные буклеты. магазине все чисто. полные полки акб.",
           -1
          ],
          [
           "ртт замечен беспорядок пред кассовой зоне. не выдал клиенту визитки рекламные буклеты. сообщает важные составляющие гарантийного талона. полные полки акб. хорошая уверенная консультация.",
           -1
          ],
          [
           "не выдал клиенту визитки рекламные буклеты. сообщил \"ждем через 3-4 месяца проверку состояния акб\" сообщает важные составляющие гарантийного талона. магазине все чисто. полные полки акб.",
           -1
          ],
          [
           "не показывает состояние уровень жидкости нового акб было озвучено предложение приобрести доп. товары. так же была произведена презентация аксессуаров. выдал клиенту визитки рекламные буклеты. сообщает важные составляющие гарантийного талона. о том, поступит звонок колл-центра. магазине все чисто. полные полки акб.",
           2
          ],
          [
           "обслуживает клиентов не фирменной одежде обуви. показывает состояние уровень жидкости нового акб было озвучено предложение приобрести доп. товары. так же была произведена презентация аксессуаров. выдал клиенту визитки рекламные буклеты. сообщает важные составляющие гарантийного талона. магазине все чисто. полные полки акб.",
           2
          ],
          [
           "не проверил состояние текущего акб клиента. так же было проверки нагрузочной вилке нового показывает уровень жидкости акб. озвучено предложение приобрести доп. товары. была произведена презентация аксессуаров. выдал клиенту визитки рекламные буклеты. сообщает важные составляющие гарантийного талона. не о звонке колл-центра. возможность пользоваться бсо от нашей компании. магазине все чисто. полные полки",
           2
          ],
          [
           "не было озвучено предложение приобрести доп. товары. так же была произведена презентация аксессуаров. выдал клиенту визитки рекламные буклеты. сообщает важные составляющие гарантийного талона. не о звонке колл-центра. магазине все чисто. полные полки акб. грамотно отработал возражения.",
           -1
          ],
          [
           ">на ртт беспорядок пред кассовой зоне. не выдал клиенту визитки рекламные буклеты. предложил купить сопутствующий ассортимент, аксессуары. >не был продемонстрирован доп. товар. > полные полки акб.",
           -1
          ],
          [
           "ртт беспорядок пред кассовой зоне. не выдал клиенту визитки рекламные буклеты. предложил купить сопутствующий ассортимент, аксессуары. не был продемонстрирован доп. товар. полные полки акб.",
           -1
          ],
          [
           "не уставной форме обуви. выдал клиенту визитки рекламные буклеты. >при выдаче гарантийного талона уточнил покупателю важные опции гарантии. сообщает \"ждем через 3-4 месяца проверку состояния акб\" показывает состояние уровень жидкости новом акб. покупателю, сообщил о звонке колл-центра. >в магазине все чисто. полные полки >",
           -1
          ],
          [
           "не уставной форме обуви. выдал клиенту визитки рекламные буклеты. предложил купить сопутствующий ассортимент, аксессуары. не был продемонстрирован доп. товар. магазине все чисто. полные полки акб.",
           -1
          ],
          [
           "не уставной форме обуви. выдал клиенту визитки рекламные буклеты. при выдаче гарантийного талона уточнил покупателю важные опции гарантии. сообщает \"ждем через 3-4 месяца проверку состояния акб\" показывает состояние уровень жидкости новом акб. покупателю, сообщил о звонке колл-центра. магазине все чисто. полные полки",
           -1
          ],
          [
           "не показал состояние уровень жидкости новом акб. было озвучено предложение приобрести доп. товары. так же была произведена презентация аксессуаров. выдал клиенту визитки рекламные буклеты. сообщает клиенту, мы ждем его через 3-4 месяца проверку состояния при выдаче гарантийного талона, указал важные составляющие. магазине все чисто. полные полки грамотно отработал возражения.",
           0
          ],
          [
           "работает не уставной форме одежды. использовал способы стимулирования клиента к совершению покупки, используя фразы «берем?». рассказывает/напоминает о режиме эксплуатации акб: периодичность зарядки, проверке уровня жидкости. не было озвучено том, компания оказывает бсо. магазине все чисто. полные полки акб.",
           -1
          ],
          [
           "обслуживает клиента не рабочей форме. показал состояние уровень жидкости новом акб. было озвучено предложение приобрести доп. товары. так же была произведена презентация аксессуаров. выдал клиенту визитки рекламные буклеты. сообщает клиенту, мы ждем его через 3-4 месяца проверку состояния не о звонке колл-центра. магазине все чисто. полные полки грамотно отработал возражения.",
           0
          ],
          [
           "обслуживает клиента не рабочей форме. показал состояние уровень жидкости новом акб. было озвучено предложение приобрести доп. товары. так же была произведена презентация аксессуаров. выдал клиенту визитки рекламные буклеты. сообщает клиенту, мы ждем его через 3-4 месяца проверку состояния не о звонке колл-центра. магазине все чисто. полные полки грамотно отработал возражения.",
           0
          ],
          [
           "обслуживает клиента не рабочей форме. показал состояние уровень жидкости новом акб. было озвучено предложение приобрести доп. товары. так же была произведена презентация аксессуаров. выдал клиенту визитки рекламные буклеты. сообщает клиенту, мы ждем его через 3-4 месяца проверку состояния не о звонке колл-центра. магазине все чисто. полные полки грамотно отработал возражения.",
           0
          ],
          [
           "не выдал клиенту визитки рекламные буклеты. >в магазине все чисто. полные полки акб. >консультацию провел хорошо. грамотно отработал возражения. >",
           -1
          ],
          [
           "закрыл ртт 19:08. не показал состояние уровень жидкости новом акб. было озвучено предложение приобрести доп. товары. так же была произведена презентация аксессуаров. выдал клиенту визитки рекламные буклеты. магазине все чисто. полные полки консультацию провел хорошо. грамотно отработал возражения.",
           -1
          ],
          [
           "не выдал клиенту визитки рекламные буклеты. магазине все чисто. полные полки акб. консультацию провел хорошо. грамотно отработал возражения.",
           -1
          ],
          [
           "не уставной форме одежды без беджа. выдал клиенту визитки рекламные буклеты. при выдаче гарантийного талона уточнил покупателю важные опции гарантии. продемонстрировал доп. товар аксессуары. показывает состояние уровень жидкости новом акб. покупателю, сообщил о звонке колл-центра. магазине все чисто. полные полки",
           -1
          ],
          [
           "не выдал клиенту визитки рекламные буклеты. проверил текущее состояние акб посетителя: заряд, уровень жидкости. показывает жидкости новом акб. при выдаче гарантийного талона покупателю, сообщил о звонке колл-центра. целом очень достойная консультация. внимательно слушал, благодаря чему продажа завершилась успешно. магазине все чисто. полные полки",
           -1
          ],
          [
           "не выдал клиенту визитки рекламные буклеты. при выдаче гарантийного талона покупателю, озвучил важные моменты гарантийными случаями. целом очень достойная консультация. внимательно слушал, благодаря чему продажа завершилась успешно. магазине все чисто. полные полки акб.",
           -1
          ],
          [
           "не выдал клиенту визитки рекламные буклеты. не было озвучено о том, будет произведен звонок колл-центра. целом очень достойная консультация. внимательно слушал, благодаря чему продажа завершилась успешно. клиент ушел довольный покупкой, обещал вернуться ближайшее время.",
           -1
          ],
          [
           "не выдал клиенту визитки рекламные буклеты. >не было озвучено о том, будет произведен звонок колл-центра. >в целом очень достойная консультация. внимательно слушал, благодаря чему продажа завершилась успешно. >клиент ушел довольный покупкой, обещал вернуться ближайшее время. >",
           -1
          ],
          [
           "не выдал клиенту визитки рекламные буклеты. не было озвучено о том, будет произведен звонок колл-центра. целом очень достойная консультация. внимательно слушал, благодаря чему продажа завершилась успешно. клиент ушел довольный покупкой, обещал вернуться ближайшее время.",
           -1
          ],
          [
           "ртт наблюдается беспорядок пред кассовой зоне, прикассовый стол. очень плохо отработан сервис. клиенту не было выдано визитных карт, рекламных брошюр. выдал клиенту гарантийный талон, соответственно озвучено ключевых моментов мануале гарантийного талона. предупредил покупателя о звонке колл-центра для оценки качества обслуживания. не сообщил бсо. том, профилактики использования акб желательно приезжать бсо раз 3-4 месяца. предложение приобрести доп. товар. производилась презентация аксессуаров. проверил состояние нового акб, уровень жидкости.",
           -1
          ],
          [
           "ртт есть пустоты ветринах. клиенту не выдали визитных карточек листовок. проверил состояние нового акб, уровень жидкости. предупредил покупателя о звонке колл-центра для оценки качества обслуживания. было озвучено предложение приобрести доп. товар. не производилась презентация аксессуаров.",
           -1
          ],
          [
           "клиент не был проинформирован про бсо. обсуживает клиента без беджа. было озвучено клиенту, о необходимости периодического обслуживания акб раз 3-4 месяца. клиенту выдали визитных карточек листовок. проверил состояние нового акб, уровень жидкости. выдавая гарантийный талон, рассказал важных моментах гарантийных случаев. предложение приобрести доп. товар. не производилась презентация аксессуаров.",
           -1
          ],
          [
           "момент завершения сделки не показал состояние уровень жидкости акб. покупателю озвучены предложения купить сопутствующий товар. не производилась презентация доп. товарам. клинту выдали визитных карточек листовок.",
           -1
          ],
          [
           "находиться ртт неуставном формате обуви. момент завершения сделки не показал состояние уровень жидкости акб. проверил акб помощью нагрузочной вилки. клинту выдали визитных карточек листовок. очень затяжная консультация. не отдал клиенту гарантийный талон. клиент забыл сдачу(16:42)",
           -1
          ],
          [
           "находиться ртт не уставной форме одежды обуви. момент завершения сделки показал состояние уровень жидкости акб. клиент был проинформирован о поступлении звонка от оператора колл-центра. клинту выдали визитных карточек листовок клиенту провели развернутую презентацию доп. товаров",
           -1
          ],
          [
           "не проверил текущее состояние акб. момент завершения сделки показал уровень жидкости так же акб нагрузочной вилкой. клиенту были предложены продемонстрированы доп. товары. клинту выдали визитных карточек листовок.",
           -1
          ],
          [
           "не использовал способы стимуляции клиента для покупки.не показывал демонстрацию акб",
           -1
          ],
          [
           "не проверил состояние текущего акб. так же продемонстрировал уровень жидкости новом были озвучены предложения приобрести доп. товары. продемонстрированы клиенту. выдал клиенту визитных карт листовок..",
           -1
          ],
          [
           "не уставной форме обуви. проверил состояние ткущего акб. клиенту было предложено доп. товары. так же демонстрации аксессуаров. клинту выдали визитных карточек листовок.",
           -1
          ]
         ],
         "hovertemplate": "Очищенный текст=%{customdata[0]}<br>Cluster=%{marker.color}<extra></extra>",
         "legendgroup": "",
         "marker": {
          "color": [
           -1,
           0,
           -1,
           0,
           0,
           0,
           -1,
           0,
           0,
           -1,
           -1,
           -1,
           0,
           -1,
           -1,
           0,
           0,
           0,
           0,
           0,
           0,
           0,
           0,
           0,
           -1,
           0,
           0,
           -1,
           0,
           0,
           1,
           0,
           0,
           -1,
           -1,
           0,
           0,
           0,
           1,
           0,
           0,
           0,
           0,
           0,
           0,
           0,
           0,
           -1,
           0,
           0,
           0,
           0,
           0,
           0,
           0,
           0,
           0,
           0,
           0,
           0,
           -1,
           -1,
           -1,
           0,
           0,
           0,
           -1,
           0,
           -1,
           -1,
           0,
           0,
           0,
           -1,
           0,
           0,
           0,
           0,
           0,
           -1,
           0,
           -1,
           0,
           0,
           0,
           0,
           -1,
           0,
           0,
           0,
           -1,
           0,
           0,
           -1,
           0,
           1,
           0,
           -1,
           0,
           0,
           0,
           -1,
           0,
           -1,
           0,
           0,
           0,
           0,
           0,
           -1,
           -1,
           0,
           -1,
           -1,
           -1,
           -1,
           0,
           0,
           0,
           -1,
           -1,
           0,
           -1,
           -1,
           0,
           0,
           0,
           1,
           -1,
           -1,
           0,
           0,
           0,
           0,
           -1,
           -1,
           0,
           0,
           0,
           -1,
           0,
           0,
           -1,
           0,
           1,
           0,
           1,
           0,
           0,
           0,
           -1,
           0,
           0,
           0,
           0,
           1,
           0,
           0,
           -1,
           0,
           0,
           -1,
           0,
           1,
           0,
           0,
           0,
           0,
           1,
           0,
           -1,
           0,
           1,
           -1,
           0,
           -1,
           -1,
           0,
           -1,
           0,
           -1,
           0,
           0,
           -1,
           -1,
           1,
           0,
           1,
           0,
           -1,
           -1,
           -1,
           -1,
           0,
           -1,
           -1,
           0,
           -1,
           0,
           0,
           1,
           1,
           -1,
           -1,
           -1,
           2,
           0,
           -1,
           -1,
           -1,
           -1,
           -1,
           -1,
           -1,
           -1,
           0,
           0,
           0,
           2,
           -1,
           -1,
           -1,
           0,
           2,
           -1,
           -1,
           -1,
           2,
           0,
           -1,
           -1,
           -1,
           2,
           -1,
           -1,
           -1,
           2,
           2,
           2,
           -1,
           -1,
           -1,
           -1,
           -1,
           -1,
           0,
           -1,
           0,
           0,
           0,
           -1,
           -1,
           -1,
           -1,
           -1,
           -1,
           -1,
           -1,
           -1,
           -1,
           -1,
           -1,
           -1,
           -1,
           -1,
           -1,
           -1,
           -1,
           -1
          ],
          "coloraxis": "coloraxis",
          "symbol": "circle"
         },
         "mode": "markers",
         "name": "",
         "orientation": "v",
         "showlegend": false,
         "type": "scatter",
         "x": [
          2.5669262409210205,
          -0.8010470271110535,
          -1.034082293510437,
          2.1941611766815186,
          -0.6640990376472473,
          -0.5463478565216064,
          11.541410446166992,
          6.375324726104736,
          7.692751884460449,
          11.126242637634277,
          11.202388763427734,
          -1.1600760221481323,
          6.193362236022949,
          8.045507431030273,
          7.144767761230469,
          8.157941818237305,
          2.2207651138305664,
          -0.6722115874290466,
          4.232046604156494,
          4.548056602478027,
          4.3070878982543945,
          4.207935810089111,
          6.831817150115967,
          8.996110916137695,
          7.239456653594971,
          2.821119785308838,
          9.585443496704102,
          5.2413649559021,
          4.418424129486084,
          5.243422508239746,
          11.313980102539062,
          5.475026607513428,
          7.216057300567627,
          8.681553840637207,
          7.66396951675415,
          7.596964359283447,
          2.1381802558898926,
          2.374311685562134,
          11.379746437072754,
          -3.8569064140319824,
          2.7345428466796875,
          -0.9172316789627075,
          13.501583099365234,
          6.083547592163086,
          -1.0121713876724243,
          -1.5256308317184448,
          8.206757545471191,
          11.577157020568848,
          -1.5645467042922974,
          -1.340036392211914,
          2.348419189453125,
          6.291415691375732,
          2.5093870162963867,
          2.097156524658203,
          8.007607460021973,
          8.005355834960938,
          2.165872097015381,
          2.2444281578063965,
          8.010343551635742,
          -3.628284215927124,
          8.248100280761719,
          7.1383585929870605,
          11.852726936340332,
          6.398078441619873,
          8.171361923217773,
          -1.0891332626342773,
          2.0983264446258545,
          -3.5130856037139893,
          6.95342493057251,
          11.753604888916016,
          7.952295303344727,
          8.027405738830566,
          -0.5693443417549133,
          4.77532434463501,
          8.21560001373291,
          7.98689079284668,
          -0.5364021062850952,
          7.4312424659729,
          -0.528748631477356,
          7.404240131378174,
          -3.9801368713378906,
          12.813446044921875,
          -3.9624762535095215,
          -0.7040755748748779,
          -3.707947015762329,
          -3.7781732082366943,
          11.336118698120117,
          7.779021739959717,
          8.401246070861816,
          8.243514060974121,
          7.494431972503662,
          -3.782134771347046,
          6.264345645904541,
          9.108845710754395,
          -1.587527871131897,
          11.354314804077148,
          -0.9220484495162964,
          11.687298774719238,
          -1.437383770942688,
          -3.7986810207366943,
          8.060794830322266,
          5.50988245010376,
          5.697793483734131,
          13.53786563873291,
          13.63364315032959,
          13.655965805053711,
          -1.2030688524246216,
          -0.9252464771270752,
          -1.4405691623687744,
          8.677319526672363,
          10.336145401000977,
          4.511163234710693,
          4.616900444030762,
          5.209315299987793,
          7.035613059997559,
          5.242522716522217,
          5.642435073852539,
          5.452337265014648,
          8.94686222076416,
          5.155094623565674,
          8.725913047790527,
          9.095524787902832,
          8.845258712768555,
          8.732895851135254,
          7.458715915679932,
          8.62320327758789,
          9.715266227722168,
          11.236562728881836,
          10.986727714538574,
          8.795432090759277,
          7.320859432220459,
          4.285482406616211,
          9.460339546203613,
          4.1479339599609375,
          4.682383060455322,
          7.404133319854736,
          4.597919464111328,
          7.258067607879639,
          4.0019211769104,
          5.222853183746338,
          -1.4666011333465576,
          13.608651161193848,
          2.8728690147399902,
          2.9828052520751953,
          11.657362937927246,
          2.51322078704834,
          11.667207717895508,
          5.777614116668701,
          -0.8822472095489502,
          4.533517360687256,
          11.365761756896973,
          10.053544044494629,
          13.483935356140137,
          13.611502647399902,
          4.421061038970947,
          11.380476951599121,
          -0.7046140432357788,
          9.877119064331055,
          5.946162700653076,
          4.504117012023926,
          8.126450538635254,
          3.4068031311035156,
          3.331799268722534,
          11.433631896972656,
          5.605393409729004,
          2.367490768432617,
          9.83680534362793,
          2.933701753616333,
          11.404035568237305,
          4.232417583465576,
          7.768795967102051,
          3.39101505279541,
          11.395792007446289,
          11.158145904541016,
          4.418153762817383,
          2.1423838138580322,
          11.243602752685547,
          7.47430419921875,
          11.304287910461426,
          7.38157320022583,
          7.576510906219482,
          -0.5794222950935364,
          5.3051581382751465,
          11.813226699829102,
          10.942032814025879,
          11.811652183532715,
          5.990655422210693,
          11.543343544006348,
          3.0580925941467285,
          12.400540351867676,
          3.4415628910064697,
          3.21055269241333,
          3.995393991470337,
          4.4240803718566895,
          3.4537932872772217,
          3.5128061771392822,
          3.127012014389038,
          11.245492935180664,
          4.426953315734863,
          4.520782470703125,
          11.281639099121094,
          11.69551944732666,
          7.279767990112305,
          11.818153381347656,
          2.952988386154175,
          12.253024101257324,
          15.698616981506348,
          12.260643005371094,
          11.535386085510254,
          12.202789306640625,
          11.940658569335938,
          11.597214698791504,
          11.599370956420898,
          11.750383377075195,
          11.586845397949219,
          15.454748153686523,
          15.450319290161133,
          15.37880802154541,
          12.19517707824707,
          11.681785583496094,
          15.463171005249023,
          5.3724870681762695,
          15.316121101379395,
          12.468777656555176,
          11.700268745422363,
          11.541984558105469,
          11.521010398864746,
          11.805682182312012,
          15.467679977416992,
          9.59456729888916,
          9.66723346710205,
          11.470394134521484,
          12.567646026611328,
          11.990962028503418,
          11.409907341003418,
          15.13070011138916,
          12.54448127746582,
          12.473115921020508,
          11.903969764709473,
          11.587173461914062,
          11.497783660888672,
          11.42321491241455,
          15.1234712600708,
          11.608355522155762,
          15.090185165405273,
          16.021316528320312,
          7.921355724334717,
          16.084869384765625,
          16.071435928344727,
          16.05889320373535,
          9.606231689453125,
          12.555548667907715,
          9.557934761047363,
          14.985627174377441,
          12.217318534851074,
          9.554102897644043,
          9.131377220153809,
          9.127921104431152,
          9.119064331054688,
          11.408111572265625,
          12.616211891174316,
          13.676997184753418,
          11.516437530517578,
          11.783202171325684,
          11.73537540435791,
          11.594569206237793,
          8.211357116699219,
          11.763257026672363,
          11.72552490234375
         ],
         "xaxis": "x",
         "y": [
          -1.4843372106552124,
          9.138030052185059,
          9.243151664733887,
          -1.324522614479065,
          8.447977066040039,
          8.108687400817871,
          4.7615838050842285,
          -0.38094642758369446,
          -1.2196778059005737,
          5.494690418243408,
          5.465768814086914,
          9.20694637298584,
          -0.05179436877369881,
          -2.0037550926208496,
          -0.21850652992725372,
          -1.7208880186080933,
          -1.3718551397323608,
          8.491592407226562,
          5.420907497406006,
          5.602989196777344,
          5.372769355773926,
          5.440678596496582,
          -0.15635208785533905,
          5.281965255737305,
          5.641467571258545,
          2.9146032333374023,
          5.166116237640381,
          5.140052795410156,
          5.66440486907959,
          5.0740556716918945,
          3.470816135406494,
          5.021817207336426,
          5.661307334899902,
          5.74629020690918,
          0.5311921238899231,
          -0.43950241804122925,
          -1.3490440845489502,
          -1.1760026216506958,
          3.8564257621765137,
          6.739736557006836,
          -1.617748737335205,
          8.615572929382324,
          4.659183502197266,
          -0.1441897451877594,
          8.579108238220215,
          8.568157196044922,
          -1.2782888412475586,
          4.452385425567627,
          8.553210258483887,
          8.943963050842285,
          -1.6858737468719482,
          -0.30621474981307983,
          -1.7380750179290771,
          -1.4200373888015747,
          -1.8610562086105347,
          -1.6901483535766602,
          -1.3469834327697754,
          -1.301782250404358,
          -1.9358402490615845,
          6.955320835113525,
          -2.163649320602417,
          0.41022950410842896,
          5.0549821853637695,
          -0.38546356558799744,
          -1.1747218370437622,
          8.62414836883545,
          -1.3646560907363892,
          7.046075820922852,
          0.5438076257705688,
          4.907540321350098,
          -1.8961560726165771,
          -1.3779242038726807,
          8.057551383972168,
          3.8364198207855225,
          -1.8063000440597534,
          -1.7629621028900146,
          8.067536354064941,
          -0.02788568288087845,
          8.217345237731934,
          0.25015607476234436,
          6.627747058868408,
          4.658194541931152,
          6.643558979034424,
          8.597599983215332,
          6.875638961791992,
          6.810410022735596,
          9.069843292236328,
          -1.7533677816390991,
          -1.2498081922531128,
          -1.1539195775985718,
          0.24931806325912476,
          6.806568622589111,
          -0.26579901576042175,
          11.840665817260742,
          8.788924217224121,
          3.4844553470611572,
          8.723689079284668,
          7.575720310211182,
          8.901214599609375,
          6.794875144958496,
          -1.1705834865570068,
          -0.4626791477203369,
          -0.35205748677253723,
          4.599817276000977,
          4.623192310333252,
          4.709017753601074,
          9.110520362854004,
          8.963584899902344,
          8.50601577758789,
          5.674025058746338,
          4.379520416259766,
          5.631521701812744,
          3.4174394607543945,
          5.139236927032471,
          -0.18772011995315552,
          4.341245651245117,
          5.138120174407959,
          4.951394557952881,
          5.167625904083252,
          4.2247314453125,
          5.714789390563965,
          5.149200439453125,
          5.255141258239746,
          5.6696038246154785,
          5.355271816253662,
          5.042898654937744,
          5.2518792152404785,
          3.590574026107788,
          3.99206805229187,
          5.4070658683776855,
          5.5185651779174805,
          5.543861389160156,
          5.059537410736084,
          5.448733806610107,
          3.074517250061035,
          -0.8736258149147034,
          4.2461700439453125,
          5.604894638061523,
          5.440907001495361,
          4.354928970336914,
          8.498794555664062,
          4.626158714294434,
          3.2291200160980225,
          3.1595957279205322,
          4.892101287841797,
          -1.7739450931549072,
          4.412703037261963,
          -0.27261877059936523,
          8.752846717834473,
          3.7445497512817383,
          4.293910503387451,
          5.331711769104004,
          4.691742420196533,
          4.6028828620910645,
          3.112682580947876,
          3.9563381671905518,
          8.816767692565918,
          5.319036960601807,
          -0.21602573990821838,
          3.181063413619995,
          -1.2232075929641724,
          3.315129041671753,
          3.228233575820923,
          3.4579920768737793,
          -0.42919057607650757,
          -1.2657195329666138,
          5.26739501953125,
          2.996628999710083,
          4.115603446960449,
          3.8600447177886963,
          -1.657849907875061,
          3.0743026733398438,
          3.992818832397461,
          5.314574241638184,
          3.632157802581787,
          -1.458064079284668,
          3.507751941680908,
          5.343251705169678,
          9.81104850769043,
          5.397855758666992,
          -1.1277670860290527,
          8.943304061889648,
          5.191627025604248,
          5.067888259887695,
          5.329146862030029,
          4.332355499267578,
          -0.07086236774921417,
          4.73836612701416,
          3.1165812015533447,
          4.629047870635986,
          3.5557374954223633,
          3.212977170944214,
          3.656085252761841,
          4.142416477203369,
          3.5917675495147705,
          3.6553099155426025,
          2.9615373611450195,
          4.2436203956604,
          4.033209323883057,
          3.1637425422668457,
          3.9403743743896484,
          4.445648670196533,
          -0.32161030173301697,
          5.048475742340088,
          3.161752223968506,
          8.692766189575195,
          12.513456344604492,
          7.62594747543335,
          9.03652286529541,
          8.742438316345215,
          8.619601249694824,
          3.867790937423706,
          9.435627937316895,
          7.713037967681885,
          3.8846802711486816,
          12.3569917678833,
          12.26280403137207,
          12.226662635803223,
          8.780945777893066,
          9.024748802185059,
          12.483970642089844,
          5.05580997467041,
          12.401801109313965,
          8.153146743774414,
          8.921608924865723,
          8.4678316116333,
          9.180485725402832,
          8.99989128112793,
          12.16378116607666,
          11.317593574523926,
          11.244402885437012,
          8.551526069641113,
          8.449204444885254,
          8.516999244689941,
          9.693693161010742,
          12.644645690917969,
          8.371356964111328,
          8.617289543151855,
          7.722488880157471,
          8.801017761230469,
          9.491689682006836,
          9.47550106048584,
          12.655040740966797,
          9.301237106323242,
          12.686859130859375,
          12.69676399230957,
          -1.3884049654006958,
          12.74679946899414,
          12.738374710083008,
          12.724872589111328,
          11.309072494506836,
          8.391487121582031,
          11.355186462402344,
          12.80472469329834,
          7.531235694885254,
          11.359758377075195,
          11.819994926452637,
          11.824134826660156,
          11.832436561584473,
          9.695860862731934,
          8.310492515563965,
          4.625775337219238,
          7.95131254196167,
          8.23943042755127,
          8.136871337890625,
          7.97136926651001,
          -2.092103958129883,
          7.688395023345947,
          8.863724708557129
         ],
         "yaxis": "y"
        }
       ],
       "layout": {
        "coloraxis": {
         "colorbar": {
          "title": {
           "text": "Cluster"
          }
         },
         "colorscale": [
          [
           0,
           "#0d0887"
          ],
          [
           0.1111111111111111,
           "#46039f"
          ],
          [
           0.2222222222222222,
           "#7201a8"
          ],
          [
           0.3333333333333333,
           "#9c179e"
          ],
          [
           0.4444444444444444,
           "#bd3786"
          ],
          [
           0.5555555555555556,
           "#d8576b"
          ],
          [
           0.6666666666666666,
           "#ed7953"
          ],
          [
           0.7777777777777778,
           "#fb9f3a"
          ],
          [
           0.8888888888888888,
           "#fdca26"
          ],
          [
           1,
           "#f0f921"
          ]
         ]
        },
        "legend": {
         "tracegroupgap": 0
        },
        "margin": {
         "t": 60
        },
        "template": {
         "data": {
          "bar": [
           {
            "error_x": {
             "color": "#2a3f5f"
            },
            "error_y": {
             "color": "#2a3f5f"
            },
            "marker": {
             "line": {
              "color": "#E5ECF6",
              "width": 0.5
             },
             "pattern": {
              "fillmode": "overlay",
              "size": 10,
              "solidity": 0.2
             }
            },
            "type": "bar"
           }
          ],
          "barpolar": [
           {
            "marker": {
             "line": {
              "color": "#E5ECF6",
              "width": 0.5
             },
             "pattern": {
              "fillmode": "overlay",
              "size": 10,
              "solidity": 0.2
             }
            },
            "type": "barpolar"
           }
          ],
          "carpet": [
           {
            "aaxis": {
             "endlinecolor": "#2a3f5f",
             "gridcolor": "white",
             "linecolor": "white",
             "minorgridcolor": "white",
             "startlinecolor": "#2a3f5f"
            },
            "baxis": {
             "endlinecolor": "#2a3f5f",
             "gridcolor": "white",
             "linecolor": "white",
             "minorgridcolor": "white",
             "startlinecolor": "#2a3f5f"
            },
            "type": "carpet"
           }
          ],
          "choropleth": [
           {
            "colorbar": {
             "outlinewidth": 0,
             "ticks": ""
            },
            "type": "choropleth"
           }
          ],
          "contour": [
           {
            "colorbar": {
             "outlinewidth": 0,
             "ticks": ""
            },
            "colorscale": [
             [
              0,
              "#0d0887"
             ],
             [
              0.1111111111111111,
              "#46039f"
             ],
             [
              0.2222222222222222,
              "#7201a8"
             ],
             [
              0.3333333333333333,
              "#9c179e"
             ],
             [
              0.4444444444444444,
              "#bd3786"
             ],
             [
              0.5555555555555556,
              "#d8576b"
             ],
             [
              0.6666666666666666,
              "#ed7953"
             ],
             [
              0.7777777777777778,
              "#fb9f3a"
             ],
             [
              0.8888888888888888,
              "#fdca26"
             ],
             [
              1,
              "#f0f921"
             ]
            ],
            "type": "contour"
           }
          ],
          "contourcarpet": [
           {
            "colorbar": {
             "outlinewidth": 0,
             "ticks": ""
            },
            "type": "contourcarpet"
           }
          ],
          "heatmap": [
           {
            "colorbar": {
             "outlinewidth": 0,
             "ticks": ""
            },
            "colorscale": [
             [
              0,
              "#0d0887"
             ],
             [
              0.1111111111111111,
              "#46039f"
             ],
             [
              0.2222222222222222,
              "#7201a8"
             ],
             [
              0.3333333333333333,
              "#9c179e"
             ],
             [
              0.4444444444444444,
              "#bd3786"
             ],
             [
              0.5555555555555556,
              "#d8576b"
             ],
             [
              0.6666666666666666,
              "#ed7953"
             ],
             [
              0.7777777777777778,
              "#fb9f3a"
             ],
             [
              0.8888888888888888,
              "#fdca26"
             ],
             [
              1,
              "#f0f921"
             ]
            ],
            "type": "heatmap"
           }
          ],
          "heatmapgl": [
           {
            "colorbar": {
             "outlinewidth": 0,
             "ticks": ""
            },
            "colorscale": [
             [
              0,
              "#0d0887"
             ],
             [
              0.1111111111111111,
              "#46039f"
             ],
             [
              0.2222222222222222,
              "#7201a8"
             ],
             [
              0.3333333333333333,
              "#9c179e"
             ],
             [
              0.4444444444444444,
              "#bd3786"
             ],
             [
              0.5555555555555556,
              "#d8576b"
             ],
             [
              0.6666666666666666,
              "#ed7953"
             ],
             [
              0.7777777777777778,
              "#fb9f3a"
             ],
             [
              0.8888888888888888,
              "#fdca26"
             ],
             [
              1,
              "#f0f921"
             ]
            ],
            "type": "heatmapgl"
           }
          ],
          "histogram": [
           {
            "marker": {
             "pattern": {
              "fillmode": "overlay",
              "size": 10,
              "solidity": 0.2
             }
            },
            "type": "histogram"
           }
          ],
          "histogram2d": [
           {
            "colorbar": {
             "outlinewidth": 0,
             "ticks": ""
            },
            "colorscale": [
             [
              0,
              "#0d0887"
             ],
             [
              0.1111111111111111,
              "#46039f"
             ],
             [
              0.2222222222222222,
              "#7201a8"
             ],
             [
              0.3333333333333333,
              "#9c179e"
             ],
             [
              0.4444444444444444,
              "#bd3786"
             ],
             [
              0.5555555555555556,
              "#d8576b"
             ],
             [
              0.6666666666666666,
              "#ed7953"
             ],
             [
              0.7777777777777778,
              "#fb9f3a"
             ],
             [
              0.8888888888888888,
              "#fdca26"
             ],
             [
              1,
              "#f0f921"
             ]
            ],
            "type": "histogram2d"
           }
          ],
          "histogram2dcontour": [
           {
            "colorbar": {
             "outlinewidth": 0,
             "ticks": ""
            },
            "colorscale": [
             [
              0,
              "#0d0887"
             ],
             [
              0.1111111111111111,
              "#46039f"
             ],
             [
              0.2222222222222222,
              "#7201a8"
             ],
             [
              0.3333333333333333,
              "#9c179e"
             ],
             [
              0.4444444444444444,
              "#bd3786"
             ],
             [
              0.5555555555555556,
              "#d8576b"
             ],
             [
              0.6666666666666666,
              "#ed7953"
             ],
             [
              0.7777777777777778,
              "#fb9f3a"
             ],
             [
              0.8888888888888888,
              "#fdca26"
             ],
             [
              1,
              "#f0f921"
             ]
            ],
            "type": "histogram2dcontour"
           }
          ],
          "mesh3d": [
           {
            "colorbar": {
             "outlinewidth": 0,
             "ticks": ""
            },
            "type": "mesh3d"
           }
          ],
          "parcoords": [
           {
            "line": {
             "colorbar": {
              "outlinewidth": 0,
              "ticks": ""
             }
            },
            "type": "parcoords"
           }
          ],
          "pie": [
           {
            "automargin": true,
            "type": "pie"
           }
          ],
          "scatter": [
           {
            "fillpattern": {
             "fillmode": "overlay",
             "size": 10,
             "solidity": 0.2
            },
            "type": "scatter"
           }
          ],
          "scatter3d": [
           {
            "line": {
             "colorbar": {
              "outlinewidth": 0,
              "ticks": ""
             }
            },
            "marker": {
             "colorbar": {
              "outlinewidth": 0,
              "ticks": ""
             }
            },
            "type": "scatter3d"
           }
          ],
          "scattercarpet": [
           {
            "marker": {
             "colorbar": {
              "outlinewidth": 0,
              "ticks": ""
             }
            },
            "type": "scattercarpet"
           }
          ],
          "scattergeo": [
           {
            "marker": {
             "colorbar": {
              "outlinewidth": 0,
              "ticks": ""
             }
            },
            "type": "scattergeo"
           }
          ],
          "scattergl": [
           {
            "marker": {
             "colorbar": {
              "outlinewidth": 0,
              "ticks": ""
             }
            },
            "type": "scattergl"
           }
          ],
          "scattermapbox": [
           {
            "marker": {
             "colorbar": {
              "outlinewidth": 0,
              "ticks": ""
             }
            },
            "type": "scattermapbox"
           }
          ],
          "scatterpolar": [
           {
            "marker": {
             "colorbar": {
              "outlinewidth": 0,
              "ticks": ""
             }
            },
            "type": "scatterpolar"
           }
          ],
          "scatterpolargl": [
           {
            "marker": {
             "colorbar": {
              "outlinewidth": 0,
              "ticks": ""
             }
            },
            "type": "scatterpolargl"
           }
          ],
          "scatterternary": [
           {
            "marker": {
             "colorbar": {
              "outlinewidth": 0,
              "ticks": ""
             }
            },
            "type": "scatterternary"
           }
          ],
          "surface": [
           {
            "colorbar": {
             "outlinewidth": 0,
             "ticks": ""
            },
            "colorscale": [
             [
              0,
              "#0d0887"
             ],
             [
              0.1111111111111111,
              "#46039f"
             ],
             [
              0.2222222222222222,
              "#7201a8"
             ],
             [
              0.3333333333333333,
              "#9c179e"
             ],
             [
              0.4444444444444444,
              "#bd3786"
             ],
             [
              0.5555555555555556,
              "#d8576b"
             ],
             [
              0.6666666666666666,
              "#ed7953"
             ],
             [
              0.7777777777777778,
              "#fb9f3a"
             ],
             [
              0.8888888888888888,
              "#fdca26"
             ],
             [
              1,
              "#f0f921"
             ]
            ],
            "type": "surface"
           }
          ],
          "table": [
           {
            "cells": {
             "fill": {
              "color": "#EBF0F8"
             },
             "line": {
              "color": "white"
             }
            },
            "header": {
             "fill": {
              "color": "#C8D4E3"
             },
             "line": {
              "color": "white"
             }
            },
            "type": "table"
           }
          ]
         },
         "layout": {
          "annotationdefaults": {
           "arrowcolor": "#2a3f5f",
           "arrowhead": 0,
           "arrowwidth": 1
          },
          "autotypenumbers": "strict",
          "coloraxis": {
           "colorbar": {
            "outlinewidth": 0,
            "ticks": ""
           }
          },
          "colorscale": {
           "diverging": [
            [
             0,
             "#8e0152"
            ],
            [
             0.1,
             "#c51b7d"
            ],
            [
             0.2,
             "#de77ae"
            ],
            [
             0.3,
             "#f1b6da"
            ],
            [
             0.4,
             "#fde0ef"
            ],
            [
             0.5,
             "#f7f7f7"
            ],
            [
             0.6,
             "#e6f5d0"
            ],
            [
             0.7,
             "#b8e186"
            ],
            [
             0.8,
             "#7fbc41"
            ],
            [
             0.9,
             "#4d9221"
            ],
            [
             1,
             "#276419"
            ]
           ],
           "sequential": [
            [
             0,
             "#0d0887"
            ],
            [
             0.1111111111111111,
             "#46039f"
            ],
            [
             0.2222222222222222,
             "#7201a8"
            ],
            [
             0.3333333333333333,
             "#9c179e"
            ],
            [
             0.4444444444444444,
             "#bd3786"
            ],
            [
             0.5555555555555556,
             "#d8576b"
            ],
            [
             0.6666666666666666,
             "#ed7953"
            ],
            [
             0.7777777777777778,
             "#fb9f3a"
            ],
            [
             0.8888888888888888,
             "#fdca26"
            ],
            [
             1,
             "#f0f921"
            ]
           ],
           "sequentialminus": [
            [
             0,
             "#0d0887"
            ],
            [
             0.1111111111111111,
             "#46039f"
            ],
            [
             0.2222222222222222,
             "#7201a8"
            ],
            [
             0.3333333333333333,
             "#9c179e"
            ],
            [
             0.4444444444444444,
             "#bd3786"
            ],
            [
             0.5555555555555556,
             "#d8576b"
            ],
            [
             0.6666666666666666,
             "#ed7953"
            ],
            [
             0.7777777777777778,
             "#fb9f3a"
            ],
            [
             0.8888888888888888,
             "#fdca26"
            ],
            [
             1,
             "#f0f921"
            ]
           ]
          },
          "colorway": [
           "#636efa",
           "#EF553B",
           "#00cc96",
           "#ab63fa",
           "#FFA15A",
           "#19d3f3",
           "#FF6692",
           "#B6E880",
           "#FF97FF",
           "#FECB52"
          ],
          "font": {
           "color": "#2a3f5f"
          },
          "geo": {
           "bgcolor": "white",
           "lakecolor": "white",
           "landcolor": "#E5ECF6",
           "showlakes": true,
           "showland": true,
           "subunitcolor": "white"
          },
          "hoverlabel": {
           "align": "left"
          },
          "hovermode": "closest",
          "mapbox": {
           "style": "light"
          },
          "paper_bgcolor": "white",
          "plot_bgcolor": "#E5ECF6",
          "polar": {
           "angularaxis": {
            "gridcolor": "white",
            "linecolor": "white",
            "ticks": ""
           },
           "bgcolor": "#E5ECF6",
           "radialaxis": {
            "gridcolor": "white",
            "linecolor": "white",
            "ticks": ""
           }
          },
          "scene": {
           "xaxis": {
            "backgroundcolor": "#E5ECF6",
            "gridcolor": "white",
            "gridwidth": 2,
            "linecolor": "white",
            "showbackground": true,
            "ticks": "",
            "zerolinecolor": "white"
           },
           "yaxis": {
            "backgroundcolor": "#E5ECF6",
            "gridcolor": "white",
            "gridwidth": 2,
            "linecolor": "white",
            "showbackground": true,
            "ticks": "",
            "zerolinecolor": "white"
           },
           "zaxis": {
            "backgroundcolor": "#E5ECF6",
            "gridcolor": "white",
            "gridwidth": 2,
            "linecolor": "white",
            "showbackground": true,
            "ticks": "",
            "zerolinecolor": "white"
           }
          },
          "shapedefaults": {
           "line": {
            "color": "#2a3f5f"
           }
          },
          "ternary": {
           "aaxis": {
            "gridcolor": "white",
            "linecolor": "white",
            "ticks": ""
           },
           "baxis": {
            "gridcolor": "white",
            "linecolor": "white",
            "ticks": ""
           },
           "bgcolor": "#E5ECF6",
           "caxis": {
            "gridcolor": "white",
            "linecolor": "white",
            "ticks": ""
           }
          },
          "title": {
           "x": 0.05
          },
          "xaxis": {
           "automargin": true,
           "gridcolor": "white",
           "linecolor": "white",
           "ticks": "",
           "title": {
            "standoff": 15
           },
           "zerolinecolor": "white",
           "zerolinewidth": 2
          },
          "yaxis": {
           "automargin": true,
           "gridcolor": "white",
           "linecolor": "white",
           "ticks": "",
           "title": {
            "standoff": 15
           },
           "zerolinecolor": "white",
           "zerolinewidth": 2
          }
         }
        },
        "title": {
         "text": "Интерактивная кластеризация текстов с UMAP и DBSCAN"
        },
        "xaxis": {
         "anchor": "y",
         "domain": [
          0,
          1
         ],
         "title": {
          "text": "UMAP1"
         }
        },
        "yaxis": {
         "anchor": "x",
         "domain": [
          0,
          1
         ],
         "title": {
          "text": "UMAP2"
         }
        }
       }
      }
     },
     "metadata": {},
     "output_type": "display_data"
    }
   ],
   "source": [
    "import plotly.express as px\n",
    "from sklearn.decomposition import PCA\n",
    "import umap\n",
    "\n",
    "\n",
    "reducer = umap.UMAP(n_neighbors=5, min_dist=0.1, n_components=2, random_state=42)\n",
    "embeddings_2d = reducer.fit_transform(embeddings)\n",
    "\n",
    "# Добавляем результаты в датафрейм\n",
    "df['UMAP1'] = embeddings_2d[:, 0]\n",
    "df['UMAP2'] = embeddings_2d[:, 1]\n",
    "df['Cluster'] = cluster_labels\n",
    "\n",
    "# Построение интерактивного scatter plot с Plotly\n",
    "fig = px.scatter(\n",
    "    df, x='UMAP1', y='UMAP2',\n",
    "    color='Cluster',\n",
    "    hover_data={'Очищенный текст': True, 'UMAP1': False, 'UMAP2': False, 'Cluster': True}\n",
    ")\n",
    "\n",
    "# Настройка графика\n",
    "fig.update_layout(\n",
    "    title=\"Интерактивная кластеризация текстов с UMAP и DBSCAN\",\n",
    "    xaxis_title=\"UMAP1\",\n",
    "    yaxis_title=\"UMAP2\"\n",
    ")\n",
    "\n",
    "fig.show()\n"
   ]
  },
  {
   "cell_type": "code",
   "execution_count": 18,
   "metadata": {},
   "outputs": [
    {
     "name": "stderr",
     "output_type": "stream",
     "text": [
      "c:\\Users\\sanya\\anaconda3\\Lib\\site-packages\\umap\\umap_.py:1952: UserWarning:\n",
      "\n",
      "n_jobs value 1 overridden to 1 by setting random_state. Use no seed for parallelism.\n",
      "\n"
     ]
    },
    {
     "data": {
      "application/vnd.plotly.v1+json": {
       "config": {
        "plotlyServerURL": "https://plot.ly"
       },
       "data": [
        {
         "customdata": [
          [
           "не проверил текущее состояние акб. использовал способы стимулирования клиента к совершению покупки. не сообщил, рекомендовано приезжать проверку через 3-4 месяца. прошлая оценка от 12.10 задает вопросов уточняющих режим эксплуатации. показывает уровень жидкости новом предлагал рассрочку. ждем месяца проверку.",
           -1
          ],
          [
           "не задает открытых вопросов уточняющих режим эксплуатации авто/другого средства мобильности, характеристики авто, сложности эксплуатации, выясняет наличие доп. оборудования (потребителя энергии). провёл развернутую презентацию продукта (доп. товары). не предлагал рассрочку. выдал клиенту визитки. сообщил о бсо. сообщил, рекомендовано приезжать проверку каждые 3-4 месяца.",
           0
          ],
          [
           "не проверил текущее состояние акб. задает открытых вопросов уточняющих режим эксплуатации авто/другого средства мобильности, характеристики авто, сложности эксплуатации, выясняет наличие доп. оборудования (потребителя энергии). выдал клиенту визитки. при выдаче гарантийного талона покупателю, сообщил о звонке колл-центра. ​​​​​​​",
           -1
          ],
          [
           "не использовал способы стимулирования клиента к совершению покупки. показывает состояние уровень жидкости акб. провёл развернутую презентацию продукта (доп. товары). не выдал клиенту визитки. сообщил о бсо. сообщил, рекомендовано приезжать проверку через 3-4 месяца.",
           0
          ],
          [
           "находится тт без бейджа. не задает открытых вопросов уточняющих режим эксплуатации авто/другого средства мобильности, характеристики авто. использовал способы стимулирования клиента к совершению покупки. показывает состояние уровень жидкости акб. предложил клиенту купить сопутствующий ассортимент, аксессуары. не сообщил, рекомендовано приезжать проверку через 3-4 месяца.",
           0
          ],
          [
           "не задает открытых вопросов уточняющих режим эксплуатации авто/другого средства мобильности, характеристики авто. использовал способы стимулирования клиента к совершению покупки. очень хорошо проконсультировал выполнив почти все пункти.",
           0
          ],
          [
           "не показывает состояние уровень жидкости новом акб. при выдаче гарантийного талона покупателю, сообщил о звонке колл-центра. закрыл все возражения клиента, очень хорошо проконсультировал, благодаря этому продажа завершилось успешно.",
           -1
          ],
          [
           "не использовал способы стимулирования клиента к совершению покупки. показывает состояние уровень жидкости акб. предложил клиенту купить сопутствующий ассортимент, аксессуары. не выдал визитки.",
           0
          ],
          [
           "не использовал способы стимулирования клиента к совершению покупки. показал состояние уровень жидкости новом акб. не предлагал рассрочку. выдал визитки. сообщил о бсо. звонке колл-центра.",
           0
          ],
          [
           "не уточнил наличие дисконтной карты. хорошо проконсультировал.",
           -1
          ],
          [
           "не уточнил наличие дисконтной карты. не сообщил, поступит звонок от колл-центра.",
           -1
          ],
          [
           "при подъезде автомобиля не вышел улицу. проверил текущее состояние акб. задал открытых вопросов уточняющих режим эксплуатации авто/другого средства мобильности, характеристики авто. уточнил наличие дисконтной карты. продемонстрировал покупателю доп. товар аксессуары.",
           -1
          ],
          [
           "не использовал способы стимулирования клиента к совершению покупки. показывает состояние уровень жидкости новом акб. продемонстрировал покупателю доп. товар аксессуары. выдал клиенту визитки. при выдаче гарантийного талона покупателю, сообщил о звонке колл-центра.",
           0
          ],
          [
           "то время когда консультировал клиента, другой сделал громкость музыки выше. как мне это неуважительно отношению клиента. (08:27) не проверил текущее состояние акб. использовал способы стимулирования клиента к совершению покупки. предложил клиенту купить сопутствующий ассортимент, аксессуары. не выдал визитки. сообщил, рекомендовано приезжать проверку через 3-4 месяца. поступит звонок от колл-центра.",
           -1
          ],
          [
           "не проверил текущее состояние акб. использовал способы стимулирования клиента к совершению покупки. провёл развернутую презентацию продукта (доп. товары). не выдал клиенту визитки.",
           -1
          ],
          [
           "не использовал способы стимулирования клиента к совершению покупки. показывает состояние уровень жидкости акб. не выдал клиенту визитки.",
           0
          ],
          [
           "не использовал способы стимулирования клиента к совершению покупки. показывает состояние уровень жидкости акб. предложил клиенту купить сопутствующий ассортимент, аксессуары. не выдал визитки. сообщил, рекомендовано приезжать проверку через 3-4 месяца.",
           0
          ],
          [
           "не задает открытых вопросов уточняющих режим эксплуатации авто/другого средства мобильности, характеристики авто. использовал способы стимулирования клиента к совершению покупки. показывает состояние уровень жидкости акб. предложил клиенту купить сопутствующий ассортимент, аксессуары. выдал визитки. не сообщил о бсо. сообщил, рекомендовано приезжать проверку через 3-4 месяца.",
           0
          ],
          [
           "не задает открытых вопросов уточняющих режим эксплуатации. уточнил, какие критерии важны при выборе обращает внимание. показал состояние уровень жидкости новом акб. рассказал о режиме эксплуатации акб: периодичность зарядки, проверке уровня цвета электролита. провёл развернутую презентацию продукта (доп. товары). клиенту об актуальных акциях, предложениях.",
           0
          ],
          [
           "не проверил текущее состояние акб: заряд, уровень жидкости. задавал открытые вопросы уточняющие режим эксплуатации авто. использовал способы стимулирования клиента к совершению покупки. показал жидкости новом акб. рассказал о режиме периодичность зарядки, проверке уровня цвета электролита. клиенту об актуальных акциях, предложениях. сообщил звонке колл-центра.",
           0
          ],
          [
           "не проверил текущее состояние акб. задавал открытые вопросы уточняющие режим эксплуатации авто. уточнил, какие критерии важны при выборе обращает внимание. показал нагрузочной вилкой заряда уровень жидкости новом предложил клиенту купить сопутствующий ассортимент, аксессуары. провёл развернутую презентацию продукта (доп. товары). рассказал об актуальных акциях, предложениях. выдал визитные карточки.",
           0
          ],
          [
           "не задает открытые вопросы уточняющие режим эксплуатации авто. уточнил, какие критерии важны при выборе обращает внимание. показал состояние уровень жидкости новом акб. рассказал о режиме акб: периодичность зарядки, проверке уровня цвета электролита. предложил клиенту купить сопутствующий ассортимент, аксессуары. провёл развернутую презентацию продукта (доп. товары). об актуальных акциях, предложениях. выдал визитные карточки.",
           0
          ],
          [
           "не использовал способы стимулирования клиента к совершению покупки. показал состояние уровень жидкости новом акб. провёл развернутую презентацию продукта (доп. товары). рассказал клиенту об актуальных акциях, предложениях. выдал визитные карточки. при выдаче гарантийного талона, акцентировал внимание важных местах этом талоне. не сообщил о звонке колл-центра.",
           0
          ],
          [
           "не показал состояние уровень жидкости новом акб. предложил клиенту купить сопутствующий ассортимент, аксессуары. провёл развернутую презентацию продукта (доп. товары). рассказал об актуальных акциях, предложениях. выдал визитные карточки. сообщил о звонке колл-центра.",
           0
          ],
          [
           "не проверил текущее состояние акб: заряд, уровень жидкости. рассказал клиенту об актуальных акциях, предложениях. выдал визитные карточки. сообщил о проверке состояния акб через 3-4 месяца.",
           -1
          ],
          [
           "не задает открытые вопросы уточняющие режим эксплуатации авто. показал нагрузочной вилкой состояние заряда акб. уровень жидкости новом рассказал о режиме провёл развернутую презентацию продукта (доп. товары). клиенту об актуальных акциях, предложениях. выдал визитные карточки. сообщил бсо. проверке состояния акб через 3-4 месяца. обслуживал клиента кепке. был без бейджа.",
           0
          ],
          [
           "не показал состояние уровень жидкости новом акб. провёл развернутую презентацию продукта (доп. товары). рассказал клиенту об актуальных акциях, предложениях. оказал помощь установке",
           0
          ],
          [
           "не рассказал о режиме эксплуатации акб: периодичность зарядки, проверке уровня цвета электролита. использовал способы стимулирования клиента к совершению покупки. уточнил, какие критерии важны при выборе.",
           -1
          ],
          [
           "нет чистоты порядка тт ( грязные полы). не проверил текущее состояние акб: заряд, уровень жидкости. задавал открытые вопросы уточняющие режим эксплуатации авто. уточнил, какие критерии важны при выборе. показал жидкости новом акб. рассказал о режиме периодичность зарядки, проверке уровня цвета электролита. провёл развернутую презентацию продукта (доп. товары). клиенту об актуальных акциях, предложениях.",
           0
          ],
          [
           "не уточнил, какие критерии важны при выборе обращает внимание. показал нагрузочной вилкой состояние заряда акб. уровень жидкости новом рассказал о режиме эксплуатации акб: периодичность зарядки, проверке уровня цвета электролита. предложил клиенту купить сопутствующий ассортимент, аксессуары. провёл развернутую презентацию продукта (доп. товары). об актуальных акциях, предложениях. при выдаче гарантийного талона, акцентировал внимание важных местах этом талоне.",
           0
          ],
          [
           "не показал состояние уровень жидкости новом акб.",
           1
          ],
          [
           "не проверил текущее состояние акб: заряд, уровень жидкости. уточнил, какие критерии важны при выборе обращает внимание. рассказал о режиме эксплуатации периодичность зарядки, проверке уровня цвета электролита. предложил клиенту купить сопутствующий ассортимент, аксессуары. провёл развернутую презентацию продукта (доп. товары). не выдал визитные карточки. сообщил бсо \"ждем через 3-4 месяца проверку состояния акб\". оказал помощь установке акб. футболка соответствует требованиям.",
           0
          ],
          [
           "не сообщил \"ждем через 3-4 месяца проверку состояния акб\". рассказал клиенту об актуальных акциях, предложениях. о режиме эксплуатации акб: периодичность зарядки, проверке уровня цвета электролита. показал состояние уровень жидкости новом акб. использовал способы стимулирования клиента к совершению покупки. уточнил, какие критерии важны при выборе обращает внимание.",
           0
          ],
          [
           "не сообщил о звонке колл-центра. выдал визитные карточки. провёл развернутую презентацию продукта (доп. товары). рассказал режиме эксплуатации акб: периодичность зарядки, проверке уровня цвета электролита.",
           -1
          ],
          [
           "не проверил текущее состояние акб: заряд, уровень жидкости. показал жидкости новом акб. выдал визитные карточки.",
           -1
          ],
          [
           "не проверил текущее состояние акб. использовал способы стимулирования клиента к совершению покупки. показывает уровень жидкости новом не выдал клиенту визитки. при выдаче гарантийного талона покупателю, сообщил о звонке колл-центра.",
           0
          ],
          [
           "не использовал способы стимулирования клиента к совершению покупки. показал состояние уровень жидкости акб. не сообщил о бсо. сообщил, рекомендовано приезжать проверку через 3-4 месяца. презентовал слишком много моделей из-за этого клиент долго мог определиться.",
           0
          ],
          [
           "не задал открытых вопросов уточняющих режим эксплуатации. использовал способы стимулирования клиента к совершению покупки. показывает состояние уровень жидкости акб. предложил клиенту купить сопутствующий ассортимент, аксессуары. выдал визитки. не сообщил, рекомендовано приезжать проверку через 3-4 месяца. при выдаче гарантийного талона покупателю, сообщил о звонке колл-центра.",
           0
          ],
          [
           "не показывает состояние уровень жидкости новом акб. выдал клиенту визитки. хорошо проконсультировал.",
           1
          ],
          [
           "не проверил текущее состояние акб. задал открытых вопросов уточняющих режим эксплуатации авто/другого средства мобильности, характеристики авто. показывает уровень жидкости предложил клиенту купить сопутствующий ассортимент, аксессуары. не предлагал рассрочку. сообщил, рекомендовано приезжать проверку через 3-4 месяца.",
           0
          ],
          [
           "не проверил текущее состояние акб. использовал способы стимулирования клиента к совершению покупки. показывает уровень жидкости новом продемонстрировал покупателю доп. товар аксессуары. выдал клиенту визитки. не сообщил о бсо. сообщил, рекомендовано приезжать проверку каждые 3-4 месяца. при выдаче гарантийного талона покупателю, звонке колл-центра. оказал помощь установке",
           0
          ],
          [
           "не задал открытых вопросов уточняющих режим эксплуатации авто/другого средства мобильности, характеристики авто. использовал способы стимулирования клиента к совершению покупки. показывает состояние уровень жидкости новом акб. продемонстрировал покупателю доп. товар аксессуары. не сообщил о бсо. сообщил, рекомендовано приезжать проверку каждые 3-4 месяца.",
           0
          ],
          [
           "не проверил текущее состояние акб. показывает уровень жидкости новом не предлагал рассрочку. выдал клиенту визитки. сообщил о бсо. сообщил, рекомендовано приезжать проверку каждые 3-4 месяца. при выдаче гарантийного талона покупателю, звонке колл-центра.",
           0
          ],
          [
           "не использовал способы стимулирования клиента к совершению покупки. показывает нагрузочной вилкой состояние заряда акб. уровень жидкости новом продемонстрировал покупателю доп. товар аксессуары. выдал клиенту визитки. при выдаче гарантийного талона покупателю, сообщил о звонке колл-центра.",
           0
          ],
          [
           "не задает открытых вопросов уточняющих режим эксплуатации авто/другого средства мобильности, характеристики авто. использовал способы стимулирования клиента к совершению покупки. показывает состояние уровень жидкости новом акб. продемонстрировал покупателю доп. товар аксессуары. выдал клиенту визитки. не сообщил о бсо. сообщил, рекомендовано приезжать проверку каждые 3-4 месяца. оказал помощь установке",
           0
          ],
          [
           "не задает открытых вопросов уточняющих режим эксплуатации авто/другого средства мобильности, характеристики авто. использовал способы стимулирования клиента к совершению покупки. показывает состояние уровень жидкости новом акб. не предлагал рассрочку. выдал визитки. сообщил, поступит звонок от колл-центра.",
           0
          ],
          [
           "не использовал способы стимулирования клиента к совершению покупки. показывает состояние уровень жидкости акб. не сообщил, поступит звонок от колл-центра.",
           0
          ],
          [
           "находится тт без бейджа. не показывает состояние уровень жидкости новом акб. при выдаче гарантийного талона покупателю, сообщил о звонке колл-центра.",
           -1
          ],
          [
           "не задает открытых вопросов уточняющих режим эксплуатации авто/другого средства мобильности, характеристики авто. уточнил наличие дисконтной карты. использовал способы стимулирования клиента к совершению покупки. показывает состояние уровень жидкости новом акб. выдал клиенту визитки. не предлагал рассрочку.",
           0
          ],
          [
           "не задал открытых вопросов уточняющих режим эксплуатации авто/другого средства мобильности, характеристики авто. показывает нагрузочной вилкой состояние заряда акб. уровень жидкости новом выдал клиенту визитки. не предлагал рассрочку.",
           0
          ],
          [
           "не использовал способы стимулирования клиента к совершению покупки. показывает состояние заряда акб. не продемонстрировал покупателю доп. товар аксессуары. предлагал рассрочку. выдал клиенту визитки. сообщил, рекомендовано приезжать проверку каждые 3-4 месяца.",
           0
          ],
          [
           "не использовал способы стимулирования клиента к совершению покупки. показывает состояние уровень жидкости акб. продемонстрировал покупателю доп. товар аксессуары. выдал клиенту визитки.",
           0
          ],
          [
           "не использовал способы стимулирования клиента к совершению покупки. показывает состояние уровень жидкости новом акб. продемонстрировал покупателю доп. товар аксессуары. выдал клиенту визитки. не сообщил о бсо. сообщил, рекомендовано приезжать проверку каждые 3-4 месяца. при выдаче гарантийного талона покупателю, звонке колл-центра.",
           0
          ],
          [
           "не использовал способы стимулирования клиента к совершению покупки. показывает состояние уровень жидкости акб. предложил клиенту купить сопутствующий ассортимент, аксессуары. не выдал визитки. сообщил о бсо. сообщил, рекомендовано приезжать проверку через 3-4 месяца.",
           0
          ],
          [
           "не использовал способы стимулирования клиента к совершению покупк. показывает состояние уровень жидкости акб. достойно проконсультировал.",
           0
          ],
          [
           "не использовал способы стимулирования клиента к совершению покупки. показывает состояние уровень жидкости акб. не выдал клиенту визитки.",
           0
          ],
          [
           "не использовал способы стимулирования клиента к совершению покупки. показывает состояние уровень жидкости акб. предложил клиенту купить сопутствующий ассортимент, аксессуары. не сообщил о бсо. сообщил, рекомендовано приезжать проверку через 3-4 месяца. звонке колл-центра.",
           0
          ],
          [
           "не использовал способы стимулирования клиента к совершению покупки. показывает состояние уровень жидкости акб. предложил клиенту купить сопутствующий ассортимент, аксессуары. выдал гарантийный талон. не визитки. сообщил, рекомендовано приезжать проверку через 3-4 месяца.",
           0
          ],
          [
           "не использовал способы стимулирования клиента к совершению покупки. показывает состояние уровень жидкости акб. целом достойно проконсультировал.",
           0
          ],
          [
           "не задал открытых вопросов уточняющих режим эксплуатации авто/другого средства мобильности, характеристики авто. не выдал визитки. сообщил о бсо. сообщил, рекомендовано приезжать проверку через 3-4 месяца.",
           0
          ],
          [
           "не использовал способы стимулирования клиента к совершению покупки. достойно проконсультировал.",
           -1
          ],
          [
           "текущая оценка от 19.10 видел, клиент магазине, не подошел к нему сразу. задает открытых вопросов уточняющих режим эксплуатации. использовал способы стимулирования клиента совершению покупки. показывает нагрузочной вилкой состояние заряда акб. уровень жидкости предложил клиенту купить сопутствующий ассортимент, аксессуары. >не выдал визитки. сообщил о бсо. рекомендовано приезжать проверку через 3-4 месяца. >",
           -1
          ],
          [
           "текущая оценка от 16.10 не показывает состояние уровень жидкости акб. >не выдал клиенту визитки. сообщил о звонке колл-центра. >как мне достойно проконсультировал. >",
           -1
          ],
          [
           "не использовал способы стимулирования клиента к совершению покупки. показывает состояние уровень жидкости акб. предложил клиенту купить сопутствующий ассортимент, аксессуары. сообщил о звонке колл-центра. не оказал помощь установке",
           0
          ],
          [
           "не использовал способы стимулирования клиента к совершению покупки. показывает состояние уровень жидкости акб. провёл развернутую презентацию продукта. не сообщил о звонке колл-центра.",
           0
          ],
          [
           "не задал открытых вопросов уточняющих режим эксплуатации авто/другого средства мобильности, характеристики авто. использовал способы стимулирования клиента к совершению покупки. показывает состояние уровень жидкости новом акб. продемонстрировал покупателю доп. товар аксессуары. выдал клиенту визитки. не сообщил о бсо. сообщил, рекомендовано приезжать проверку каждые 3-4 месяца. при выдаче гарантийного талона покупателю, звонке колл-центра.",
           0
          ],
          [
           "находится ртт нарушением формы одежды обуви. не использовал способы стимулирования клиента к совершению покупки. показывает состояние уровень жидкости акб. сообщил, рекомендовано через 3-4 месяца приезжать проверку. не сообщил о звонке колл-центра.",
           -1
          ],
          [
           "не задал открытых вопросов уточняющих режим эксплуатации авто/другого средства мобильности, характеристики авто. уточнил наличие дисконтной карты. использовал способы стимулирования клиента к совершению покупки. сообщил рекомендовано приезжать проверку через 3-4 месяца.",
           0
          ],
          [
           "видел, клиент магазине, не подошел к нему сразу. задает открытых вопросов уточняющих режим эксплуатации. использовал способы стимулирования клиента совершению покупки. показывает нагрузочной вилкой состояние заряда акб. уровень жидкости предложил клиенту купить сопутствующий ассортимент, аксессуары. не выдал визитки. сообщил о бсо. рекомендовано приезжать проверку через 3-4 месяца.",
           -1
          ],
          [
           "не показывает состояние уровень жидкости акб. не выдал клиенту визитки. сообщил о звонке колл-центра. как мне достойно проконсультировал.",
           -1
          ],
          [
           "находится тт не форме. использовал способы стимулирования клиента к совершению покупки. показывает состояние уровень жидкости новом акб. выдал клиенту визитки. не оказал помощь установке",
           0
          ],
          [
           "не использовал способы стимулирования клиента к совершению покупки. показывает состояние уровень жидкости акб. не выдал визитки. сообщил о звонке колл-центра.",
           0
          ],
          [
           "не задал открытых вопросов уточняющих режим эксплуатации авто/другого средства мобильности, характеристики авто. использовал способы стимулирования клиента к совершению покупки. показывает состояние уровень жидкости акб.",
           0
          ],
          [
           "не уточнил, какие критерии важны при выборе. не использовал способы стимулирования клиента к совершению покупки. показывает состояние уровень жидкости новом акб. выдал клиенту визитки.",
           -1
          ],
          [
           "не использовал способы стимулирования клиента к совершению покупки. показывает состояние уровень жидкости акб. выдал клиенту визитки. у намного меньше ошибок чем было прошлый раз.",
           0
          ],
          [
           "не находится тт форме. использовал способы стимулирования клиента к совершению покупки. показывает состояние уровень жидкости акб. выдал клиенту визитки.",
           0
          ],
          [
           "не задал открытых вопросов уточняющих режим эксплуатации авто/другого средства мобильности, характеристики авто. использовал способы стимулирования клиента к совершению покупки. показывает состояние уровень жидкости акб.",
           0
          ],
          [
           "не проверил текущее состояние акб. использовал способы стимулирования клиента к совершению покупки. показывает уровень жидкости новом провёл развернутую презентацию продукта.",
           0
          ],
          [
           "не задает открытых вопросов уточняющих режим эксплуатации авто/другого средства мобильности, характеристики авто. использовал способы стимулирования клиента к совершению покупки. показывает состояние уровень жидкости акб. предложил клиенту купить сопутствующий ассортимент, аксессуары.",
           0
          ],
          [
           "текущая оценка от 19.10 не проверил текущее состояние акб: заряд, уровень жидкости. использовал способы стимулирования клиента к совершению покупки. показывает жидкости нового акб. >",
           -1
          ],
          [
           "текущая оценка от 19.10 не задает открытых вопросов уточняющих режим эксплуатации авто/другого средства мобильности, характеристики авто. уточнил, какие критерии важны при выборе. показывает состояние уровень жидкости акб. сообщил, рекомендовано приезжать проверку через 3-4 месяца. выдал клиенту визитки. >>при выдаче гарантийного талона покупателю, сообщил о звонке колл-центра. >>",
           0
          ],
          [
           "не проверил текущее состояние акб. показывает нагрузочной вилкой заряда уровень жидкости сообщил, рекомендовано приезжать проверку через 3-4 месяца. не поступит звонок от колл-центра.",
           -1
          ],
          [
           "текущая оценка от 19.10 не задает открытых вопросов уточняющих режим эксплуатации авто/другого средства мобильности, характеристики авто. уточнил, какие критерии важны при выборе. показывает состояние уровень жидкости акб. сообщил, рекомендовано приезжать проверку через 3-4 месяца. выдал клиенту визитки. >при выдаче гарантийного талона покупателю, сообщил о звонке колл-центра. >",
           0
          ],
          [
           "не задает открытых вопросов уточняющих режим эксплуатации авто/другого средства мобильности, характеристики авто. использовал способы стимулирования клиента к совершению покупки. показывает состояние уровень жидкости новом акб. продемонстрировал покупателю доп. товар аксессуары.",
           0
          ],
          [
           "не задает открытых вопросов уточняющих режим эксплуатации авто/другого средства мобильности, характеристики авто. показывает состояние уровень жидкости акб. выдал клиенту визитки. сообщил, рекомендовано прийти проверку через 3-4 месяца. не поступит звонок от колл-центра.",
           0
          ],
          [
           "не задает открытых вопросов уточняющих режим эксплуатации авто/другого средства мобильности, характеристики авто. показывает состояние уровень жидкости акб. сообщил, рекомендовано приехать проверку через 3-4 месяца.",
           0
          ],
          [
           "отлично проконсультировал. нет никаких отклонений.",
           -1
          ],
          [
           "не использовал способы стимулирования клиента к совершению покупки. показывает состояние уровень жидкости новом акб. выдал клиенту визитки. целом консультация была хорошая.",
           0
          ],
          [
           "не использовал способы стимулирования клиента к совершению покупки. показывает состояние уровень жидкости акб. сообщил, поступит звонок от колл-центра для оценки качества обслуживания.",
           0
          ],
          [
           "не использовал способы стимулирования клиента к совершению покупки. показывает состояние уровень жидкости нового акб. не сообщил, поступит звонок от колл-центра для оценки качества обслуживания/",
           0
          ],
          [
           "не проверил текущее состояние акб: заряд, уровень жидкости. использовал способы стимулирования клиента к совершению покупки. показывает жидкости нового акб.",
           -1
          ],
          [
           "не задает открытых вопросов уточняющих режим эксплуатации авто/другого средства мобильности, характеристики авто. уточнил, какие критерии важны при выборе. показывает состояние уровень жидкости акб. сообщил, рекомендовано приезжать проверку через 3-4 месяца. выдал клиенту визитки. при выдаче гарантийного талона покупателю, сообщил о звонке колл-центра.",
           0
          ],
          [
           "не использовал способы стимулирования клиента к совершению покупки. показывает состояние уровень жидкости новом акб. продемонстрировал покупателю доп. товар аксессуары. выдал клиенту визитки.",
           0
          ],
          [
           "не предлагал рассрочку. выдал клиенту визитки. при выдаче гарантийного талона покупателю, сообщил о звонке колл-центра. хорошо проконсультировал.",
           -1
          ],
          [
           "не проверил текущее состояние акб. задал открытых вопросов уточняющих режим эксплуатации авто/другого средства мобильности, характеристики авто. использовал способы стимулирования клиента к совершению покупки. показывает уровень жидкости новом не предлагал рассрочку. выдал клиенту визитки.",
           0
          ],
          [
           "не показывает состояние уровень жидкости новом акб. очень хорошо проконсультировал.",
           1
          ],
          [
           "не задает открытых вопросов уточняющих режим эксплуатации авто/другого средства мобильности, характеристики авто. использовал способы стимулирования клиента к совершению покупки. показывает состояние заряда уровень жидкости новом акб. продемонстрировал покупателю доп. товар аксессуары. не предлагал рассрочку. при выдаче гарантийного талона покупателю, сообщил о звонке колл-центра.",
           0
          ],
          [
           "не проверил текущее состояние акб. показывает уровень жидкости новом продемонстрировал покупателю доп. товар аксессуары. целом хорошо проконсультировал.",
           -1
          ],
          [
           "не задает открытых вопросов уточняющих режим эксплуатации авто/другого средства мобильности, характеристики авто. показывает состояние уровень жидкости новом акб. не предлагал рассрочку. выдал клиенту визитки. при выдаче гарантийного талона покупателю, сообщил о звонке колл-центра.",
           0
          ],
          [
           "не задает открытых вопросов уточняющих режим эксплуатации авто/другого средства мобильности, характеристики авто. показывает состояние уровень жидкости новом акб. продемонстрировал покупателю доп. товар аксессуары. сообщил, рекомендовано приезжать проверку каждые 3-4 месяца. при выдаче гарантийного талона покупателю, сообщил о звонке колл-центра.",
           0
          ],
          [
           "не использовал способы стимулирования клиента к совершению покупки. показывает состояние уровень жидкости новом акб. при выдаче гарантийного талона покупателю, сообщил о звонке колл-центра.",
           0
          ],
          [
           "не проверил текущее состояние старого акб. не задал открытых вопросов. использовал способы стимулирования клиента к совершению покупки. показывает нагрузочной вилкой заряда уровень жидкости новом продемонстрировал покупателю доп. товар аксессуары. сообщил, рекомендовано приезжать проверку каждые 3-4 месяца.",
           -1
          ],
          [
           "не проверил текущее состояние старого акб. использовал способы стимулирования клиента к совершению покупки. показывает уровень жидкости новом продемонстрировал покупателю доп. товар аксессуары. не предлагал рассрочку. выдал клиенту визитки. сообщил о бсо. сообщил, рекомендовано приезжать проверку каждые 3-4 месяца. оказал помощь установке",
           0
          ],
          [
           "не показывает состояние заряда, уровень жидкости новом акб (потому продажа была этом магазине, забрали из другой тт). выдал клиенту визитки. не сообщил о бсо. предлагал рассрочку. сообщил, рекомендовано приезжать проверку каждые 3-4 месяца.",
           -1
          ],
          [
           "не показывает состояние уровень жидкости новом акб. продемонстрировал покупателю доп. товар аксессуары. не предлагал рассрочку. выдал клиенту визитки. сообщил о бсо. сообщил, рекомендовано приезжать проверку каждые 3-4 месяца. при выдаче гарантийного талона покупателю, звонке колл-центра.",
           0
          ],
          [
           "не показывает состояние уровень жидкости новом акб. продемонстрировал покупателю доп. товар аксессуары. не предлагал рассрочку. выдал клиенту визитки. сообщил, рекомендовано приезжать проверку каждые 3-4 месяца. при выдаче гарантийного талона покупателю, сообщил о звонке колл-центра.",
           0
          ],
          [
           "не задал открытых вопросов уточняющих режим эксплуатации авто/другого средства мобильности, характеристики авто. показывает состояние уровень жидкости новом акб. продемонстрировал покупателю доп. товар аксессуары. выдал клиенту визитки. при выдаче гарантийного талона покупателю, сообщил о звонке колл-центра.",
           0
          ],
          [
           "не задал открытых вопросов уточняющих режим эксплуатации авто/другого средства мобильности, характеристики авто. показывает состояние уровень жидкости новом акб. продемонстрировал покупателю доп. товар аксессуары. не предлагал рассрочку.",
           0
          ],
          [
           "не задает открытых вопросов уточняющих режим эксплуатации авто/другого средства мобильности, характеристики авто. использовал способы стимулирования клиента к совершению покупки. показывает состояние уровень жидкости новом акб. выдал клиенту визитки. не оказал помощь установке",
           0
          ],
          [
           "не сообщил о звонке колл-центра. рассказал клиенту об актуальных акциях, предложениях. предложил купить сопутствующий ассортимент, аксессуары. режиме эксплуатации акб: периодичность зарядки, проверке уровня цвета электролита. показал состояние уровень жидкости новом акб. нагрузочной вилкой заряда нового проверил текущее заряд, жидкости.",
           -1
          ],
          [
           "не рассказал клиенту об актуальных акциях, предложениях. показал состояние уровень жидкости новом акб.",
           -1
          ],
          [
           "не проверил текущее состояние акб: заряд, уровень жидкости. задавал открытые вопросы уточняющие режим эксплуатации авто. уточнил, какие критерии важны при выборе обращает внимание. показал жидкости новом акб. рассказал о режиме периодичность зарядки, проверке уровня цвета электролита. провёл развернутую презентацию продукта (доп. товары). клиенту об актуальных акциях, предложениях. выдал визитные карточки. сообщил звонке колл-центра.",
           0
          ],
          [
           "не уточнил, какие критерии важны при выборе обращает внимание. резюмировал: озвучил потребность/запрос клиента, режим эксплуатации доп. оборудование. рассказал о продукте используя развернутую презентацию озвучиванием характеристик преимуществ той иной модели. использовал способы стимулирования клиента к совершению покупки. режиме акб: периодичность зарядки, проверке уровня цвета электролита. показал состояние уровень жидкости новом акб. предложил клиенту купить сопутствующий ассортимент, аксессуары. провёл продукта (доп. товары). об актуальных акциях, предложениях. выдал визитные карточки. оказал помощь установке",
           -1
          ],
          [
           "находится ртт нарушением формы одежды(футболка не соответствует требованиям). проверил текущее состояние акб: заряд, уровень жидкости. уточнил, какие критерии важны при выборе обращает внимание. показал жидкости новом акб. рассказал о режиме эксплуатации периодичность зарядки, проверке уровня цвета электролита. предложил клиенту купить сопутствующий ассортимент, аксессуары. провёл развернутую презентацию продукта (доп. товары). об актуальных акциях, предложениях. выдал визитные карточки. сообщил \"ждем через 3-4 месяца проверку состояния акб\" оказал помощь установке",
           -1
          ],
          [
           "не проверил текущее состояние акб. использовал способы стимулирования клиента к совершению покупки. предложил клиенту купить сопутствующий ассортимент, аксессуары. провёл развернутую презентацию продукта (доп. товары). рассказал об актуальных акциях, предложениях. сообщил о звонке колл-центра.",
           -1
          ],
          [
           "находился тт без бейджа. не уточнил, какие критерии важны при выборе обращает внимание. провёл развернутую презентацию продукта (доп. товары). рассказал клиенту об актуальных акциях, предложениях.",
           -1
          ],
          [
           "не проверил текущее состояние акб: заряд, уровень жидкости. уточнил, какие критерии важны при выборе обращает внимание. показал жидкости акб. провёл развернутую презентацию продукта (доп. товары). рассказал клиенту об актуальных акциях, предложениях. выдал визитные карточки.",
           0
          ],
          [
           "не уточнил, какие критерии важны при выборе обращает внимание. проверил текущее состояние акб: заряд, уровень жидкости. показал нагрузочной вилкой заряда нового акб. жидкости новом предложил клиенту купить сопутствующий ассортимент, аксессуары. провёл развернутую презентацию продукта (доп. товары). рассказал об актуальных акциях, предложениях. грамотно отработал возражения.",
           0
          ],
          [
           "не выдал визитные карточки. рассказал клиенту об актуальных акциях, предложениях. провёл развернутую презентацию продукта (доп. товары). предложил купить сопутствующий ассортимент, аксессуары. показал состояние уровень жидкости новом акб. уточнил, какие критерии важны при выборе обращает внимание. проверил текущее акб: заряд, жидкости.",
           0
          ],
          [
           "не уточнил, какие критерии важны при выборе обращает внимание. показал состояние уровень жидкости новом акб. рассказал клиенту об актуальных акциях, предложениях. выдал визитные карточки.",
           -1
          ],
          [
           "не сообщил о звонке колл-центра. рассказал клиенту об актуальных акциях, предложениях. провёл развернутую презентацию продукта (доп. товары). предложил купить сопутствующий ассортимент, аксессуары. режиме эксплуатации акб: периодичность зарядки, проверке уровня цвета электролита. показал состояние уровень жидкости новом акб.",
           -1
          ],
          [
           "не показал состояние уровень жидкости новом акб. предложил клиенту купить сопутствующий ассортимент, аксессуары. провёл развернутую презентацию продукта (доп. товары). рассказал об актуальных акциях, предложениях.",
           0
          ],
          [
           "не уточнил наличие дисконтной карты (личной, родственника знакомого). во время презентации вовлекал клиента диалог при помощи уточняющих вопросов. предложил клиенту купить сопутствующий ассортимент, аксессуары. провёл развернутую презентацию продукта (доп. товары). рассказал об актуальных акциях, предложениях.",
           -1
          ],
          [
           "не сообщил о звонке колл-центра. предложил клиенту купить сопутствующий ассортимент, аксессуары. рассказал об актуальных акциях, предложениях. провёл развернутую презентацию продукта (доп. товары). режиме эксплуатации акб: периодичность зарядки, проверке уровня цвета электролита.",
           -1
          ],
          [
           "не проверил текущее состояние акб: заряд, уровень жидкости. показал жидкости новом акб. рассказал о режиме эксплуатации периодичность зарядки, проверке уровня цвета электролита. предложил клиенту купить сопутствующий ассортимент, аксессуары. провёл развернутую презентацию продукта (доп. товары). об актуальных акциях, предложениях.",
           0
          ],
          [
           "не показал состояние уровень жидкости новом акб. проверил текущее акб: заряд, жидкости. предложил клиенту купить сопутствующий ассортимент, аксессуары. провёл развернутую презентацию продукта (доп. товары). рассказал об актуальных акциях, предложениях. выдал визитные карточки. сообщил \"ждем через 3-4 месяца проверку состояния акб\" о звонке колл-центра.",
           0
          ],
          [
           "не выдал визитные карточки. провёл развернутую презентацию продукта (доп. товары). показал состояние уровень жидкости новом акб.",
           0
          ],
          [
           "не показывает состояние уровень жидкости новом акб. выдал визитные карточки.",
           1
          ],
          [
           "не показывает состояние уровень жидкости новом акб. рассказал клиенту об актуальных акциях, предложениях. выдал визитные карточки.",
           -1
          ],
          [
           "не предложил клиенту купить сопутствующий ассортимент, аксессуары. провёл развернутую презентацию продукта (доп. товары). рассказал об актуальных акциях, предложениях. выдал визитные карточки. сообщил о звонке колл-центра.",
           -1
          ],
          [
           "не показал состояние уровень жидкости новом акб. рассказал о режиме эксплуатации акб: периодичность зарядки, проверке уровня цвета электролита. провёл развернутую презентацию продукта (доп. товары). клиенту об актуальных акциях, предложениях. сообщил \"ждем через 3-4 месяца проверку состояния акб\". звонке колл-центра.",
           0
          ],
          [
           "не задавал открытые вопросы уточняющие режим эксплуатации авто. уточнял, какие критерии важны при выборе обращает внимание. показал состояние уровень жидкости новом акб рассказал о режиме акб: периодичность зарядки, проверке уровня цвета электролита. предложил клиенту купить сопутствующий ассортимент, аксессуары. провёл развернутую презентацию продукта (доп. товары). об актуальных акциях, предложениях выдал визитные карточки. сообщил бсо. \"ждем через 3-4 месяца проверку состояния акб\". звонке колл-центра.",
           0
          ],
          [
           "не показал состояние уровень жидкости новом акб. провёл развернутую презентацию продукта (доп. товары). рассказал клиенту об актуальных акциях, предложениях. выдал визитные карточки.",
           0
          ],
          [
           "не задает открытые вопросы уточняющие режим эксплуатации авто. уточнил, какие критерии важны при выборе обращает внимание. показал состояние уровень жидкости новом акб. рассказал о режиме акб: периодичность зарядки, проверке уровня цвета электролита. сообщил звонке колл-центра. выдал визитные карточки.",
           0
          ],
          [
           "не уточнил наличие дисконтной карты. озвучил потребность/запрос клиента, режим эксплуатации доп. оборудование. во время презентации вовлекал клиента диалог при помощи уточняющих вопросов. использовал способы стимулирования к совершению покупки, используя фразы «берем?», «оформляем?», «когда планируете покупку?». предложил клиенту купить сопутствующий ассортимент, аксессуары. провёл развернутую презентацию продукта (доп. товары). выдал визитные карточки. сообщил о бсо.",
           -1
          ],
          [
           "не использовал способы стимулирования клиента к совершению покупки, используя фразы «берем?», «оформляем?», «когда планируете покупку?». предложил клиенту купить сопутствующий ассортимент, аксессуары. провёл развернутую презентацию продукта (доп. товары). рассказал об актуальных акциях, предложениях. выдал визитные карточки.",
           -1
          ],
          [
           "не уточнил, какие критерии важны при выборе обращает внимание. задавал открытых вопросов уточняющие режим эксплуатации авто. показал состояние уровень жидкости новом акб. провёл развернутую презентацию продукта (доп. товары). рассказал клиенту об актуальных акциях, предложениях. сообщил о звонке колл-центра.",
           0
          ],
          [
           "не показал состояние уровень жидкости новом акб. рассказал о режиме эксплуатации акб: периодичность зарядки, проверке уровня цвета электролита и.т.д. клиенту об актуальных акциях, предложениях. выдал визитки. сообщил бсо. \"ждем через 3-4 месяца проверку состояния акб\". звонке колл-центра.",
           0
          ],
          [
           "не задавал открытых вопросов уточняющие режим эксплуатации авто. уточнил, какие критерии важны при выборе обращает внимание. показал состояние уровень жидкости акб.",
           0
          ],
          [
           "не уточнил, какие критерии важны при выборе обращает внимание. показал состояние уровень жидкости новом акб. провёл развернутую презентацию продукта (доп. товары).",
           -1
          ],
          [
           "не задает открытых вопросов уточняющих режим эксплуатации авто/другого средства мобильности, характеристики авто. использовал способы стимулирования клиента к совершению покупки. показывает состояние уровень жидкости новом акб. выдал клиенту визитки. при выдаче гарантийного талона покупателю, сообщил о звонке колл-центра.",
           0
          ],
          [
           "не показывает состояние уровень жидкости новом акб. продемонстрировал покупателю доп. товар аксессуары. не предлагал рассрочку. выдал клиенту визитки. сообщил о бсо. сообщил, рекомендовано приезжать проверку каждые 3-4 месяца.",
           0
          ],
          [
           "не задает вопросов уточняющих режим эксплуатации. не показывает состояние уровень жидкости новом акб. предлагал рассрочку. сообщил, ждем через 3-4 месяца проверку.",
           -1
          ],
          [
           "не задает открытых вопросов уточняющих режим эксплуатации. не показывает состояние уровень жидкости новом акб. предлагал рассрочку. выдал визитки. сообщил о бсо.",
           0
          ],
          [
           "не показывает состояние уровень жидкости акб. не предлагал рассрочку. при выдаче гарантийного талона покупателю, сообщил о звонке колл-центра.",
           1
          ],
          [
           "не использовал способы стимулирования клиента к совершению покупки. показывает состояние уровень жидкости новом акб. продемонстрировал покупателю доп. товар аксессуары. не предлагал рассрочку. выдал клиенту визитки. сообщили о бсо. сообщил, рекомендовано приезжать проверку каждые 3-4 месяца.",
           0
          ],
          [
           "не показывает состояние уровень жидкости новом акб. выдал клиенту визитки. при выдаче гарантийного талона покупателю, сообщил о звонке колл-центра.",
           1
          ],
          [
           "не проверил текущее состояние старого акб. использовал способы стимулирования клиента к совершению покупки. не показывает уровень жидкости новом продемонстрировал покупателю доп. товар аксессуары. предлагал рассрочку. выдал клиенту визитки. при выдаче гарантийного талона покупателю, сообщил о звонке колл-центра.",
           0
          ],
          [
           "не задает открытых вопросов уточняющих режим эксплуатации авто/другого средства мобильности, характеристики авто. использовал способы стимулирования клиента к совершению покупки. показывает состояние уровень жидкости новом акб. продемонстрировал покупателю доп. товар аксессуары. не предлагал рассрочку. при выдаче гарантийного талона покупателю, сообщил о звонке колл-центра. оказал помощь донести до багажника.",
           0
          ],
          [
           "не задал открытых вопросов уточняющих режим эксплуатации. уточнил, какие критерии важны при выборе. использовал способы стимулирования клиента к совершению покупки. показывает состояние уровень жидкости новом акб. продемонстрировал покупателю доп. товар аксессуары. не предлагал рассрочку. выдал клиенту визитки. сообщил о бсо. сообщил, рекомендовано приезжать проверку каждые 3-4 месяца. при выдаче гарантийного талона покупателю, звонке колл-центра.",
           0
          ],
          [
           "находится тт без бейджа. не показывает нагрузочной вилкой состояние заряда акб. уровень жидкости новом не продемонстрировал покупателю доп. товар аксессуары. предлагал рассрочку. выдал клиенту визитки.",
           -1
          ],
          [
           "не уточнил наличие дисконтной карты. показывает состояние уровень жидкости новом акб. провёл развернутую презентацию продукта (доп. товары). не предлагал рассрочку. выдал клиенту визитки. сообщил, поступит звонок от колл-центра.",
           0
          ],
          [
           "не проверил текущее состояние старого акб. показывает уровень жидкости новом выдал клиенту визитки. не сообщил о бсо. сообщил, рекомендовано приезжать проверку каждые 3-4 месяца.",
           0
          ],
          [
           "не показывает состояние уровень жидкости новом акб. продемонстрировал покупателю доп. товар аксессуары. не предлагал рассрочку. выдал клиенту визитки. сообщил о бсо. сообщил, рекомендовано приезжать проверку каждые 3-4 месяца. при выдаче гарантийного талона покупателю, звонке колл-центра. оказал помощь установке",
           0
          ],
          [
           "не задал открытых вопросов уточняющих режим эксплуатации. использовал способы стимулирования клиента к совершению покупки. ​​​​продавец показывает состояние уровень жидкости акб. провёл развернутую презентацию продукта (доп. товары). не сообщил о звонке колл-центра. оказал помощь установке акб же донести до багажника.",
           0
          ],
          [
           "не показывает состояние уровень жидкости новом акб. выдал клиенту визитки. не предлагал рассрочку. очень хорошо проконсультировал.",
           1
          ],
          [
           "не задает открытых вопросов уточняющих режим эксплуатации авто/другого средства мобильности, характеристики авто. уточнил, какие критерии важны при выборе. не использовал способы стимулирования клиента к совершению покупки. показывает состояние уровень жидкости новом акб. продемонстрировал покупателю доп. товар аксессуары. предлагал рассрочку. оказал помощь донести до багажника.",
           0
          ],
          [
           "не показывает состояние уровень жидкости новом акб. рассказывает/напоминает о режиме эксплуатации не провёл развернутую презентацию продукта (доп. товары). предлагал рассрочку. при выдаче гарантийного талона покупателю, сообщил звонке колл-центра. оказал помощь донести до багажника.",
           0
          ],
          [
           "при подъезде автомобиля не вышел улицу. проверил текущее состояние старого акб. использовал способы стимулирования клиента к совершению покупки. показывает нагрузочной вилкой заряда не уровень жидкости новом продемонстрировал покупателю доп. товар аксессуары. выдал клиенту визитки. сообщил о бсо. сообщил, рекомендовано приезжать проверку каждые 3-4 месяца. при выдаче гарантийного талона покупателю, звонке колл-центра. оказал помощь донести до багажника.",
           -1
          ],
          [
           "не задал открытых вопросов уточняющих режим эксплуатации. не использовал способы стимулирования клиента к совершению покупки. показывает состояние уровень жидкости новом акб. предлагал рассрочку. выдал клиенту визитки. при выдаче гарантийного талона покупателю, сообщил о звонке колл-центра. оценила работу мере возможности, так-как он разговаривает только по-русски по-оссетински.",
           0
          ],
          [
           "не использовал способы стимулирования клиента к совершению покупки. показывает состояние уровень жидкости акб. не выдал клиенту визитки. сообщил, поступит звонок от колл-центра.",
           0
          ],
          [
           "не задает открытых вопросов уточняющих режим эксплуатации. показывает состояние уровень жидкости акб. предложил клиенту купить сопутствующий ассортимент, аксессуары. не сообщил, поступит звонок от колл-центра.",
           -1
          ],
          [
           "не задает открытых вопросов уточняющих режим эксплуатации. показывает состояние уровень жидкости акб. предложил клиенту купить сопутствующий ассортимент, аксессуары. клиенту выдали визитных карточек листовок. не сообщил, поступит звонок от колл-центра.",
           0
          ],
          [
           "не показывает состояние уровень жидкости новом акб. очень хорошо проконсультировал.",
           1
          ],
          [
           "не проверил текущее состояние старого акб. использовал способы стимулирования клиента к совершению покупки. показывает уровень жидкости новом провёл развернутую презентацию продукта (доп. товары). не предлагал рассрочку. сообщил о бсо. сообщил, рекомендовано приезжать проверку каждые 3-4 месяца. при выдаче гарантийного талона покупателю, звонке колл-центра.",
           0
          ],
          [
           "не задает открытых вопросов уточняющих режим эксплуатации. использовал способы стимулирования клиента к совершению покупки. показывает состояние уровень жидкости акб. предложил клиенту купить сопутствующий ассортимент, аксессуары. не предлагал рассрочку. сообщил рекомендовано приезжать проверку через 3-4 месяца.",
           0
          ],
          [
           "не показывает состояние уровень жидкости новом акб. провёл развернутую презентацию продукта (доп. товары). не предлагал рассрочку. выдал клиенту визитки. сообщил о бсо.",
           0
          ],
          [
           "не задал открытых вопросов уточняющих режим эксплуатации. показывает состояние уровень жидкости новом акб. провёл развернутую презентацию продукта (доп. товары). не предлагал рассрочку.",
           0
          ],
          [
           "не показывает состояние уровень жидкости новом акб. выдал клиенту визитки. не предлагал рассрочку. оказал помощь установке",
           1
          ],
          [
           "не задает открытых вопросов уточняющих режим эксплуатации не уточнил, какие критерии важны при выборе. показывает состояние уровень жидкости новом акб. при выдаче гарантийного талона покупателю, сообщил о звонке колл-центра.",
           0
          ],
          [
           "не использовал способы стимулирования клиента к совершению покупки. из-за этого клиент долго мог определиться брать нет. процессе сильно помог другой (рудиков антон николаевич). показывает состояние уровень жидкости новом акб. не предлагал рассрочку. выдал визитки.",
           -1
          ],
          [
           "не задает вопросов уточняющих режим эксплуатации. показывает состояние уровень жидкости новом акб. продемонстрировал покупателю доп. товар аксессуары. не предлагал рассрочку. при выдаче гарантийного талона покупателю, сообщил о звонке колл-центра. оказал помощь установке",
           0
          ],
          [
           "не показывает состояние уровень жидкости новом акб. не предлагал рассрочку. оказал помощь установке целом хорошо проконсультировал.",
           1
          ],
          [
           "​​​​продавец не уточнил наличие дисконтной карты. не показывает состояние уровень жидкости акб. предлагал рассрочку. сообщил поступит звонок от колл-центра.",
           -1
          ],
          [
           "не задает открытых вопросов уточняющих режим эксплуатации. уточнил, какие критерии важны при выборе. использовал способы стимулирования клиента к совершению покупки. показал состояние уровень жидкости акб. не выдал клиенту визитки. сообщил, поступит звонок от колл-центра.",
           0
          ],
          [
           "не использовал способы стимулирования клиента к совершению покупки. не предлагал рассрочку. выдал клиенту визитки. сообщил о бсо. сообщил, нужно приезжать через 3-4 месяца проверку. поступит звонок от колл-центра.",
           -1
          ],
          [
           "не показал состояние уровень жидкости акб",
           -1
          ],
          [
           "не форме. показывает состояние уровень жидкости новом акб. рассказал о режиме эксплуатации акб: периодичность зарядки, проверке уровня цвета электролита. предложил клиенту купить сопутствующий ассортимент, аксессуары. провёл развернутую презентацию продукта (доп. товары). об актуальных акциях, предложениях.",
           0
          ],
          [
           "бардак прикассовой зоне. находится ртт не форме, без бейджа. поприветствовал клиента сразу же. уточнил, какие критерии важны при выборе обращает внимание. уточнил наличие дисконтной карты (личной, родственника знакомого). озвучил потребность/запрос клиента, режим эксплуатации доп. оборудование. рассказал о продукте используя развернутую презентацию озвучиванием характеристик преимуществ. во время презентации вовлекал диалог помощи уточняющих вопросов. предпринял попытку отработать возникшие возражения. пытался закрыть все возражения клиента. использовал способы стимулирования к совершению покупки, фразы «берем?» предложил клиенту купить сопутствующий ассортимент, аксессуары. провёл продукта (доп. товары). об актуальных акциях, предложениях. сообщил бсо отсутствие субординации отношению во консультации жевал жвачку, подтягивался, находился бейджа, долгое подходил клиенту, хотя был свободен.",
           -1
          ],
          [
           "не проверил текущее состояние акб: заряд, уровень жидкости. показал жидкости новом акб. рассказал о режиме эксплуатации периодичность зарядки, проверке уровня цвета электролита т.д. провёл развернутую презентацию продукта (доп. товары). клиенту об актуальных акциях, предложениях. сообщил звонке колл-центра.",
           0
          ],
          [
           "не использовал способы стимулирования клиента к совершению покупки, используя фразы «берем?», «оформляем?», «когда планируете покупку?». показал состояние уровень жидкости новом акб. выдал клиенту визитки.",
           -1
          ],
          [
           "не задавал открытые вопросы уточняющие режим эксплуатации авто/другого средства мобильности, характеристики авто, сложности эксплуатации. уточнял, какие критерии важны при выборе. показал состояние уровень жидкости новом акб. предложил клиенту купить сопутствующий ассортимент, аксессуары. провёл развернутую презентацию продукта (доп. товары). при выдаче гарантийного талона покупателю, сообщил о звонке колл-центра.",
           0
          ],
          [
           "не проверил текущее состояние акб: заряд, уровень жидкости. уточнил, какие критерии важны при выборе, обращать внимание. рассказал о режиме эксплуатации периодичность зарядки, проверке уровня жидкости и.т.д. выдал гарантийный талон. использовал способы стимулирования клиента к совершению покупки. показал новом акб. визитные карточки. сообщил бсо. сказал \"ждем через 3-4 месяца проверку состояния акб\". звонке колл-центра. цветом выделены отклонения выявленные прошлый просмотр, необходимо обратить",
           0
          ],
          [
           "не показывает состояние уровень жидкости акб. не выдал визитки. сообщил, поступит звонок от колл-центра. целом хорошо проконсультировал.",
           -1
          ],
          [
           "не уточнил наличие дисконтной карты. показывает состояние уровень жидкости новом акб. не предлагал рассрочку. выдал клиенту визитки. при выдаче гарантийного талона покупателю, сообщил о звонке колл-центра.",
           -1
          ],
          [
           "не показывает нагрузочной вилкой состояние заряда акб. уровень жидкости новом выдал клиенту визитки. не оказал помощь установке",
           1
          ],
          [
           "не использовал способы стимулирования клиента к совершению покупки. не показывает состояние уровень жидкости новом акб. продемонстрировал покупателю доп. товар аксессуары. предлагал рассрочку. выдал клиенту визитки. при выдаче гарантийного талона покупателю, сообщил о звонке колл-центра.",
           0
          ],
          [
           "не показывает состояние уровень жидкости новом акб. не предлагал рассрочку. при выдаче гарантийного талона покупателю, сообщил о звонке колл-центра. целом очень хорошо проконсультировал.",
           1
          ],
          [
           "не задал вопросов уточняющих режим эксплуатации. не показывает нагрузочной вилкой состояние заряда акб. уровень жидкости новом предлагал рассрочку. выдал клиенту визитки.",
           0
          ],
          [
           "не показывает нагрузочной вилкой состояние заряда акб. не уровень жидкости выдал клиенту визитки. предлагал рассрочку. сообщил о бсо. нужно через 3-4 месяца проверку.",
           -1
          ],
          [
           "текущая оценка от 11.10 >​​​​продавец не задает открытых вопросов уточняющих режим эксплуатации авто. продемонстрировал покупателю доп. товар аксессуары. >не сообщил, поступит звонок колл-центра. >",
           -1
          ],
          [
           "не задает открытых вопросов уточняющих режим эксплуатации. показывает состояние уровень жидкости акб. клиенту выдали визитных карточек листовок. сообщил о звонке колл-центра.",
           -1
          ],
          [
           "не задает открытых вопросов уточняющих режим эксплуатации. не уточнил, какие критерии важны при выборе. показывает состояние уровень жидкости акб. выдал клиенту визитки. сообщает \"ждем через 3-4 месяца проверку состояния акб\". сообщил, поступит звонок от колл-центра.",
           -1
          ],
          [
           "не задал открытых вопросов уточняющих режим эксплуатации авто. уточнил, какие критерии важны при выборе. показывает состояние уровень жидкости новом акб. не продемонстрировал покупателю доп. товар аксессуары. выдал клиенту визитки. при выдаче гарантийного талона покупателю, сообщил о звонке колл-центра.",
           0
          ],
          [
           "​​​​продавец не задает открытых вопросов уточняющих режим эксплуатации авто. продемонстрировал покупателю доп. товар аксессуары. не сообщил, поступит звонок от колл-центра.",
           -1
          ],
          [
           "​​​​​продавец не задал открытых вопросов уточняющих режим эксплуатации. не сообщил, поступит звонок от колл-центра.",
           -1
          ],
          [
           "не задает открытых вопросов уточняющих режим эксплуатации. показывает нагрузочной вилкой состояние заряда акб. не уровень жидкости новом продемонстрировал покупателю доп. товар аксессуары. предлагал рассрочку. выдал клиенту визитки. сообщил о бсо. сообщил, рекомендовано приезжать проверку каждые 3-4 месяца. при выдаче гарантийного талона покупателю, звонке колл-центра.",
           0
          ],
          [
           "без бейджа. не показывает состояние уровень жидкости новом акб. не продемонстрировал покупателю доп. товар аксессуары. предлагал рассрочку. выдал клиенту визитки.",
           -1
          ],
          [
           "не задал открытых вопросов уточняющих режим эксплуатации. не уточнил, какие критерии важны при выборе. показывает состояние уровень жидкости новом акб. продемонстрировал покупателю доп. товар аксессуары. предлагал рассрочку. выдал клиенту визитки.",
           0
          ],
          [
           "не задал вопросов уточняющих режим эксплуатации. не использовал способы стимулирования клиента к совершению покупки. показывает состояние уровень жидкости новом акб. продемонстрировал покупателю доп. товар аксессуары. предлагал рассрочку. выдал клиенту визитки. сообщил о бсо. сообщил, рекомендовано приезжать проверку каждые 3-4 месяца. при выдаче гарантийного талона покупателю, звонке колл-центра.",
           0
          ],
          [
           "не показывает состояние уровень жидкости новом акб. не предлагал рассрочку. выдал клиенту визитки.",
           1
          ],
          [
           "не показывает состояние уровень жидкости новом акб. выдал клиенту визитки. при выдаче гарантийного талона покупателю, сообщил о звонке колл-центра.",
           1
          ],
          [
           "не проверил текущее состояние старого акб. использовал способы стимулирования клиента к совершению покупки. задает открытых вопросов уточняющих режим эксплуатации. не выдал визиток.",
           -1
          ],
          [
           "не показывает состояние уровень жидкости акб. не сообщил \"поступит звонок от колл-центра для оценки качества обслуживания\" хорошо проконсультировал.",
           -1
          ],
          [
           "не задал вопросов уточняющих режим эксплуатации. показывает состояние уровень жидкости акб. целом очень хорошо проконсультировал.",
           -1
          ],
          [
           "находится ртт нарушением формы обуви. не показывает состояние уровень жидкости нового акб так же была произведена презентация аксессуаров. выдал клиенту визитки рекламные буклеты. сообщает важные составляющие гарантийного талона. сообщил, поступит звонок от колл-центра для оценки качества обслуживания.",
           2
          ],
          [
           "не показывает состояние уровень жидкости нового акб было озвучено предложение приобрести доп. товары. так же была произведена презентация аксессуаров. сообщает \"ждем через 3-4 месяца проверку состояния акб\". выдал клиенту визитки рекламные буклеты. важные составляющие гарантийного талона. о том, поступит звонке колл-центра. помог донести до машины. очень уверенно говорит при презентации.",
           0
          ],
          [
           "не проверил новый акб клиента нагрузочной вилкой. показывает состояние уровень жидкости нового выдал клиенту визитки рекламные буклеты. сообщает важные составляющие гарантийного талона.",
           -1
          ],
          [
           "находится ртт нарушением формы одежды обуви. хорошо консультировал, грамотно отработал все возражения.",
           -1
          ],
          [
           "текущая оценка обусловлена тем, другой вмешался ход продажи. находится ртт нарушением формы одежды обуви. не проверил состояние текущего акб. показывает уровень жидкости нового акб выдал клиенту визитки рекламные буклеты. сообщает важные составляющие гарантийного талона.",
           -1
          ],
          [
           "находится ртт нарушением формы одежды обуви. не показывает состояние уровень жидкости нового акб выдал клиенту визитки рекламные буклеты. сообщает важные составляющие гарантийного талона. так же было озвучено о том, поступит звонке колл-центра.",
           -1
          ],
          [
           "не показывает состояние уровень жидкости нового акб выдал клиенту визитки рекламные буклеты. >очень качественно отработал возражения. грамотная консультация презентацией. >",
           -1
          ],
          [
           "ртт беспорядок. разбросаны товары залу. клиент споткнулся об акб. не вышел улицу текущим акб клиента. находится нарушением формы обуви. выдал клиенту визитки рекламные буклеты. сообщает важные составляющие гарантийного талона.",
           -1
          ],
          [
           "не проверил текущий акб клиента нагрузочной вилкой. показывает состояние уровень жидкости клиента. было озвучено предложение приобрести доп. товары. так же была произведена презентация аксессуаров.",
           -1
          ],
          [
           "не показывает состояние уровень жидкости нового акб выдал клиенту визитки рекламные буклеты. очень качественно отработал возражения. грамотная консультация презентацией.",
           -1
          ],
          [
           "находится ртт нарушением формы обуви. не показывает состояние уровень жидкости нового акб было озвучено предложение приобрести доп. товары. так же была произведена презентация аксессуаров. сообщает \"ждем через 3-4 месяца проверку состояния акб\". выдал клиенту визитки рекламные буклеты. важные составляющие гарантийного талона.",
           0
          ],
          [
           "находится ртт нарушением формата обуви.. не проверил новый акб клиента нагрузочной вилкой. показывает состояние уровень жидкости нового было озвучено предложение приобрести доп. товары. так же была произведена презентация аксессуаров. клиенту о возможности бсо. сообщает \"ждем через 3-4 месяца проверку состояния акб\". выдал клиенту визитки рекламные буклеты.",
           0
          ],
          [
           "находится ртт нарушением формы одежды обуви. не рассказывает о режиме эксплуатации акб. проверил текущий акб клиента нагрузочной вилкой. показывает состояние уровень жидкости нового было озвучено предложение приобрести доп. товары. так же была произведена презентация аксессуаров. сообщает \"ждем через 3-4 месяца проверку состояния акб\". выдал клиенту визитки рекламные буклеты. важные составляющие гарантийного талона.",
           0
          ],
          [
           "находится ртт нарушением формы одежды обуви. не показывает состояние уровень жидкости нового акб было озвучено предложение приобрести доп. товары. так же была произведена презентация аксессуаров. выдал клиенту визитки рекламные буклеты. сообщает важные составляющие гарантийного талона.",
           2
          ],
          [
           "находится ртт нарушением формы одежды обуви. без бейджа. не было озвучено предложение приобрести доп. товары. так же была произведена презентация аксессуаров. выдал клиенту визитки рекламные буклеты. сообщает важные составляющие гарантийного талона. о том, поступит звонке колл-центра.",
           -1
          ],
          [
           "не рассказывает о режиме эксплуатации акб. проверил новый акб клиента нагрузочной вилкой. показывает состояние уровень жидкости нового так же была произведена презентация аксессуаров. сообщает \"ждем через 3-4 месяца проверку состояния акб\". выдал клиенту визитки рекламные буклеты. важные составляющие гарантийного талона. было озвучено том, поступит звонке колл-центра.",
           -1
          ],
          [
           "находится ртт нарушением формы одежды обуви. не проверил текущее состояние акб: заряд, уровень жидкости. задавал активно вопросы, а так же уточнял важные критерии. новый акб клиента нагрузочной вилкой. показывает жидкости нового было озвучено предложение приобрести доп. товары. так была произведена презентация аксессуаров. выдал клиенту визитки рекламные буклеты. сообщает составляющие гарантийного талона.",
           -1
          ],
          [
           "находится ртт нарушением формы одежды обуви. не проверил акб клиента нагрузочной вилкой. показывает состояние уровень жидкости нового клиенту озвучено о возможности бсо. сообщает \"ждем через 3-4 месяца проверку состояния акб\". выдал клиенту визитки рекламные буклеты. важные составляющие гарантийного талона. очень неуверенное завершение продажи, конкретно были сложности при работе компьютером.",
           0
          ],
          [
           "не показывает состояние уровень жидкости нового акб не была произведена презентация аксессуаров. выдал клиенту визитки рекламные буклеты. сообщает важные составляющие гарантийного талона.",
           2
          ],
          [
           "находится ртт нарушением формата обуви. так же не была произведена презентация аксессуаров. выдал клиенту визитки рекламные буклеты. сообщает важные составляющие гарантийного талона.",
           -1
          ],
          [
           "не уточнил наличие дисконтной карты. проверил акб клиента нагрузочной вилкой. так же была произведена презентация аксессуаров. выдал клиенту визитки рекламные буклеты. сообщает важные составляющие гарантийного талона.",
           -1
          ],
          [
           "находится ртт без бейджа. не уточнил наличие дисконтной карты было озвучено предложение приобрести доп. товары. так же была произведена презентация аксессуаров. выдал клиенту визитки рекламные буклеты.",
           -1
          ],
          [
           "находится ртт нарушением формы одежды обуви. не было озвучено предложение приобрести доп. товары. так же была произведена презентация аксессуаров. выдал клиенту визитки рекламные буклеты. сообщает важные составляющие гарантийного талона.",
           2
          ],
          [
           "находится ртт нарушением формы одежды обуви. не рассказывает о режиме эксплуатации акб. проверил новый акб клиента нагрузочной вилкой. показывает состояние уровень жидкости нового было озвучено предложение приобрести доп. товары. так же была произведена презентация аксессуаров. клиенту возможности бсо. сообщает \"ждем через 3-4 месяца проверку состояния акб\". выдал клиенту визитки рекламные буклеты. важные составляющие гарантийного талона. том, поступит звонке колл-центра.",
           0
          ],
          [
           "не выдал клиенту визитки рекламные буклеты. полные полки акб. хорошая уверенная консультация. грамотно отработал все возражения. очень обходителен клиентом.",
           -1
          ],
          [
           "не выдал клиенту визитки рекламные буклеты. магазине все чисто. полные полки акб. очень грамотная консультация. полностью отработаны возражения.",
           -1
          ],
          [
           "не была произведена презентация аксессуаров. не выдал клиенту визитки рекламные буклеты. сообщает важные составляющие гарантийного талона. магазине все чисто. полные полки акб.",
           -1
          ],
          [
           "не показывает состояние уровень жидкости нового акб. было озвучено предложение приобрести доп. товары. так же была произведена презентация аксессуаров. выдал клиенту визитки рекламные буклеты. сообщает важные составляющие гарантийного талона. магазине все чисто. полные полки",
           2
          ],
          [
           "ртт не уставном формате обуви. проверил состояние уровень жидкости акб клиента. так же была произведена презентация аксессуаров. выдал клиенту визитки рекламные буклеты. магазине все чисто. полные полки акб.",
           -1
          ],
          [
           "ртт замечен беспорядок пред кассовой зоне. не выдал клиенту визитки рекламные буклеты. сообщает важные составляющие гарантийного талона. полные полки акб. хорошая уверенная консультация.",
           -1
          ],
          [
           "не выдал клиенту визитки рекламные буклеты. сообщил \"ждем через 3-4 месяца проверку состояния акб\" сообщает важные составляющие гарантийного талона. магазине все чисто. полные полки акб.",
           -1
          ],
          [
           "не показывает состояние уровень жидкости нового акб было озвучено предложение приобрести доп. товары. так же была произведена презентация аксессуаров. выдал клиенту визитки рекламные буклеты. сообщает важные составляющие гарантийного талона. о том, поступит звонок колл-центра. магазине все чисто. полные полки акб.",
           2
          ],
          [
           "обслуживает клиентов не фирменной одежде обуви. показывает состояние уровень жидкости нового акб было озвучено предложение приобрести доп. товары. так же была произведена презентация аксессуаров. выдал клиенту визитки рекламные буклеты. сообщает важные составляющие гарантийного талона. магазине все чисто. полные полки акб.",
           2
          ],
          [
           "не проверил состояние текущего акб клиента. так же было проверки нагрузочной вилке нового показывает уровень жидкости акб. озвучено предложение приобрести доп. товары. была произведена презентация аксессуаров. выдал клиенту визитки рекламные буклеты. сообщает важные составляющие гарантийного талона. не о звонке колл-центра. возможность пользоваться бсо от нашей компании. магазине все чисто. полные полки",
           2
          ],
          [
           "не было озвучено предложение приобрести доп. товары. так же была произведена презентация аксессуаров. выдал клиенту визитки рекламные буклеты. сообщает важные составляющие гарантийного талона. не о звонке колл-центра. магазине все чисто. полные полки акб. грамотно отработал возражения.",
           -1
          ],
          [
           ">на ртт беспорядок пред кассовой зоне. не выдал клиенту визитки рекламные буклеты. предложил купить сопутствующий ассортимент, аксессуары. >не был продемонстрирован доп. товар. > полные полки акб.",
           -1
          ],
          [
           "ртт беспорядок пред кассовой зоне. не выдал клиенту визитки рекламные буклеты. предложил купить сопутствующий ассортимент, аксессуары. не был продемонстрирован доп. товар. полные полки акб.",
           -1
          ],
          [
           "не уставной форме обуви. выдал клиенту визитки рекламные буклеты. >при выдаче гарантийного талона уточнил покупателю важные опции гарантии. сообщает \"ждем через 3-4 месяца проверку состояния акб\" показывает состояние уровень жидкости новом акб. покупателю, сообщил о звонке колл-центра. >в магазине все чисто. полные полки >",
           -1
          ],
          [
           "не уставной форме обуви. выдал клиенту визитки рекламные буклеты. предложил купить сопутствующий ассортимент, аксессуары. не был продемонстрирован доп. товар. магазине все чисто. полные полки акб.",
           -1
          ],
          [
           "не уставной форме обуви. выдал клиенту визитки рекламные буклеты. при выдаче гарантийного талона уточнил покупателю важные опции гарантии. сообщает \"ждем через 3-4 месяца проверку состояния акб\" показывает состояние уровень жидкости новом акб. покупателю, сообщил о звонке колл-центра. магазине все чисто. полные полки",
           -1
          ],
          [
           "не показал состояние уровень жидкости новом акб. было озвучено предложение приобрести доп. товары. так же была произведена презентация аксессуаров. выдал клиенту визитки рекламные буклеты. сообщает клиенту, мы ждем его через 3-4 месяца проверку состояния при выдаче гарантийного талона, указал важные составляющие. магазине все чисто. полные полки грамотно отработал возражения.",
           0
          ],
          [
           "работает не уставной форме одежды. использовал способы стимулирования клиента к совершению покупки, используя фразы «берем?». рассказывает/напоминает о режиме эксплуатации акб: периодичность зарядки, проверке уровня жидкости. не было озвучено том, компания оказывает бсо. магазине все чисто. полные полки акб.",
           -1
          ],
          [
           "обслуживает клиента не рабочей форме. показал состояние уровень жидкости новом акб. было озвучено предложение приобрести доп. товары. так же была произведена презентация аксессуаров. выдал клиенту визитки рекламные буклеты. сообщает клиенту, мы ждем его через 3-4 месяца проверку состояния не о звонке колл-центра. магазине все чисто. полные полки грамотно отработал возражения.",
           0
          ],
          [
           "обслуживает клиента не рабочей форме. показал состояние уровень жидкости новом акб. было озвучено предложение приобрести доп. товары. так же была произведена презентация аксессуаров. выдал клиенту визитки рекламные буклеты. сообщает клиенту, мы ждем его через 3-4 месяца проверку состояния не о звонке колл-центра. магазине все чисто. полные полки грамотно отработал возражения.",
           0
          ],
          [
           "обслуживает клиента не рабочей форме. показал состояние уровень жидкости новом акб. было озвучено предложение приобрести доп. товары. так же была произведена презентация аксессуаров. выдал клиенту визитки рекламные буклеты. сообщает клиенту, мы ждем его через 3-4 месяца проверку состояния не о звонке колл-центра. магазине все чисто. полные полки грамотно отработал возражения.",
           0
          ],
          [
           "не выдал клиенту визитки рекламные буклеты. >в магазине все чисто. полные полки акб. >консультацию провел хорошо. грамотно отработал возражения. >",
           -1
          ],
          [
           "закрыл ртт 19:08. не показал состояние уровень жидкости новом акб. было озвучено предложение приобрести доп. товары. так же была произведена презентация аксессуаров. выдал клиенту визитки рекламные буклеты. магазине все чисто. полные полки консультацию провел хорошо. грамотно отработал возражения.",
           -1
          ],
          [
           "не выдал клиенту визитки рекламные буклеты. магазине все чисто. полные полки акб. консультацию провел хорошо. грамотно отработал возражения.",
           -1
          ],
          [
           "не уставной форме одежды без беджа. выдал клиенту визитки рекламные буклеты. при выдаче гарантийного талона уточнил покупателю важные опции гарантии. продемонстрировал доп. товар аксессуары. показывает состояние уровень жидкости новом акб. покупателю, сообщил о звонке колл-центра. магазине все чисто. полные полки",
           -1
          ],
          [
           "не выдал клиенту визитки рекламные буклеты. проверил текущее состояние акб посетителя: заряд, уровень жидкости. показывает жидкости новом акб. при выдаче гарантийного талона покупателю, сообщил о звонке колл-центра. целом очень достойная консультация. внимательно слушал, благодаря чему продажа завершилась успешно. магазине все чисто. полные полки",
           -1
          ],
          [
           "не выдал клиенту визитки рекламные буклеты. при выдаче гарантийного талона покупателю, озвучил важные моменты гарантийными случаями. целом очень достойная консультация. внимательно слушал, благодаря чему продажа завершилась успешно. магазине все чисто. полные полки акб.",
           -1
          ],
          [
           "не выдал клиенту визитки рекламные буклеты. не было озвучено о том, будет произведен звонок колл-центра. целом очень достойная консультация. внимательно слушал, благодаря чему продажа завершилась успешно. клиент ушел довольный покупкой, обещал вернуться ближайшее время.",
           -1
          ],
          [
           "не выдал клиенту визитки рекламные буклеты. >не было озвучено о том, будет произведен звонок колл-центра. >в целом очень достойная консультация. внимательно слушал, благодаря чему продажа завершилась успешно. >клиент ушел довольный покупкой, обещал вернуться ближайшее время. >",
           -1
          ],
          [
           "не выдал клиенту визитки рекламные буклеты. не было озвучено о том, будет произведен звонок колл-центра. целом очень достойная консультация. внимательно слушал, благодаря чему продажа завершилась успешно. клиент ушел довольный покупкой, обещал вернуться ближайшее время.",
           -1
          ],
          [
           "ртт наблюдается беспорядок пред кассовой зоне, прикассовый стол. очень плохо отработан сервис. клиенту не было выдано визитных карт, рекламных брошюр. выдал клиенту гарантийный талон, соответственно озвучено ключевых моментов мануале гарантийного талона. предупредил покупателя о звонке колл-центра для оценки качества обслуживания. не сообщил бсо. том, профилактики использования акб желательно приезжать бсо раз 3-4 месяца. предложение приобрести доп. товар. производилась презентация аксессуаров. проверил состояние нового акб, уровень жидкости.",
           -1
          ],
          [
           "ртт есть пустоты ветринах. клиенту не выдали визитных карточек листовок. проверил состояние нового акб, уровень жидкости. предупредил покупателя о звонке колл-центра для оценки качества обслуживания. было озвучено предложение приобрести доп. товар. не производилась презентация аксессуаров.",
           -1
          ],
          [
           "клиент не был проинформирован про бсо. обсуживает клиента без беджа. было озвучено клиенту, о необходимости периодического обслуживания акб раз 3-4 месяца. клиенту выдали визитных карточек листовок. проверил состояние нового акб, уровень жидкости. выдавая гарантийный талон, рассказал важных моментах гарантийных случаев. предложение приобрести доп. товар. не производилась презентация аксессуаров.",
           -1
          ],
          [
           "момент завершения сделки не показал состояние уровень жидкости акб. покупателю озвучены предложения купить сопутствующий товар. не производилась презентация доп. товарам. клинту выдали визитных карточек листовок.",
           -1
          ],
          [
           "находиться ртт неуставном формате обуви. момент завершения сделки не показал состояние уровень жидкости акб. проверил акб помощью нагрузочной вилки. клинту выдали визитных карточек листовок. очень затяжная консультация. не отдал клиенту гарантийный талон. клиент забыл сдачу(16:42)",
           -1
          ],
          [
           "находиться ртт не уставной форме одежды обуви. момент завершения сделки показал состояние уровень жидкости акб. клиент был проинформирован о поступлении звонка от оператора колл-центра. клинту выдали визитных карточек листовок клиенту провели развернутую презентацию доп. товаров",
           -1
          ],
          [
           "не проверил текущее состояние акб. момент завершения сделки показал уровень жидкости так же акб нагрузочной вилкой. клиенту были предложены продемонстрированы доп. товары. клинту выдали визитных карточек листовок.",
           -1
          ],
          [
           "не использовал способы стимуляции клиента для покупки.не показывал демонстрацию акб",
           -1
          ],
          [
           "не проверил состояние текущего акб. так же продемонстрировал уровень жидкости новом были озвучены предложения приобрести доп. товары. продемонстрированы клиенту. выдал клиенту визитных карт листовок..",
           -1
          ],
          [
           "не уставной форме обуви. проверил состояние ткущего акб. клиенту было предложено доп. товары. так же демонстрации аксессуаров. клинту выдали визитных карточек листовок.",
           -1
          ]
         ],
         "hovertemplate": "Очищенный текст=%{customdata[0]}<br>Cluster=%{marker.color}<extra></extra>",
         "legendgroup": "",
         "marker": {
          "color": [
           -1,
           0,
           -1,
           0,
           0,
           0,
           -1,
           0,
           0,
           -1,
           -1,
           -1,
           0,
           -1,
           -1,
           0,
           0,
           0,
           0,
           0,
           0,
           0,
           0,
           0,
           -1,
           0,
           0,
           -1,
           0,
           0,
           1,
           0,
           0,
           -1,
           -1,
           0,
           0,
           0,
           1,
           0,
           0,
           0,
           0,
           0,
           0,
           0,
           0,
           -1,
           0,
           0,
           0,
           0,
           0,
           0,
           0,
           0,
           0,
           0,
           0,
           0,
           -1,
           -1,
           -1,
           0,
           0,
           0,
           -1,
           0,
           -1,
           -1,
           0,
           0,
           0,
           -1,
           0,
           0,
           0,
           0,
           0,
           -1,
           0,
           -1,
           0,
           0,
           0,
           0,
           -1,
           0,
           0,
           0,
           -1,
           0,
           0,
           -1,
           0,
           1,
           0,
           -1,
           0,
           0,
           0,
           -1,
           0,
           -1,
           0,
           0,
           0,
           0,
           0,
           -1,
           -1,
           0,
           -1,
           -1,
           -1,
           -1,
           0,
           0,
           0,
           -1,
           -1,
           0,
           -1,
           -1,
           0,
           0,
           0,
           1,
           -1,
           -1,
           0,
           0,
           0,
           0,
           -1,
           -1,
           0,
           0,
           0,
           -1,
           0,
           0,
           -1,
           0,
           1,
           0,
           1,
           0,
           0,
           0,
           -1,
           0,
           0,
           0,
           0,
           1,
           0,
           0,
           -1,
           0,
           0,
           -1,
           0,
           1,
           0,
           0,
           0,
           0,
           1,
           0,
           -1,
           0,
           1,
           -1,
           0,
           -1,
           -1,
           0,
           -1,
           0,
           -1,
           0,
           0,
           -1,
           -1,
           1,
           0,
           1,
           0,
           -1,
           -1,
           -1,
           -1,
           0,
           -1,
           -1,
           0,
           -1,
           0,
           0,
           1,
           1,
           -1,
           -1,
           -1,
           2,
           0,
           -1,
           -1,
           -1,
           -1,
           -1,
           -1,
           -1,
           -1,
           0,
           0,
           0,
           2,
           -1,
           -1,
           -1,
           0,
           2,
           -1,
           -1,
           -1,
           2,
           0,
           -1,
           -1,
           -1,
           2,
           -1,
           -1,
           -1,
           2,
           2,
           2,
           -1,
           -1,
           -1,
           -1,
           -1,
           -1,
           0,
           -1,
           0,
           0,
           0,
           -1,
           -1,
           -1,
           -1,
           -1,
           -1,
           -1,
           -1,
           -1,
           -1,
           -1,
           -1,
           -1,
           -1,
           -1,
           -1,
           -1,
           -1,
           -1
          ],
          "coloraxis": "coloraxis",
          "symbol": "circle"
         },
         "mode": "markers",
         "name": "",
         "orientation": "v",
         "showlegend": false,
         "type": "scatter",
         "x": [
          2.5669262409210205,
          -0.8010470271110535,
          -1.034082293510437,
          2.1941611766815186,
          -0.6640990376472473,
          -0.5463478565216064,
          11.541410446166992,
          6.375324726104736,
          7.692751884460449,
          11.126242637634277,
          11.202388763427734,
          -1.1600760221481323,
          6.193362236022949,
          8.045507431030273,
          7.144767761230469,
          8.157941818237305,
          2.2207651138305664,
          -0.6722115874290466,
          4.232046604156494,
          4.548056602478027,
          4.3070878982543945,
          4.207935810089111,
          6.831817150115967,
          8.996110916137695,
          7.239456653594971,
          2.821119785308838,
          9.585443496704102,
          5.2413649559021,
          4.418424129486084,
          5.243422508239746,
          11.313980102539062,
          5.475026607513428,
          7.216057300567627,
          8.681553840637207,
          7.66396951675415,
          7.596964359283447,
          2.1381802558898926,
          2.374311685562134,
          11.379746437072754,
          -3.8569064140319824,
          2.7345428466796875,
          -0.9172316789627075,
          13.501583099365234,
          6.083547592163086,
          -1.0121713876724243,
          -1.5256308317184448,
          8.206757545471191,
          11.577157020568848,
          -1.5645467042922974,
          -1.340036392211914,
          2.348419189453125,
          6.291415691375732,
          2.5093870162963867,
          2.097156524658203,
          8.007607460021973,
          8.005355834960938,
          2.165872097015381,
          2.2444281578063965,
          8.010343551635742,
          -3.628284215927124,
          8.248100280761719,
          7.1383585929870605,
          11.852726936340332,
          6.398078441619873,
          8.171361923217773,
          -1.0891332626342773,
          2.0983264446258545,
          -3.5130856037139893,
          6.95342493057251,
          11.753604888916016,
          7.952295303344727,
          8.027405738830566,
          -0.5693443417549133,
          4.77532434463501,
          8.21560001373291,
          7.98689079284668,
          -0.5364021062850952,
          7.4312424659729,
          -0.528748631477356,
          7.404240131378174,
          -3.9801368713378906,
          12.813446044921875,
          -3.9624762535095215,
          -0.7040755748748779,
          -3.707947015762329,
          -3.7781732082366943,
          11.336118698120117,
          7.779021739959717,
          8.401246070861816,
          8.243514060974121,
          7.494431972503662,
          -3.782134771347046,
          6.264345645904541,
          9.108845710754395,
          -1.587527871131897,
          11.354314804077148,
          -0.9220484495162964,
          11.687298774719238,
          -1.437383770942688,
          -3.7986810207366943,
          8.060794830322266,
          5.50988245010376,
          5.697793483734131,
          13.53786563873291,
          13.63364315032959,
          13.655965805053711,
          -1.2030688524246216,
          -0.9252464771270752,
          -1.4405691623687744,
          8.677319526672363,
          10.336145401000977,
          4.511163234710693,
          4.616900444030762,
          5.209315299987793,
          7.035613059997559,
          5.242522716522217,
          5.642435073852539,
          5.452337265014648,
          8.94686222076416,
          5.155094623565674,
          8.725913047790527,
          9.095524787902832,
          8.845258712768555,
          8.732895851135254,
          7.458715915679932,
          8.62320327758789,
          9.715266227722168,
          11.236562728881836,
          10.986727714538574,
          8.795432090759277,
          7.320859432220459,
          4.285482406616211,
          9.460339546203613,
          4.1479339599609375,
          4.682383060455322,
          7.404133319854736,
          4.597919464111328,
          7.258067607879639,
          4.0019211769104,
          5.222853183746338,
          -1.4666011333465576,
          13.608651161193848,
          2.8728690147399902,
          2.9828052520751953,
          11.657362937927246,
          2.51322078704834,
          11.667207717895508,
          5.777614116668701,
          -0.8822472095489502,
          4.533517360687256,
          11.365761756896973,
          10.053544044494629,
          13.483935356140137,
          13.611502647399902,
          4.421061038970947,
          11.380476951599121,
          -0.7046140432357788,
          9.877119064331055,
          5.946162700653076,
          4.504117012023926,
          8.126450538635254,
          3.4068031311035156,
          3.331799268722534,
          11.433631896972656,
          5.605393409729004,
          2.367490768432617,
          9.83680534362793,
          2.933701753616333,
          11.404035568237305,
          4.232417583465576,
          7.768795967102051,
          3.39101505279541,
          11.395792007446289,
          11.158145904541016,
          4.418153762817383,
          2.1423838138580322,
          11.243602752685547,
          7.47430419921875,
          11.304287910461426,
          7.38157320022583,
          7.576510906219482,
          -0.5794222950935364,
          5.3051581382751465,
          11.813226699829102,
          10.942032814025879,
          11.811652183532715,
          5.990655422210693,
          11.543343544006348,
          3.0580925941467285,
          12.400540351867676,
          3.4415628910064697,
          3.21055269241333,
          3.995393991470337,
          4.4240803718566895,
          3.4537932872772217,
          3.5128061771392822,
          3.127012014389038,
          11.245492935180664,
          4.426953315734863,
          4.520782470703125,
          11.281639099121094,
          11.69551944732666,
          7.279767990112305,
          11.818153381347656,
          2.952988386154175,
          12.253024101257324,
          15.698616981506348,
          12.260643005371094,
          11.535386085510254,
          12.202789306640625,
          11.940658569335938,
          11.597214698791504,
          11.599370956420898,
          11.750383377075195,
          11.586845397949219,
          15.454748153686523,
          15.450319290161133,
          15.37880802154541,
          12.19517707824707,
          11.681785583496094,
          15.463171005249023,
          5.3724870681762695,
          15.316121101379395,
          12.468777656555176,
          11.700268745422363,
          11.541984558105469,
          11.521010398864746,
          11.805682182312012,
          15.467679977416992,
          9.59456729888916,
          9.66723346710205,
          11.470394134521484,
          12.567646026611328,
          11.990962028503418,
          11.409907341003418,
          15.13070011138916,
          12.54448127746582,
          12.473115921020508,
          11.903969764709473,
          11.587173461914062,
          11.497783660888672,
          11.42321491241455,
          15.1234712600708,
          11.608355522155762,
          15.090185165405273,
          16.021316528320312,
          7.921355724334717,
          16.084869384765625,
          16.071435928344727,
          16.05889320373535,
          9.606231689453125,
          12.555548667907715,
          9.557934761047363,
          14.985627174377441,
          12.217318534851074,
          9.554102897644043,
          9.131377220153809,
          9.127921104431152,
          9.119064331054688,
          11.408111572265625,
          12.616211891174316,
          13.676997184753418,
          11.516437530517578,
          11.783202171325684,
          11.73537540435791,
          11.594569206237793,
          8.211357116699219,
          11.763257026672363,
          11.72552490234375
         ],
         "xaxis": "x",
         "y": [
          -1.4843372106552124,
          9.138030052185059,
          9.243151664733887,
          -1.324522614479065,
          8.447977066040039,
          8.108687400817871,
          4.7615838050842285,
          -0.38094642758369446,
          -1.2196778059005737,
          5.494690418243408,
          5.465768814086914,
          9.20694637298584,
          -0.05179436877369881,
          -2.0037550926208496,
          -0.21850652992725372,
          -1.7208880186080933,
          -1.3718551397323608,
          8.491592407226562,
          5.420907497406006,
          5.602989196777344,
          5.372769355773926,
          5.440678596496582,
          -0.15635208785533905,
          5.281965255737305,
          5.641467571258545,
          2.9146032333374023,
          5.166116237640381,
          5.140052795410156,
          5.66440486907959,
          5.0740556716918945,
          3.470816135406494,
          5.021817207336426,
          5.661307334899902,
          5.74629020690918,
          0.5311921238899231,
          -0.43950241804122925,
          -1.3490440845489502,
          -1.1760026216506958,
          3.8564257621765137,
          6.739736557006836,
          -1.617748737335205,
          8.615572929382324,
          4.659183502197266,
          -0.1441897451877594,
          8.579108238220215,
          8.568157196044922,
          -1.2782888412475586,
          4.452385425567627,
          8.553210258483887,
          8.943963050842285,
          -1.6858737468719482,
          -0.30621474981307983,
          -1.7380750179290771,
          -1.4200373888015747,
          -1.8610562086105347,
          -1.6901483535766602,
          -1.3469834327697754,
          -1.301782250404358,
          -1.9358402490615845,
          6.955320835113525,
          -2.163649320602417,
          0.41022950410842896,
          5.0549821853637695,
          -0.38546356558799744,
          -1.1747218370437622,
          8.62414836883545,
          -1.3646560907363892,
          7.046075820922852,
          0.5438076257705688,
          4.907540321350098,
          -1.8961560726165771,
          -1.3779242038726807,
          8.057551383972168,
          3.8364198207855225,
          -1.8063000440597534,
          -1.7629621028900146,
          8.067536354064941,
          -0.02788568288087845,
          8.217345237731934,
          0.25015607476234436,
          6.627747058868408,
          4.658194541931152,
          6.643558979034424,
          8.597599983215332,
          6.875638961791992,
          6.810410022735596,
          9.069843292236328,
          -1.7533677816390991,
          -1.2498081922531128,
          -1.1539195775985718,
          0.24931806325912476,
          6.806568622589111,
          -0.26579901576042175,
          11.840665817260742,
          8.788924217224121,
          3.4844553470611572,
          8.723689079284668,
          7.575720310211182,
          8.901214599609375,
          6.794875144958496,
          -1.1705834865570068,
          -0.4626791477203369,
          -0.35205748677253723,
          4.599817276000977,
          4.623192310333252,
          4.709017753601074,
          9.110520362854004,
          8.963584899902344,
          8.50601577758789,
          5.674025058746338,
          4.379520416259766,
          5.631521701812744,
          3.4174394607543945,
          5.139236927032471,
          -0.18772011995315552,
          4.341245651245117,
          5.138120174407959,
          4.951394557952881,
          5.167625904083252,
          4.2247314453125,
          5.714789390563965,
          5.149200439453125,
          5.255141258239746,
          5.6696038246154785,
          5.355271816253662,
          5.042898654937744,
          5.2518792152404785,
          3.590574026107788,
          3.99206805229187,
          5.4070658683776855,
          5.5185651779174805,
          5.543861389160156,
          5.059537410736084,
          5.448733806610107,
          3.074517250061035,
          -0.8736258149147034,
          4.2461700439453125,
          5.604894638061523,
          5.440907001495361,
          4.354928970336914,
          8.498794555664062,
          4.626158714294434,
          3.2291200160980225,
          3.1595957279205322,
          4.892101287841797,
          -1.7739450931549072,
          4.412703037261963,
          -0.27261877059936523,
          8.752846717834473,
          3.7445497512817383,
          4.293910503387451,
          5.331711769104004,
          4.691742420196533,
          4.6028828620910645,
          3.112682580947876,
          3.9563381671905518,
          8.816767692565918,
          5.319036960601807,
          -0.21602573990821838,
          3.181063413619995,
          -1.2232075929641724,
          3.315129041671753,
          3.228233575820923,
          3.4579920768737793,
          -0.42919057607650757,
          -1.2657195329666138,
          5.26739501953125,
          2.996628999710083,
          4.115603446960449,
          3.8600447177886963,
          -1.657849907875061,
          3.0743026733398438,
          3.992818832397461,
          5.314574241638184,
          3.632157802581787,
          -1.458064079284668,
          3.507751941680908,
          5.343251705169678,
          9.81104850769043,
          5.397855758666992,
          -1.1277670860290527,
          8.943304061889648,
          5.191627025604248,
          5.067888259887695,
          5.329146862030029,
          4.332355499267578,
          -0.07086236774921417,
          4.73836612701416,
          3.1165812015533447,
          4.629047870635986,
          3.5557374954223633,
          3.212977170944214,
          3.656085252761841,
          4.142416477203369,
          3.5917675495147705,
          3.6553099155426025,
          2.9615373611450195,
          4.2436203956604,
          4.033209323883057,
          3.1637425422668457,
          3.9403743743896484,
          4.445648670196533,
          -0.32161030173301697,
          5.048475742340088,
          3.161752223968506,
          8.692766189575195,
          12.513456344604492,
          7.62594747543335,
          9.03652286529541,
          8.742438316345215,
          8.619601249694824,
          3.867790937423706,
          9.435627937316895,
          7.713037967681885,
          3.8846802711486816,
          12.3569917678833,
          12.26280403137207,
          12.226662635803223,
          8.780945777893066,
          9.024748802185059,
          12.483970642089844,
          5.05580997467041,
          12.401801109313965,
          8.153146743774414,
          8.921608924865723,
          8.4678316116333,
          9.180485725402832,
          8.99989128112793,
          12.16378116607666,
          11.317593574523926,
          11.244402885437012,
          8.551526069641113,
          8.449204444885254,
          8.516999244689941,
          9.693693161010742,
          12.644645690917969,
          8.371356964111328,
          8.617289543151855,
          7.722488880157471,
          8.801017761230469,
          9.491689682006836,
          9.47550106048584,
          12.655040740966797,
          9.301237106323242,
          12.686859130859375,
          12.69676399230957,
          -1.3884049654006958,
          12.74679946899414,
          12.738374710083008,
          12.724872589111328,
          11.309072494506836,
          8.391487121582031,
          11.355186462402344,
          12.80472469329834,
          7.531235694885254,
          11.359758377075195,
          11.819994926452637,
          11.824134826660156,
          11.832436561584473,
          9.695860862731934,
          8.310492515563965,
          4.625775337219238,
          7.95131254196167,
          8.23943042755127,
          8.136871337890625,
          7.97136926651001,
          -2.092103958129883,
          7.688395023345947,
          8.863724708557129
         ],
         "yaxis": "y"
        }
       ],
       "layout": {
        "coloraxis": {
         "colorbar": {
          "title": {
           "text": "Cluster"
          }
         },
         "colorscale": [
          [
           0,
           "#0d0887"
          ],
          [
           0.1111111111111111,
           "#46039f"
          ],
          [
           0.2222222222222222,
           "#7201a8"
          ],
          [
           0.3333333333333333,
           "#9c179e"
          ],
          [
           0.4444444444444444,
           "#bd3786"
          ],
          [
           0.5555555555555556,
           "#d8576b"
          ],
          [
           0.6666666666666666,
           "#ed7953"
          ],
          [
           0.7777777777777778,
           "#fb9f3a"
          ],
          [
           0.8888888888888888,
           "#fdca26"
          ],
          [
           1,
           "#f0f921"
          ]
         ]
        },
        "legend": {
         "tracegroupgap": 0
        },
        "margin": {
         "t": 60
        },
        "template": {
         "data": {
          "bar": [
           {
            "error_x": {
             "color": "#2a3f5f"
            },
            "error_y": {
             "color": "#2a3f5f"
            },
            "marker": {
             "line": {
              "color": "#E5ECF6",
              "width": 0.5
             },
             "pattern": {
              "fillmode": "overlay",
              "size": 10,
              "solidity": 0.2
             }
            },
            "type": "bar"
           }
          ],
          "barpolar": [
           {
            "marker": {
             "line": {
              "color": "#E5ECF6",
              "width": 0.5
             },
             "pattern": {
              "fillmode": "overlay",
              "size": 10,
              "solidity": 0.2
             }
            },
            "type": "barpolar"
           }
          ],
          "carpet": [
           {
            "aaxis": {
             "endlinecolor": "#2a3f5f",
             "gridcolor": "white",
             "linecolor": "white",
             "minorgridcolor": "white",
             "startlinecolor": "#2a3f5f"
            },
            "baxis": {
             "endlinecolor": "#2a3f5f",
             "gridcolor": "white",
             "linecolor": "white",
             "minorgridcolor": "white",
             "startlinecolor": "#2a3f5f"
            },
            "type": "carpet"
           }
          ],
          "choropleth": [
           {
            "colorbar": {
             "outlinewidth": 0,
             "ticks": ""
            },
            "type": "choropleth"
           }
          ],
          "contour": [
           {
            "colorbar": {
             "outlinewidth": 0,
             "ticks": ""
            },
            "colorscale": [
             [
              0,
              "#0d0887"
             ],
             [
              0.1111111111111111,
              "#46039f"
             ],
             [
              0.2222222222222222,
              "#7201a8"
             ],
             [
              0.3333333333333333,
              "#9c179e"
             ],
             [
              0.4444444444444444,
              "#bd3786"
             ],
             [
              0.5555555555555556,
              "#d8576b"
             ],
             [
              0.6666666666666666,
              "#ed7953"
             ],
             [
              0.7777777777777778,
              "#fb9f3a"
             ],
             [
              0.8888888888888888,
              "#fdca26"
             ],
             [
              1,
              "#f0f921"
             ]
            ],
            "type": "contour"
           }
          ],
          "contourcarpet": [
           {
            "colorbar": {
             "outlinewidth": 0,
             "ticks": ""
            },
            "type": "contourcarpet"
           }
          ],
          "heatmap": [
           {
            "colorbar": {
             "outlinewidth": 0,
             "ticks": ""
            },
            "colorscale": [
             [
              0,
              "#0d0887"
             ],
             [
              0.1111111111111111,
              "#46039f"
             ],
             [
              0.2222222222222222,
              "#7201a8"
             ],
             [
              0.3333333333333333,
              "#9c179e"
             ],
             [
              0.4444444444444444,
              "#bd3786"
             ],
             [
              0.5555555555555556,
              "#d8576b"
             ],
             [
              0.6666666666666666,
              "#ed7953"
             ],
             [
              0.7777777777777778,
              "#fb9f3a"
             ],
             [
              0.8888888888888888,
              "#fdca26"
             ],
             [
              1,
              "#f0f921"
             ]
            ],
            "type": "heatmap"
           }
          ],
          "heatmapgl": [
           {
            "colorbar": {
             "outlinewidth": 0,
             "ticks": ""
            },
            "colorscale": [
             [
              0,
              "#0d0887"
             ],
             [
              0.1111111111111111,
              "#46039f"
             ],
             [
              0.2222222222222222,
              "#7201a8"
             ],
             [
              0.3333333333333333,
              "#9c179e"
             ],
             [
              0.4444444444444444,
              "#bd3786"
             ],
             [
              0.5555555555555556,
              "#d8576b"
             ],
             [
              0.6666666666666666,
              "#ed7953"
             ],
             [
              0.7777777777777778,
              "#fb9f3a"
             ],
             [
              0.8888888888888888,
              "#fdca26"
             ],
             [
              1,
              "#f0f921"
             ]
            ],
            "type": "heatmapgl"
           }
          ],
          "histogram": [
           {
            "marker": {
             "pattern": {
              "fillmode": "overlay",
              "size": 10,
              "solidity": 0.2
             }
            },
            "type": "histogram"
           }
          ],
          "histogram2d": [
           {
            "colorbar": {
             "outlinewidth": 0,
             "ticks": ""
            },
            "colorscale": [
             [
              0,
              "#0d0887"
             ],
             [
              0.1111111111111111,
              "#46039f"
             ],
             [
              0.2222222222222222,
              "#7201a8"
             ],
             [
              0.3333333333333333,
              "#9c179e"
             ],
             [
              0.4444444444444444,
              "#bd3786"
             ],
             [
              0.5555555555555556,
              "#d8576b"
             ],
             [
              0.6666666666666666,
              "#ed7953"
             ],
             [
              0.7777777777777778,
              "#fb9f3a"
             ],
             [
              0.8888888888888888,
              "#fdca26"
             ],
             [
              1,
              "#f0f921"
             ]
            ],
            "type": "histogram2d"
           }
          ],
          "histogram2dcontour": [
           {
            "colorbar": {
             "outlinewidth": 0,
             "ticks": ""
            },
            "colorscale": [
             [
              0,
              "#0d0887"
             ],
             [
              0.1111111111111111,
              "#46039f"
             ],
             [
              0.2222222222222222,
              "#7201a8"
             ],
             [
              0.3333333333333333,
              "#9c179e"
             ],
             [
              0.4444444444444444,
              "#bd3786"
             ],
             [
              0.5555555555555556,
              "#d8576b"
             ],
             [
              0.6666666666666666,
              "#ed7953"
             ],
             [
              0.7777777777777778,
              "#fb9f3a"
             ],
             [
              0.8888888888888888,
              "#fdca26"
             ],
             [
              1,
              "#f0f921"
             ]
            ],
            "type": "histogram2dcontour"
           }
          ],
          "mesh3d": [
           {
            "colorbar": {
             "outlinewidth": 0,
             "ticks": ""
            },
            "type": "mesh3d"
           }
          ],
          "parcoords": [
           {
            "line": {
             "colorbar": {
              "outlinewidth": 0,
              "ticks": ""
             }
            },
            "type": "parcoords"
           }
          ],
          "pie": [
           {
            "automargin": true,
            "type": "pie"
           }
          ],
          "scatter": [
           {
            "fillpattern": {
             "fillmode": "overlay",
             "size": 10,
             "solidity": 0.2
            },
            "type": "scatter"
           }
          ],
          "scatter3d": [
           {
            "line": {
             "colorbar": {
              "outlinewidth": 0,
              "ticks": ""
             }
            },
            "marker": {
             "colorbar": {
              "outlinewidth": 0,
              "ticks": ""
             }
            },
            "type": "scatter3d"
           }
          ],
          "scattercarpet": [
           {
            "marker": {
             "colorbar": {
              "outlinewidth": 0,
              "ticks": ""
             }
            },
            "type": "scattercarpet"
           }
          ],
          "scattergeo": [
           {
            "marker": {
             "colorbar": {
              "outlinewidth": 0,
              "ticks": ""
             }
            },
            "type": "scattergeo"
           }
          ],
          "scattergl": [
           {
            "marker": {
             "colorbar": {
              "outlinewidth": 0,
              "ticks": ""
             }
            },
            "type": "scattergl"
           }
          ],
          "scattermapbox": [
           {
            "marker": {
             "colorbar": {
              "outlinewidth": 0,
              "ticks": ""
             }
            },
            "type": "scattermapbox"
           }
          ],
          "scatterpolar": [
           {
            "marker": {
             "colorbar": {
              "outlinewidth": 0,
              "ticks": ""
             }
            },
            "type": "scatterpolar"
           }
          ],
          "scatterpolargl": [
           {
            "marker": {
             "colorbar": {
              "outlinewidth": 0,
              "ticks": ""
             }
            },
            "type": "scatterpolargl"
           }
          ],
          "scatterternary": [
           {
            "marker": {
             "colorbar": {
              "outlinewidth": 0,
              "ticks": ""
             }
            },
            "type": "scatterternary"
           }
          ],
          "surface": [
           {
            "colorbar": {
             "outlinewidth": 0,
             "ticks": ""
            },
            "colorscale": [
             [
              0,
              "#0d0887"
             ],
             [
              0.1111111111111111,
              "#46039f"
             ],
             [
              0.2222222222222222,
              "#7201a8"
             ],
             [
              0.3333333333333333,
              "#9c179e"
             ],
             [
              0.4444444444444444,
              "#bd3786"
             ],
             [
              0.5555555555555556,
              "#d8576b"
             ],
             [
              0.6666666666666666,
              "#ed7953"
             ],
             [
              0.7777777777777778,
              "#fb9f3a"
             ],
             [
              0.8888888888888888,
              "#fdca26"
             ],
             [
              1,
              "#f0f921"
             ]
            ],
            "type": "surface"
           }
          ],
          "table": [
           {
            "cells": {
             "fill": {
              "color": "#EBF0F8"
             },
             "line": {
              "color": "white"
             }
            },
            "header": {
             "fill": {
              "color": "#C8D4E3"
             },
             "line": {
              "color": "white"
             }
            },
            "type": "table"
           }
          ]
         },
         "layout": {
          "annotationdefaults": {
           "arrowcolor": "#2a3f5f",
           "arrowhead": 0,
           "arrowwidth": 1
          },
          "autotypenumbers": "strict",
          "coloraxis": {
           "colorbar": {
            "outlinewidth": 0,
            "ticks": ""
           }
          },
          "colorscale": {
           "diverging": [
            [
             0,
             "#8e0152"
            ],
            [
             0.1,
             "#c51b7d"
            ],
            [
             0.2,
             "#de77ae"
            ],
            [
             0.3,
             "#f1b6da"
            ],
            [
             0.4,
             "#fde0ef"
            ],
            [
             0.5,
             "#f7f7f7"
            ],
            [
             0.6,
             "#e6f5d0"
            ],
            [
             0.7,
             "#b8e186"
            ],
            [
             0.8,
             "#7fbc41"
            ],
            [
             0.9,
             "#4d9221"
            ],
            [
             1,
             "#276419"
            ]
           ],
           "sequential": [
            [
             0,
             "#0d0887"
            ],
            [
             0.1111111111111111,
             "#46039f"
            ],
            [
             0.2222222222222222,
             "#7201a8"
            ],
            [
             0.3333333333333333,
             "#9c179e"
            ],
            [
             0.4444444444444444,
             "#bd3786"
            ],
            [
             0.5555555555555556,
             "#d8576b"
            ],
            [
             0.6666666666666666,
             "#ed7953"
            ],
            [
             0.7777777777777778,
             "#fb9f3a"
            ],
            [
             0.8888888888888888,
             "#fdca26"
            ],
            [
             1,
             "#f0f921"
            ]
           ],
           "sequentialminus": [
            [
             0,
             "#0d0887"
            ],
            [
             0.1111111111111111,
             "#46039f"
            ],
            [
             0.2222222222222222,
             "#7201a8"
            ],
            [
             0.3333333333333333,
             "#9c179e"
            ],
            [
             0.4444444444444444,
             "#bd3786"
            ],
            [
             0.5555555555555556,
             "#d8576b"
            ],
            [
             0.6666666666666666,
             "#ed7953"
            ],
            [
             0.7777777777777778,
             "#fb9f3a"
            ],
            [
             0.8888888888888888,
             "#fdca26"
            ],
            [
             1,
             "#f0f921"
            ]
           ]
          },
          "colorway": [
           "#636efa",
           "#EF553B",
           "#00cc96",
           "#ab63fa",
           "#FFA15A",
           "#19d3f3",
           "#FF6692",
           "#B6E880",
           "#FF97FF",
           "#FECB52"
          ],
          "font": {
           "color": "#2a3f5f"
          },
          "geo": {
           "bgcolor": "white",
           "lakecolor": "white",
           "landcolor": "#E5ECF6",
           "showlakes": true,
           "showland": true,
           "subunitcolor": "white"
          },
          "hoverlabel": {
           "align": "left"
          },
          "hovermode": "closest",
          "mapbox": {
           "style": "light"
          },
          "paper_bgcolor": "white",
          "plot_bgcolor": "#E5ECF6",
          "polar": {
           "angularaxis": {
            "gridcolor": "white",
            "linecolor": "white",
            "ticks": ""
           },
           "bgcolor": "#E5ECF6",
           "radialaxis": {
            "gridcolor": "white",
            "linecolor": "white",
            "ticks": ""
           }
          },
          "scene": {
           "xaxis": {
            "backgroundcolor": "#E5ECF6",
            "gridcolor": "white",
            "gridwidth": 2,
            "linecolor": "white",
            "showbackground": true,
            "ticks": "",
            "zerolinecolor": "white"
           },
           "yaxis": {
            "backgroundcolor": "#E5ECF6",
            "gridcolor": "white",
            "gridwidth": 2,
            "linecolor": "white",
            "showbackground": true,
            "ticks": "",
            "zerolinecolor": "white"
           },
           "zaxis": {
            "backgroundcolor": "#E5ECF6",
            "gridcolor": "white",
            "gridwidth": 2,
            "linecolor": "white",
            "showbackground": true,
            "ticks": "",
            "zerolinecolor": "white"
           }
          },
          "shapedefaults": {
           "line": {
            "color": "#2a3f5f"
           }
          },
          "ternary": {
           "aaxis": {
            "gridcolor": "white",
            "linecolor": "white",
            "ticks": ""
           },
           "baxis": {
            "gridcolor": "white",
            "linecolor": "white",
            "ticks": ""
           },
           "bgcolor": "#E5ECF6",
           "caxis": {
            "gridcolor": "white",
            "linecolor": "white",
            "ticks": ""
           }
          },
          "title": {
           "x": 0.05
          },
          "xaxis": {
           "automargin": true,
           "gridcolor": "white",
           "linecolor": "white",
           "ticks": "",
           "title": {
            "standoff": 15
           },
           "zerolinecolor": "white",
           "zerolinewidth": 2
          },
          "yaxis": {
           "automargin": true,
           "gridcolor": "white",
           "linecolor": "white",
           "ticks": "",
           "title": {
            "standoff": 15
           },
           "zerolinecolor": "white",
           "zerolinewidth": 2
          }
         }
        },
        "title": {
         "text": "Интерактивная кластеризация текстов с UMAP и DBSCAN"
        },
        "xaxis": {
         "anchor": "y",
         "domain": [
          0,
          1
         ],
         "title": {
          "text": "UMAP1"
         }
        },
        "yaxis": {
         "anchor": "x",
         "domain": [
          0,
          1
         ],
         "title": {
          "text": "UMAP2"
         }
        }
       }
      }
     },
     "metadata": {},
     "output_type": "display_data"
    }
   ],
   "source": [
    "import plotly.express as px\n",
    "import umap\n",
    "import pandas as pd\n",
    "\n",
    "# Уменьшение размерности до 2D для визуализации с использованием UMAP\n",
    "reducer = umap.UMAP(n_neighbors=5, min_dist=0.1, n_components=2, random_state=42)\n",
    "embeddings_2d = reducer.fit_transform(embeddings)\n",
    "\n",
    "# Добавляем результаты UMAP в датафрейм\n",
    "df['UMAP1'] = embeddings_2d[:, 0]\n",
    "df['UMAP2'] = embeddings_2d[:, 1]\n",
    "df['Cluster'] = cluster_labels  # предполагаем, что cluster_labels уже определены\n",
    "\n",
    "# Построение интерактивного scatter plot с Plotly\n",
    "fig = px.scatter(\n",
    "    df, x='UMAP1', y='UMAP2',\n",
    "    color='Cluster',\n",
    "    hover_data={'Очищенный текст': True, 'UMAP1': False, 'UMAP2': False, 'Cluster': True}\n",
    ")\n",
    "\n",
    "# Настройка графика\n",
    "fig.update_layout(\n",
    "    title=\"Интерактивная кластеризация текстов с UMAP и DBSCAN\",\n",
    "    xaxis_title=\"UMAP1\",\n",
    "    yaxis_title=\"UMAP2\"\n",
    ")\n",
    "\n",
    "fig.show()\n"
   ]
  }
 ],
 "metadata": {
  "kernelspec": {
   "display_name": "base",
   "language": "python",
   "name": "python3"
  },
  "language_info": {
   "codemirror_mode": {
    "name": "ipython",
    "version": 3
   },
   "file_extension": ".py",
   "mimetype": "text/x-python",
   "name": "python",
   "nbconvert_exporter": "python",
   "pygments_lexer": "ipython3",
   "version": "3.12.3"
  }
 },
 "nbformat": 4,
 "nbformat_minor": 2
}
