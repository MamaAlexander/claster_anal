{
 "cells": [
  {
   "cell_type": "code",
   "execution_count": 15,
   "metadata": {},
   "outputs": [
    {
     "ename": "",
     "evalue": "",
     "output_type": "error",
     "traceback": [
      "\u001b[1;31mRunning cells with 'Python 3.11.5' requires the ipykernel package.\n",
      "\u001b[1;31mRun the following command to install 'ipykernel' into the Python environment. \n",
      "\u001b[1;31mCommand: '/Users/aleksandrosipan/.pyenv/versions/3.11.5/bin/python -m pip install ipykernel -U --force-reinstall'"
     ]
    }
   ],
   "source": [
    "import imaplib\n",
    "\n",
    "def read(sender_of_interest=None):\n",
    "    imap = imaplib.IMAP4_SSL(\"imap.gmail.com\", 993)\n",
    "    imap.login('remboplas@gmail.com', 'z928wwM4')\n",
    "    imap.select('INBOX')\n",
    "    if sender_of_interest:\n",
    "        status, response = imap.uid('search', None, 'UNSEEN', 'FROM {0}'.format(sender_of_interest))\n",
    "    else:\n",
    "        status, response = imap.uid('search', None, 'UNSEEN')\n",
    "    if status == 'OK':\n",
    "        unread_msg_nums = response[0].split()\n",
    "    else:\n",
    "        unread_msg_nums = []\n",
    "    data_list = []\n",
    "    for e_id in unread_msg_nums:\n",
    "        e_id = e_id.decode('utf-8')\n",
    "        _, response = imap.uid('fetch', e_id, '(RFC822)')\n",
    "        html = response[0][1].decode('utf-8')\n",
    "        email_message = email.message_from_string(html)\n",
    "        data_list.append(email_message.get_payload())\n",
    "    for elem in data_list:\n",
    "        clean_html(elem)"
   ]
  },
  {
   "cell_type": "code",
   "execution_count": 16,
   "metadata": {},
   "outputs": [
    {
     "ename": "error",
     "evalue": "b'[AUTHENTICATIONFAILED] Invalid credentials (Failure)'",
     "output_type": "error",
     "traceback": [
      "\u001b[0;31m---------------------------------------------------------------------------\u001b[0m",
      "\u001b[0;31merror\u001b[0m                                     Traceback (most recent call last)",
      "Cell \u001b[0;32mIn[16], line 1\u001b[0m\n\u001b[0;32m----> 1\u001b[0m read()\n",
      "Cell \u001b[0;32mIn[15], line 5\u001b[0m, in \u001b[0;36mread\u001b[0;34m(sender_of_interest)\u001b[0m\n\u001b[1;32m      3\u001b[0m \u001b[38;5;28;01mdef\u001b[39;00m \u001b[38;5;21mread\u001b[39m(sender_of_interest\u001b[38;5;241m=\u001b[39m\u001b[38;5;28;01mNone\u001b[39;00m):\n\u001b[1;32m      4\u001b[0m     imap \u001b[38;5;241m=\u001b[39m imaplib\u001b[38;5;241m.\u001b[39mIMAP4_SSL(\u001b[38;5;124m\"\u001b[39m\u001b[38;5;124mimap.gmail.com\u001b[39m\u001b[38;5;124m\"\u001b[39m, \u001b[38;5;241m993\u001b[39m)\n\u001b[0;32m----> 5\u001b[0m     imap\u001b[38;5;241m.\u001b[39mlogin(\u001b[38;5;124m'\u001b[39m\u001b[38;5;124mremboplas@gmail.com\u001b[39m\u001b[38;5;124m'\u001b[39m, \u001b[38;5;124m'\u001b[39m\u001b[38;5;124mz928wwM4\u001b[39m\u001b[38;5;124m'\u001b[39m)\n\u001b[1;32m      6\u001b[0m     imap\u001b[38;5;241m.\u001b[39mselect(\u001b[38;5;124m'\u001b[39m\u001b[38;5;124mINBOX\u001b[39m\u001b[38;5;124m'\u001b[39m)\n\u001b[1;32m      7\u001b[0m     \u001b[38;5;28;01mif\u001b[39;00m sender_of_interest:\n",
      "File \u001b[0;32m/opt/anaconda3/lib/python3.12/imaplib.py:612\u001b[0m, in \u001b[0;36mIMAP4.login\u001b[0;34m(self, user, password)\u001b[0m\n\u001b[1;32m    610\u001b[0m typ, dat \u001b[38;5;241m=\u001b[39m \u001b[38;5;28mself\u001b[39m\u001b[38;5;241m.\u001b[39m_simple_command(\u001b[38;5;124m'\u001b[39m\u001b[38;5;124mLOGIN\u001b[39m\u001b[38;5;124m'\u001b[39m, user, \u001b[38;5;28mself\u001b[39m\u001b[38;5;241m.\u001b[39m_quote(password))\n\u001b[1;32m    611\u001b[0m \u001b[38;5;28;01mif\u001b[39;00m typ \u001b[38;5;241m!=\u001b[39m \u001b[38;5;124m'\u001b[39m\u001b[38;5;124mOK\u001b[39m\u001b[38;5;124m'\u001b[39m:\n\u001b[0;32m--> 612\u001b[0m     \u001b[38;5;28;01mraise\u001b[39;00m \u001b[38;5;28mself\u001b[39m\u001b[38;5;241m.\u001b[39merror(dat[\u001b[38;5;241m-\u001b[39m\u001b[38;5;241m1\u001b[39m])\n\u001b[1;32m    613\u001b[0m \u001b[38;5;28mself\u001b[39m\u001b[38;5;241m.\u001b[39mstate \u001b[38;5;241m=\u001b[39m \u001b[38;5;124m'\u001b[39m\u001b[38;5;124mAUTH\u001b[39m\u001b[38;5;124m'\u001b[39m\n\u001b[1;32m    614\u001b[0m \u001b[38;5;28;01mreturn\u001b[39;00m typ, dat\n",
      "\u001b[0;31merror\u001b[0m: b'[AUTHENTICATIONFAILED] Invalid credentials (Failure)'"
     ]
    }
   ],
   "source": [
    "read()"
   ]
  },
  {
   "cell_type": "code",
   "execution_count": 3,
   "metadata": {},
   "outputs": [
    {
     "ename": "ModuleNotFoundError",
     "evalue": "No module named 'google.auth'",
     "output_type": "error",
     "traceback": [
      "\u001b[0;31m---------------------------------------------------------------------------\u001b[0m",
      "\u001b[0;31mModuleNotFoundError\u001b[0m                       Traceback (most recent call last)",
      "Cell \u001b[0;32mIn[3], line 3\u001b[0m\n\u001b[1;32m      1\u001b[0m \u001b[38;5;28;01mimport\u001b[39;00m \u001b[38;5;21;01mos\u001b[39;00m\n\u001b[1;32m      2\u001b[0m \u001b[38;5;28;01mimport\u001b[39;00m \u001b[38;5;21;01mbase64\u001b[39;00m\n\u001b[0;32m----> 3\u001b[0m \u001b[38;5;28;01mimport\u001b[39;00m \u001b[38;5;21;01mgoogle\u001b[39;00m\u001b[38;5;21;01m.\u001b[39;00m\u001b[38;5;21;01mauth\u001b[39;00m\n\u001b[1;32m      4\u001b[0m \u001b[38;5;28;01mfrom\u001b[39;00m \u001b[38;5;21;01mgoogle\u001b[39;00m\u001b[38;5;21;01m.\u001b[39;00m\u001b[38;5;21;01moauth2\u001b[39;00m\u001b[38;5;21;01m.\u001b[39;00m\u001b[38;5;21;01mcredentials\u001b[39;00m \u001b[38;5;28;01mimport\u001b[39;00m Credentials\n\u001b[1;32m      5\u001b[0m \u001b[38;5;28;01mfrom\u001b[39;00m \u001b[38;5;21;01mgoogle\u001b[39;00m\u001b[38;5;21;01m.\u001b[39;00m\u001b[38;5;21;01mauth\u001b[39;00m\u001b[38;5;21;01m.\u001b[39;00m\u001b[38;5;21;01mtransport\u001b[39;00m\u001b[38;5;21;01m.\u001b[39;00m\u001b[38;5;21;01mrequests\u001b[39;00m \u001b[38;5;28;01mimport\u001b[39;00m Request\n",
      "\u001b[0;31mModuleNotFoundError\u001b[0m: No module named 'google.auth'"
     ]
    }
   ],
   "source": [
    "import os\n",
    "import base64\n",
    "import google.auth\n",
    "from google.oauth2.credentials import Credentials\n",
    "from google.auth.transport.requests import Request\n",
    "from google_auth_oauthlib.flow import InstalledAppFlow\n",
    "from googleapiclient.discovery import build\n",
    "import email\n",
    "\n",
    "# Если вы хотите иметь доступ только к почте, используйте этот scope\n",
    "SCOPES = ['https://www.googleapis.com/auth/gmail.readonly']\n",
    "\n",
    "def get_gmail_service():\n",
    "    creds = None\n",
    "    # Файл token.json сохраняет ваши учётные данные для повторного использования\n",
    "    if os.path.exists('token.json'):\n",
    "        creds = Credentials.from_authorized_user_file('token.json', SCOPES)\n",
    "    # Если учётных данных нет или они устарели, проведём авторизацию\n",
    "    if not creds or not creds.valid:\n",
    "        if creds and creds.expired and creds.refresh_token:\n",
    "            creds.refresh(Request())\n",
    "        else:\n",
    "            flow = InstalledAppFlow.from_client_secrets_file(\n",
    "                'credentials.json', SCOPES)\n",
    "            creds = flow.run_local_server(port=0)\n",
    "        # Сохраняем токены для последующего использования\n",
    "        with open('token.json', 'w') as token:\n",
    "            token.write(creds.to_json())\n",
    "    return build('gmail', 'v1', credentials=creds)\n",
    "\n",
    "def get_unread_messages(service):\n",
    "    # Используем Gmail API для получения списка непрочитанных сообщений\n",
    "    results = service.users().messages().list(userId='me', labelIds=['INBOX'], q='is:unread').execute()\n",
    "    messages = results.get('messages', [])\n",
    "    \n",
    "    email_data = []\n",
    "    \n",
    "    if not messages:\n",
    "        print('No unread messages found.')\n",
    "    else:\n",
    "        print(f'Found {len(messages)} unread messages.')\n",
    "        for msg in messages:\n",
    "            msg_data = service.users().messages().get(userId='me', id=msg['id']).execute()\n",
    "            msg_payload = msg_data['payload']\n",
    "            headers = msg_payload.get(\"headers\")\n",
    "            \n",
    "            for header in headers:\n",
    "                if header['name'] == 'From':\n",
    "                    from_header = header['value']\n",
    "                    print(f'From: {from_header}')\n",
    "            \n",
    "            # Получаем тело сообщения\n",
    "            if 'parts' in msg_payload:\n",
    "                for part in msg_payload['parts']:\n",
    "                    if part['mimeType'] == 'text/plain':\n",
    "                        body = part['body']['data']\n",
    "                        decoded_body = base64.urlsafe_b64decode(body).decode('utf-8')\n",
    "                        print(f'Message: {decoded_body}')\n",
    "                        email_data.append({\n",
    "                            'from': from_header,\n",
    "                            'body': decoded_body\n",
    "                        })\n",
    "    \n",
    "    return email_data\n",
    "\n",
    "if __name__ == '__main__':\n",
    "    # Авторизуемся и получаем доступ к Gmail API\n",
    "    service = get_gmail_service()\n",
    "    \n",
    "    # Получаем непрочитанные сообщения\n",
    "    unread_messages = get_unread_messages(service)\n",
    "    print(unread_messages)\n"
   ]
  }
 ],
 "metadata": {
  "kernelspec": {
   "display_name": "Python 3",
   "language": "python",
   "name": "python3"
  },
  "language_info": {
   "codemirror_mode": {
    "name": "ipython",
    "version": 3
   },
   "file_extension": ".py",
   "mimetype": "text/x-python",
   "name": "python",
   "nbconvert_exporter": "python",
   "pygments_lexer": "ipython3",
   "version": "3.12.4"
  }
 },
 "nbformat": 4,
 "nbformat_minor": 2
}
