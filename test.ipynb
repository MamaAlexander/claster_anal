{
 "cells": [
  {
   "cell_type": "markdown",
   "metadata": {},
   "source": [
    "Соединение и аутентификация\n",
    "\n",
    "При удачном подключении к почте увидим сообщение [b'Authentication successful']"
   ]
  },
  {
   "cell_type": "code",
   "execution_count": 73,
   "metadata": {},
   "outputs": [
    {
     "name": "stdout",
     "output_type": "stream",
     "text": [
      "Found 1813 emails\n",
      "Added text/plain part from email 5102\n",
      "Added text/plain part from email 5101\n",
      "Added text/plain part from email 5100\n",
      "Added text/plain part from email 5099\n",
      "Added text/plain part from email 5098\n",
      "Added text/plain part from email 5097\n",
      "Added text/plain part from email 5096\n",
      "Added text/plain part from email 5095\n",
      "Added text/plain part from email 5094\n",
      "Added text/plain part from email 5093\n",
      "Added text/plain part from email 5092\n",
      "Added text/plain part from email 5091\n",
      "Added text/plain part from email 5090\n",
      "Added text/plain part from email 5089\n",
      "Added text/plain part from email 5088\n",
      "Added text/plain part from email 5087\n",
      "Added text/plain part from email 5086\n",
      "Added text/plain part from email 5085\n",
      "Added text/plain part from email 5084\n",
      "Added text/plain part from email 5083\n",
      "Added text/plain part from email 5081\n",
      "Added text/plain part from email 5080\n",
      "Added text/plain part from email 5079\n",
      "Added text/plain part from email 5078\n",
      "Added text/plain part from email 5077\n",
      "Added text/plain part from email 5076\n",
      "Added text/plain part from email 5075\n",
      "Added text/plain part from email 5073\n",
      "Added text/plain part from email 5072\n",
      "Added text/plain part from email 5071\n",
      "Added text/plain part from email 5070\n",
      "Added text/plain part from email 5069\n",
      "Added text/plain part from email 5068\n",
      "Added text/plain part from email 5067\n",
      "Added text/plain part from email 5066\n",
      "Added text/plain part from email 5065\n",
      "Added text/plain part from email 5064\n",
      "Added text/plain part from email 5063\n",
      "Added text/plain part from email 5062\n",
      "Added text/plain part from email 5061\n",
      "Added text/plain part from email 5060\n",
      "Added text/plain part from email 5059\n",
      "Added text/plain part from email 5058\n",
      "Added text/plain part from email 5057\n",
      "Added text/plain part from email 5056\n",
      "Added text/plain part from email 5055\n",
      "Added text/plain part from email 5053\n",
      "Added text/plain part from email 5052\n",
      "Added text/plain part from email 5051\n",
      "Added text/plain part from email 5050\n",
      "Added text/plain part from email 5049\n",
      "Added text/plain part from email 5048\n",
      "Added text/plain part from email 5047\n",
      "Added text/plain part from email 5046\n",
      "Added text/plain part from email 5045\n",
      "Added text/plain part from email 5044\n",
      "Added text/plain part from email 5043\n",
      "Added text/plain part from email 5042\n",
      "Added text/plain part from email 5041\n",
      "Added text/plain part from email 5040\n",
      "Added text/plain part from email 5039\n",
      "Added text/plain part from email 5038\n",
      "Added text/plain part from email 5037\n",
      "Added text/plain part from email 5036\n",
      "Added text/plain part from email 5035\n",
      "Added text/plain part from email 5034\n",
      "Added text/plain part from email 5030\n",
      "Added text/plain part from email 5029\n",
      "Added text/plain part from email 5028\n",
      "Added text/plain part from email 5027\n",
      "Added text/plain part from email 5026\n",
      "Added text/plain part from email 5025\n",
      "Added text/plain part from email 5024\n",
      "Added text/plain part from email 5023\n",
      "Added text/plain part from email 5022\n",
      "Added text/plain part from email 5021\n",
      "Added text/plain part from email 5020\n",
      "Added text/plain part from email 5019\n",
      "Added text/plain part from email 5018\n",
      "Added text/plain part from email 5017\n",
      "Added text/plain part from email 5016\n",
      "Added text/plain part from email 5015\n",
      "Added text/plain part from email 5014\n",
      "Added text/plain part from email 5013\n",
      "Added text/plain part from email 5012\n",
      "Added text/plain part from email 5010\n",
      "Added text/plain part from email 5009\n",
      "Added text/plain part from email 5008\n",
      "Added text/plain part from email 5006\n",
      "Added text/plain part from email 5005\n",
      "Added text/plain part from email 5004\n",
      "Added text/plain part from email 5003\n",
      "Added text/plain part from email 5002\n",
      "Added text/plain part from email 5001\n",
      "Added text/plain part from email 5000\n",
      "Added text/plain part from email 4999\n",
      "Added text/plain part from email 4998\n",
      "Added text/plain part from email 4997\n",
      "Added text/plain part from email 4996\n",
      "Added text/plain part from email 4995\n",
      "Added text/plain part from email 4994\n",
      "Added text/plain part from email 4993\n",
      "Added text/plain part from email 4992\n",
      "Added text/plain part from email 4991\n",
      "Added text/plain part from email 4990\n",
      "Added text/plain part from email 4989\n",
      "Added text/plain part from email 4988\n",
      "Added text/plain part from email 4987\n",
      "Added text/plain part from email 4985\n",
      "Added text/plain part from email 4984\n",
      "Added text/plain part from email 4983\n",
      "Added text/plain part from email 4982\n",
      "Added text/plain part from email 4981\n",
      "Added text/plain part from email 4980\n",
      "Added text/plain part from email 4979\n",
      "Added text/plain part from email 4978\n",
      "Added text/plain part from email 4977\n",
      "Added text/plain part from email 4976\n",
      "Added text/plain part from email 4975\n",
      "Added text/plain part from email 4974\n",
      "Added text/plain part from email 4973\n",
      "Added text/plain part from email 4972\n",
      "Added text/plain part from email 4971\n",
      "Added text/plain part from email 4970\n",
      "Added text/plain part from email 4969\n",
      "Added text/plain part from email 4968\n",
      "Added text/plain part from email 4967\n",
      "Added text/plain part from email 4963\n",
      "Added text/plain part from email 4962\n",
      "Added text/plain part from email 4961\n",
      "Added text/plain part from email 4960\n",
      "Added text/plain part from email 4959\n",
      "Added text/plain part from email 4958\n",
      "Added text/plain part from email 4957\n",
      "Added text/plain part from email 4956\n",
      "Added text/plain part from email 4955\n",
      "Added text/plain part from email 4954\n",
      "Added text/plain part from email 4953\n",
      "Added text/plain part from email 4952\n",
      "Added text/plain part from email 4951\n",
      "Added text/plain part from email 4950\n",
      "Added text/plain part from email 4949\n",
      "Added text/plain part from email 4948\n",
      "Added text/plain part from email 4947\n",
      "Added text/plain part from email 4946\n",
      "Added text/plain part from email 4945\n",
      "Added text/plain part from email 4943\n",
      "Added text/plain part from email 4942\n",
      "Added text/plain part from email 4941\n",
      "Added text/plain part from email 4940\n",
      "Added text/plain part from email 4939\n",
      "Added text/plain part from email 4938\n",
      "Added text/plain part from email 4937\n",
      "Added text/plain part from email 4936\n",
      "Added text/plain part from email 4935\n",
      "Added text/plain part from email 4934\n",
      "Added text/plain part from email 4933\n",
      "Added text/plain part from email 4932\n",
      "Added text/plain part from email 4931\n",
      "Added text/plain part from email 4930\n",
      "Added text/plain part from email 4929\n",
      "Added text/plain part from email 4928\n",
      "Added text/plain part from email 4926\n",
      "Added text/plain part from email 4924\n",
      "Added text/plain part from email 4923\n",
      "Added text/plain part from email 4922\n",
      "Added text/plain part from email 4921\n",
      "Added text/plain part from email 4920\n",
      "Added text/plain part from email 4919\n",
      "Added text/plain part from email 4918\n",
      "Added text/plain part from email 4917\n",
      "Added text/plain part from email 4916\n",
      "Added text/plain part from email 4915\n",
      "Added text/plain part from email 4914\n",
      "Added text/plain part from email 4913\n",
      "Added text/plain part from email 4912\n",
      "Added text/plain part from email 4911\n",
      "Added text/plain part from email 4910\n",
      "Added text/plain part from email 4909\n",
      "Added text/plain part from email 4908\n",
      "Added text/plain part from email 4907\n",
      "Added text/plain part from email 4906\n",
      "Added text/plain part from email 4905\n",
      "Added text/plain part from email 4904\n",
      "Added text/plain part from email 4902\n",
      "Added text/plain part from email 4901\n",
      "Added text/plain part from email 4900\n",
      "Added text/plain part from email 4899\n",
      "Added text/plain part from email 4898\n",
      "Added text/plain part from email 4897\n",
      "Added text/plain part from email 4896\n",
      "Added text/plain part from email 4895\n",
      "Added text/plain part from email 4894\n",
      "Added text/plain part from email 4893\n",
      "Added text/plain part from email 4892\n",
      "Added text/plain part from email 4891\n",
      "Added text/plain part from email 4890\n",
      "Added text/plain part from email 4889\n",
      "Added text/plain part from email 4888\n",
      "Added text/plain part from email 4887\n",
      "Added text/plain part from email 4886\n",
      "Added text/plain part from email 4881\n",
      "Added text/plain part from email 4879\n",
      "Added text/plain part from email 4878\n",
      "Added text/plain part from email 4877\n",
      "Added text/plain part from email 4876\n",
      "Added text/plain part from email 4875\n",
      "Added text/plain part from email 4874\n",
      "Added text/plain part from email 4873\n",
      "Added text/plain part from email 4872\n",
      "Added text/plain part from email 4870\n",
      "Added text/plain part from email 4869\n",
      "Added text/plain part from email 4868\n",
      "Added text/plain part from email 4867\n",
      "Added text/plain part from email 4866\n",
      "Added text/plain part from email 4864\n",
      "Added text/plain part from email 4863\n",
      "Added text/plain part from email 4862\n",
      "Added text/plain part from email 4861\n",
      "Added text/plain part from email 4860\n",
      "Added text/plain part from email 4859\n",
      "Added text/plain part from email 4858\n",
      "Added text/plain part from email 4857\n",
      "Added text/plain part from email 4856\n",
      "Added text/plain part from email 4855\n",
      "Added text/plain part from email 4854\n",
      "Added text/plain part from email 4853\n",
      "Added text/plain part from email 4852\n",
      "Added text/plain part from email 4851\n",
      "Added text/plain part from email 4850\n",
      "Added text/plain part from email 4848\n",
      "Added text/plain part from email 4847\n",
      "Added text/plain part from email 4846\n",
      "Added text/plain part from email 4845\n",
      "Added text/plain part from email 4844\n",
      "Added text/plain part from email 4838\n",
      "Added text/plain part from email 4837\n",
      "Added text/plain part from email 4836\n",
      "Added text/plain part from email 4834\n",
      "Added text/plain part from email 4827\n",
      "Added text/plain part from email 4826\n",
      "Added text/plain part from email 4825\n",
      "Added text/plain part from email 4824\n",
      "Added text/plain part from email 4823\n",
      "Added text/plain part from email 4821\n",
      "Added text/plain part from email 4820\n",
      "Added text/plain part from email 4819\n",
      "Added text/plain part from email 4818\n",
      "Added text/plain part from email 4817\n",
      "Added text/plain part from email 4816\n",
      "Added text/plain part from email 4815\n",
      "Added text/plain part from email 4814\n",
      "Added text/plain part from email 4813\n",
      "Added text/plain part from email 4812\n",
      "Added text/plain part from email 4811\n",
      "Added text/plain part from email 4810\n",
      "Added text/plain part from email 4809\n",
      "Added text/plain part from email 4808\n",
      "Added text/plain part from email 4806\n",
      "Added text/plain part from email 4801\n",
      "Added text/plain part from email 4800\n",
      "Added text/plain part from email 4799\n",
      "Added text/plain part from email 4798\n",
      "Added text/plain part from email 4797\n",
      "Added text/plain part from email 4796\n",
      "Added text/plain part from email 4795\n",
      "Added text/plain part from email 4794\n",
      "Added text/plain part from email 4793\n",
      "Added text/plain part from email 4792\n",
      "Added text/plain part from email 4791\n",
      "Added text/plain part from email 4790\n",
      "Added text/plain part from email 4789\n",
      "Added text/plain part from email 4788\n",
      "Added text/plain part from email 4784\n",
      "Added text/plain part from email 4783\n",
      "Added text/plain part from email 4782\n",
      "Added text/plain part from email 4781\n",
      "Added text/plain part from email 4780\n",
      "Added text/plain part from email 4779\n",
      "Added text/plain part from email 4778\n",
      "Added text/plain part from email 4777\n",
      "Added text/plain part from email 4776\n",
      "Added text/plain part from email 4775\n",
      "Added text/plain part from email 4773\n",
      "Added text/plain part from email 4772\n",
      "Added text/plain part from email 4771\n",
      "Added text/plain part from email 4770\n",
      "Added text/plain part from email 4764\n",
      "Added text/plain part from email 4763\n",
      "Added text/plain part from email 4762\n",
      "Added text/plain part from email 4761\n",
      "Added text/plain part from email 4760\n",
      "Added text/plain part from email 4759\n",
      "Added text/plain part from email 4758\n",
      "Added text/plain part from email 4757\n",
      "Added text/plain part from email 4756\n",
      "Added text/plain part from email 4755\n",
      "Added text/plain part from email 4754\n",
      "Added text/plain part from email 4753\n",
      "Added text/plain part from email 4752\n",
      "Added text/plain part from email 4751\n",
      "Added text/plain part from email 4750\n",
      "Added text/plain part from email 4749\n",
      "Added text/plain part from email 4748\n",
      "Added text/plain part from email 4747\n",
      "Added text/plain part from email 4746\n",
      "Added text/plain part from email 4745\n",
      "Added text/plain part from email 4744\n",
      "Added text/plain part from email 4743\n",
      "Added text/plain part from email 4742\n",
      "Added text/plain part from email 4741\n",
      "Added text/plain part from email 4740\n",
      "Added text/plain part from email 4739\n",
      "Added text/plain part from email 4738\n",
      "Added text/plain part from email 4737\n",
      "Added text/plain part from email 4734\n",
      "Added text/plain part from email 4733\n",
      "Added text/plain part from email 4732\n",
      "Added text/plain part from email 4731\n",
      "Added text/plain part from email 4730\n",
      "Added text/plain part from email 4729\n",
      "Added text/plain part from email 4728\n",
      "Added text/plain part from email 4727\n",
      "Added text/plain part from email 4726\n",
      "Added text/plain part from email 4725\n",
      "Added text/plain part from email 4723\n",
      "Added text/plain part from email 4722\n",
      "Added text/plain part from email 4721\n",
      "Added text/plain part from email 4720\n",
      "Added text/plain part from email 4719\n",
      "Added text/plain part from email 4718\n",
      "Added text/plain part from email 4717\n",
      "Added text/plain part from email 4716\n",
      "Added text/plain part from email 4715\n",
      "Added text/plain part from email 4712\n",
      "Added text/plain part from email 4709\n",
      "Added text/plain part from email 4708\n",
      "Added text/plain part from email 4706\n",
      "Added text/plain part from email 4705\n",
      "Added text/plain part from email 4704\n",
      "Added text/plain part from email 4701\n",
      "Added text/plain part from email 4700\n",
      "Added text/plain part from email 4699\n",
      "Added text/plain part from email 4698\n",
      "Added text/plain part from email 4697\n",
      "Added text/plain part from email 4696\n",
      "Added text/plain part from email 4694\n",
      "Added text/plain part from email 4693\n",
      "Added text/plain part from email 4692\n",
      "Added text/plain part from email 4691\n",
      "Added text/plain part from email 4688\n",
      "Added text/plain part from email 4687\n",
      "Added text/plain part from email 4686\n",
      "Added text/plain part from email 4685\n",
      "Added text/plain part from email 4684\n",
      "Added non-multipart email b'4681'\n",
      "Added non-multipart email b'4681'\n",
      "Added non-multipart email b'4681'\n",
      "Added non-multipart email b'4681'\n",
      "Added non-multipart email b'4681'\n",
      "Added non-multipart email b'4681'\n",
      "Added non-multipart email b'4681'\n",
      "Added non-multipart email b'4681'\n",
      "Added non-multipart email b'4681'\n",
      "Added non-multipart email b'4681'\n",
      "Added non-multipart email b'4681'\n",
      "Added non-multipart email b'4681'\n",
      "Added non-multipart email b'4681'\n",
      "Added non-multipart email b'4681'\n",
      "Added non-multipart email b'4681'\n",
      "Added non-multipart email b'4681'\n",
      "Added non-multipart email b'4681'\n",
      "Added non-multipart email b'4681'\n",
      "Added non-multipart email b'4681'\n",
      "Added non-multipart email b'4681'\n",
      "Added non-multipart email b'4681'\n",
      "Added non-multipart email b'4681'\n",
      "Added non-multipart email b'4681'\n",
      "Added non-multipart email b'4681'\n",
      "Added non-multipart email b'4681'\n",
      "Added non-multipart email b'4681'\n",
      "Added non-multipart email b'4681'\n",
      "Added non-multipart email b'4681'\n",
      "Added non-multipart email b'4681'\n",
      "Added non-multipart email b'4681'\n",
      "Added non-multipart email b'4681'\n",
      "Added non-multipart email b'4681'\n",
      "Added non-multipart email b'4681'\n",
      "Added non-multipart email b'4681'\n",
      "Added non-multipart email b'4681'\n",
      "Added non-multipart email b'4681'\n",
      "Added non-multipart email b'4681'\n",
      "Added non-multipart email b'4681'\n",
      "Added non-multipart email b'4681'\n",
      "Added non-multipart email b'4681'\n",
      "Added non-multipart email b'4681'\n",
      "Added non-multipart email b'4681'\n",
      "Added non-multipart email b'4681'\n",
      "Added non-multipart email b'4681'\n",
      "Added non-multipart email b'4681'\n",
      "Added non-multipart email b'4681'\n",
      "Added non-multipart email b'4681'\n",
      "Added non-multipart email b'4681'\n",
      "Added non-multipart email b'4681'\n",
      "Added non-multipart email b'4681'\n",
      "Added non-multipart email b'4681'\n",
      "Added non-multipart email b'4681'\n",
      "Added non-multipart email b'4681'\n",
      "Added non-multipart email b'4681'\n",
      "Added non-multipart email b'4681'\n",
      "Added non-multipart email b'4681'\n",
      "Added non-multipart email b'4681'\n",
      "Added non-multipart email b'4681'\n",
      "Added non-multipart email b'4681'\n",
      "Added non-multipart email b'4681'\n",
      "Added non-multipart email b'4681'\n",
      "Added non-multipart email b'4681'\n",
      "Added non-multipart email b'4681'\n",
      "Added non-multipart email b'4681'\n",
      "Added non-multipart email b'4681'\n",
      "Added non-multipart email b'4681'\n",
      "Added non-multipart email b'4681'\n",
      "Added non-multipart email b'4681'\n",
      "Added non-multipart email b'4681'\n",
      "Added non-multipart email b'4681'\n",
      "Added non-multipart email b'4681'\n",
      "Added non-multipart email b'4681'\n",
      "Added non-multipart email b'4681'\n",
      "Added non-multipart email b'4681'\n",
      "Added non-multipart email b'4681'\n",
      "Added non-multipart email b'4681'\n",
      "Added non-multipart email b'4681'\n",
      "Added non-multipart email b'4681'\n",
      "Added non-multipart email b'4681'\n",
      "Added non-multipart email b'4681'\n",
      "Added non-multipart email b'4681'\n",
      "Added non-multipart email b'4681'\n",
      "Added non-multipart email b'4681'\n",
      "Added non-multipart email b'4681'\n",
      "Added non-multipart email b'4681'\n",
      "Added non-multipart email b'4681'\n",
      "Added non-multipart email b'4681'\n",
      "Added non-multipart email b'4681'\n",
      "Added non-multipart email b'4681'\n",
      "Added non-multipart email b'4681'\n",
      "Added non-multipart email b'4681'\n",
      "Added non-multipart email b'4681'\n",
      "Added non-multipart email b'4681'\n",
      "Added non-multipart email b'4681'\n",
      "Added non-multipart email b'4681'\n",
      "Added non-multipart email b'4681'\n",
      "Added non-multipart email b'4681'\n",
      "Added non-multipart email b'4681'\n",
      "Added non-multipart email b'4681'\n",
      "Added non-multipart email b'4681'\n",
      "Added non-multipart email b'4681'\n",
      "Added non-multipart email b'4681'\n",
      "Added non-multipart email b'4681'\n",
      "Added non-multipart email b'4681'\n",
      "Added non-multipart email b'4681'\n",
      "Added non-multipart email b'4681'\n",
      "Added non-multipart email b'4681'\n",
      "Added non-multipart email b'4681'\n",
      "Added non-multipart email b'4681'\n",
      "Added non-multipart email b'4681'\n",
      "Added non-multipart email b'4681'\n",
      "Added non-multipart email b'4681'\n",
      "Added non-multipart email b'4681'\n",
      "Added non-multipart email b'4681'\n",
      "Added non-multipart email b'4681'\n",
      "Added non-multipart email b'4681'\n",
      "Added non-multipart email b'4681'\n",
      "Added non-multipart email b'4681'\n",
      "Added non-multipart email b'4681'\n",
      "Added non-multipart email b'4681'\n",
      "Added non-multipart email b'4681'\n",
      "Added non-multipart email b'4681'\n",
      "Added non-multipart email b'4681'\n",
      "Added non-multipart email b'4681'\n",
      "Added non-multipart email b'4681'\n",
      "Added non-multipart email b'4681'\n",
      "Added non-multipart email b'4681'\n",
      "Added non-multipart email b'4681'\n",
      "Added non-multipart email b'4681'\n",
      "Added non-multipart email b'4681'\n",
      "Added non-multipart email b'4681'\n",
      "Added non-multipart email b'4681'\n",
      "Added non-multipart email b'4681'\n",
      "Added non-multipart email b'4681'\n",
      "Added non-multipart email b'4681'\n",
      "Added non-multipart email b'4681'\n",
      "Added non-multipart email b'4681'\n",
      "Added non-multipart email b'4681'\n",
      "Added non-multipart email b'4681'\n",
      "Added non-multipart email b'4681'\n",
      "Added non-multipart email b'4681'\n",
      "Added non-multipart email b'4681'\n",
      "Added non-multipart email b'4681'\n",
      "Added non-multipart email b'4681'\n",
      "Added non-multipart email b'4681'\n",
      "Added non-multipart email b'4681'\n",
      "Added non-multipart email b'4681'\n",
      "Added non-multipart email b'4681'\n",
      "Added non-multipart email b'4681'\n",
      "Added non-multipart email b'4681'\n",
      "Added non-multipart email b'4681'\n",
      "Added non-multipart email b'4681'\n",
      "Added non-multipart email b'4681'\n",
      "Added non-multipart email b'4681'\n",
      "Added non-multipart email b'4681'\n",
      "Added non-multipart email b'4681'\n",
      "Added non-multipart email b'4681'\n",
      "Added non-multipart email b'4681'\n",
      "Added non-multipart email b'4681'\n",
      "Added non-multipart email b'4681'\n",
      "Added non-multipart email b'4681'\n",
      "Added non-multipart email b'4681'\n",
      "Added non-multipart email b'4681'\n",
      "Added non-multipart email b'4681'\n",
      "Added non-multipart email b'4681'\n",
      "Added non-multipart email b'4681'\n",
      "Added non-multipart email b'4681'\n",
      "Added non-multipart email b'4681'\n",
      "Added non-multipart email b'4681'\n",
      "Added non-multipart email b'4681'\n",
      "Added non-multipart email b'4681'\n",
      "Added non-multipart email b'4681'\n",
      "Added non-multipart email b'4681'\n",
      "Added non-multipart email b'4681'\n",
      "Added non-multipart email b'4681'\n",
      "Added non-multipart email b'4681'\n",
      "Added non-multipart email b'4681'\n",
      "Added non-multipart email b'4681'\n",
      "Added non-multipart email b'4681'\n",
      "Added non-multipart email b'4681'\n",
      "Added non-multipart email b'4681'\n",
      "Added non-multipart email b'4681'\n",
      "Added non-multipart email b'4681'\n",
      "Added non-multipart email b'4681'\n",
      "Added non-multipart email b'4681'\n",
      "Added non-multipart email b'4681'\n",
      "Added non-multipart email b'4681'\n",
      "Added non-multipart email b'4681'\n",
      "Added non-multipart email b'4681'\n",
      "Added non-multipart email b'4681'\n",
      "Added non-multipart email b'4681'\n",
      "Added non-multipart email b'4681'\n",
      "Added non-multipart email b'4681'\n",
      "Added non-multipart email b'4681'\n",
      "Added non-multipart email b'4681'\n",
      "Added non-multipart email b'4681'\n",
      "Added non-multipart email b'4681'\n",
      "Added non-multipart email b'4681'\n",
      "Added non-multipart email b'4681'\n",
      "Added non-multipart email b'4681'\n",
      "Added non-multipart email b'4681'\n",
      "Added non-multipart email b'4681'\n",
      "Added non-multipart email b'4681'\n",
      "Added non-multipart email b'4681'\n",
      "Added non-multipart email b'4681'\n",
      "Added non-multipart email b'4681'\n",
      "Added non-multipart email b'4681'\n",
      "Added non-multipart email b'4681'\n",
      "Added non-multipart email b'4681'\n",
      "Added non-multipart email b'4681'\n",
      "Added non-multipart email b'4681'\n",
      "Added non-multipart email b'4681'\n",
      "Added non-multipart email b'4681'\n",
      "Added non-multipart email b'4681'\n",
      "Added non-multipart email b'4681'\n",
      "Added non-multipart email b'4681'\n",
      "Added non-multipart email b'4681'\n",
      "Added non-multipart email b'4681'\n",
      "Added non-multipart email b'4681'\n",
      "Added non-multipart email b'4681'\n",
      "Added non-multipart email b'4681'\n",
      "Added non-multipart email b'4681'\n",
      "Added non-multipart email b'4681'\n",
      "Added non-multipart email b'4681'\n",
      "Added non-multipart email b'4681'\n",
      "Added non-multipart email b'4681'\n",
      "Added non-multipart email b'4681'\n",
      "Added non-multipart email b'4681'\n",
      "Added non-multipart email b'4681'\n",
      "Added non-multipart email b'4681'\n",
      "Added non-multipart email b'4681'\n",
      "Added non-multipart email b'4681'\n",
      "Added non-multipart email b'4681'\n",
      "Added non-multipart email b'4681'\n",
      "Added non-multipart email b'4681'\n",
      "Added non-multipart email b'4681'\n",
      "Added non-multipart email b'4681'\n",
      "Added non-multipart email b'4681'\n",
      "Added non-multipart email b'4681'\n",
      "Added non-multipart email b'4681'\n",
      "Added non-multipart email b'4681'\n",
      "Added non-multipart email b'4681'\n",
      "Added non-multipart email b'4681'\n",
      "Added non-multipart email b'4681'\n",
      "Added non-multipart email b'4681'\n",
      "Added non-multipart email b'4681'\n",
      "Added non-multipart email b'4681'\n",
      "Added non-multipart email b'4681'\n",
      "Added non-multipart email b'4681'\n",
      "Added non-multipart email b'4681'\n",
      "Added non-multipart email b'4681'\n",
      "Added non-multipart email b'4681'\n",
      "Added non-multipart email b'4681'\n",
      "Added non-multipart email b'4681'\n",
      "Added non-multipart email b'4681'\n",
      "Added non-multipart email b'4681'\n",
      "Added non-multipart email b'4681'\n",
      "Added non-multipart email b'4681'\n",
      "Added non-multipart email b'4681'\n",
      "Added non-multipart email b'4681'\n",
      "Added non-multipart email b'4681'\n",
      "Added non-multipart email b'4681'\n",
      "Added non-multipart email b'4681'\n",
      "Added non-multipart email b'4681'\n",
      "Added non-multipart email b'4681'\n",
      "Added non-multipart email b'4681'\n",
      "Added non-multipart email b'4681'\n",
      "Added non-multipart email b'4681'\n",
      "Added non-multipart email b'4681'\n",
      "Added non-multipart email b'4681'\n"
     ]
    }
   ],
   "source": [
    "# import imaplib\n",
    "# import email\n",
    "# import os\n",
    "# import re\n",
    "# from email.header import decode_header\n",
    "# from bs4 import BeautifulSoup\n",
    "\n",
    "# def read(sender_of_interest=None):\n",
    "#     # Очищаем файл перед записью\n",
    "#     with open('filtered_emails.txt', 'r+') as f:\n",
    "#         f.truncate(0) \n",
    "\n",
    "#     # Читаем учетные данные из переменных окружения\n",
    "#     email_user = os.getenv('EMAIL_USER')\n",
    "#     email_pass = os.getenv('EMAIL_PASS')\n",
    "\n",
    "#     # Подключаемся к серверу\n",
    "#     imap = imaplib.IMAP4_SSL(\"imap.gmail.com\", 993)\n",
    "#     imap.login(email_user, email_pass)\n",
    "#     imap.select('INBOX')\n",
    "\n",
    "#     # Поиск всех писем\n",
    "#     if sender_of_interest:\n",
    "#         status, response = imap.uid('search', None, 'ALL', f'FROM {sender_of_interest}')\n",
    "#     else:\n",
    "#         status, response = imap.uid('search', None, 'ALL')\n",
    "\n",
    "#     if status == 'OK':\n",
    "#         unread_msg_nums = response[0].split()\n",
    "#         print(f\"Found {len(unread_msg_nums)} emails\")  # Отладочная информация\n",
    "#     else:\n",
    "#         unread_msg_nums = []\n",
    "#         print(\"No emails found\")\n",
    "\n",
    "#     # Инвертируем список ID, чтобы получить последние письма первыми\n",
    "#     unread_msg_nums = unread_msg_nums[::-1]\n",
    "\n",
    "#     data_list = []\n",
    "#     count = 0  # Счётчик писем\n",
    "\n",
    "#     for e_id in unread_msg_nums:\n",
    "#         if count >= 400:  # Ограничение на 400 последних писем\n",
    "#             break\n",
    "\n",
    "#         e_id = e_id.decode('utf-8')\n",
    "#         _, response = imap.uid('fetch', e_id, '(RFC822)')\n",
    "\n",
    "#         # Используем message_from_bytes для правильного парсинга писем\n",
    "#         raw_email = response[0][1]\n",
    "#         email_message = email.message_from_bytes(raw_email)\n",
    "\n",
    "#         # Проверка, multipart или нет, чтобы обработать текстовые и HTML части\n",
    "#         if email_message.is_multipart():\n",
    "#             for part in email_message.walk():\n",
    "#                 content_type = part.get_content_type()\n",
    "#                 if content_type == 'text/plain':  # Извлекаем только текстовую часть\n",
    "#                     body = part.get_payload(decode=True).decode('utf-8', errors='ignore')\n",
    "#                     data_list.append(body)\n",
    "#                     print(f\"Added text/plain part from email {e_id}\")  # Отладочная информация\n",
    "#                     count += 1\n",
    "#                     break  # Если нашли нужную часть, выходим\n",
    "#         else:\n",
    "#             # Если не multipart, просто получаем тело письма\n",
    "#             body = email_message.get_payload(decode=True).decode('utf-8', errors='ignore')\n",
    "#             data_list.append(body)\n",
    "#             count += 1\n",
    "\n",
    "#     # Запись в файл\n",
    "#     with open('filtered_emails.txt', 'w', encoding='utf-8') as f:\n",
    "#         for elem in data_list:\n",
    "#             # Удаляем блоки стилей <style>...</style>\n",
    "#             elem = re.sub(r\"<style.*?>.*?</style>\", \"\", elem, flags=re.S)\n",
    "#             elem = re.sub(r\"&nbsp;\", \"\", elem, flags=re.S)\n",
    "#             # Удаляем все HTML-теги\n",
    "#             elem = re.sub(r\"<[^>]+>\", \"\", elem, flags=re.S)\n",
    "            \n",
    "#             if 'Высылаю обратную связь' in elem:\n",
    "#                 print(f\"Added non-multipart email {e_id}\")  # Отладочная информация\n",
    "\n",
    "#                 # Разбиваем на строки и записываем строки, если они не пустые\n",
    "#                 for line in elem.splitlines():\n",
    "#                     if line.strip():  # Проверяем, не пустая ли строка\n",
    "#                         f.write(line + '\\n')  # Записываем в файл\n",
    "\n",
    "#                 # Добавляем разделитель для каждого письма\n",
    "#                 f.write('\\n++++++++++++++++++++++++++++++++++++++++++++++++++++++++++++++++++++++++\\n')\n",
    "\n",
    "#     # Завершаем работу с сервером\n",
    "#     imap.logout()\n",
    "\n",
    "# # Вызов функции\n",
    "# read()\n"
   ]
  },
  {
   "cell_type": "code",
   "execution_count": 74,
   "metadata": {},
   "outputs": [
    {
     "name": "stdout",
     "output_type": "stream",
     "text": [
      "-------- Перенаправленное сообщение --------\n",
      "Тема: \tОС по итогам просмотра Мышанского Владимира Викторовича от \n",
      "26.09.2024.\n",
      "Дата: \tTue, 01 Oct 2024 17:57:40 +0300\n",
      "От: \tТернов Сергей \n",
      "Отвечать: \tТернов Сергей \n",
      "Кому: \tАлексей Аникеев \n",
      "Копия: \tСергей Викторович Лавриченко , Ваге Акобян \n",
      "Добрый день.\n",
      "Высылаю обратную связь по продавцу Скляров Николай Евгеньевич , название \n",
      "ТТ г.Гуково, ул. Комсомольская, д.49 Б, дата: 27.09.2024\n",
      "В указанный период была: Продажа\n",
      "*1. Оценка*\n",
      "Максимальная оценка проверок по критериям – 100 баллов. Итоги просмотра:\n",
      "Уровень сервиса - 23 из 25\n",
      "НЭП - 60 из 67\n",
      "Продажа аксессуаров - 0 из 6\n",
      "Отработка по акции - 2 из 2\n",
      "Итоговая сумма баллов с учетом обязательных и не обязательных пунктов - \n",
      "85 балов или 85%\n",
      "*2.Выявленные отклонения, рекомендация*\n",
      "Продавец не в уставной форме обуви.\n",
      "Продавец не проверил состояние ткущего АКБ.\n",
      "Клиенту не было предложено доп. товары. Так же не было демонстрации \n",
      "аксессуаров.\n",
      "Клинту не выдали визитных карточек и листовок.\n",
      "С уважением, Тернов Сергей - Оператор видеонаблюдения\n",
      "Отдел аналитики, мониторинга и контроля\n",
      "Компания \"АКБ-ЦЕНТР\" & ТСС \"Батарейка\"\n",
      "горячая линия:8(800)222-07-70\n",
      "адрес офиса: Ставропольский край, г. Минеральные Воды, ул. Московская, 29а\n",
      "eco-oper3@akb-centr.com \n",
      "http://avto-batt.ru/\n",
      "-- \n",
      "С уважением, Сергей Лавриченко\n",
      "Руководитель отдела аналитики, мониторинга и контроля\n",
      "Компания \"АКБ-ЦЕНТР\" & ТСС \"Батарейка\"\n",
      "моб. 8 938 35 00 135\n",
      "многоканальный: 8(800)222-07-70 доб. 151\n",
      "адрес офиса: Ставропольский край, г. Минеральные Воды,\n",
      "ул. Московская, 29а\n",
      "reco@akb-centr.com\n",
      "http://avto-batt.ru/\n"
     ]
    }
   ],
   "source": [
    "with open('filtered_emails.txt', 'r') as file:\n",
    "    lines = file.readlines()\n",
    "\n",
    "text = []  # Список для хранения блоков текста\n",
    "cnt = 0  # Начальная позиция для нарезки\n",
    "\n",
    "# Проходим по всем строкам файла\n",
    "for i in range(len(lines)):\n",
    "    # Проверяем, если строка содержит только плюсики (ваш разделитель)\n",
    "    if lines[i].strip() == '++++++++++++++++++++++++++++++++++++++++++++++++++++++++++++++++++++++++':\n",
    "        # Добавляем блок текста от cnt до i в список text\n",
    "        text.append(''.join(lines[cnt:i]).strip())\n",
    "        cnt = i + 1  # Обновляем начало следующего блока\n",
    "\n",
    "# Добавляем последний блок текста, если он есть после последней строки с плюсами\n",
    "if cnt < len(lines):\n",
    "    text.append(''.join(lines[cnt:]).strip())\n",
    "\n",
    "# print(text[0])\n",
    "print(text[len(text)-1])\n"
   ]
  },
  {
   "cell_type": "code",
   "execution_count": 75,
   "metadata": {},
   "outputs": [
    {
     "name": "stdout",
     "output_type": "stream",
     "text": [
      "['Хорошилов Михаил Владимирович', 'г.Светлоград ул.Сельскохозяйственная', '17.10.2024', 'когда пришли клиенты, пол был грязным. центре полу лежала метла. не задает открытых вопросов уточняющих режим эксплуатации авто/другого средства мобильности, характеристики авто, сложности эксплуатации, выясняет наличие доп. оборудования (потребителя энергии). использовал способы стимулирования клиента к совершению покупки. показывает состояние уровень жидкости акб. рассказывает/напоминает о режиме предложил клиенту купить сопутствующий ассортимент, аксессуары. не предлагал рассрочку. выдал визитки. сообщил бсо. сообщил, нужно приезжать через 3-4 месяца проверку. поступит звонок от колл-центра.']\n",
      "['Воронков Сергей Владимирович', 'Не найдено', '17.10.2024', 'не проверил текущее состояние акб. использовал способы стимулирования клиента к совершению покупки. не сообщил, рекомендовано приезжать проверку через 3-4 месяца. прошлая оценка от 12.10 задает вопросов уточняющих режим эксплуатации. показывает уровень жидкости новом предлагал рассрочку. ждем месяца проверку.']\n",
      "['Шульженко Никита Андреевич', 'Не найдено', '14.10.2024', 'не задает открытых вопросов уточняющих режим эксплуатации авто/другого средства мобильности, характеристики авто, сложности эксплуатации, выясняет наличие доп. оборудования (потребителя энергии). провёл развернутую презентацию продукта (доп. товары). не предлагал рассрочку. выдал клиенту визитки. сообщил о бсо. сообщил, рекомендовано приезжать проверку каждые 3-4 месяца.']\n",
      "['Евланов Андрей Юрьевич', 'Не найдено', '14.10.2024', 'не проверил текущее состояние акб. задает открытых вопросов уточняющих режим эксплуатации авто/другого средства мобильности, характеристики авто, сложности эксплуатации, выясняет наличие доп. оборудования (потребителя энергии). выдал клиенту визитки. при выдаче гарантийного талона покупателю, сообщил о звонке колл-центра. \\u200b\\u200b\\u200b\\u200b\\u200b\\u200b\\u200b']\n",
      "['Газюр Иван Александрович', 'г.Невинномысск ул. Гагарина', '14.10.2024', 'не использовал способы стимулирования клиента к совершению покупки. показывает состояние уровень жидкости акб. провёл развернутую презентацию продукта (доп. товары). не выдал клиенту визитки. сообщил о бсо. сообщил, рекомендовано приезжать проверку через 3-4 месяца.']\n",
      "['Шарафеев Роман Халимович', 'Не найдено', '18.10.2024', 'находится тт без бейджа. не задает открытых вопросов уточняющих режим эксплуатации авто/другого средства мобильности, характеристики авто. использовал способы стимулирования клиента к совершению покупки. показывает состояние уровень жидкости акб. предложил клиенту купить сопутствующий ассортимент, аксессуары. не сообщил, рекомендовано приезжать проверку через 3-4 месяца.']\n",
      "['Шарафеев Николай Халимович', 'Не найдено', '18.10.2024', 'не задает открытых вопросов уточняющих режим эксплуатации авто/другого средства мобильности, характеристики авто. использовал способы стимулирования клиента к совершению покупки. очень хорошо проконсультировал выполнив почти все пункти.']\n",
      "['Вартанян Эрик Вартанович', 'г.Армавир \\xa0ул.Советской Армии', '16.10.2024', 'не показывает состояние уровень жидкости новом акб. при выдаче гарантийного талона покупателю, сообщил о звонке колл-центра. закрыл все возражения клиента, очень хорошо проконсультировал, благодаря этому продажа завершилось успешно.']\n",
      "['Нестеренко Павел Сергеевич', 'г.Армавир \\xa0ул.Тургенева/C', '16.10.2024', 'не использовал способы стимулирования клиента к совершению покупки. показывает состояние уровень жидкости акб. предложил клиенту купить сопутствующий ассортимент, аксессуары. не выдал визитки.']\n",
      "['Добряков Дмитрий Сергеевич С', 'Не найдено', '17.10.2024', 'не использовал способы стимулирования клиента к совершению покупки. показал состояние уровень жидкости новом акб. не предлагал рассрочку. выдал визитки. сообщил о бсо. звонке колл-центра.']\n",
      "['Биркина Евгений Львович', 'Не найдено', '20.10.2024', 'не уточнил наличие дисконтной карты. хорошо проконсультировал.']\n",
      "['Бахмутский Даниил Андреевич', 'Не найдено', '19.10.2024', 'не уточнил наличие дисконтной карты. не сообщил, поступит звонок от колл-центра.']\n",
      "['Пикуль Денис Геннадьевич', 'Не найдено', '20.10.2024', 'при подъезде автомобиля не вышел улицу. проверил текущее состояние акб. задал открытых вопросов уточняющих режим эксплуатации авто/другого средства мобильности, характеристики авто. уточнил наличие дисконтной карты. продемонстрировал покупателю доп. товар аксессуары.']\n",
      "['Морозов Алексей Игоревич', 'Не найдено', '16.10.2024', 'не использовал способы стимулирования клиента к совершению покупки. показывает состояние уровень жидкости новом акб. продемонстрировал покупателю доп. товар аксессуары. выдал клиенту визитки. при выдаче гарантийного талона покупателю, сообщил о звонке колл-центра.']\n",
      "['Дзуцева Давид Таймуразович', 'Не найдено', '15.10.2024', 'то время когда консультировал клиента, другой сделал громкость музыки выше. как мне это неуважительно отношению клиента. (08:27) не проверил текущее состояние акб. использовал способы стимулирования клиента к совершению покупки. предложил клиенту купить сопутствующий ассортимент, аксессуары. не выдал визитки. сообщил, рекомендовано приезжать проверку через 3-4 месяца. поступит звонок от колл-центра.']\n",
      "['Тегаев Тимур Витальевич', 'г.Владикавказ \\xa0ул. Московская', '17.10.2024', 'не проверил текущее состояние акб. использовал способы стимулирования клиента к совершению покупки. провёл развернутую презентацию продукта (доп. товары). не выдал клиенту визитки.']\n",
      "['Плазунов Владислав Романович', 'г.Ессентуки \\xa0ул. Октябрьская', '18.10.2024', 'не использовал способы стимулирования клиента к совершению покупки. показывает состояние уровень жидкости акб. не выдал клиенту визитки.']\n",
      "['Меликян Владимир Манукович', 'Не найдено', '14.10.2024', 'не использовал способы стимулирования клиента к совершению покупки. показывает состояние уровень жидкости акб. предложил клиенту купить сопутствующий ассортимент, аксессуары. не выдал визитки. сообщил, рекомендовано приезжать проверку через 3-4 месяца.']\n",
      "['Баканов Юрий Александрович', 'Не найдено', '14.10.2024', 'не задает открытых вопросов уточняющих режим эксплуатации авто/другого средства мобильности, характеристики авто. использовал способы стимулирования клиента к совершению покупки. показывает состояние уровень жидкости акб. предложил клиенту купить сопутствующий ассортимент, аксессуары. выдал визитки. не сообщил о бсо. сообщил, рекомендовано приезжать проверку через 3-4 месяца.']\n",
      "['Пацюк Владислав Сергеевич', 'Не найдено', '16.10.2024', 'не задает открытых вопросов уточняющих режим эксплуатации. уточнил, какие критерии важны при выборе обращает внимание. показал состояние уровень жидкости новом акб. рассказал о режиме эксплуатации акб: периодичность зарядки, проверке уровня цвета электролита. провёл развернутую презентацию продукта (доп. товары). клиенту об актуальных акциях, предложениях.']\n",
      "['Киселёв Денис Николаевич', 'Не найдено', '16.10.2024', 'не проверил текущее состояние акб: заряд, уровень жидкости. задавал открытые вопросы уточняющие режим эксплуатации авто. использовал способы стимулирования клиента к совершению покупки. показал жидкости новом акб. рассказал о режиме периодичность зарядки, проверке уровня цвета электролита. клиенту об актуальных акциях, предложениях. сообщил звонке колл-центра.']\n",
      "['Еретина Денис Александрович', 'Не найдено', '20.10.2024', 'не проверил текущее состояние акб. задавал открытые вопросы уточняющие режим эксплуатации авто. уточнил, какие критерии важны при выборе обращает внимание. показал нагрузочной вилкой заряда уровень жидкости новом предложил клиенту купить сопутствующий ассортимент, аксессуары. провёл развернутую презентацию продукта (доп. товары). рассказал об актуальных акциях, предложениях. выдал визитные карточки.']\n",
      "['Куцемилов Денис Александрович', 'Не найдено', '20.10.2024', 'не задает открытые вопросы уточняющие режим эксплуатации авто. уточнил, какие критерии важны при выборе обращает внимание. показал состояние уровень жидкости новом акб. рассказал о режиме акб: периодичность зарядки, проверке уровня цвета электролита. предложил клиенту купить сопутствующий ассортимент, аксессуары. провёл развернутую презентацию продукта (доп. товары). об актуальных акциях, предложениях. выдал визитные карточки.']\n",
      "['Морозов Илья Леонидович', 'г.Ставрополь \\xa0ул. Шпаковская', '18.10.2024', 'не использовал способы стимулирования клиента к совершению покупки. показал состояние уровень жидкости новом акб. провёл развернутую презентацию продукта (доп. товары). рассказал клиенту об актуальных акциях, предложениях. выдал визитные карточки. при выдаче гарантийного талона, акцентировал внимание важных местах этом талоне. не сообщил о звонке колл-центра.']\n",
      "['Кобрин Владислав Александрович Г', 'Не найдено', '19.10.2024', 'не показал состояние уровень жидкости новом акб. предложил клиенту купить сопутствующий ассортимент, аксессуары. провёл развернутую презентацию продукта (доп. товары). рассказал об актуальных акциях, предложениях. выдал визитные карточки. сообщил о звонке колл-центра.']\n",
      "['Травников Игорь Олегович', 'Не найдено', '15.10.2024', 'не проверил текущее состояние акб: заряд, уровень жидкости. рассказал клиенту об актуальных акциях, предложениях. выдал визитные карточки. сообщил о проверке состояния акб через 3-4 месяца.']\n",
      "['Кожевников Виктор Александрович Г', 'Не найдено', '16.10.2024', 'не задает открытые вопросы уточняющие режим эксплуатации авто. показал нагрузочной вилкой состояние заряда акб. уровень жидкости новом рассказал о режиме провёл развернутую презентацию продукта (доп. товары). клиенту об актуальных акциях, предложениях. выдал визитные карточки. сообщил бсо. проверке состояния акб через 3-4 месяца. обслуживал клиента кепке. был без бейджа.']\n",
      "['Богатов Александр Дмитриевич Г', 'Не найдено', '19.10.2024', 'не показал состояние уровень жидкости новом акб. провёл развернутую презентацию продукта (доп. товары). рассказал клиенту об актуальных акциях, предложениях. оказал помощь установке']\n",
      "['Кочергин Евгений Александрович Г', 'г.Армавир \\xa0ул.Советской Армии', '16.10.2024', 'не рассказал о режиме эксплуатации акб: периодичность зарядки, проверке уровня цвета электролита. использовал способы стимулирования клиента к совершению покупки. уточнил, какие критерии важны при выборе.']\n",
      "['Тарало Виталий Николаевич', 'г.Светлоград ул.Сельскохозяйственная', '17.10.2024', 'нет чистоты порядка тт ( грязные полы). не проверил текущее состояние акб: заряд, уровень жидкости. задавал открытые вопросы уточняющие режим эксплуатации авто. уточнил, какие критерии важны при выборе. показал жидкости новом акб. рассказал о режиме периодичность зарядки, проверке уровня цвета электролита. провёл развернутую презентацию продукта (доп. товары). клиенту об актуальных акциях, предложениях.']\n",
      "['Бадаев Ренат Олегович Г', 'г.Ставрополь \\xa0ул. Серова', '15.10.2024', 'не уточнил, какие критерии важны при выборе обращает внимание. показал нагрузочной вилкой состояние заряда акб. уровень жидкости новом рассказал о режиме эксплуатации акб: периодичность зарядки, проверке уровня цвета электролита. предложил клиенту купить сопутствующий ассортимент, аксессуары. провёл развернутую презентацию продукта (доп. товары). об актуальных акциях, предложениях. при выдаче гарантийного талона, акцентировал внимание важных местах этом талоне.']\n",
      "['Данилидти Григорий Вячеславович Ст', 'Не найдено', '15.10.2024', 'не показал состояние уровень жидкости новом акб.']\n",
      "['Кинасова Олег Игоревич', 'г.Армавир \\xa0ул.Железнодорожная', '17.10.2024', 'не проверил текущее состояние акб: заряд, уровень жидкости. уточнил, какие критерии важны при выборе обращает внимание. рассказал о режиме эксплуатации периодичность зарядки, проверке уровня цвета электролита. предложил клиенту купить сопутствующий ассортимент, аксессуары. провёл развернутую презентацию продукта (доп. товары). не выдал визитные карточки. сообщил бсо \"ждем через 3-4 месяца проверку состояния акб\". оказал помощь установке акб. футболка соответствует требованиям.']\n",
      "['Гринь Сергей Сергеевич Г', 'Не найдено', '16.10.2024', 'не сообщил \"ждем через 3-4 месяца проверку состояния акб\". рассказал клиенту об актуальных акциях, предложениях. о режиме эксплуатации акб: периодичность зарядки, проверке уровня цвета электролита. показал состояние уровень жидкости новом акб. использовал способы стимулирования клиента к совершению покупки. уточнил, какие критерии важны при выборе обращает внимание.']\n",
      "['Иванов Юрий Владимирович С', 'Не найдено', '17.10.2024', 'не сообщил о звонке колл-центра. выдал визитные карточки. провёл развернутую презентацию продукта (доп. товары). рассказал режиме эксплуатации акб: периодичность зарядки, проверке уровня цвета электролита.']\n",
      "['Куликов Андрей Владимирович Г', 'г.Пятигорск ул. Коллективная 26А\\nДата', '17.10.2024', 'не проверил текущее состояние акб: заряд, уровень жидкости. показал жидкости новом акб. выдал визитные карточки.']\n",
      "['Ивченко Владимир Романович', 'г.Невинномысск ул. Гагарина', '17.10.2024', 'не проверил текущее состояние акб. использовал способы стимулирования клиента к совершению покупки. показывает уровень жидкости новом не выдал клиенту визитки. при выдаче гарантийного талона покупателю, сообщил о звонке колл-центра.']\n",
      "['Овсянников Сергей Алексеевич С', 'Не найдено', '17.10.2024', 'не использовал способы стимулирования клиента к совершению покупки. показал состояние уровень жидкости акб. не сообщил о бсо. сообщил, рекомендовано приезжать проверку через 3-4 месяца. презентовал слишком много моделей из-за этого клиент долго мог определиться.']\n",
      "['Мелконян Араик Каренович', 'Не найдено', '14.10.2024', 'не задал открытых вопросов уточняющих режим эксплуатации. использовал способы стимулирования клиента к совершению покупки. показывает состояние уровень жидкости акб. предложил клиенту купить сопутствующий ассортимент, аксессуары. выдал визитки. не сообщил, рекомендовано приезжать проверку через 3-4 месяца. при выдаче гарантийного талона покупателю, сообщил о звонке колл-центра.']\n",
      "['Загалов Игорь Русланович', 'Не найдено', '17.10.2024', 'не показывает состояние уровень жидкости новом акб. выдал клиенту визитки. хорошо проконсультировал.']\n",
      "['Торкунов Сергей Васильевич', 'г.Михайловск ул. Трунова', '17.10.2024', 'не проверил текущее состояние акб. задал открытых вопросов уточняющих режим эксплуатации авто/другого средства мобильности, характеристики авто. показывает уровень жидкости предложил клиенту купить сопутствующий ассортимент, аксессуары. не предлагал рассрочку. сообщил, рекомендовано приезжать проверку через 3-4 месяца.']\n",
      "['Носов Роман Евгеньевич', 'Не найдено', '15.10.2024', 'не проверил текущее состояние акб. использовал способы стимулирования клиента к совершению покупки. показывает уровень жидкости новом продемонстрировал покупателю доп. товар аксессуары. выдал клиенту визитки. не сообщил о бсо. сообщил, рекомендовано приезжать проверку каждые 3-4 месяца. при выдаче гарантийного талона покупателю, звонке колл-центра. оказал помощь установке']\n",
      "['Сазанов Павел Александрович', 'Не найдено', '15.10.2024', 'не задал открытых вопросов уточняющих режим эксплуатации авто/другого средства мобильности, характеристики авто. использовал способы стимулирования клиента к совершению покупки. показывает состояние уровень жидкости новом акб. продемонстрировал покупателю доп. товар аксессуары. не сообщил о бсо. сообщил, рекомендовано приезжать проверку каждые 3-4 месяца.']\n",
      "['Андросов Сергей Викторович', 'г.Зеленокумск ул. Площадь Ленина', '18.10.2024', 'не проверил текущее состояние акб. показывает уровень жидкости новом не предлагал рассрочку. выдал клиенту визитки. сообщил о бсо. сообщил, рекомендовано приезжать проверку каждые 3-4 месяца. при выдаче гарантийного талона покупателю, звонке колл-центра.']\n",
      "['Давыдов Дмитрий Иванович', 'Не найдено', '15.10.2024', 'не использовал способы стимулирования клиента к совершению покупки. показывает нагрузочной вилкой состояние заряда акб. уровень жидкости новом продемонстрировал покупателю доп. товар аксессуары. выдал клиенту визитки. при выдаче гарантийного талона покупателю, сообщил о звонке колл-центра.']\n",
      "['Ермаков Евгений Владимирович', 'Не найдено', '18.10.2024', 'не задает открытых вопросов уточняющих режим эксплуатации авто/другого средства мобильности, характеристики авто. использовал способы стимулирования клиента к совершению покупки. показывает состояние уровень жидкости новом акб. продемонстрировал покупателю доп. товар аксессуары. выдал клиенту визитки. не сообщил о бсо. сообщил, рекомендовано приезжать проверку каждые 3-4 месяца. оказал помощь установке']\n",
      "['Петросян Эдуард Александрович', 'г.Ставрополь \\xa0ул. Толстого', '18.10.2024', 'не задает открытых вопросов уточняющих режим эксплуатации авто/другого средства мобильности, характеристики авто. использовал способы стимулирования клиента к совершению покупки. показывает состояние уровень жидкости новом акб. не предлагал рассрочку. выдал визитки. сообщил, поступит звонок от колл-центра.']\n",
      "['Бирюлькин Анатолий Юрьевич', 'Не найдено', '18.10.2024', 'не использовал способы стимулирования клиента к совершению покупки. показывает состояние уровень жидкости акб. не сообщил, поступит звонок от колл-центра.']\n",
      "['Савельев Станислав Александрович', 'Не найдено', '17.10.2024', 'находится тт без бейджа. не показывает состояние уровень жидкости новом акб. при выдаче гарантийного талона покупателю, сообщил о звонке колл-центра.']\n",
      "['Кондраков Сергей Дмитриевич', 'Не найдено', '17.10.2024', 'не задает открытых вопросов уточняющих режим эксплуатации авто/другого средства мобильности, характеристики авто. уточнил наличие дисконтной карты. использовал способы стимулирования клиента к совершению покупки. показывает состояние уровень жидкости новом акб. выдал клиенту визитки. не предлагал рассрочку.']\n",
      "['Щербаков Александр Юрьевич', 'Не найдено', '16.10.2024', 'не задал открытых вопросов уточняющих режим эксплуатации авто/другого средства мобильности, характеристики авто. показывает нагрузочной вилкой состояние заряда акб. уровень жидкости новом выдал клиенту визитки. не предлагал рассрочку.']\n",
      "['Василенко Александр Юрьевич', 'Не найдено', '17.10.2024', 'не использовал способы стимулирования клиента к совершению покупки. показывает состояние заряда акб. не продемонстрировал покупателю доп. товар аксессуары. предлагал рассрочку. выдал клиенту визитки. сообщил, рекомендовано приезжать проверку каждые 3-4 месяца.']\n",
      "['Сорокин Евгений Валерьевич', 'г.Зеленокумск ул. Площадь Ленина', '18.10.2024', 'не использовал способы стимулирования клиента к совершению покупки. показывает состояние уровень жидкости акб. продемонстрировал покупателю доп. товар аксессуары. выдал клиенту визитки.']\n",
      "['Павленко Сергей Анатольевич', 'Не найдено', '17.10.2024', 'не использовал способы стимулирования клиента к совершению покупки. показывает состояние уровень жидкости новом акб. продемонстрировал покупателю доп. товар аксессуары. выдал клиенту визитки. не сообщил о бсо. сообщил, рекомендовано приезжать проверку каждые 3-4 месяца. при выдаче гарантийного талона покупателю, звонке колл-центра.']\n",
      "['Сыромятников Никита Романович П', 'п.Иноземцево \\xa0ул. Гагарина', '17.10.2024', 'не использовал способы стимулирования клиента к совершению покупки. показывает состояние уровень жидкости акб. предложил клиенту купить сопутствующий ассортимент, аксессуары. не выдал визитки. сообщил о бсо. сообщил, рекомендовано приезжать проверку через 3-4 месяца.']\n",
      "['Чугунов Николай Николаевич', 'Не найдено', '18.10.2024', 'не использовал способы стимулирования клиента к совершению покупк. показывает состояние уровень жидкости акб. достойно проконсультировал.']\n",
      "['Ломакин Максим Сергеевич', 'г.Пятигорск \\xa0ул.Первомайская', '18.10.2024', 'не использовал способы стимулирования клиента к совершению покупки. показывает состояние уровень жидкости акб. не выдал клиенту визитки.']\n",
      "['Арутюнян Арут Дереникович', 'Не найдено', '14.10.2024', 'не использовал способы стимулирования клиента к совершению покупки. показывает состояние уровень жидкости акб. предложил клиенту купить сопутствующий ассортимент, аксессуары. не сообщил о бсо. сообщил, рекомендовано приезжать проверку через 3-4 месяца. звонке колл-центра.']\n",
      "['Беднов Данил Сергеевич', 'Не найдено', '15.10.2024', 'не использовал способы стимулирования клиента к совершению покупки. показывает состояние уровень жидкости акб. предложил клиенту купить сопутствующий ассортимент, аксессуары. выдал гарантийный талон. не визитки. сообщил, рекомендовано приезжать проверку через 3-4 месяца.']\n",
      "['Никульников Иван Романович', 'Не найдено', '17.10.2024', 'не использовал способы стимулирования клиента к совершению покупки. показывает состояние уровень жидкости акб. целом достойно проконсультировал.']\n",
      "['Лясковский Виталий Сергеевич', 'г.Кисловодск \\xa0ул. 40 лет Октября', '18.10.2024', 'не задал открытых вопросов уточняющих режим эксплуатации авто/другого средства мобильности, характеристики авто. не выдал визитки. сообщил о бсо. сообщил, рекомендовано приезжать проверку через 3-4 месяца.']\n",
      "['Романовский Михаил Вячеславович', 'г.Ессентуки \\xa0ул. Володарского', '18.10.2024', 'не использовал способы стимулирования клиента к совершению покупки. достойно проконсультировал.']\n",
      "['Зуев Никита Евгеньевич', 'Не найдено', '19.10.2024', 'текущая оценка от 19.10 видел, клиент магазине, не подошел к нему сразу. задает открытых вопросов уточняющих режим эксплуатации. использовал способы стимулирования клиента совершению покупки. показывает нагрузочной вилкой состояние заряда акб. уровень жидкости предложил клиенту купить сопутствующий ассортимент, аксессуары. >не выдал визитки. сообщил о бсо. рекомендовано приезжать проверку через 3-4 месяца. >']\n",
      "['Тумарево Александр Олегович', 'Не найдено', '16.10.2024', 'текущая оценка от 16.10 не показывает состояние уровень жидкости акб. >не выдал клиенту визитки. сообщил о звонке колл-центра. >как мне достойно проконсультировал. >']\n",
      "['Минеев Алексей Сергеевич', 'Не найдено', '19.10.2024', 'не использовал способы стимулирования клиента к совершению покупки. показывает состояние уровень жидкости акб. предложил клиенту купить сопутствующий ассортимент, аксессуары. сообщил о звонке колл-центра. не оказал помощь установке']\n",
      "['Дробышевский Игорь Сергеевич', 'Не найдено', '15.10.2024', 'не использовал способы стимулирования клиента к совершению покупки. показывает состояние уровень жидкости акб. провёл развернутую презентацию продукта. не сообщил о звонке колл-центра.']\n",
      "['Зубенко Максим Эдуардович', 'Не найдено', '20.10.2024', 'не задал открытых вопросов уточняющих режим эксплуатации авто/другого средства мобильности, характеристики авто. использовал способы стимулирования клиента к совершению покупки. показывает состояние уровень жидкости новом акб. продемонстрировал покупателю доп. товар аксессуары. выдал клиенту визитки. не сообщил о бсо. сообщил, рекомендовано приезжать проверку каждые 3-4 месяца. при выдаче гарантийного талона покупателю, звонке колл-центра.']\n",
      "['Мчедлишвили Марк Важаевич', 'Не найдено', '16.10.2024', 'находится ртт нарушением формы одежды обуви. не использовал способы стимулирования клиента к совершению покупки. показывает состояние уровень жидкости акб. сообщил, рекомендовано через 3-4 месяца приезжать проверку. не сообщил о звонке колл-центра.']\n",
      "['Тоноян Арман Арменович Г', 'Не найдено', '20.10.2024', 'не задал открытых вопросов уточняющих режим эксплуатации авто/другого средства мобильности, характеристики авто. уточнил наличие дисконтной карты. использовал способы стимулирования клиента к совершению покупки. сообщил рекомендовано приезжать проверку через 3-4 месяца.']\n",
      "['Зуев Никита Евгеньевич', 'Не найдено', '19.10.2024', 'видел, клиент магазине, не подошел к нему сразу. задает открытых вопросов уточняющих режим эксплуатации. использовал способы стимулирования клиента совершению покупки. показывает нагрузочной вилкой состояние заряда акб. уровень жидкости предложил клиенту купить сопутствующий ассортимент, аксессуары. не выдал визитки. сообщил о бсо. рекомендовано приезжать проверку через 3-4 месяца.']\n",
      "['Тумарево Александр Олегович', 'Не найдено', '16.10.2024', 'не показывает состояние уровень жидкости акб. не выдал клиенту визитки. сообщил о звонке колл-центра. как мне достойно проконсультировал.']\n",
      "['Никольский Сергей Александрович', 'Не найдено', '20.10.2024', 'находится тт не форме. использовал способы стимулирования клиента к совершению покупки. показывает состояние уровень жидкости новом акб. выдал клиенту визитки. не оказал помощь установке']\n",
      "['Панкова Данил Александрович', 'Не найдено', '20.10.2024', 'не использовал способы стимулирования клиента к совершению покупки. показывает состояние уровень жидкости акб. не выдал визитки. сообщил о звонке колл-центра.']\n",
      "['Харламов Максим Владимирович', 'Не найдено', '14.10.2024', 'не задал открытых вопросов уточняющих режим эксплуатации авто/другого средства мобильности, характеристики авто. использовал способы стимулирования клиента к совершению покупки. показывает состояние уровень жидкости акб.']\n",
      "['Киянов Данил Сергеевич', 'г.Пятигорск ул.Калинина', '16.10.2024', 'не уточнил, какие критерии важны при выборе. не использовал способы стимулирования клиента к совершению покупки. показывает состояние уровень жидкости новом акб. выдал клиенту визитки.']\n",
      "['Кокорев Дмитрий Анатольевич', 'г.Пятигорск ул. Мира 201а', '16.10.2024', 'не использовал способы стимулирования клиента к совершению покупки. показывает состояние уровень жидкости акб. выдал клиенту визитки. у намного меньше ошибок чем было прошлый раз.']\n",
      "['Калашник Иван Владимирович', 'Не найдено', '17.10.2024', 'не находится тт форме. использовал способы стимулирования клиента к совершению покупки. показывает состояние уровень жидкости акб. выдал клиенту визитки.']\n",
      "['Базуткин Анатолий Михайлович', 'г.Ессентуки \\xa0ул. Первомайская', '18.10.2024', 'не задал открытых вопросов уточняющих режим эксплуатации авто/другого средства мобильности, характеристики авто. использовал способы стимулирования клиента к совершению покупки. показывает состояние уровень жидкости акб.']\n",
      "['Ильин Егор Сергеевич', 'Не найдено', '20.10.2024', 'не проверил текущее состояние акб. использовал способы стимулирования клиента к совершению покупки. показывает уровень жидкости новом провёл развернутую презентацию продукта.']\n",
      "['Корниенко Алексей Александрович', 'Не найдено', '19.10.2024', 'не задает открытых вопросов уточняющих режим эксплуатации авто/другого средства мобильности, характеристики авто. использовал способы стимулирования клиента к совершению покупки. показывает состояние уровень жидкости акб. предложил клиенту купить сопутствующий ассортимент, аксессуары.']\n",
      "['Костриков Андрей Владиславович', 'Не найдено', '19.10.2024', 'текущая оценка от 19.10 не проверил текущее состояние акб: заряд, уровень жидкости. использовал способы стимулирования клиента к совершению покупки. показывает жидкости нового акб. >']\n",
      "['Чернышёв Андрей Алексеевич', 'Не найдено', '19.10.2024', 'текущая оценка от 19.10 не задает открытых вопросов уточняющих режим эксплуатации авто/другого средства мобильности, характеристики авто. уточнил, какие критерии важны при выборе. показывает состояние уровень жидкости акб. сообщил, рекомендовано приезжать проверку через 3-4 месяца. выдал клиенту визитки. >>при выдаче гарантийного талона покупателю, сообщил о звонке колл-центра. >>']\n",
      "['Сыроватский Евгений Александрович', 'Не найдено', '20.10.2024', 'не проверил текущее состояние акб. показывает нагрузочной вилкой заряда уровень жидкости сообщил, рекомендовано приезжать проверку через 3-4 месяца. не поступит звонок от колл-центра.']\n",
      "['Чернышёв Андрей Алексеевич', 'Не найдено', '19.10.2024', 'текущая оценка от 19.10 не задает открытых вопросов уточняющих режим эксплуатации авто/другого средства мобильности, характеристики авто. уточнил, какие критерии важны при выборе. показывает состояние уровень жидкости акб. сообщил, рекомендовано приезжать проверку через 3-4 месяца. выдал клиенту визитки. >при выдаче гарантийного талона покупателю, сообщил о звонке колл-центра. >']\n",
      "['Талубаев Андрей Сергеевич', 'Не найдено', '15.10.2024', 'не задает открытых вопросов уточняющих режим эксплуатации авто/другого средства мобильности, характеристики авто. использовал способы стимулирования клиента к совершению покупки. показывает состояние уровень жидкости новом акб. продемонстрировал покупателю доп. товар аксессуары.']\n",
      "['Прудников Андрей Сергеевич', 'Не найдено', '20.10.2024', 'не задает открытых вопросов уточняющих режим эксплуатации авто/другого средства мобильности, характеристики авто. показывает состояние уровень жидкости акб. выдал клиенту визитки. сообщил, рекомендовано прийти проверку через 3-4 месяца. не поступит звонок от колл-центра.']\n",
      "['Козко Андрей Евгеньевич', 'Не найдено', '20.10.2024.', 'не задает открытых вопросов уточняющих режим эксплуатации авто/другого средства мобильности, характеристики авто. показывает состояние уровень жидкости акб. сообщил, рекомендовано приехать проверку через 3-4 месяца.']\n",
      "['Кичкина Борис Владимирович', 'Не найдено', '19.10.2024', 'отлично проконсультировал. нет никаких отклонений.']\n",
      "['Кондаков Владислав Альбертович', 'Не найдено', '15.10.2024', 'не использовал способы стимулирования клиента к совершению покупки. показывает состояние уровень жидкости новом акб. выдал клиенту визитки. целом консультация была хорошая.']\n",
      "['Петросян Наречь Варданович', 'Не найдено', '19.10.2024', 'не использовал способы стимулирования клиента к совершению покупки. показывает состояние уровень жидкости акб. сообщил, поступит звонок от колл-центра для оценки качества обслуживания.']\n",
      "['Покася Даниил Владимирович', 'Не найдено', '16.10.2024', 'не использовал способы стимулирования клиента к совершению покупки. показывает состояние уровень жидкости нового акб. не сообщил, поступит звонок от колл-центра для оценки качества обслуживания/']\n",
      "['Костриков Андрей Владиславович', 'Не найдено', '19.10.2024', 'не проверил текущее состояние акб: заряд, уровень жидкости. использовал способы стимулирования клиента к совершению покупки. показывает жидкости нового акб.']\n",
      "['Чернышёв Андрей Алексеевич', 'Не найдено', '19.10.2024', 'не задает открытых вопросов уточняющих режим эксплуатации авто/другого средства мобильности, характеристики авто. уточнил, какие критерии важны при выборе. показывает состояние уровень жидкости акб. сообщил, рекомендовано приезжать проверку через 3-4 месяца. выдал клиенту визитки. при выдаче гарантийного талона покупателю, сообщил о звонке колл-центра.']\n",
      "['Романцов Кирилл Алексеевич', 'г.Армавир \\xa0ул.Ковтюха', '17.10.2024', 'не использовал способы стимулирования клиента к совершению покупки. показывает состояние уровень жидкости новом акб. продемонстрировал покупателю доп. товар аксессуары. выдал клиенту визитки.']\n",
      "['Калашников Сергей Романович', 'Не найдено', '17.10.2024', 'не предлагал рассрочку. выдал клиенту визитки. при выдаче гарантийного талона покупателю, сообщил о звонке колл-центра. хорошо проконсультировал.']\n",
      "['Ткачёв Максим Михайлович', 'г.Михайловск ул.Заезд Привольный 14/1 дата', '17.10.2024', 'не проверил текущее состояние акб. задал открытых вопросов уточняющих режим эксплуатации авто/другого средства мобильности, характеристики авто. использовал способы стимулирования клиента к совершению покупки. показывает уровень жидкости новом не предлагал рассрочку. выдал клиенту визитки.']\n",
      "['Лошкарев Юрий Юрьевич', 'г.Михайловск ул. Трунова', '17.10.2024', 'не показывает состояние уровень жидкости новом акб. очень хорошо проконсультировал.']\n",
      "['Гасанов Надир Рабазанович', 'Не найдено', '14.10.2024', 'не задает открытых вопросов уточняющих режим эксплуатации авто/другого средства мобильности, характеристики авто. использовал способы стимулирования клиента к совершению покупки. показывает состояние заряда уровень жидкости новом акб. продемонстрировал покупателю доп. товар аксессуары. не предлагал рассрочку. при выдаче гарантийного талона покупателю, сообщил о звонке колл-центра.']\n",
      "['Ангилов Владимир Сергеевич', 'г.Минеральные Воды ул.Московская 29/6 дата', '17.10.2024', 'не проверил текущее состояние акб. показывает уровень жидкости новом продемонстрировал покупателю доп. товар аксессуары. целом хорошо проконсультировал.']\n",
      "['Смирнов Олег Алексеевич', 'г.Зеленокумск ул. Площадь Ленина', '18.10.2024', 'не задает открытых вопросов уточняющих режим эксплуатации авто/другого средства мобильности, характеристики авто. показывает состояние уровень жидкости новом акб. не предлагал рассрочку. выдал клиенту визитки. при выдаче гарантийного талона покупателю, сообщил о звонке колл-центра.']\n",
      "['Богачёв Дмитрий Сергеевич', 'Не найдено', '17.10.2024', 'не задает открытых вопросов уточняющих режим эксплуатации авто/другого средства мобильности, характеристики авто. показывает состояние уровень жидкости новом акб. продемонстрировал покупателю доп. товар аксессуары. сообщил, рекомендовано приезжать проверку каждые 3-4 месяца. при выдаче гарантийного талона покупателю, сообщил о звонке колл-центра.']\n",
      "['Козоброд Дмитрий Олегович', 'Не найдено', '19.10.2024', 'не использовал способы стимулирования клиента к совершению покупки. показывает состояние уровень жидкости новом акб. при выдаче гарантийного талона покупателю, сообщил о звонке колл-центра.']\n",
      "['Озеров Максим Алексеевич', 'Не найдено', '19.10.2024', 'не проверил текущее состояние старого акб. не задал открытых вопросов. использовал способы стимулирования клиента к совершению покупки. показывает нагрузочной вилкой заряда уровень жидкости новом продемонстрировал покупателю доп. товар аксессуары. сообщил, рекомендовано приезжать проверку каждые 3-4 месяца.']\n",
      "['Зубок Вениамин Игоревич', 'г.Ессентуки \\xa0ул. Володарского', '18.10.2024', 'не проверил текущее состояние старого акб. использовал способы стимулирования клиента к совершению покупки. показывает уровень жидкости новом продемонстрировал покупателю доп. товар аксессуары. не предлагал рассрочку. выдал клиенту визитки. сообщил о бсо. сообщил, рекомендовано приезжать проверку каждые 3-4 месяца. оказал помощь установке']\n",
      "['Шолкова Дмитрий Романович', 'г.Ессентуки \\xa0ул. Октябрьская', '18.10.2024', 'не показывает состояние заряда, уровень жидкости новом акб (потому продажа была этом магазине, забрали из другой тт). выдал клиенту визитки. не сообщил о бсо. предлагал рассрочку. сообщил, рекомендовано приезжать проверку каждые 3-4 месяца.']\n",
      "['Петросян Артема Гургенович', 'Не найдено', '17.10.2024', 'не показывает состояние уровень жидкости новом акб. продемонстрировал покупателю доп. товар аксессуары. не предлагал рассрочку. выдал клиенту визитки. сообщил о бсо. сообщил, рекомендовано приезжать проверку каждые 3-4 месяца. при выдаче гарантийного талона покупателю, звонке колл-центра.']\n",
      "['Менша Геннадий Владимирович', 'г.Пятигорск ул.Калинина', '18.10.2024', 'не показывает состояние уровень жидкости новом акб. продемонстрировал покупателю доп. товар аксессуары. не предлагал рассрочку. выдал клиенту визитки. сообщил, рекомендовано приезжать проверку каждые 3-4 месяца. при выдаче гарантийного талона покупателю, сообщил о звонке колл-центра.']\n",
      "['Батищев Даниил Сергеевич', 'г.Пятигорск \\xa0ул.Первомайская', '16.10.2024', 'не задал открытых вопросов уточняющих режим эксплуатации авто/другого средства мобильности, характеристики авто. показывает состояние уровень жидкости новом акб. продемонстрировал покупателю доп. товар аксессуары. выдал клиенту визитки. при выдаче гарантийного талона покупателю, сообщил о звонке колл-центра.']\n",
      "['Крамаров Олег Павлович', 'Не найдено', '18.10.2024', 'не задал открытых вопросов уточняющих режим эксплуатации авто/другого средства мобильности, характеристики авто. показывает состояние уровень жидкости новом акб. продемонстрировал покупателю доп. товар аксессуары. не предлагал рассрочку.']\n",
      "['Нестеренко Аркадия Николаевич', 'г.Ставрополь \\xa0ул. Толстого', '18.10.2024', 'не задает открытых вопросов уточняющих режим эксплуатации авто/другого средства мобильности, характеристики авто. использовал способы стимулирования клиента к совершению покупки. показывает состояние уровень жидкости новом акб. выдал клиенту визитки. не оказал помощь установке']\n",
      "['Нерубацкома Сергей Анатольевич Г', 'г.Минеральные Воды ул.Московская 29/6\\nДата', '15.10.2024', 'не сообщил о звонке колл-центра. рассказал клиенту об актуальных акциях, предложениях. предложил купить сопутствующий ассортимент, аксессуары. режиме эксплуатации акб: периодичность зарядки, проверке уровня цвета электролита. показал состояние уровень жидкости новом акб. нагрузочной вилкой заряда нового проверил текущее заряд, жидкости.']\n",
      "['Типаева Рамиль Николаевич Г', 'Не найдено', '19.10.2024', 'не рассказал клиенту об актуальных акциях, предложениях. показал состояние уровень жидкости новом акб.']\n",
      "['Шаповалов Никита Геннадьевич Г', 'г.Ипатово ул.Гагарина', '18.10.2024', 'не проверил текущее состояние акб: заряд, уровень жидкости. задавал открытые вопросы уточняющие режим эксплуатации авто. уточнил, какие критерии важны при выборе обращает внимание. показал жидкости новом акб. рассказал о режиме периодичность зарядки, проверке уровня цвета электролита. провёл развернутую презентацию продукта (доп. товары). клиенту об актуальных акциях, предложениях. выдал визитные карточки. сообщил звонке колл-центра.']\n",
      "['Гробовой Евгений Юрьевич Г', 'г.Невинномысск ул. Гагарина', '14.10.2024', 'не уточнил, какие критерии важны при выборе обращает внимание. резюмировал: озвучил потребность/запрос клиента, режим эксплуатации доп. оборудование. рассказал о продукте используя развернутую презентацию озвучиванием характеристик преимуществ той иной модели. использовал способы стимулирования клиента к совершению покупки. режиме акб: периодичность зарядки, проверке уровня цвета электролита. показал состояние уровень жидкости новом акб. предложил клиенту купить сопутствующий ассортимент, аксессуары. провёл продукта (доп. товары). об актуальных акциях, предложениях. выдал визитные карточки. оказал помощь установке']\n",
      "['Абрамкий Эрнест Александрович Г', 'Не найдено', '19.10.2024', 'находится ртт нарушением формы одежды(футболка не соответствует требованиям). проверил текущее состояние акб: заряд, уровень жидкости. уточнил, какие критерии важны при выборе обращает внимание. показал жидкости новом акб. рассказал о режиме эксплуатации периодичность зарядки, проверке уровня цвета электролита. предложил клиенту купить сопутствующий ассортимент, аксессуары. провёл развернутую презентацию продукта (доп. товары). об актуальных акциях, предложениях. выдал визитные карточки. сообщил \"ждем через 3-4 месяца проверку состояния акб\" оказал помощь установке']\n",
      "['Селезнёв Виталий Владимирович Г', 'Не найдено', '16.10.2024', 'не проверил текущее состояние акб. использовал способы стимулирования клиента к совершению покупки. предложил клиенту купить сопутствующий ассортимент, аксессуары. провёл развернутую презентацию продукта (доп. товары). рассказал об актуальных акциях, предложениях. сообщил о звонке колл-центра.']\n",
      "['Мартиросян Григорий Гарникович Г', 'г.Владикавказ \\xa0ул. Тургеневская', '17.10.2024', 'находился тт без бейджа. не уточнил, какие критерии важны при выборе обращает внимание. провёл развернутую презентацию продукта (доп. товары). рассказал клиенту об актуальных акциях, предложениях.']\n",
      "['Балашов Павел Алексеевич Г', 'г.Ипатово ул.Гагарина', '18.10.2024', 'не проверил текущее состояние акб: заряд, уровень жидкости. уточнил, какие критерии важны при выборе обращает внимание. показал жидкости акб. провёл развернутую презентацию продукта (доп. товары). рассказал клиенту об актуальных акциях, предложениях. выдал визитные карточки.']\n",
      "['Браун Дмитрий Павлович Г', 'Не найдено', '20.10.2024', 'не уточнил, какие критерии важны при выборе обращает внимание. проверил текущее состояние акб: заряд, уровень жидкости. показал нагрузочной вилкой заряда нового акб. жидкости новом предложил клиенту купить сопутствующий ассортимент, аксессуары. провёл развернутую презентацию продукта (доп. товары). рассказал об актуальных акциях, предложениях. грамотно отработал возражения.']\n",
      "['Козлов Антон Александрович Г', 'г.Михайловск ул.Заезд Привольный 14/1\\nДата', '14.10.2024', 'не выдал визитные карточки. рассказал клиенту об актуальных акциях, предложениях. провёл развернутую презентацию продукта (доп. товары). предложил купить сопутствующий ассортимент, аксессуары. показал состояние уровень жидкости новом акб. уточнил, какие критерии важны при выборе обращает внимание. проверил текущее акб: заряд, жидкости.']\n",
      "['Валиев Таймураз Придонович Г', 'г.Владикавказ \\xa0ул. Гвардейская', '14.10.2024', 'не уточнил, какие критерии важны при выборе обращает внимание. показал состояние уровень жидкости новом акб. рассказал клиенту об актуальных акциях, предложениях. выдал визитные карточки.']\n",
      "['Кирикова Роман Юрьевич Г', 'Не найдено', '19.10.2024', 'не сообщил о звонке колл-центра. рассказал клиенту об актуальных акциях, предложениях. провёл развернутую презентацию продукта (доп. товары). предложил купить сопутствующий ассортимент, аксессуары. режиме эксплуатации акб: периодичность зарядки, проверке уровня цвета электролита. показал состояние уровень жидкости новом акб.']\n",
      "['Мышанский Владимир Викторович Г', 'Не найдено', '19.10.2024', 'не показал состояние уровень жидкости новом акб. предложил клиенту купить сопутствующий ассортимент, аксессуары. провёл развернутую презентацию продукта (доп. товары). рассказал об актуальных акциях, предложениях.']\n",
      "['Геращенко Антон Вячеславович Г', 'Не найдено', '15.10.2024', 'не уточнил наличие дисконтной карты (личной, родственника знакомого). во время презентации вовлекал клиента диалог при помощи уточняющих вопросов. предложил клиенту купить сопутствующий ассортимент, аксессуары. провёл развернутую презентацию продукта (доп. товары). рассказал об актуальных акциях, предложениях.']\n",
      "['Слепченко Владимир Александрович Г', 'Не найдено', '15.10.2024', 'не сообщил о звонке колл-центра. предложил клиенту купить сопутствующий ассортимент, аксессуары. рассказал об актуальных акциях, предложениях. провёл развернутую презентацию продукта (доп. товары). режиме эксплуатации акб: периодичность зарядки, проверке уровня цвета электролита.']\n",
      "['Гукасова Карэн Рантикович Г', 'Не найдено', '15.10.2024', 'не проверил текущее состояние акб: заряд, уровень жидкости. показал жидкости новом акб. рассказал о режиме эксплуатации периодичность зарядки, проверке уровня цвета электролита. предложил клиенту купить сопутствующий ассортимент, аксессуары. провёл развернутую презентацию продукта (доп. товары). об актуальных акциях, предложениях.']\n",
      "['Жигарь Никита Александрович С', 'Не найдено', '11.10.2024', 'не показал состояние уровень жидкости новом акб. проверил текущее акб: заряд, жидкости. предложил клиенту купить сопутствующий ассортимент, аксессуары. провёл развернутую презентацию продукта (доп. товары). рассказал об актуальных акциях, предложениях. выдал визитные карточки. сообщил \"ждем через 3-4 месяца проверку состояния акб\" о звонке колл-центра.']\n",
      "['Чемисова Дмитрий Викторович Г', 'г.Владикавказ \\xa0ул. Владикавказская/Владивостокская\\nДата', '10.10.2024', 'не выдал визитные карточки. провёл развернутую презентацию продукта (доп. товары). показал состояние уровень жидкости новом акб.']\n",
      "['Запорожцев Игорь Михайлович Г', 'г.Пятигорск \\xa0ул.Первомайская', '10.10.2024', 'не показывает состояние уровень жидкости новом акб. выдал визитные карточки.']\n",
      "['Мешкова Евгений Витальевич Г', 'Не найдено', '11.10.2024', 'не показывает состояние уровень жидкости новом акб. рассказал клиенту об актуальных акциях, предложениях. выдал визитные карточки.']\n",
      "['Шумскома Андрей Михайлович П', 'Не найдено', '12.10.2024', 'не предложил клиенту купить сопутствующий ассортимент, аксессуары. провёл развернутую презентацию продукта (доп. товары). рассказал об актуальных акциях, предложениях. выдал визитные карточки. сообщил о звонке колл-центра.']\n",
      "['Фёдоров Кирилл Андреевич Г', 'Не найдено', '11.10.2024', 'не показал состояние уровень жидкости новом акб. рассказал о режиме эксплуатации акб: периодичность зарядки, проверке уровня цвета электролита. провёл развернутую презентацию продукта (доп. товары). клиенту об актуальных акциях, предложениях. сообщил \"ждем через 3-4 месяца проверку состояния акб\". звонке колл-центра.']\n",
      "['Комашня Сергей Григорьевич Г', 'Не найдено', '11.10.2024', 'не задавал открытые вопросы уточняющие режим эксплуатации авто. уточнял, какие критерии важны при выборе обращает внимание. показал состояние уровень жидкости новом акб рассказал о режиме акб: периодичность зарядки, проверке уровня цвета электролита. предложил клиенту купить сопутствующий ассортимент, аксессуары. провёл развернутую презентацию продукта (доп. товары). об актуальных акциях, предложениях выдал визитные карточки. сообщил бсо. \"ждем через 3-4 месяца проверку состояния акб\". звонке колл-центра.']\n",
      "['Юрченко Виталий Вячеславович Г', 'Не найдено', '11.10.2024', 'не показал состояние уровень жидкости новом акб. провёл развернутую презентацию продукта (доп. товары). рассказал клиенту об актуальных акциях, предложениях. выдал визитные карточки.']\n",
      "['Скляров Николай Евгеньевич Г', 'Не найдено', '11.10.2024', 'не задает открытые вопросы уточняющие режим эксплуатации авто. уточнил, какие критерии важны при выборе обращает внимание. показал состояние уровень жидкости новом акб. рассказал о режиме акб: периодичность зарядки, проверке уровня цвета электролита. сообщил звонке колл-центра. выдал визитные карточки.']\n",
      "['Остапенко Максим Андреевич Г', 'Не найдено', '11.10.2024', 'не уточнил наличие дисконтной карты. озвучил потребность/запрос клиента, режим эксплуатации доп. оборудование. во время презентации вовлекал клиента диалог при помощи уточняющих вопросов. использовал способы стимулирования к совершению покупки, используя фразы «берем?», «оформляем?», «когда планируете покупку?». предложил клиенту купить сопутствующий ассортимент, аксессуары. провёл развернутую презентацию продукта (доп. товары). выдал визитные карточки. сообщил о бсо.']\n",
      "['Тоноян Арман Арменович Г', 'Не найдено', '11.10.2024', 'не использовал способы стимулирования клиента к совершению покупки, используя фразы «берем?», «оформляем?», «когда планируете покупку?». предложил клиенту купить сопутствующий ассортимент, аксессуары. провёл развернутую презентацию продукта (доп. товары). рассказал об актуальных акциях, предложениях. выдал визитные карточки.']\n",
      "['Монакова Никита Алексеевич Г', 'г.Ставрополь \\xa0ул. Рогожникова', '13.10.2024', 'не уточнил, какие критерии важны при выборе обращает внимание. задавал открытых вопросов уточняющие режим эксплуатации авто. показал состояние уровень жидкости новом акб. провёл развернутую презентацию продукта (доп. товары). рассказал клиенту об актуальных акциях, предложениях. сообщил о звонке колл-центра.']\n",
      "['Добряков Дмитрий Сергеевич С', 'Не найдено', '11.10.2024', 'не показал состояние уровень жидкости новом акб. рассказал о режиме эксплуатации акб: периодичность зарядки, проверке уровня цвета электролита и.т.д. клиенту об актуальных акциях, предложениях. выдал визитки. сообщил бсо. \"ждем через 3-4 месяца проверку состояния акб\". звонке колл-центра.']\n",
      "['Овсянников Сергей Алексеевич С', 'Не найдено', '11.10.2024', 'не задавал открытых вопросов уточняющие режим эксплуатации авто. уточнил, какие критерии важны при выборе обращает внимание. показал состояние уровень жидкости акб.']\n",
      "['Осипов Эрик Артурович Г', 'Не найдено', '10.10.2024.', 'не уточнил, какие критерии важны при выборе обращает внимание. показал состояние уровень жидкости новом акб. провёл развернутую презентацию продукта (доп. товары).']\n",
      "['Травников Игорь Олегович', 'Не найдено', '08.10.2024', 'не задает открытых вопросов уточняющих режим эксплуатации авто/другого средства мобильности, характеристики авто. использовал способы стимулирования клиента к совершению покупки. показывает состояние уровень жидкости новом акб. выдал клиенту визитки. при выдаче гарантийного талона покупателю, сообщил о звонке колл-центра.']\n",
      "['Забгаев Станислав Сергеевич', 'Не найдено', '10.10.2024', 'не показывает состояние уровень жидкости новом акб. продемонстрировал покупателю доп. товар аксессуары. не предлагал рассрочку. выдал клиенту визитки. сообщил о бсо. сообщил, рекомендовано приезжать проверку каждые 3-4 месяца.']\n",
      "['Воронков Сергей Владимирович', 'Не найдено', '12.10.2024', 'не задает вопросов уточняющих режим эксплуатации. не показывает состояние уровень жидкости новом акб. предлагал рассрочку. сообщил, ждем через 3-4 месяца проверку.']\n",
      "['Григорян Самвел Юрьевич', 'г.Армавир \\xa0ул.Мира', '12.10.2024', 'не задает открытых вопросов уточняющих режим эксплуатации. не показывает состояние уровень жидкости новом акб. предлагал рассрочку. выдал визитки. сообщил о бсо.']\n",
      "['Бондаренко Дмитрий Андреевич', 'г.Армавир \\xa0ул.Ковтюха', '12.10.2024', 'не показывает состояние уровень жидкости акб. не предлагал рассрочку. при выдаче гарантийного талона покупателю, сообщил о звонке колл-центра.']\n",
      "['Агаев Артема Олегович', 'Не найдено', '13.10.2024', 'не использовал способы стимулирования клиента к совершению покупки. показывает состояние уровень жидкости новом акб. продемонстрировал покупателю доп. товар аксессуары. не предлагал рассрочку. выдал клиенту визитки. сообщили о бсо. сообщил, рекомендовано приезжать проверку каждые 3-4 месяца.']\n",
      "['Савельев Станислав Александрович', 'Не найдено', '11.10.2024', 'не показывает состояние уровень жидкости новом акб. выдал клиенту визитки. при выдаче гарантийного талона покупателю, сообщил о звонке колл-центра.']\n",
      "['Сопин Сергей Сергеевич', 'Не найдено', '10.10.2024', 'не проверил текущее состояние старого акб. использовал способы стимулирования клиента к совершению покупки. не показывает уровень жидкости новом продемонстрировал покупателю доп. товар аксессуары. предлагал рассрочку. выдал клиенту визитки. при выдаче гарантийного талона покупателю, сообщил о звонке колл-центра.']\n",
      "['Гусаинов Эльдар Рустамович', 'г.Ставрополь \\xa0ул. Толстого', '10.10.2024', 'не задает открытых вопросов уточняющих режим эксплуатации авто/другого средства мобильности, характеристики авто. использовал способы стимулирования клиента к совершению покупки. показывает состояние уровень жидкости новом акб. продемонстрировал покупателю доп. товар аксессуары. не предлагал рассрочку. при выдаче гарантийного талона покупателю, сообщил о звонке колл-центра. оказал помощь донести до багажника.']\n",
      "['Собиева Алан Сергеевич', 'Не найдено', '10.10.2024', 'не задал открытых вопросов уточняющих режим эксплуатации. уточнил, какие критерии важны при выборе. использовал способы стимулирования клиента к совершению покупки. показывает состояние уровень жидкости новом акб. продемонстрировал покупателю доп. товар аксессуары. не предлагал рассрочку. выдал клиенту визитки. сообщил о бсо. сообщил, рекомендовано приезжать проверку каждые 3-4 месяца. при выдаче гарантийного талона покупателю, звонке колл-центра.']\n",
      "['Айрапетян Ваге Азатович', 'Не найдено', '10.10.2024', 'находится тт без бейджа. не показывает нагрузочной вилкой состояние заряда акб. уровень жидкости новом не продемонстрировал покупателю доп. товар аксессуары. предлагал рассрочку. выдал клиенту визитки.']\n",
      "['Мартиросян Григорий Гарникович', 'г.Владикавказ \\xa0ул. Тургеневская', '13.10.2024', 'не уточнил наличие дисконтной карты. показывает состояние уровень жидкости новом акб. провёл развернутую презентацию продукта (доп. товары). не предлагал рассрочку. выдал клиенту визитки. сообщил, поступит звонок от колл-центра.']\n",
      "['Меликян Владимир Манукович', 'Не найдено', '10.10.2024', 'не проверил текущее состояние старого акб. показывает уровень жидкости новом выдал клиенту визитки. не сообщил о бсо. сообщил, рекомендовано приезжать проверку каждые 3-4 месяца.']\n",
      "['Каюд Олег Витальевич', 'Не найдено', '10.10.2024', 'не показывает состояние уровень жидкости новом акб. продемонстрировал покупателю доп. товар аксессуары. не предлагал рассрочку. выдал клиенту визитки. сообщил о бсо. сообщил, рекомендовано приезжать проверку каждые 3-4 месяца. при выдаче гарантийного талона покупателю, звонке колл-центра. оказал помощь установке']\n",
      "['Куликов Андрей Владимирович', 'г.Пятигорск ул. Коллективная 26А дата', '10.10.2024', 'не задал открытых вопросов уточняющих режим эксплуатации. использовал способы стимулирования клиента к совершению покупки. \\u200b\\u200b\\u200b\\u200bпродавец показывает состояние уровень жидкости акб. провёл развернутую презентацию продукта (доп. товары). не сообщил о звонке колл-центра. оказал помощь установке акб же донести до багажника.']\n",
      "['Рудиков Антон Николаевич', 'Не найдено', '12.10.2024', 'не показывает состояние уровень жидкости новом акб. выдал клиенту визитки. не предлагал рассрочку. очень хорошо проконсультировал.']\n",
      "['Мащенко Роман Александрович', 'г.Ставрополь \\xa0ул. Доваторцев', '13.10.2024', 'не задает открытых вопросов уточняющих режим эксплуатации авто/другого средства мобильности, характеристики авто. уточнил, какие критерии важны при выборе. не использовал способы стимулирования клиента к совершению покупки. показывает состояние уровень жидкости новом акб. продемонстрировал покупателю доп. товар аксессуары. предлагал рассрочку. оказал помощь донести до багажника.']\n",
      "['Калайтанов Максим Игоревич', 'г.Ставрополь \\xa0ул. Рогожникова', '10.10.2024', 'не показывает состояние уровень жидкости новом акб. рассказывает/напоминает о режиме эксплуатации не провёл развернутую презентацию продукта (доп. товары). предлагал рассрочку. при выдаче гарантийного талона покупателю, сообщил звонке колл-центра. оказал помощь донести до багажника.']\n",
      "['Тищенко Алексей Владимирович', 'г.Ставрополь \\xa0ул. Серова', '10.10.2024', 'при подъезде автомобиля не вышел улицу. проверил текущее состояние старого акб. использовал способы стимулирования клиента к совершению покупки. показывает нагрузочной вилкой заряда не уровень жидкости новом продемонстрировал покупателю доп. товар аксессуары. выдал клиенту визитки. сообщил о бсо. сообщил, рекомендовано приезжать проверку каждые 3-4 месяца. при выдаче гарантийного талона покупателю, звонке колл-центра. оказал помощь донести до багажника.']\n",
      "['Дзуцева Давид Таймуразович', 'Не найдено', '10.10.2024', 'не задал открытых вопросов уточняющих режим эксплуатации. не использовал способы стимулирования клиента к совершению покупки. показывает состояние уровень жидкости новом акб. предлагал рассрочку. выдал клиенту визитки. при выдаче гарантийного талона покупателю, сообщил о звонке колл-центра. оценила работу мере возможности, так-как он разговаривает только по-русски по-оссетински.']\n",
      "['Бодень Сергей Сергеевич', 'Не найдено', '11.10.2024', 'не использовал способы стимулирования клиента к совершению покупки. показывает состояние уровень жидкости акб. не выдал клиенту визитки. сообщил, поступит звонок от колл-центра.']\n",
      "['Пацюк Владислав Сергеевич', 'Не найдено', '11.10.2024', 'не задает открытых вопросов уточняющих режим эксплуатации. показывает состояние уровень жидкости акб. предложил клиенту купить сопутствующий ассортимент, аксессуары. не сообщил, поступит звонок от колл-центра.']\n",
      "['Еретина Денис Александрович', 'Не найдено', '11.10.2024.', 'не задает открытых вопросов уточняющих режим эксплуатации. показывает состояние уровень жидкости акб. предложил клиенту купить сопутствующий ассортимент, аксессуары. клиенту выдали визитных карточек листовок. не сообщил, поступит звонок от колл-центра.']\n",
      "['Биркина Евгений Львович', 'Не найдено', '11.10.2024', 'не показывает состояние уровень жидкости новом акб. очень хорошо проконсультировал.']\n",
      "['Дудник Денис Александрович', 'Не найдено', '10.10.2024', 'не проверил текущее состояние старого акб. использовал способы стимулирования клиента к совершению покупки. показывает уровень жидкости новом провёл развернутую презентацию продукта (доп. товары). не предлагал рассрочку. сообщил о бсо. сообщил, рекомендовано приезжать проверку каждые 3-4 месяца. при выдаче гарантийного талона покупателю, звонке колл-центра.']\n",
      "['Тысячный Евгений Андреевич', 'Не найдено', '12.10.2024', 'не задает открытых вопросов уточняющих режим эксплуатации. использовал способы стимулирования клиента к совершению покупки. показывает состояние уровень жидкости акб. предложил клиенту купить сопутствующий ассортимент, аксессуары. не предлагал рассрочку. сообщил рекомендовано приезжать проверку через 3-4 месяца.']\n",
      "['Сухин Артема Андреевич', 'Не найдено', '11.10.2024', 'не показывает состояние уровень жидкости новом акб. провёл развернутую презентацию продукта (доп. товары). не предлагал рассрочку. выдал клиенту визитки. сообщил о бсо.']\n",
      "['Рулев Ярослав Дмитриевич', 'г.Ставрополь \\xa0ул. Шпаковская', '10.10.2024', 'не задал открытых вопросов уточняющих режим эксплуатации. показывает состояние уровень жидкости новом акб. провёл развернутую презентацию продукта (доп. товары). не предлагал рассрочку.']\n",
      "['Бирюлькин Анатолий Юрьевич', 'Не найдено', '10.10.2024', 'не показывает состояние уровень жидкости новом акб. выдал клиенту визитки. не предлагал рассрочку. оказал помощь установке']\n",
      "['Чугунов Николай Николаевич', 'Не найдено', '10.10.2024', 'не задает открытых вопросов уточняющих режим эксплуатации не уточнил, какие критерии важны при выборе. показывает состояние уровень жидкости новом акб. при выдаче гарантийного талона покупателю, сообщил о звонке колл-центра.']\n",
      "['Петросян Эдуард Александрович', 'Не найдено', '12.10.2024', 'не использовал способы стимулирования клиента к совершению покупки. из-за этого клиент долго мог определиться брать нет. процессе сильно помог другой (рудиков антон николаевич). показывает состояние уровень жидкости новом акб. не предлагал рассрочку. выдал визитки.']\n",
      "['Морозов Илья Леонидович', 'г.Ставрополь \\xa0ул. Шпаковская', '12.10.2024', 'не задает вопросов уточняющих режим эксплуатации. показывает состояние уровень жидкости новом акб. продемонстрировал покупателю доп. товар аксессуары. не предлагал рассрочку. при выдаче гарантийного талона покупателю, сообщил о звонке колл-центра. оказал помощь установке']\n",
      "['Диденко Денис Владимирович', 'г.Ставрополь \\xa0ул. Рогожникова', '10.10.2024', 'не показывает состояние уровень жидкости новом акб. не предлагал рассрочку. оказал помощь установке целом хорошо проконсультировал.']\n",
      "['Нетипаном Евгений Викторович', 'г.Ставрополь \\xa0ул. Вавилова', '12.10.2024', '\\u200b\\u200b\\u200b\\u200bпродавец не уточнил наличие дисконтной карты. не показывает состояние уровень жидкости акб. предлагал рассрочку. сообщил поступит звонок от колл-центра.']\n",
      "['Михайлов Владимир', 'г.Пятигорск ул.Калинина', '10.10.2024', 'не задает открытых вопросов уточняющих режим эксплуатации. уточнил, какие критерии важны при выборе. использовал способы стимулирования клиента к совершению покупки. показал состояние уровень жидкости акб. не выдал клиенту визитки. сообщил, поступит звонок от колл-центра.']\n",
      "['Хорошилов Михаил Владимирович', 'г.Светлоград ул.Сельскохозяйственная', '12.10.2024', 'не использовал способы стимулирования клиента к совершению покупки. не предлагал рассрочку. выдал клиенту визитки. сообщил о бсо. сообщил, нужно приезжать через 3-4 месяца проверку. поступит звонок от колл-центра.']\n",
      "['Сыромятников Никита Романович П', 'п.Иноземцево \\xa0ул. Гагарина', '11.10.2024', 'не показал состояние уровень жидкости акб']\n",
      "['Марков Виталий Александрович Ст', 'Не найдено', '12.10.2024', 'не форме. показывает состояние уровень жидкости новом акб. рассказал о режиме эксплуатации акб: периодичность зарядки, проверке уровня цвета электролита. предложил клиенту купить сопутствующий ассортимент, аксессуары. провёл развернутую презентацию продукта (доп. товары). об актуальных акциях, предложениях.']\n",
      "['Бузоева Амир Хасанович Г', 'г.Владикавказ \\xa0ул. Владикавказская/Владивостокская\\xa0\\nДата', '10.10.2024', 'бардак прикассовой зоне. находится ртт не форме, без бейджа. поприветствовал клиента сразу же. уточнил, какие критерии важны при выборе обращает внимание. уточнил наличие дисконтной карты (личной, родственника знакомого). озвучил потребность/запрос клиента, режим эксплуатации доп. оборудование. рассказал о продукте используя развернутую презентацию озвучиванием характеристик преимуществ. во время презентации вовлекал диалог помощи уточняющих вопросов. предпринял попытку отработать возникшие возражения. пытался закрыть все возражения клиента. использовал способы стимулирования к совершению покупки, фразы «берем?» предложил клиенту купить сопутствующий ассортимент, аксессуары. провёл продукта (доп. товары). об актуальных акциях, предложениях. сообщил бсо отсутствие субординации отношению во консультации жевал жвачку, подтягивался, находился бейджа, долгое подходил клиенту, хотя был свободен.']\n",
      "['Юрченко Виталий Вячеславович Г', 'Не найдено', '08.10.2024', 'не проверил текущее состояние акб: заряд, уровень жидкости. показал жидкости новом акб. рассказал о режиме эксплуатации периодичность зарядки, проверке уровня цвета электролита т.д. провёл развернутую презентацию продукта (доп. товары). клиенту об актуальных акциях, предложениях. сообщил звонке колл-центра.']\n",
      "['Москалёв Сергей Сергеевич Г', 'Не найдено', '11.10.2024.', 'не использовал способы стимулирования клиента к совершению покупки, используя фразы «берем?», «оформляем?», «когда планируете покупку?». показал состояние уровень жидкости новом акб. выдал клиенту визитки.']\n",
      "['Мирошниченко Максим Иванович Ст', 'Не найдено', '12.10.2024', 'не задавал открытые вопросы уточняющие режим эксплуатации авто/другого средства мобильности, характеристики авто, сложности эксплуатации. уточнял, какие критерии важны при выборе. показал состояние уровень жидкости новом акб. предложил клиенту купить сопутствующий ассортимент, аксессуары. провёл развернутую презентацию продукта (доп. товары). при выдаче гарантийного талона покупателю, сообщил о звонке колл-центра.']\n",
      "['Сазонов Дмитрий Александрович Г', 'Не найдено', 'Не найдено', 'не проверил текущее состояние акб: заряд, уровень жидкости. уточнил, какие критерии важны при выборе, обращать внимание. рассказал о режиме эксплуатации периодичность зарядки, проверке уровня жидкости и.т.д. выдал гарантийный талон. использовал способы стимулирования клиента к совершению покупки. показал новом акб. визитные карточки. сообщил бсо. сказал \"ждем через 3-4 месяца проверку состояния акб\". звонке колл-центра. цветом выделены отклонения выявленные прошлый просмотр, необходимо обратить']\n",
      "['Филькова Максим Михайлович', 'Не найдено', '11.10.2024', 'не показывает состояние уровень жидкости акб. не выдал визитки. сообщил, поступит звонок от колл-центра. целом хорошо проконсультировал.']\n",
      "['Тегаев Тимур Витальевич', 'г.Владикавказ \\xa0ул. Московская', '12.10.2024', 'не уточнил наличие дисконтной карты. показывает состояние уровень жидкости новом акб. не предлагал рассрочку. выдал клиенту визитки. при выдаче гарантийного талона покупателю, сообщил о звонке колл-центра.']\n",
      "['Тарало Виталий Николаевич', 'г.Светлоград ул.Сельскохозяйственная', '12.10.2024', 'не показывает нагрузочной вилкой состояние заряда акб. уровень жидкости новом выдал клиенту визитки. не оказал помощь установке']\n",
      "['Бадаев Ренат Олегович', 'г.Ставрополь \\xa0ул. Серова', '11.10.2024', 'не использовал способы стимулирования клиента к совершению покупки. не показывает состояние уровень жидкости новом акб. продемонстрировал покупателю доп. товар аксессуары. предлагал рассрочку. выдал клиенту визитки. при выдаче гарантийного талона покупателю, сообщил о звонке колл-центра.']\n",
      "['Григорянец Самсон Владимирович', 'г.Армавир \\xa0ул.Ковтюха', '12.10.2024', 'не показывает состояние уровень жидкости новом акб. не предлагал рассрочку. при выдаче гарантийного талона покупателю, сообщил о звонке колл-центра. целом очень хорошо проконсультировал.']\n",
      "['Иванов Юрий Владимирович', 'Не найдено', '11.10.2024', 'не задал вопросов уточняющих режим эксплуатации. не показывает нагрузочной вилкой состояние заряда акб. уровень жидкости новом предлагал рассрочку. выдал клиенту визитки.']\n",
      "['Кинасова Олег Игоревич', 'г.Армавир \\xa0ул.Железнодорожная', '12.10.2024', 'не показывает нагрузочной вилкой состояние заряда акб. не уровень жидкости выдал клиенту визитки. предлагал рассрочку. сообщил о бсо. нужно через 3-4 месяца проверку.']\n",
      "['Петриченко Захар Дмитриевич', 'Не найдено', 'Не найдено', 'текущая оценка от 11.10 >\\u200b\\u200b\\u200b\\u200bпродавец не задает открытых вопросов уточняющих режим эксплуатации авто. продемонстрировал покупателю доп. товар аксессуары. >не сообщил, поступит звонок колл-центра. >']\n",
      "['Куцемилов Денис Александрович', 'Не найдено', '08.10.2024', 'не задает открытых вопросов уточняющих режим эксплуатации. показывает состояние уровень жидкости акб. клиенту выдали визитных карточек листовок. сообщил о звонке колл-центра.']\n",
      "['Герасимов Богдан Сергеевич', 'Не найдено', '11.10.2024', 'не задает открытых вопросов уточняющих режим эксплуатации. не уточнил, какие критерии важны при выборе. показывает состояние уровень жидкости акб. выдал клиенту визитки. сообщает \"ждем через 3-4 месяца проверку состояния акб\". сообщил, поступит звонок от колл-центра.']\n",
      "['Пасюков Алексей Юрьевич', 'Не найдено', '11.10.2024', 'не задал открытых вопросов уточняющих режим эксплуатации авто. уточнил, какие критерии важны при выборе. показывает состояние уровень жидкости новом акб. не продемонстрировал покупателю доп. товар аксессуары. выдал клиенту визитки. при выдаче гарантийного талона покупателю, сообщил о звонке колл-центра.']\n",
      "['Петриченко Захар Дмитриевич', 'Не найдено', '11.10.2024', '\\u200b\\u200b\\u200b\\u200bпродавец не задает открытых вопросов уточняющих режим эксплуатации авто. продемонстрировал покупателю доп. товар аксессуары. не сообщил, поступит звонок от колл-центра.']\n",
      "['Селезнёв Виталий Владимирович', 'Не найдено', '11.10.2024', '\\u200b\\u200b\\u200b\\u200b\\u200bпродавец не задал открытых вопросов уточняющих режим эксплуатации. не сообщил, поступит звонок от колл-центра.']\n",
      "['Браева Зелима Батразович', 'Не найдено', '12.10.2024', 'не задает открытых вопросов уточняющих режим эксплуатации. показывает нагрузочной вилкой состояние заряда акб. не уровень жидкости новом продемонстрировал покупателю доп. товар аксессуары. предлагал рассрочку. выдал клиенту визитки. сообщил о бсо. сообщил, рекомендовано приезжать проверку каждые 3-4 месяца. при выдаче гарантийного талона покупателю, звонке колл-центра.']\n",
      "['Давыдов Дмитрий Геннадьевич', 'Не найдено', '12.10.2024', 'без бейджа. не показывает состояние уровень жидкости новом акб. не продемонстрировал покупателю доп. товар аксессуары. предлагал рассрочку. выдал клиенту визитки.']\n",
      "['Кодзаева Георгий Русланович', 'г.Владикавказ \\xa0ул. Маркова', '12.10.2024', 'не задал открытых вопросов уточняющих режим эксплуатации. не уточнил, какие критерии важны при выборе. показывает состояние уровень жидкости новом акб. продемонстрировал покупателю доп. товар аксессуары. предлагал рассрочку. выдал клиенту визитки.']\n",
      "['Киянов Данил Сергеевич', 'г.Пятигорск ул.Калинина', '10.10.2024', 'не задал вопросов уточняющих режим эксплуатации. не использовал способы стимулирования клиента к совершению покупки. показывает состояние уровень жидкости новом акб. продемонстрировал покупателю доп. товар аксессуары. предлагал рассрочку. выдал клиенту визитки. сообщил о бсо. сообщил, рекомендовано приезжать проверку каждые 3-4 месяца. при выдаче гарантийного талона покупателю, звонке колл-центра.']\n",
      "['Ломакин Максим Сергеевич', 'г.Пятигорск \\xa0ул.Первомайская', '10.10.2024', 'не показывает состояние уровень жидкости новом акб. не предлагал рассрочку. выдал клиенту визитки.']\n",
      "['Кондаков Владислав Альбертович', 'Не найдено', '08.10.2024', 'не показывает состояние уровень жидкости новом акб. выдал клиенту визитки. при выдаче гарантийного талона покупателю, сообщил о звонке колл-центра.']\n",
      "['Черкашин Игорь Владимирович', 'Не найдено', '11.10.2024', 'не проверил текущее состояние старого акб. использовал способы стимулирования клиента к совершению покупки. задает открытых вопросов уточняющих режим эксплуатации. не выдал визиток.']\n",
      "['Ляпунов Андрей Александрович', 'Не найдено', '08.10.2024', 'не показывает состояние уровень жидкости акб. не сообщил \"поступит звонок от колл-центра для оценки качества обслуживания\" хорошо проконсультировал.']\n",
      "['Мышанский Владимир Викторович', 'Не найдено', '04.10.2024.', 'не задал вопросов уточняющих режим эксплуатации. показывает состояние уровень жидкости акб. целом очень хорошо проконсультировал.']\n",
      "['Петросян Нарек Варданович', 'Не найдено', '02.10.2024', 'находится ртт нарушением формы обуви. не показывает состояние уровень жидкости нового акб так же была произведена презентация аксессуаров. выдал клиенту визитки рекламные буклеты. сообщает важные составляющие гарантийного талона. сообщил, поступит звонок от колл-центра для оценки качества обслуживания.']\n",
      "['Мухин Даниил Алексеевич', 'Не найдено', '03.10.2024', 'не показывает состояние уровень жидкости нового акб было озвучено предложение приобрести доп. товары. так же была произведена презентация аксессуаров. сообщает \"ждем через 3-4 месяца проверку состояния акб\". выдал клиенту визитки рекламные буклеты. важные составляющие гарантийного талона. о том, поступит звонке колл-центра. помог донести до машины. очень уверенно говорит при презентации.']\n",
      "['Дробышевский Игорь Сергеевич', 'Не найдено', '06.10.2024', 'не проверил новый акб клиента нагрузочной вилкой. показывает состояние уровень жидкости нового выдал клиенту визитки рекламные буклеты. сообщает важные составляющие гарантийного талона.']\n",
      "['Мчедлишвили Марк Важаевич', 'Не найдено', '05.10.2024', 'находится ртт нарушением формы одежды обуви. хорошо консультировал, грамотно отработал все возражения.']\n",
      "['Сергачёв Егор Сергеевич', 'Не найдено', '05.10.2024', 'текущая оценка обусловлена тем, другой вмешался ход продажи. находится ртт нарушением формы одежды обуви. не проверил состояние текущего акб. показывает уровень жидкости нового акб выдал клиенту визитки рекламные буклеты. сообщает важные составляющие гарантийного талона.']\n",
      "['Сыроватский Евгений Александрович', 'Не найдено', '04.10.2024', 'находится ртт нарушением формы одежды обуви. не показывает состояние уровень жидкости нового акб выдал клиенту визитки рекламные буклеты. сообщает важные составляющие гарантийного талона. так же было озвучено о том, поступит звонке колл-центра.']\n",
      "['Гребенников Олег Петрович', 'Не найдено', '02.10.2024', 'не показывает состояние уровень жидкости нового акб выдал клиенту визитки рекламные буклеты. >очень качественно отработал возражения. грамотная консультация презентацией. >']\n",
      "['Сергиенко Евгений Викторович', 'Не найдено', '03.10.2024', 'ртт беспорядок. разбросаны товары залу. клиент споткнулся об акб. не вышел улицу текущим акб клиента. находится нарушением формы обуви. выдал клиенту визитки рекламные буклеты. сообщает важные составляющие гарантийного талона.']\n",
      "['Устюжанин Сергей Валентинович', 'Не найдено', '02.10.2024', 'не проверил текущий акб клиента нагрузочной вилкой. показывает состояние уровень жидкости клиента. было озвучено предложение приобрести доп. товары. так же была произведена презентация аксессуаров.']\n",
      "['Гребенников Олег Петрович', 'Не найдено', '02.10.2024', 'не показывает состояние уровень жидкости нового акб выдал клиенту визитки рекламные буклеты. очень качественно отработал возражения. грамотная консультация презентацией.']\n",
      "['Козлов Сергей Дмитриевич', 'Не найдено', '04.10.2024', 'находится ртт нарушением формы обуви. не показывает состояние уровень жидкости нового акб было озвучено предложение приобрести доп. товары. так же была произведена презентация аксессуаров. сообщает \"ждем через 3-4 месяца проверку состояния акб\". выдал клиенту визитки рекламные буклеты. важные составляющие гарантийного талона.']\n",
      "['Мешкова Евгений Витальевич', 'Не найдено', '05.10.2024', 'находится ртт нарушением формата обуви.. не проверил новый акб клиента нагрузочной вилкой. показывает состояние уровень жидкости нового было озвучено предложение приобрести доп. товары. так же была произведена презентация аксессуаров. клиенту о возможности бсо. сообщает \"ждем через 3-4 месяца проверку состояния акб\". выдал клиенту визитки рекламные буклеты.']\n",
      "['Герасимов Богдан Сергеевич', 'Не найдено', '04.10.2024', 'находится ртт нарушением формы одежды обуви. не рассказывает о режиме эксплуатации акб. проверил текущий акб клиента нагрузочной вилкой. показывает состояние уровень жидкости нового было озвучено предложение приобрести доп. товары. так же была произведена презентация аксессуаров. сообщает \"ждем через 3-4 месяца проверку состояния акб\". выдал клиенту визитки рекламные буклеты. важные составляющие гарантийного талона.']\n",
      "['Покася Даниил Владимирович', 'Не найдено', '04.10.2024', 'находится ртт нарушением формы одежды обуви. не показывает состояние уровень жидкости нового акб было озвучено предложение приобрести доп. товары. так же была произведена презентация аксессуаров. выдал клиенту визитки рекламные буклеты. сообщает важные составляющие гарантийного талона.']\n",
      "['Абрамкий Эрнест Александрович', 'Не найдено', '04.10.2024', 'находится ртт нарушением формы одежды обуви. без бейджа. не было озвучено предложение приобрести доп. товары. так же была произведена презентация аксессуаров. выдал клиенту визитки рекламные буклеты. сообщает важные составляющие гарантийного талона. о том, поступит звонке колл-центра.']\n",
      "['Кожевников Виктор Александрович', 'Не найдено', '02.10.2024', 'не рассказывает о режиме эксплуатации акб. проверил новый акб клиента нагрузочной вилкой. показывает состояние уровень жидкости нового так же была произведена презентация аксессуаров. сообщает \"ждем через 3-4 месяца проверку состояния акб\". выдал клиенту визитки рекламные буклеты. важные составляющие гарантийного талона. было озвучено том, поступит звонке колл-центра.']\n",
      "['Прудников Андрей Сергеевич', 'Не найдено', '03.10.2024', 'находится ртт нарушением формы одежды обуви. не проверил текущее состояние акб: заряд, уровень жидкости. задавал активно вопросы, а так же уточнял важные критерии. новый акб клиента нагрузочной вилкой. показывает жидкости нового было озвучено предложение приобрести доп. товары. так была произведена презентация аксессуаров. выдал клиенту визитки рекламные буклеты. сообщает составляющие гарантийного талона.']\n",
      "['Костриков Андрей Владиславович', 'Не найдено', '04.10.2024', 'находится ртт нарушением формы одежды обуви. не проверил акб клиента нагрузочной вилкой. показывает состояние уровень жидкости нового клиенту озвучено о возможности бсо. сообщает \"ждем через 3-4 месяца проверку состояния акб\". выдал клиенту визитки рекламные буклеты. важные составляющие гарантийного талона. очень неуверенное завершение продажи, конкретно были сложности при работе компьютером.']\n",
      "['Кочубеев Сергей Сергеевич', 'Не найдено', '03.10.2024', 'не показывает состояние уровень жидкости нового акб не была произведена презентация аксессуаров. выдал клиенту визитки рекламные буклеты. сообщает важные составляющие гарантийного талона.']\n",
      "['Тумарево Александр Олегович', 'Не найдено', '04.10.2024', 'находится ртт нарушением формата обуви. так же не была произведена презентация аксессуаров. выдал клиенту визитки рекламные буклеты. сообщает важные составляющие гарантийного талона.']\n",
      "['Бодень Сергей Сергеевич', 'Не найдено', '05.10.2024', 'не уточнил наличие дисконтной карты. проверил акб клиента нагрузочной вилкой. так же была произведена презентация аксессуаров. выдал клиенту визитки рекламные буклеты. сообщает важные составляющие гарантийного талона.']\n",
      "['Гринь Сергей Сергеевич', 'Не найдено', '04.10.2024', 'находится ртт без бейджа. не уточнил наличие дисконтной карты было озвучено предложение приобрести доп. товары. так же была произведена презентация аксессуаров. выдал клиенту визитки рекламные буклеты.']\n",
      "['Остапенко Максим Андреевич', 'Не найдено', '05.10.2024', 'находится ртт нарушением формы одежды обуви. не было озвучено предложение приобрести доп. товары. так же была произведена презентация аксессуаров. выдал клиенту визитки рекламные буклеты. сообщает важные составляющие гарантийного талона.']\n",
      "['Сазонов Дмитрий Александрович', 'Не найдено', '06.10.2024', 'находится ртт нарушением формы одежды обуви. не рассказывает о режиме эксплуатации акб. проверил новый акб клиента нагрузочной вилкой. показывает состояние уровень жидкости нового было озвучено предложение приобрести доп. товары. так же была произведена презентация аксессуаров. клиенту возможности бсо. сообщает \"ждем через 3-4 месяца проверку состояния акб\". выдал клиенту визитки рекламные буклеты. важные составляющие гарантийного талона. том, поступит звонке колл-центра.']\n",
      "['Ковалёв Дмитрий Александрович', 'Не найдено', '27.09.2024', 'не выдал клиенту визитки рекламные буклеты. полные полки акб. хорошая уверенная консультация. грамотно отработал все возражения. очень обходителен клиентом.']\n",
      "['Курохтина Николай Николаевич', 'Не найдено', '25.09.2024', 'не выдал клиенту визитки рекламные буклеты. магазине все чисто. полные полки акб. очень грамотная консультация. полностью отработаны возражения.']\n",
      "['Фёдоров Кирилл Андреевич', 'Не найдено', '25.09.2024', 'не была произведена презентация аксессуаров. не выдал клиенту визитки рекламные буклеты. сообщает важные составляющие гарантийного талона. магазине все чисто. полные полки акб.']\n",
      "['Корецкома Даниил Александрович', 'Не найдено', '26.09.2024', 'не показывает состояние уровень жидкости нового акб. было озвучено предложение приобрести доп. товары. так же была произведена презентация аксессуаров. выдал клиенту визитки рекламные буклеты. сообщает важные составляющие гарантийного талона. магазине все чисто. полные полки']\n",
      "['Зуев Никита Евгеньевич', 'Не найдено', '26.09.2024', 'ртт не уставном формате обуви. проверил состояние уровень жидкости акб клиента. так же была произведена презентация аксессуаров. выдал клиенту визитки рекламные буклеты. магазине все чисто. полные полки акб.']\n",
      "['Мерхолин Дмитрий Владимирович', 'Не найдено', '26.09.2024', 'ртт замечен беспорядок пред кассовой зоне. не выдал клиенту визитки рекламные буклеты. сообщает важные составляющие гарантийного талона. полные полки акб. хорошая уверенная консультация.']\n",
      "['Асланян Саркис Арамович', 'Не найдено', '25.09.2024', 'не выдал клиенту визитки рекламные буклеты. сообщил \"ждем через 3-4 месяца проверку состояния акб\" сообщает важные составляющие гарантийного талона. магазине все чисто. полные полки акб.']\n",
      "['Камбулов Евгений Петрович', 'Не найдено', '27.09.2024', 'не показывает состояние уровень жидкости нового акб было озвучено предложение приобрести доп. товары. так же была произведена презентация аксессуаров. выдал клиенту визитки рекламные буклеты. сообщает важные составляющие гарантийного талона. о том, поступит звонок колл-центра. магазине все чисто. полные полки акб.']\n",
      "['Сторожев Максим Геннадьевич', 'Не найдено', '27.09.2024', 'обслуживает клиентов не фирменной одежде обуви. показывает состояние уровень жидкости нового акб было озвучено предложение приобрести доп. товары. так же была произведена презентация аксессуаров. выдал клиенту визитки рекламные буклеты. сообщает важные составляющие гарантийного талона. магазине все чисто. полные полки акб.']\n",
      "['Смагина Артема Романович', 'Не найдено', '24.09.2024', 'не проверил состояние текущего акб клиента. так же было проверки нагрузочной вилке нового показывает уровень жидкости акб. озвучено предложение приобрести доп. товары. была произведена презентация аксессуаров. выдал клиенту визитки рекламные буклеты. сообщает важные составляющие гарантийного талона. не о звонке колл-центра. возможность пользоваться бсо от нашей компании. магазине все чисто. полные полки']\n",
      "['Браун Дмитрий Павлович', 'Не найдено', '26.09.2024', 'не было озвучено предложение приобрести доп. товары. так же была произведена презентация аксессуаров. выдал клиенту визитки рекламные буклеты. сообщает важные составляющие гарантийного талона. не о звонке колл-центра. магазине все чисто. полные полки акб. грамотно отработал возражения.']\n",
      "['Кобрин Владислав Александрович', 'Не найдено', '27.09.2024', '>на ртт беспорядок пред кассовой зоне. не выдал клиенту визитки рекламные буклеты. предложил купить сопутствующий ассортимент, аксессуары. >не был продемонстрирован доп. товар. > полные полки акб.']\n",
      "['Кобрин Владислав Александрович', 'Не найдено', '27.09.2024', 'ртт беспорядок пред кассовой зоне. не выдал клиенту визитки рекламные буклеты. предложил купить сопутствующий ассортимент, аксессуары. не был продемонстрирован доп. товар. полные полки акб.']\n",
      "['Изварин Владимир Павлович', 'Не найдено', '27.09.2024', 'не уставной форме обуви. выдал клиенту визитки рекламные буклеты. >при выдаче гарантийного талона уточнил покупателю важные опции гарантии. сообщает \"ждем через 3-4 месяца проверку состояния акб\" показывает состояние уровень жидкости новом акб. покупателю, сообщил о звонке колл-центра. >в магазине все чисто. полные полки >']\n",
      "['Гудков Александр Алексеевич', 'Не найдено', '26.09.2024', 'не уставной форме обуви. выдал клиенту визитки рекламные буклеты. предложил купить сопутствующий ассортимент, аксессуары. не был продемонстрирован доп. товар. магазине все чисто. полные полки акб.']\n",
      "['Изварин Владимир Павлович', 'Не найдено', '27.09.2024', 'не уставной форме обуви. выдал клиенту визитки рекламные буклеты. при выдаче гарантийного талона уточнил покупателю важные опции гарантии. сообщает \"ждем через 3-4 месяца проверку состояния акб\" показывает состояние уровень жидкости новом акб. покупателю, сообщил о звонке колл-центра. магазине все чисто. полные полки']\n",
      "['Киселёв Денис Николаевич', 'Не найдено', '25.09.2024', 'не показал состояние уровень жидкости новом акб. было озвучено предложение приобрести доп. товары. так же была произведена презентация аксессуаров. выдал клиенту визитки рекламные буклеты. сообщает клиенту, мы ждем его через 3-4 месяца проверку состояния при выдаче гарантийного талона, указал важные составляющие. магазине все чисто. полные полки грамотно отработал возражения.']\n",
      "['Тоноян Арман Арменович', 'Не найдено', '27.09.2024', 'работает не уставной форме одежды. использовал способы стимулирования клиента к совершению покупки, используя фразы «берем?». рассказывает/напоминает о режиме эксплуатации акб: периодичность зарядки, проверке уровня жидкости. не было озвучено том, компания оказывает бсо. магазине все чисто. полные полки акб.']\n",
      "['Скляров Николай Евгеньевич', 'Не найдено', '26.09.2024', 'обслуживает клиента не рабочей форме. показал состояние уровень жидкости новом акб. было озвучено предложение приобрести доп. товары. так же была произведена презентация аксессуаров. выдал клиенту визитки рекламные буклеты. сообщает клиенту, мы ждем его через 3-4 месяца проверку состояния не о звонке колл-центра. магазине все чисто. полные полки грамотно отработал возражения.']\n",
      "['Комашня Сергей Григорьевич', 'Не найдено', '26.09.2024', 'обслуживает клиента не рабочей форме. показал состояние уровень жидкости новом акб. было озвучено предложение приобрести доп. товары. так же была произведена презентация аксессуаров. выдал клиенту визитки рекламные буклеты. сообщает клиенту, мы ждем его через 3-4 месяца проверку состояния не о звонке колл-центра. магазине все чисто. полные полки грамотно отработал возражения.']\n",
      "['Комашня Сергей Григорьевич', 'Не найдено', '26.09.2024', 'обслуживает клиента не рабочей форме. показал состояние уровень жидкости новом акб. было озвучено предложение приобрести доп. товары. так же была произведена презентация аксессуаров. выдал клиенту визитки рекламные буклеты. сообщает клиенту, мы ждем его через 3-4 месяца проверку состояния не о звонке колл-центра. магазине все чисто. полные полки грамотно отработал возражения.']\n",
      "['Шумскома Андрей Михайлович', 'Не найдено', '26.09.2024', 'не выдал клиенту визитки рекламные буклеты. >в магазине все чисто. полные полки акб. >консультацию провел хорошо. грамотно отработал возражения. >']\n",
      "['Комашня Сергей Григорьевич', 'Не найдено', '26.09.2024', 'закрыл ртт 19:08. не показал состояние уровень жидкости новом акб. было озвучено предложение приобрести доп. товары. так же была произведена презентация аксессуаров. выдал клиенту визитки рекламные буклеты. магазине все чисто. полные полки консультацию провел хорошо. грамотно отработал возражения.']\n",
      "['Скляров Николай Евгеньевич', 'Не найдено', '26.09.2024', 'не выдал клиенту визитки рекламные буклеты. магазине все чисто. полные полки акб. консультацию провел хорошо. грамотно отработал возражения.']\n",
      "['Чернышёв Андрей Алексеевич', 'Не найдено', '26.09.2024', 'не уставной форме одежды без беджа. выдал клиенту визитки рекламные буклеты. при выдаче гарантийного талона уточнил покупателю важные опции гарантии. продемонстрировал доп. товар аксессуары. показывает состояние уровень жидкости новом акб. покупателю, сообщил о звонке колл-центра. магазине все чисто. полные полки']\n",
      "['Ковалёв Дмитрий Александрович', 'Не найдено', '26.09.2024', 'не выдал клиенту визитки рекламные буклеты. проверил текущее состояние акб посетителя: заряд, уровень жидкости. показывает жидкости новом акб. при выдаче гарантийного талона покупателю, сообщил о звонке колл-центра. целом очень достойная консультация. внимательно слушал, благодаря чему продажа завершилась успешно. магазине все чисто. полные полки']\n",
      "['Курохтина Николай Николаевич', 'Не найдено', '26.09.2024', 'не выдал клиенту визитки рекламные буклеты. при выдаче гарантийного талона покупателю, озвучил важные моменты гарантийными случаями. целом очень достойная консультация. внимательно слушал, благодаря чему продажа завершилась успешно. магазине все чисто. полные полки акб.']\n",
      "['Сазонов Дмитрий Александрович', 'Не найдено', '26.09.2024', 'не выдал клиенту визитки рекламные буклеты. не было озвучено о том, будет произведен звонок колл-центра. целом очень достойная консультация. внимательно слушал, благодаря чему продажа завершилась успешно. клиент ушел довольный покупкой, обещал вернуться ближайшее время.']\n",
      "['Аникеев Алексей Романович', 'Не найдено', '26.09.2024', 'не выдал клиенту визитки рекламные буклеты. >не было озвучено о том, будет произведен звонок колл-центра. >в целом очень достойная консультация. внимательно слушал, благодаря чему продажа завершилась успешно. >клиент ушел довольный покупкой, обещал вернуться ближайшее время. >']\n",
      "['Аникеев Алексей Романович', 'Не найдено', '26.09.2024', 'не выдал клиенту визитки рекламные буклеты. не было озвучено о том, будет произведен звонок колл-центра. целом очень достойная консультация. внимательно слушал, благодаря чему продажа завершилась успешно. клиент ушел довольный покупкой, обещал вернуться ближайшее время.']\n",
      "['Слепченко Владимир Александрович', 'Не найдено', '27.09.2024.', 'ртт наблюдается беспорядок пред кассовой зоне, прикассовый стол. очень плохо отработан сервис. клиенту не было выдано визитных карт, рекламных брошюр. выдал клиенту гарантийный талон, соответственно озвучено ключевых моментов мануале гарантийного талона. предупредил покупателя о звонке колл-центра для оценки качества обслуживания. не сообщил бсо. том, профилактики использования акб желательно приезжать бсо раз 3-4 месяца. предложение приобрести доп. товар. производилась презентация аксессуаров. проверил состояние нового акб, уровень жидкости.']\n",
      "['Кочубеев Сергей Сергеевич', 'Не найдено', '27.09.2024.', 'ртт есть пустоты ветринах. клиенту не выдали визитных карточек листовок. проверил состояние нового акб, уровень жидкости. предупредил покупателя о звонке колл-центра для оценки качества обслуживания. было озвучено предложение приобрести доп. товар. не производилась презентация аксессуаров.']\n",
      "['Мерхолин Дмитрий Владимирович', 'Не найдено', '27.09.2024.', 'клиент не был проинформирован про бсо. обсуживает клиента без беджа. было озвучено клиенту, о необходимости периодического обслуживания акб раз 3-4 месяца. клиенту выдали визитных карточек листовок. проверил состояние нового акб, уровень жидкости. выдавая гарантийный талон, рассказал важных моментах гарантийных случаев. предложение приобрести доп. товар. не производилась презентация аксессуаров.']\n",
      "['Комашня Сергей Григорьевич', 'Не найдено', '27.09.2024', 'момент завершения сделки не показал состояние уровень жидкости акб. покупателю озвучены предложения купить сопутствующий товар. не производилась презентация доп. товарам. клинту выдали визитных карточек листовок.']\n",
      "['Сергачёв Егор Сергеевич', 'Не найдено', '26.09.2024', 'находиться ртт неуставном формате обуви. момент завершения сделки не показал состояние уровень жидкости акб. проверил акб помощью нагрузочной вилки. клинту выдали визитных карточек листовок. очень затяжная консультация. не отдал клиенту гарантийный талон. клиент забыл сдачу(16:42)']\n",
      "['Чернышёв Андрей Алексеевич', 'Не найдено', '27.09.2024', 'находиться ртт не уставной форме одежды обуви. момент завершения сделки показал состояние уровень жидкости акб. клиент был проинформирован о поступлении звонка от оператора колл-центра. клинту выдали визитных карточек листовок клиенту провели развернутую презентацию доп. товаров']\n",
      "['Киселёв Денис Николаевич', 'Не найдено', '26.09.2024', 'не проверил текущее состояние акб. момент завершения сделки показал уровень жидкости так же акб нагрузочной вилкой. клиенту были предложены продемонстрированы доп. товары. клинту выдали визитных карточек листовок.']\n",
      "['Изварин Владимир Павлович', 'Не найдено', '26.09.2024', 'не использовал способы стимуляции клиента для покупки.не показывал демонстрацию акб']\n",
      "['Кобрин Владислав Александрович', 'Не найдено', '26.09.2024', 'не проверил состояние текущего акб. так же продемонстрировал уровень жидкости новом были озвучены предложения приобрести доп. товары. продемонстрированы клиенту. выдал клиенту визитных карт листовок..']\n",
      "['Скляр Николай Евгеньевич', 'Не найдено', '27.09.2024', 'не уставной форме обуви. проверил состояние ткущего акб. клиенту было предложено доп. товары. так же демонстрации аксессуаров. клинту выдали визитных карточек листовок.']\n"
     ]
    }
   ],
   "source": [
    "import re\n",
    "import pymorphy2\n",
    "\n",
    "# Инициализация MorphAnalyzer\n",
    "morph = pymorphy2.MorphAnalyzer()\n",
    "\n",
    "# Функция для нормализации ФИО\n",
    "def fio_converter(fio):\n",
    "    words = fio.split()  # Разделяем ФИО на отдельные слова\n",
    "    normalized_words = []\n",
    "    \n",
    "    for word in words:\n",
    "        parsed = morph.parse(word)[0]  # Получаем наиболее вероятный разбор слова\n",
    "        # Приводим слово к нормальной форме в мужском роде, именительном падеже, единственном числе\n",
    "        if 'Name' in parsed.tag or 'Patr' in parsed.tag:\n",
    "            inflected = parsed.inflect({'nomn', 'masc', 'sing'})\n",
    "            word_normal = inflected.word if inflected else parsed.normal_form\n",
    "        else:\n",
    "            word_normal = parsed.normal_form\n",
    "        normalized_words.append(word_normal.capitalize())\n",
    "    \n",
    "    return ' '.join(normalized_words)\n",
    "\n",
    "# Функции для удаления текста по правилам\n",
    "def sliser(string, substring, flag):\n",
    "    index = string.find(substring)\n",
    "    if index == -1:\n",
    "        return string\n",
    "\n",
    "    index_back_n = string.find('\\n', index)\n",
    "    if index_back_n == -1:\n",
    "        index_back_n = len(string)\n",
    "\n",
    "    if flag == 'delete_after':\n",
    "        string = string[:index].strip()\n",
    "    elif flag == 'delete_before':\n",
    "        string = string[index_back_n + 1:].strip()\n",
    "    elif flag == 'delete_only':\n",
    "        string = string[:index].strip() + ' ' + string[index_back_n + 1:].strip()\n",
    "    return string\n",
    "\n",
    "def multi_sliser(string, substrings, flag):\n",
    "    for substring in substrings:\n",
    "        string = sliser(string, substring, flag)\n",
    "    return string\n",
    "\n",
    "# Удаление стоп-слов, кроме цифр\n",
    "def remove_stopwords(text, stopwords):\n",
    "    words = text.split()\n",
    "    filtered_words = [word for word in words if word.lower() not in stopwords or word.isdigit()]\n",
    "    return ' '.join(filtered_words)\n",
    "\n",
    "# Удаление повторяющихся слов, сохраняя их первый экземпляр\n",
    "def remove_duplicates(text):\n",
    "    seen = set()\n",
    "    unique_words = []\n",
    "    for word in text.split():\n",
    "        if word not in seen:\n",
    "            seen.add(word)\n",
    "            unique_words.append(word)\n",
    "    return ' '.join(unique_words)\n",
    "\n",
    "# Функция для удаления всех \">\" в начале строки\n",
    "def remove_leading_arrows(text):\n",
    "    # Регулярное выражение удалит все символы \">\" в начале строки, независимо от количества и пробелов\n",
    "    return re.sub(r'^(>\\s*)+', '', text).strip()\n",
    "\n",
    "# Функция для удаления специфической фразы, если текст начинается с указанного слова\n",
    "def remove_specific_phrase(text, phrase):\n",
    "    if text.startswith(phrase.split()[0]):\n",
    "        # Найдём конец этой фразы\n",
    "        end_index = text.find(phrase) + len(phrase)\n",
    "        # Вернём текст после фразы, с учётом возможных специфических фраз\n",
    "        if phrase.split()[0] == '2.1.':\n",
    "            return text[end_index+5:].strip()\n",
    "        else:\n",
    "            return text[end_index+3:].strip()\n",
    "    # Если текст не начинается с \"Цветом\", вернём его без изменений\n",
    "    return text\n",
    "\n",
    "# Главная функция для обработки текста и создания массива\n",
    "def process_text_data(text):\n",
    "    # Определяем стоп-слова\n",
    "    stopwords = {'и', 'в', 'по', 'на', 'с', 'также', 'или', 'что', 'но', 'за', 'продавец', 'продавца', 'продавцу', 'продавцом', '.', ',', 'РТТ', '>2.1.', '>>2.1.', '>продавец', '>>продавец'}\n",
    "\n",
    "    # Фразы, которые нужно удалить\n",
    "    specific_phrase = \"Цветом выделены отклонения выявленные прошлый просмотр, необходимо обратить внимание.\"\n",
    "    specific_phrase2 = \"2.1. Текущая оценка от \"\n",
    "    result = []\n",
    "    \n",
    "    for block in text:\n",
    "        \n",
    "        # Удаляем все ведущие символы \">\" в начале строки\n",
    "        block = remove_leading_arrows(block)\n",
    "\n",
    "        # Извлекаем ФИО, адрес и дату из текста с адаптированными регулярными выражениями\n",
    "        fio_match = re.search(r'продавцу\\s+([\\w\\s]+)', block, re.IGNORECASE)\n",
    "        tt_address_match = re.search(r'((?:г\\.\\s*|п\\.\\s*)[\\w\\s]+ул\\.[\\w\\s\\d/]+)', block, re.IGNORECASE)\n",
    "        date_match = re.search(r'дата[:]*\\s*([\\d.]+)', block, re.IGNORECASE)\n",
    "        \n",
    "        fio = fio_converter(fio_match.group(1)) if fio_match else \"Не найдено\"\n",
    "        tt_address = tt_address_match.group(1).strip() if tt_address_match else \"Не найдено\"\n",
    "        date = date_match.group(1) if date_match else \"Не найдено\"\n",
    "\n",
    "        # Очищаем текст\n",
    "        cleaned_text = multi_sliser(block, ['2.Выявленные отклонения'], 'delete_before')\n",
    "        cleaned_text = multi_sliser(cleaned_text, ['С уважением'], 'delete_after')\n",
    "        cleaned_text = multi_sliser(cleaned_text, ['2.2.'], 'delete_after')\n",
    "\n",
    "        # Удаляем фразы\n",
    "        cleaned_text = remove_specific_phrase(cleaned_text, specific_phrase)\n",
    "        cleaned_text = remove_specific_phrase(cleaned_text, specific_phrase2)\n",
    "\n",
    "        # Удаляем стоп-слова\n",
    "        cleaned_text = remove_stopwords(cleaned_text, stopwords)\n",
    "        \n",
    "        # Удаляем повторяющиеся слова\n",
    "        cleaned_text = remove_duplicates(cleaned_text)\n",
    "        cleaned_text = cleaned_text.lower()\n",
    "        # Добавляем обработанный блок в результат\n",
    "        result.append([fio, tt_address, date, cleaned_text])\n",
    "\n",
    "    return result\n",
    "\n",
    "# Применение функции\n",
    "# text_data — массив блоков текста\n",
    "processed_data = process_text_data(text)\n",
    "\n",
    "# Вывод результата\n",
    "for entry in processed_data:\n",
    "    print(entry)\n"
   ]
  },
  {
   "cell_type": "code",
   "execution_count": 76,
   "metadata": {},
   "outputs": [],
   "source": [
    "import pandas as pd\n",
    "# Создание DataFrame из массива данных\n",
    "df = pd.DataFrame(processed_data, columns=[\"ФИО продавца\", \"Адрес ТТ\", \"Дата\", \"Очищенный текст\"])\n",
    "df.drop(0, inplace=True)\n",
    "# os.remove('data.xlsx')\n",
    "df.to_excel('data.xlsx')"
   ]
  },
  {
   "cell_type": "markdown",
   "metadata": {},
   "source": [
    "Первый способ"
   ]
  },
  {
   "cell_type": "code",
   "execution_count": 77,
   "metadata": {},
   "outputs": [
    {
     "name": "stdout",
     "output_type": "stream",
     "text": [
      "\n",
      " 269 x 768 \n",
      "\n"
     ]
    }
   ],
   "source": [
    "import numpy as np\n",
    "import torch\n",
    "from transformers import AutoTokenizer, AutoModel\n",
    "\n",
    "# Инициализация токенизатора и модели\n",
    "tokenizer = AutoTokenizer.from_pretrained(\"cointegrated/LaBSE-en-ru\")\n",
    "model = AutoModel.from_pretrained(\"cointegrated/LaBSE-en-ru\")\n",
    "\n",
    "# Извлечение текстов из столбца\n",
    "sentences = df['Очищенный текст'].tolist()\n",
    "\n",
    "# Если столбец 'embeddings' уже существует, удаляем его\n",
    "if 'embeddings' in df.columns:\n",
    "    df.drop(columns=['embeddings'], inplace=True)\n",
    "\n",
    "# Создание списка для сохранения эмбеддингов\n",
    "embeddings_list = []\n",
    "\n",
    "# Векторизация предложений с использованием LaBSE\n",
    "for s in sentences:\n",
    "    encoded_input = tokenizer(s, padding=True, truncation=True, max_length=64, return_tensors='pt')\n",
    "    with torch.no_grad():\n",
    "        model_output = model(**encoded_input)\n",
    "    embedding = model_output.pooler_output\n",
    "    embeddings_list.append(embedding[0].numpy())  # Получаем вектор как numpy массив\n",
    "\n",
    "# Преобразуем список эмбеддингов в массив\n",
    "embeddings = np.asarray(embeddings_list)\n",
    "print('\\n', len(embeddings), 'x', len(embeddings[0]), '\\n')\n",
    "\n",
    "# Добавляем новые эмбеддинги в датафрейм\n",
    "df['embeddings'] = embeddings.tolist()\n",
    "# Сохраняем датафрейм в Excel\n",
    "df.to_excel('data.xlsx')\n"
   ]
  },
  {
   "cell_type": "markdown",
   "metadata": {},
   "source": [
    "Второй и третий способ"
   ]
  },
  {
   "cell_type": "code",
   "execution_count": 78,
   "metadata": {},
   "outputs": [
    {
     "name": "stdout",
     "output_type": "stream",
     "text": [
      "Размерность матрицы TF-IDF: (269, 465)\n",
      "Размерность матрицы BERT: (269, 384)\n"
     ]
    }
   ],
   "source": [
    "from sklearn.feature_extraction.text import TfidfVectorizer\n",
    "from sentence_transformers import SentenceTransformer\n",
    "import pandas as pd\n",
    "\n",
    "def vectorize_texts(texts, method=\"tfidf\"):\n",
    "    if method == \"tfidf\":\n",
    "        # Векторизация с помощью TF-IDF (без стоп-слов)\n",
    "        vectorizer = TfidfVectorizer(max_features=1000)\n",
    "        X = vectorizer.fit_transform(texts).toarray()  # Преобразуем в плотный массив\n",
    "        print(\"Размерность матрицы TF-IDF:\", X.shape)\n",
    "        return X\n",
    "\n",
    "    elif method == \"bert\":\n",
    "        # Векторизация с помощью Sentence-BERT\n",
    "        model = SentenceTransformer('sentence-transformers/paraphrase-multilingual-MiniLM-L12-v2')\n",
    "        X = model.encode(texts)\n",
    "        print(\"Размерность матрицы BERT:\", X.shape)\n",
    "        return X\n",
    "    \n",
    "    else:\n",
    "        raise ValueError(\"Метод должен быть 'tfidf' или 'bert'\")\n",
    "\n",
    "# Извлекаем очищенные тексты из датафрейма\n",
    "cleaned_texts = df['Очищенный текст'].tolist()\n",
    "\n",
    "# Удаляем столбец embeddings TF-IDF, если он уже существует\n",
    "if 'embeddings TF-IDF' in df.columns:\n",
    "    df.drop(columns=['embeddings TF-IDF'], inplace=True)\n",
    "\n",
    "# Векторизация с использованием TF-IDF\n",
    "X_tfidf = vectorize_texts(cleaned_texts, method=\"tfidf\")\n",
    "# Добавляем вектора как новый столбец, каждый вектор как отдельный список\n",
    "df['embeddings TF-IDF'] = list(X_tfidf)\n",
    "\n",
    "# Удаляем столбец embeddings Sentence-BERT, если он уже существует\n",
    "if 'embeddings Sentence-BERT' in df.columns:\n",
    "    df.drop(columns=['embeddings Sentence-BERT'], inplace=True)\n",
    "\n",
    "# Векторизация с использованием Sentence-BERT\n",
    "X_bert = vectorize_texts(cleaned_texts, method=\"bert\")\n",
    "# Добавляем вектора как новый столбец, каждый вектор как отдельный список\n",
    "df['embeddings Sentence-BERT'] = list(X_bert)\n",
    "\n",
    "# Сохраняем датафрейм в Excel\n",
    "df.to_excel('data.xlsx')\n"
   ]
  },
  {
   "cell_type": "code",
   "execution_count": 80,
   "metadata": {},
   "outputs": [
    {
     "data": {
      "text/html": [
       "<div>\n",
       "<style scoped>\n",
       "    .dataframe tbody tr th:only-of-type {\n",
       "        vertical-align: middle;\n",
       "    }\n",
       "\n",
       "    .dataframe tbody tr th {\n",
       "        vertical-align: top;\n",
       "    }\n",
       "\n",
       "    .dataframe thead th {\n",
       "        text-align: right;\n",
       "    }\n",
       "</style>\n",
       "<table border=\"1\" class=\"dataframe\">\n",
       "  <thead>\n",
       "    <tr style=\"text-align: right;\">\n",
       "      <th></th>\n",
       "      <th>ФИО продавца</th>\n",
       "      <th>Адрес ТТ</th>\n",
       "      <th>Дата</th>\n",
       "      <th>Очищенный текст</th>\n",
       "      <th>embeddings</th>\n",
       "      <th>embeddings TF-IDF</th>\n",
       "      <th>embeddings Sentence-BERT</th>\n",
       "    </tr>\n",
       "  </thead>\n",
       "  <tbody>\n",
       "    <tr>\n",
       "      <th>1</th>\n",
       "      <td>Воронков Сергей Владимирович</td>\n",
       "      <td>Не найдено</td>\n",
       "      <td>17.10.2024</td>\n",
       "      <td>не проверил текущее состояние акб. использовал...</td>\n",
       "      <td>[-0.40605172514915466, 0.5676323175430298, -0....</td>\n",
       "      <td>[0.0, 0.2641074362202742, 0.0, 0.3451280682546...</td>\n",
       "      <td>[0.021372376, 0.115748845, 0.028288256, -0.298...</td>\n",
       "    </tr>\n",
       "    <tr>\n",
       "      <th>2</th>\n",
       "      <td>Шульженко Никита Андреевич</td>\n",
       "      <td>Не найдено</td>\n",
       "      <td>14.10.2024</td>\n",
       "      <td>не задает открытых вопросов уточняющих режим э...</td>\n",
       "      <td>[-0.41750243306159973, -0.012586541473865509, ...</td>\n",
       "      <td>[0.0, 0.0, 0.0, 0.0, 0.0, 0.0, 0.0, 0.0, 0.270...</td>\n",
       "      <td>[0.042710427, 0.1548902, -0.044505354, -0.1229...</td>\n",
       "    </tr>\n",
       "    <tr>\n",
       "      <th>3</th>\n",
       "      <td>Евланов Андрей Юрьевич</td>\n",
       "      <td>Не найдено</td>\n",
       "      <td>14.10.2024</td>\n",
       "      <td>не проверил текущее состояние акб. задает откр...</td>\n",
       "      <td>[-0.5012819170951843, 0.012747802771627903, -0...</td>\n",
       "      <td>[0.0, 0.0, 0.0, 0.0, 0.0, 0.0, 0.0, 0.0, 0.292...</td>\n",
       "      <td>[0.03622968, 0.07837429, -0.057751473, -0.1088...</td>\n",
       "    </tr>\n",
       "    <tr>\n",
       "      <th>4</th>\n",
       "      <td>Газюр Иван Александрович</td>\n",
       "      <td>г.Невинномысск ул. Гагарина</td>\n",
       "      <td>14.10.2024</td>\n",
       "      <td>не использовал способы стимулирования клиента ...</td>\n",
       "      <td>[-0.4312092661857605, 0.41128847002983093, -0....</td>\n",
       "      <td>[0.0, 0.0, 0.0, 0.0, 0.0, 0.0, 0.0, 0.0, 0.0, ...</td>\n",
       "      <td>[0.006302618, 0.14870247, -0.091361165, -0.340...</td>\n",
       "    </tr>\n",
       "    <tr>\n",
       "      <th>5</th>\n",
       "      <td>Шарафеев Роман Халимович</td>\n",
       "      <td>Не найдено</td>\n",
       "      <td>18.10.2024</td>\n",
       "      <td>находится тт без бейджа. не задает открытых во...</td>\n",
       "      <td>[-0.48751944303512573, 0.3256247043609619, -0....</td>\n",
       "      <td>[0.0, 0.0, 0.0, 0.0, 0.0, 0.0, 0.0, 0.0, 0.326...</td>\n",
       "      <td>[0.11293991, 0.043835245, 0.008999126, -0.2027...</td>\n",
       "    </tr>\n",
       "    <tr>\n",
       "      <th>...</th>\n",
       "      <td>...</td>\n",
       "      <td>...</td>\n",
       "      <td>...</td>\n",
       "      <td>...</td>\n",
       "      <td>...</td>\n",
       "      <td>...</td>\n",
       "      <td>...</td>\n",
       "    </tr>\n",
       "    <tr>\n",
       "      <th>265</th>\n",
       "      <td>Чернышёв Андрей Алексеевич</td>\n",
       "      <td>Не найдено</td>\n",
       "      <td>27.09.2024</td>\n",
       "      <td>находиться ртт не уставной форме одежды обуви....</td>\n",
       "      <td>[-0.591986894607544, 0.190727099776268, -0.316...</td>\n",
       "      <td>[0.0, 0.0, 0.0, 0.0, 0.0, 0.0, 0.0, 0.0, 0.0, ...</td>\n",
       "      <td>[-0.0801706, 0.17511532, -0.1371665, -0.154168...</td>\n",
       "    </tr>\n",
       "    <tr>\n",
       "      <th>266</th>\n",
       "      <td>Киселёв Денис Николаевич</td>\n",
       "      <td>Не найдено</td>\n",
       "      <td>26.09.2024</td>\n",
       "      <td>не проверил текущее состояние акб. момент заве...</td>\n",
       "      <td>[-0.4121675491333008, 0.4967484474182129, -0.7...</td>\n",
       "      <td>[0.0, 0.0, 0.0, 0.0, 0.0, 0.0, 0.0, 0.0, 0.0, ...</td>\n",
       "      <td>[-0.095878795, 0.109620534, -0.07306712, -0.27...</td>\n",
       "    </tr>\n",
       "    <tr>\n",
       "      <th>267</th>\n",
       "      <td>Изварин Владимир Павлович</td>\n",
       "      <td>Не найдено</td>\n",
       "      <td>26.09.2024</td>\n",
       "      <td>не использовал способы стимуляции клиента для ...</td>\n",
       "      <td>[-0.29481032490730286, 0.4810492694377899, -0....</td>\n",
       "      <td>[0.0, 0.0, 0.0, 0.0, 0.0, 0.0, 0.0, 0.0, 0.0, ...</td>\n",
       "      <td>[0.04345471, 0.116950095, 0.20589969, -0.24657...</td>\n",
       "    </tr>\n",
       "    <tr>\n",
       "      <th>268</th>\n",
       "      <td>Кобрин Владислав Александрович</td>\n",
       "      <td>Не найдено</td>\n",
       "      <td>26.09.2024</td>\n",
       "      <td>не проверил состояние текущего акб. так же про...</td>\n",
       "      <td>[-0.595455527305603, 0.7615640759468079, -0.88...</td>\n",
       "      <td>[0.0, 0.0, 0.0, 0.0, 0.0, 0.0, 0.0, 0.0, 0.0, ...</td>\n",
       "      <td>[-0.1321206, 0.07315433, -0.07691516, -0.25874...</td>\n",
       "    </tr>\n",
       "    <tr>\n",
       "      <th>269</th>\n",
       "      <td>Скляр Николай Евгеньевич</td>\n",
       "      <td>Не найдено</td>\n",
       "      <td>27.09.2024</td>\n",
       "      <td>не уставной форме обуви. проверил состояние тк...</td>\n",
       "      <td>[-0.3622187376022339, 0.6538322567939758, -0.5...</td>\n",
       "      <td>[0.0, 0.0, 0.0, 0.0, 0.0, 0.0, 0.0, 0.0, 0.0, ...</td>\n",
       "      <td>[-0.23054107, 0.1301293, -0.058011413, -0.2131...</td>\n",
       "    </tr>\n",
       "  </tbody>\n",
       "</table>\n",
       "<p>269 rows × 7 columns</p>\n",
       "</div>"
      ],
      "text/plain": [
       "                       ФИО продавца                     Адрес ТТ        Дата  \\\n",
       "1      Воронков Сергей Владимирович                   Не найдено  17.10.2024   \n",
       "2        Шульженко Никита Андреевич                   Не найдено  14.10.2024   \n",
       "3            Евланов Андрей Юрьевич                   Не найдено  14.10.2024   \n",
       "4          Газюр Иван Александрович  г.Невинномысск ул. Гагарина  14.10.2024   \n",
       "5          Шарафеев Роман Халимович                   Не найдено  18.10.2024   \n",
       "..                              ...                          ...         ...   \n",
       "265      Чернышёв Андрей Алексеевич                   Не найдено  27.09.2024   \n",
       "266        Киселёв Денис Николаевич                   Не найдено  26.09.2024   \n",
       "267       Изварин Владимир Павлович                   Не найдено  26.09.2024   \n",
       "268  Кобрин Владислав Александрович                   Не найдено  26.09.2024   \n",
       "269        Скляр Николай Евгеньевич                   Не найдено  27.09.2024   \n",
       "\n",
       "                                       Очищенный текст  \\\n",
       "1    не проверил текущее состояние акб. использовал...   \n",
       "2    не задает открытых вопросов уточняющих режим э...   \n",
       "3    не проверил текущее состояние акб. задает откр...   \n",
       "4    не использовал способы стимулирования клиента ...   \n",
       "5    находится тт без бейджа. не задает открытых во...   \n",
       "..                                                 ...   \n",
       "265  находиться ртт не уставной форме одежды обуви....   \n",
       "266  не проверил текущее состояние акб. момент заве...   \n",
       "267  не использовал способы стимуляции клиента для ...   \n",
       "268  не проверил состояние текущего акб. так же про...   \n",
       "269  не уставной форме обуви. проверил состояние тк...   \n",
       "\n",
       "                                            embeddings  \\\n",
       "1    [-0.40605172514915466, 0.5676323175430298, -0....   \n",
       "2    [-0.41750243306159973, -0.012586541473865509, ...   \n",
       "3    [-0.5012819170951843, 0.012747802771627903, -0...   \n",
       "4    [-0.4312092661857605, 0.41128847002983093, -0....   \n",
       "5    [-0.48751944303512573, 0.3256247043609619, -0....   \n",
       "..                                                 ...   \n",
       "265  [-0.591986894607544, 0.190727099776268, -0.316...   \n",
       "266  [-0.4121675491333008, 0.4967484474182129, -0.7...   \n",
       "267  [-0.29481032490730286, 0.4810492694377899, -0....   \n",
       "268  [-0.595455527305603, 0.7615640759468079, -0.88...   \n",
       "269  [-0.3622187376022339, 0.6538322567939758, -0.5...   \n",
       "\n",
       "                                     embeddings TF-IDF  \\\n",
       "1    [0.0, 0.2641074362202742, 0.0, 0.3451280682546...   \n",
       "2    [0.0, 0.0, 0.0, 0.0, 0.0, 0.0, 0.0, 0.0, 0.270...   \n",
       "3    [0.0, 0.0, 0.0, 0.0, 0.0, 0.0, 0.0, 0.0, 0.292...   \n",
       "4    [0.0, 0.0, 0.0, 0.0, 0.0, 0.0, 0.0, 0.0, 0.0, ...   \n",
       "5    [0.0, 0.0, 0.0, 0.0, 0.0, 0.0, 0.0, 0.0, 0.326...   \n",
       "..                                                 ...   \n",
       "265  [0.0, 0.0, 0.0, 0.0, 0.0, 0.0, 0.0, 0.0, 0.0, ...   \n",
       "266  [0.0, 0.0, 0.0, 0.0, 0.0, 0.0, 0.0, 0.0, 0.0, ...   \n",
       "267  [0.0, 0.0, 0.0, 0.0, 0.0, 0.0, 0.0, 0.0, 0.0, ...   \n",
       "268  [0.0, 0.0, 0.0, 0.0, 0.0, 0.0, 0.0, 0.0, 0.0, ...   \n",
       "269  [0.0, 0.0, 0.0, 0.0, 0.0, 0.0, 0.0, 0.0, 0.0, ...   \n",
       "\n",
       "                              embeddings Sentence-BERT  \n",
       "1    [0.021372376, 0.115748845, 0.028288256, -0.298...  \n",
       "2    [0.042710427, 0.1548902, -0.044505354, -0.1229...  \n",
       "3    [0.03622968, 0.07837429, -0.057751473, -0.1088...  \n",
       "4    [0.006302618, 0.14870247, -0.091361165, -0.340...  \n",
       "5    [0.11293991, 0.043835245, 0.008999126, -0.2027...  \n",
       "..                                                 ...  \n",
       "265  [-0.0801706, 0.17511532, -0.1371665, -0.154168...  \n",
       "266  [-0.095878795, 0.109620534, -0.07306712, -0.27...  \n",
       "267  [0.04345471, 0.116950095, 0.20589969, -0.24657...  \n",
       "268  [-0.1321206, 0.07315433, -0.07691516, -0.25874...  \n",
       "269  [-0.23054107, 0.1301293, -0.058011413, -0.2131...  \n",
       "\n",
       "[269 rows x 7 columns]"
      ]
     },
     "execution_count": 80,
     "metadata": {},
     "output_type": "execute_result"
    }
   ],
   "source": [
    "df"
   ]
  },
  {
   "cell_type": "code",
   "execution_count": 87,
   "metadata": {},
   "outputs": [
    {
     "name": "stdout",
     "output_type": "stream",
     "text": [
      "Число кластеров: 3\n",
      "                                     Очищенный текст  DBSCAN Cluster\n",
      "1  не проверил текущее состояние акб. использовал...              -1\n",
      "2  не задает открытых вопросов уточняющих режим э...               0\n",
      "3  не проверил текущее состояние акб. задает откр...              -1\n",
      "4  не использовал способы стимулирования клиента ...               0\n",
      "5  находится тт без бейджа. не задает открытых во...               0\n"
     ]
    }
   ],
   "source": [
    "from sklearn.cluster import DBSCAN\n",
    "import numpy as np\n",
    "import pandas as pd\n",
    "\n",
    "# Предполагаем, что embeddings — это векторы текстов (например, полученные из TF-IDF или Sentence-BERT)\n",
    "# embeddings = vectorize_texts(cleaned_texts, method=\"bert\")  # Пример: использовали Sentence-BERT\n",
    "\n",
    "# Применяем DBSCAN к векторизованным текстам\n",
    "# Выберите min_samples и eps в зависимости от плотности данных\n",
    "dbscan = DBSCAN(eps=0.1, min_samples=5, metric='cosine')  # Для текстов лучше использовать косинусную метрику\n",
    "cluster_labels = dbscan.fit_predict(embeddings)\n",
    "\n",
    "# Добавляем метки кластеров в датафрейм\n",
    "df['DBSCAN Cluster'] = cluster_labels\n",
    "\n",
    "# Выводим результат\n",
    "print(\"Число кластеров:\", len(set(cluster_labels)) - (1 if -1 in cluster_labels else 0))  # -1 — это шум\n",
    "print(df[['Очищенный текст', 'DBSCAN Cluster']].head())\n",
    "\n",
    "# Сохраняем результат в Excel\n",
    "df.to_excel('data.xlsx')"
   ]
  },
  {
   "cell_type": "code",
   "execution_count": 88,
   "metadata": {},
   "outputs": [
    {
     "name": "stderr",
     "output_type": "stream",
     "text": [
      "c:\\Users\\sanya\\anaconda3\\Lib\\site-packages\\umap\\umap_.py:1952: UserWarning: n_jobs value 1 overridden to 1 by setting random_state. Use no seed for parallelism.\n",
      "  warn(\n"
     ]
    },
    {
     "data": {
      "application/vnd.plotly.v1+json": {
       "config": {
        "plotlyServerURL": "https://plot.ly"
       },
       "data": [
        {
         "customdata": [
          [
           "не проверил текущее состояние акб. использовал способы стимулирования клиента к совершению покупки. не сообщил, рекомендовано приезжать проверку через 3-4 месяца. прошлая оценка от 12.10 задает вопросов уточняющих режим эксплуатации. показывает уровень жидкости новом предлагал рассрочку. ждем месяца проверку.",
           -1
          ],
          [
           "не задает открытых вопросов уточняющих режим эксплуатации авто/другого средства мобильности, характеристики авто, сложности эксплуатации, выясняет наличие доп. оборудования (потребителя энергии). провёл развернутую презентацию продукта (доп. товары). не предлагал рассрочку. выдал клиенту визитки. сообщил о бсо. сообщил, рекомендовано приезжать проверку каждые 3-4 месяца.",
           0
          ],
          [
           "не проверил текущее состояние акб. задает открытых вопросов уточняющих режим эксплуатации авто/другого средства мобильности, характеристики авто, сложности эксплуатации, выясняет наличие доп. оборудования (потребителя энергии). выдал клиенту визитки. при выдаче гарантийного талона покупателю, сообщил о звонке колл-центра. ​​​​​​​",
           -1
          ],
          [
           "не использовал способы стимулирования клиента к совершению покупки. показывает состояние уровень жидкости акб. провёл развернутую презентацию продукта (доп. товары). не выдал клиенту визитки. сообщил о бсо. сообщил, рекомендовано приезжать проверку через 3-4 месяца.",
           0
          ],
          [
           "находится тт без бейджа. не задает открытых вопросов уточняющих режим эксплуатации авто/другого средства мобильности, характеристики авто. использовал способы стимулирования клиента к совершению покупки. показывает состояние уровень жидкости акб. предложил клиенту купить сопутствующий ассортимент, аксессуары. не сообщил, рекомендовано приезжать проверку через 3-4 месяца.",
           0
          ],
          [
           "не задает открытых вопросов уточняющих режим эксплуатации авто/другого средства мобильности, характеристики авто. использовал способы стимулирования клиента к совершению покупки. очень хорошо проконсультировал выполнив почти все пункти.",
           0
          ],
          [
           "не показывает состояние уровень жидкости новом акб. при выдаче гарантийного талона покупателю, сообщил о звонке колл-центра. закрыл все возражения клиента, очень хорошо проконсультировал, благодаря этому продажа завершилось успешно.",
           -1
          ],
          [
           "не использовал способы стимулирования клиента к совершению покупки. показывает состояние уровень жидкости акб. предложил клиенту купить сопутствующий ассортимент, аксессуары. не выдал визитки.",
           0
          ],
          [
           "не использовал способы стимулирования клиента к совершению покупки. показал состояние уровень жидкости новом акб. не предлагал рассрочку. выдал визитки. сообщил о бсо. звонке колл-центра.",
           0
          ],
          [
           "не уточнил наличие дисконтной карты. хорошо проконсультировал.",
           -1
          ],
          [
           "не уточнил наличие дисконтной карты. не сообщил, поступит звонок от колл-центра.",
           -1
          ],
          [
           "при подъезде автомобиля не вышел улицу. проверил текущее состояние акб. задал открытых вопросов уточняющих режим эксплуатации авто/другого средства мобильности, характеристики авто. уточнил наличие дисконтной карты. продемонстрировал покупателю доп. товар аксессуары.",
           -1
          ],
          [
           "не использовал способы стимулирования клиента к совершению покупки. показывает состояние уровень жидкости новом акб. продемонстрировал покупателю доп. товар аксессуары. выдал клиенту визитки. при выдаче гарантийного талона покупателю, сообщил о звонке колл-центра.",
           0
          ],
          [
           "то время когда консультировал клиента, другой сделал громкость музыки выше. как мне это неуважительно отношению клиента. (08:27) не проверил текущее состояние акб. использовал способы стимулирования клиента к совершению покупки. предложил клиенту купить сопутствующий ассортимент, аксессуары. не выдал визитки. сообщил, рекомендовано приезжать проверку через 3-4 месяца. поступит звонок от колл-центра.",
           -1
          ],
          [
           "не проверил текущее состояние акб. использовал способы стимулирования клиента к совершению покупки. провёл развернутую презентацию продукта (доп. товары). не выдал клиенту визитки.",
           -1
          ],
          [
           "не использовал способы стимулирования клиента к совершению покупки. показывает состояние уровень жидкости акб. не выдал клиенту визитки.",
           0
          ],
          [
           "не использовал способы стимулирования клиента к совершению покупки. показывает состояние уровень жидкости акб. предложил клиенту купить сопутствующий ассортимент, аксессуары. не выдал визитки. сообщил, рекомендовано приезжать проверку через 3-4 месяца.",
           0
          ],
          [
           "не задает открытых вопросов уточняющих режим эксплуатации авто/другого средства мобильности, характеристики авто. использовал способы стимулирования клиента к совершению покупки. показывает состояние уровень жидкости акб. предложил клиенту купить сопутствующий ассортимент, аксессуары. выдал визитки. не сообщил о бсо. сообщил, рекомендовано приезжать проверку через 3-4 месяца.",
           0
          ],
          [
           "не задает открытых вопросов уточняющих режим эксплуатации. уточнил, какие критерии важны при выборе обращает внимание. показал состояние уровень жидкости новом акб. рассказал о режиме эксплуатации акб: периодичность зарядки, проверке уровня цвета электролита. провёл развернутую презентацию продукта (доп. товары). клиенту об актуальных акциях, предложениях.",
           0
          ],
          [
           "не проверил текущее состояние акб: заряд, уровень жидкости. задавал открытые вопросы уточняющие режим эксплуатации авто. использовал способы стимулирования клиента к совершению покупки. показал жидкости новом акб. рассказал о режиме периодичность зарядки, проверке уровня цвета электролита. клиенту об актуальных акциях, предложениях. сообщил звонке колл-центра.",
           0
          ],
          [
           "не проверил текущее состояние акб. задавал открытые вопросы уточняющие режим эксплуатации авто. уточнил, какие критерии важны при выборе обращает внимание. показал нагрузочной вилкой заряда уровень жидкости новом предложил клиенту купить сопутствующий ассортимент, аксессуары. провёл развернутую презентацию продукта (доп. товары). рассказал об актуальных акциях, предложениях. выдал визитные карточки.",
           0
          ],
          [
           "не задает открытые вопросы уточняющие режим эксплуатации авто. уточнил, какие критерии важны при выборе обращает внимание. показал состояние уровень жидкости новом акб. рассказал о режиме акб: периодичность зарядки, проверке уровня цвета электролита. предложил клиенту купить сопутствующий ассортимент, аксессуары. провёл развернутую презентацию продукта (доп. товары). об актуальных акциях, предложениях. выдал визитные карточки.",
           0
          ],
          [
           "не использовал способы стимулирования клиента к совершению покупки. показал состояние уровень жидкости новом акб. провёл развернутую презентацию продукта (доп. товары). рассказал клиенту об актуальных акциях, предложениях. выдал визитные карточки. при выдаче гарантийного талона, акцентировал внимание важных местах этом талоне. не сообщил о звонке колл-центра.",
           0
          ],
          [
           "не показал состояние уровень жидкости новом акб. предложил клиенту купить сопутствующий ассортимент, аксессуары. провёл развернутую презентацию продукта (доп. товары). рассказал об актуальных акциях, предложениях. выдал визитные карточки. сообщил о звонке колл-центра.",
           0
          ],
          [
           "не проверил текущее состояние акб: заряд, уровень жидкости. рассказал клиенту об актуальных акциях, предложениях. выдал визитные карточки. сообщил о проверке состояния акб через 3-4 месяца.",
           -1
          ],
          [
           "не задает открытые вопросы уточняющие режим эксплуатации авто. показал нагрузочной вилкой состояние заряда акб. уровень жидкости новом рассказал о режиме провёл развернутую презентацию продукта (доп. товары). клиенту об актуальных акциях, предложениях. выдал визитные карточки. сообщил бсо. проверке состояния акб через 3-4 месяца. обслуживал клиента кепке. был без бейджа.",
           0
          ],
          [
           "не показал состояние уровень жидкости новом акб. провёл развернутую презентацию продукта (доп. товары). рассказал клиенту об актуальных акциях, предложениях. оказал помощь установке",
           0
          ],
          [
           "не рассказал о режиме эксплуатации акб: периодичность зарядки, проверке уровня цвета электролита. использовал способы стимулирования клиента к совершению покупки. уточнил, какие критерии важны при выборе.",
           -1
          ],
          [
           "нет чистоты порядка тт ( грязные полы). не проверил текущее состояние акб: заряд, уровень жидкости. задавал открытые вопросы уточняющие режим эксплуатации авто. уточнил, какие критерии важны при выборе. показал жидкости новом акб. рассказал о режиме периодичность зарядки, проверке уровня цвета электролита. провёл развернутую презентацию продукта (доп. товары). клиенту об актуальных акциях, предложениях.",
           0
          ],
          [
           "не уточнил, какие критерии важны при выборе обращает внимание. показал нагрузочной вилкой состояние заряда акб. уровень жидкости новом рассказал о режиме эксплуатации акб: периодичность зарядки, проверке уровня цвета электролита. предложил клиенту купить сопутствующий ассортимент, аксессуары. провёл развернутую презентацию продукта (доп. товары). об актуальных акциях, предложениях. при выдаче гарантийного талона, акцентировал внимание важных местах этом талоне.",
           0
          ],
          [
           "не показал состояние уровень жидкости новом акб.",
           1
          ],
          [
           "не проверил текущее состояние акб: заряд, уровень жидкости. уточнил, какие критерии важны при выборе обращает внимание. рассказал о режиме эксплуатации периодичность зарядки, проверке уровня цвета электролита. предложил клиенту купить сопутствующий ассортимент, аксессуары. провёл развернутую презентацию продукта (доп. товары). не выдал визитные карточки. сообщил бсо \"ждем через 3-4 месяца проверку состояния акб\". оказал помощь установке акб. футболка соответствует требованиям.",
           0
          ],
          [
           "не сообщил \"ждем через 3-4 месяца проверку состояния акб\". рассказал клиенту об актуальных акциях, предложениях. о режиме эксплуатации акб: периодичность зарядки, проверке уровня цвета электролита. показал состояние уровень жидкости новом акб. использовал способы стимулирования клиента к совершению покупки. уточнил, какие критерии важны при выборе обращает внимание.",
           0
          ],
          [
           "не сообщил о звонке колл-центра. выдал визитные карточки. провёл развернутую презентацию продукта (доп. товары). рассказал режиме эксплуатации акб: периодичность зарядки, проверке уровня цвета электролита.",
           -1
          ],
          [
           "не проверил текущее состояние акб: заряд, уровень жидкости. показал жидкости новом акб. выдал визитные карточки.",
           -1
          ],
          [
           "не проверил текущее состояние акб. использовал способы стимулирования клиента к совершению покупки. показывает уровень жидкости новом не выдал клиенту визитки. при выдаче гарантийного талона покупателю, сообщил о звонке колл-центра.",
           0
          ],
          [
           "не использовал способы стимулирования клиента к совершению покупки. показал состояние уровень жидкости акб. не сообщил о бсо. сообщил, рекомендовано приезжать проверку через 3-4 месяца. презентовал слишком много моделей из-за этого клиент долго мог определиться.",
           0
          ],
          [
           "не задал открытых вопросов уточняющих режим эксплуатации. использовал способы стимулирования клиента к совершению покупки. показывает состояние уровень жидкости акб. предложил клиенту купить сопутствующий ассортимент, аксессуары. выдал визитки. не сообщил, рекомендовано приезжать проверку через 3-4 месяца. при выдаче гарантийного талона покупателю, сообщил о звонке колл-центра.",
           0
          ],
          [
           "не показывает состояние уровень жидкости новом акб. выдал клиенту визитки. хорошо проконсультировал.",
           1
          ],
          [
           "не проверил текущее состояние акб. задал открытых вопросов уточняющих режим эксплуатации авто/другого средства мобильности, характеристики авто. показывает уровень жидкости предложил клиенту купить сопутствующий ассортимент, аксессуары. не предлагал рассрочку. сообщил, рекомендовано приезжать проверку через 3-4 месяца.",
           0
          ],
          [
           "не проверил текущее состояние акб. использовал способы стимулирования клиента к совершению покупки. показывает уровень жидкости новом продемонстрировал покупателю доп. товар аксессуары. выдал клиенту визитки. не сообщил о бсо. сообщил, рекомендовано приезжать проверку каждые 3-4 месяца. при выдаче гарантийного талона покупателю, звонке колл-центра. оказал помощь установке",
           0
          ],
          [
           "не задал открытых вопросов уточняющих режим эксплуатации авто/другого средства мобильности, характеристики авто. использовал способы стимулирования клиента к совершению покупки. показывает состояние уровень жидкости новом акб. продемонстрировал покупателю доп. товар аксессуары. не сообщил о бсо. сообщил, рекомендовано приезжать проверку каждые 3-4 месяца.",
           0
          ],
          [
           "не проверил текущее состояние акб. показывает уровень жидкости новом не предлагал рассрочку. выдал клиенту визитки. сообщил о бсо. сообщил, рекомендовано приезжать проверку каждые 3-4 месяца. при выдаче гарантийного талона покупателю, звонке колл-центра.",
           0
          ],
          [
           "не использовал способы стимулирования клиента к совершению покупки. показывает нагрузочной вилкой состояние заряда акб. уровень жидкости новом продемонстрировал покупателю доп. товар аксессуары. выдал клиенту визитки. при выдаче гарантийного талона покупателю, сообщил о звонке колл-центра.",
           0
          ],
          [
           "не задает открытых вопросов уточняющих режим эксплуатации авто/другого средства мобильности, характеристики авто. использовал способы стимулирования клиента к совершению покупки. показывает состояние уровень жидкости новом акб. продемонстрировал покупателю доп. товар аксессуары. выдал клиенту визитки. не сообщил о бсо. сообщил, рекомендовано приезжать проверку каждые 3-4 месяца. оказал помощь установке",
           0
          ],
          [
           "не задает открытых вопросов уточняющих режим эксплуатации авто/другого средства мобильности, характеристики авто. использовал способы стимулирования клиента к совершению покупки. показывает состояние уровень жидкости новом акб. не предлагал рассрочку. выдал визитки. сообщил, поступит звонок от колл-центра.",
           0
          ],
          [
           "не использовал способы стимулирования клиента к совершению покупки. показывает состояние уровень жидкости акб. не сообщил, поступит звонок от колл-центра.",
           0
          ],
          [
           "находится тт без бейджа. не показывает состояние уровень жидкости новом акб. при выдаче гарантийного талона покупателю, сообщил о звонке колл-центра.",
           -1
          ],
          [
           "не задает открытых вопросов уточняющих режим эксплуатации авто/другого средства мобильности, характеристики авто. уточнил наличие дисконтной карты. использовал способы стимулирования клиента к совершению покупки. показывает состояние уровень жидкости новом акб. выдал клиенту визитки. не предлагал рассрочку.",
           0
          ],
          [
           "не задал открытых вопросов уточняющих режим эксплуатации авто/другого средства мобильности, характеристики авто. показывает нагрузочной вилкой состояние заряда акб. уровень жидкости новом выдал клиенту визитки. не предлагал рассрочку.",
           0
          ],
          [
           "не использовал способы стимулирования клиента к совершению покупки. показывает состояние заряда акб. не продемонстрировал покупателю доп. товар аксессуары. предлагал рассрочку. выдал клиенту визитки. сообщил, рекомендовано приезжать проверку каждые 3-4 месяца.",
           0
          ],
          [
           "не использовал способы стимулирования клиента к совершению покупки. показывает состояние уровень жидкости акб. продемонстрировал покупателю доп. товар аксессуары. выдал клиенту визитки.",
           0
          ],
          [
           "не использовал способы стимулирования клиента к совершению покупки. показывает состояние уровень жидкости новом акб. продемонстрировал покупателю доп. товар аксессуары. выдал клиенту визитки. не сообщил о бсо. сообщил, рекомендовано приезжать проверку каждые 3-4 месяца. при выдаче гарантийного талона покупателю, звонке колл-центра.",
           0
          ],
          [
           "не использовал способы стимулирования клиента к совершению покупки. показывает состояние уровень жидкости акб. предложил клиенту купить сопутствующий ассортимент, аксессуары. не выдал визитки. сообщил о бсо. сообщил, рекомендовано приезжать проверку через 3-4 месяца.",
           0
          ],
          [
           "не использовал способы стимулирования клиента к совершению покупк. показывает состояние уровень жидкости акб. достойно проконсультировал.",
           0
          ],
          [
           "не использовал способы стимулирования клиента к совершению покупки. показывает состояние уровень жидкости акб. не выдал клиенту визитки.",
           0
          ],
          [
           "не использовал способы стимулирования клиента к совершению покупки. показывает состояние уровень жидкости акб. предложил клиенту купить сопутствующий ассортимент, аксессуары. не сообщил о бсо. сообщил, рекомендовано приезжать проверку через 3-4 месяца. звонке колл-центра.",
           0
          ],
          [
           "не использовал способы стимулирования клиента к совершению покупки. показывает состояние уровень жидкости акб. предложил клиенту купить сопутствующий ассортимент, аксессуары. выдал гарантийный талон. не визитки. сообщил, рекомендовано приезжать проверку через 3-4 месяца.",
           0
          ],
          [
           "не использовал способы стимулирования клиента к совершению покупки. показывает состояние уровень жидкости акб. целом достойно проконсультировал.",
           0
          ],
          [
           "не задал открытых вопросов уточняющих режим эксплуатации авто/другого средства мобильности, характеристики авто. не выдал визитки. сообщил о бсо. сообщил, рекомендовано приезжать проверку через 3-4 месяца.",
           0
          ],
          [
           "не использовал способы стимулирования клиента к совершению покупки. достойно проконсультировал.",
           -1
          ],
          [
           "текущая оценка от 19.10 видел, клиент магазине, не подошел к нему сразу. задает открытых вопросов уточняющих режим эксплуатации. использовал способы стимулирования клиента совершению покупки. показывает нагрузочной вилкой состояние заряда акб. уровень жидкости предложил клиенту купить сопутствующий ассортимент, аксессуары. >не выдал визитки. сообщил о бсо. рекомендовано приезжать проверку через 3-4 месяца. >",
           -1
          ],
          [
           "текущая оценка от 16.10 не показывает состояние уровень жидкости акб. >не выдал клиенту визитки. сообщил о звонке колл-центра. >как мне достойно проконсультировал. >",
           -1
          ],
          [
           "не использовал способы стимулирования клиента к совершению покупки. показывает состояние уровень жидкости акб. предложил клиенту купить сопутствующий ассортимент, аксессуары. сообщил о звонке колл-центра. не оказал помощь установке",
           0
          ],
          [
           "не использовал способы стимулирования клиента к совершению покупки. показывает состояние уровень жидкости акб. провёл развернутую презентацию продукта. не сообщил о звонке колл-центра.",
           0
          ],
          [
           "не задал открытых вопросов уточняющих режим эксплуатации авто/другого средства мобильности, характеристики авто. использовал способы стимулирования клиента к совершению покупки. показывает состояние уровень жидкости новом акб. продемонстрировал покупателю доп. товар аксессуары. выдал клиенту визитки. не сообщил о бсо. сообщил, рекомендовано приезжать проверку каждые 3-4 месяца. при выдаче гарантийного талона покупателю, звонке колл-центра.",
           0
          ],
          [
           "находится ртт нарушением формы одежды обуви. не использовал способы стимулирования клиента к совершению покупки. показывает состояние уровень жидкости акб. сообщил, рекомендовано через 3-4 месяца приезжать проверку. не сообщил о звонке колл-центра.",
           -1
          ],
          [
           "не задал открытых вопросов уточняющих режим эксплуатации авто/другого средства мобильности, характеристики авто. уточнил наличие дисконтной карты. использовал способы стимулирования клиента к совершению покупки. сообщил рекомендовано приезжать проверку через 3-4 месяца.",
           0
          ],
          [
           "видел, клиент магазине, не подошел к нему сразу. задает открытых вопросов уточняющих режим эксплуатации. использовал способы стимулирования клиента совершению покупки. показывает нагрузочной вилкой состояние заряда акб. уровень жидкости предложил клиенту купить сопутствующий ассортимент, аксессуары. не выдал визитки. сообщил о бсо. рекомендовано приезжать проверку через 3-4 месяца.",
           -1
          ],
          [
           "не показывает состояние уровень жидкости акб. не выдал клиенту визитки. сообщил о звонке колл-центра. как мне достойно проконсультировал.",
           -1
          ],
          [
           "находится тт не форме. использовал способы стимулирования клиента к совершению покупки. показывает состояние уровень жидкости новом акб. выдал клиенту визитки. не оказал помощь установке",
           0
          ],
          [
           "не использовал способы стимулирования клиента к совершению покупки. показывает состояние уровень жидкости акб. не выдал визитки. сообщил о звонке колл-центра.",
           0
          ],
          [
           "не задал открытых вопросов уточняющих режим эксплуатации авто/другого средства мобильности, характеристики авто. использовал способы стимулирования клиента к совершению покупки. показывает состояние уровень жидкости акб.",
           0
          ],
          [
           "не уточнил, какие критерии важны при выборе. не использовал способы стимулирования клиента к совершению покупки. показывает состояние уровень жидкости новом акб. выдал клиенту визитки.",
           -1
          ],
          [
           "не использовал способы стимулирования клиента к совершению покупки. показывает состояние уровень жидкости акб. выдал клиенту визитки. у намного меньше ошибок чем было прошлый раз.",
           0
          ],
          [
           "не находится тт форме. использовал способы стимулирования клиента к совершению покупки. показывает состояние уровень жидкости акб. выдал клиенту визитки.",
           0
          ],
          [
           "не задал открытых вопросов уточняющих режим эксплуатации авто/другого средства мобильности, характеристики авто. использовал способы стимулирования клиента к совершению покупки. показывает состояние уровень жидкости акб.",
           0
          ],
          [
           "не проверил текущее состояние акб. использовал способы стимулирования клиента к совершению покупки. показывает уровень жидкости новом провёл развернутую презентацию продукта.",
           0
          ],
          [
           "не задает открытых вопросов уточняющих режим эксплуатации авто/другого средства мобильности, характеристики авто. использовал способы стимулирования клиента к совершению покупки. показывает состояние уровень жидкости акб. предложил клиенту купить сопутствующий ассортимент, аксессуары.",
           0
          ],
          [
           "текущая оценка от 19.10 не проверил текущее состояние акб: заряд, уровень жидкости. использовал способы стимулирования клиента к совершению покупки. показывает жидкости нового акб. >",
           -1
          ],
          [
           "текущая оценка от 19.10 не задает открытых вопросов уточняющих режим эксплуатации авто/другого средства мобильности, характеристики авто. уточнил, какие критерии важны при выборе. показывает состояние уровень жидкости акб. сообщил, рекомендовано приезжать проверку через 3-4 месяца. выдал клиенту визитки. >>при выдаче гарантийного талона покупателю, сообщил о звонке колл-центра. >>",
           0
          ],
          [
           "не проверил текущее состояние акб. показывает нагрузочной вилкой заряда уровень жидкости сообщил, рекомендовано приезжать проверку через 3-4 месяца. не поступит звонок от колл-центра.",
           -1
          ],
          [
           "текущая оценка от 19.10 не задает открытых вопросов уточняющих режим эксплуатации авто/другого средства мобильности, характеристики авто. уточнил, какие критерии важны при выборе. показывает состояние уровень жидкости акб. сообщил, рекомендовано приезжать проверку через 3-4 месяца. выдал клиенту визитки. >при выдаче гарантийного талона покупателю, сообщил о звонке колл-центра. >",
           0
          ],
          [
           "не задает открытых вопросов уточняющих режим эксплуатации авто/другого средства мобильности, характеристики авто. использовал способы стимулирования клиента к совершению покупки. показывает состояние уровень жидкости новом акб. продемонстрировал покупателю доп. товар аксессуары.",
           0
          ],
          [
           "не задает открытых вопросов уточняющих режим эксплуатации авто/другого средства мобильности, характеристики авто. показывает состояние уровень жидкости акб. выдал клиенту визитки. сообщил, рекомендовано прийти проверку через 3-4 месяца. не поступит звонок от колл-центра.",
           0
          ],
          [
           "не задает открытых вопросов уточняющих режим эксплуатации авто/другого средства мобильности, характеристики авто. показывает состояние уровень жидкости акб. сообщил, рекомендовано приехать проверку через 3-4 месяца.",
           0
          ],
          [
           "отлично проконсультировал. нет никаких отклонений.",
           -1
          ],
          [
           "не использовал способы стимулирования клиента к совершению покупки. показывает состояние уровень жидкости новом акб. выдал клиенту визитки. целом консультация была хорошая.",
           0
          ],
          [
           "не использовал способы стимулирования клиента к совершению покупки. показывает состояние уровень жидкости акб. сообщил, поступит звонок от колл-центра для оценки качества обслуживания.",
           0
          ],
          [
           "не использовал способы стимулирования клиента к совершению покупки. показывает состояние уровень жидкости нового акб. не сообщил, поступит звонок от колл-центра для оценки качества обслуживания/",
           0
          ],
          [
           "не проверил текущее состояние акб: заряд, уровень жидкости. использовал способы стимулирования клиента к совершению покупки. показывает жидкости нового акб.",
           -1
          ],
          [
           "не задает открытых вопросов уточняющих режим эксплуатации авто/другого средства мобильности, характеристики авто. уточнил, какие критерии важны при выборе. показывает состояние уровень жидкости акб. сообщил, рекомендовано приезжать проверку через 3-4 месяца. выдал клиенту визитки. при выдаче гарантийного талона покупателю, сообщил о звонке колл-центра.",
           0
          ],
          [
           "не использовал способы стимулирования клиента к совершению покупки. показывает состояние уровень жидкости новом акб. продемонстрировал покупателю доп. товар аксессуары. выдал клиенту визитки.",
           0
          ],
          [
           "не предлагал рассрочку. выдал клиенту визитки. при выдаче гарантийного талона покупателю, сообщил о звонке колл-центра. хорошо проконсультировал.",
           -1
          ],
          [
           "не проверил текущее состояние акб. задал открытых вопросов уточняющих режим эксплуатации авто/другого средства мобильности, характеристики авто. использовал способы стимулирования клиента к совершению покупки. показывает уровень жидкости новом не предлагал рассрочку. выдал клиенту визитки.",
           0
          ],
          [
           "не показывает состояние уровень жидкости новом акб. очень хорошо проконсультировал.",
           1
          ],
          [
           "не задает открытых вопросов уточняющих режим эксплуатации авто/другого средства мобильности, характеристики авто. использовал способы стимулирования клиента к совершению покупки. показывает состояние заряда уровень жидкости новом акб. продемонстрировал покупателю доп. товар аксессуары. не предлагал рассрочку. при выдаче гарантийного талона покупателю, сообщил о звонке колл-центра.",
           0
          ],
          [
           "не проверил текущее состояние акб. показывает уровень жидкости новом продемонстрировал покупателю доп. товар аксессуары. целом хорошо проконсультировал.",
           -1
          ],
          [
           "не задает открытых вопросов уточняющих режим эксплуатации авто/другого средства мобильности, характеристики авто. показывает состояние уровень жидкости новом акб. не предлагал рассрочку. выдал клиенту визитки. при выдаче гарантийного талона покупателю, сообщил о звонке колл-центра.",
           0
          ],
          [
           "не задает открытых вопросов уточняющих режим эксплуатации авто/другого средства мобильности, характеристики авто. показывает состояние уровень жидкости новом акб. продемонстрировал покупателю доп. товар аксессуары. сообщил, рекомендовано приезжать проверку каждые 3-4 месяца. при выдаче гарантийного талона покупателю, сообщил о звонке колл-центра.",
           0
          ],
          [
           "не использовал способы стимулирования клиента к совершению покупки. показывает состояние уровень жидкости новом акб. при выдаче гарантийного талона покупателю, сообщил о звонке колл-центра.",
           0
          ],
          [
           "не проверил текущее состояние старого акб. не задал открытых вопросов. использовал способы стимулирования клиента к совершению покупки. показывает нагрузочной вилкой заряда уровень жидкости новом продемонстрировал покупателю доп. товар аксессуары. сообщил, рекомендовано приезжать проверку каждые 3-4 месяца.",
           -1
          ],
          [
           "не проверил текущее состояние старого акб. использовал способы стимулирования клиента к совершению покупки. показывает уровень жидкости новом продемонстрировал покупателю доп. товар аксессуары. не предлагал рассрочку. выдал клиенту визитки. сообщил о бсо. сообщил, рекомендовано приезжать проверку каждые 3-4 месяца. оказал помощь установке",
           0
          ],
          [
           "не показывает состояние заряда, уровень жидкости новом акб (потому продажа была этом магазине, забрали из другой тт). выдал клиенту визитки. не сообщил о бсо. предлагал рассрочку. сообщил, рекомендовано приезжать проверку каждые 3-4 месяца.",
           -1
          ],
          [
           "не показывает состояние уровень жидкости новом акб. продемонстрировал покупателю доп. товар аксессуары. не предлагал рассрочку. выдал клиенту визитки. сообщил о бсо. сообщил, рекомендовано приезжать проверку каждые 3-4 месяца. при выдаче гарантийного талона покупателю, звонке колл-центра.",
           0
          ],
          [
           "не показывает состояние уровень жидкости новом акб. продемонстрировал покупателю доп. товар аксессуары. не предлагал рассрочку. выдал клиенту визитки. сообщил, рекомендовано приезжать проверку каждые 3-4 месяца. при выдаче гарантийного талона покупателю, сообщил о звонке колл-центра.",
           0
          ],
          [
           "не задал открытых вопросов уточняющих режим эксплуатации авто/другого средства мобильности, характеристики авто. показывает состояние уровень жидкости новом акб. продемонстрировал покупателю доп. товар аксессуары. выдал клиенту визитки. при выдаче гарантийного талона покупателю, сообщил о звонке колл-центра.",
           0
          ],
          [
           "не задал открытых вопросов уточняющих режим эксплуатации авто/другого средства мобильности, характеристики авто. показывает состояние уровень жидкости новом акб. продемонстрировал покупателю доп. товар аксессуары. не предлагал рассрочку.",
           0
          ],
          [
           "не задает открытых вопросов уточняющих режим эксплуатации авто/другого средства мобильности, характеристики авто. использовал способы стимулирования клиента к совершению покупки. показывает состояние уровень жидкости новом акб. выдал клиенту визитки. не оказал помощь установке",
           0
          ],
          [
           "не сообщил о звонке колл-центра. рассказал клиенту об актуальных акциях, предложениях. предложил купить сопутствующий ассортимент, аксессуары. режиме эксплуатации акб: периодичность зарядки, проверке уровня цвета электролита. показал состояние уровень жидкости новом акб. нагрузочной вилкой заряда нового проверил текущее заряд, жидкости.",
           -1
          ],
          [
           "не рассказал клиенту об актуальных акциях, предложениях. показал состояние уровень жидкости новом акб.",
           -1
          ],
          [
           "не проверил текущее состояние акб: заряд, уровень жидкости. задавал открытые вопросы уточняющие режим эксплуатации авто. уточнил, какие критерии важны при выборе обращает внимание. показал жидкости новом акб. рассказал о режиме периодичность зарядки, проверке уровня цвета электролита. провёл развернутую презентацию продукта (доп. товары). клиенту об актуальных акциях, предложениях. выдал визитные карточки. сообщил звонке колл-центра.",
           0
          ],
          [
           "не уточнил, какие критерии важны при выборе обращает внимание. резюмировал: озвучил потребность/запрос клиента, режим эксплуатации доп. оборудование. рассказал о продукте используя развернутую презентацию озвучиванием характеристик преимуществ той иной модели. использовал способы стимулирования клиента к совершению покупки. режиме акб: периодичность зарядки, проверке уровня цвета электролита. показал состояние уровень жидкости новом акб. предложил клиенту купить сопутствующий ассортимент, аксессуары. провёл продукта (доп. товары). об актуальных акциях, предложениях. выдал визитные карточки. оказал помощь установке",
           -1
          ],
          [
           "находится ртт нарушением формы одежды(футболка не соответствует требованиям). проверил текущее состояние акб: заряд, уровень жидкости. уточнил, какие критерии важны при выборе обращает внимание. показал жидкости новом акб. рассказал о режиме эксплуатации периодичность зарядки, проверке уровня цвета электролита. предложил клиенту купить сопутствующий ассортимент, аксессуары. провёл развернутую презентацию продукта (доп. товары). об актуальных акциях, предложениях. выдал визитные карточки. сообщил \"ждем через 3-4 месяца проверку состояния акб\" оказал помощь установке",
           -1
          ],
          [
           "не проверил текущее состояние акб. использовал способы стимулирования клиента к совершению покупки. предложил клиенту купить сопутствующий ассортимент, аксессуары. провёл развернутую презентацию продукта (доп. товары). рассказал об актуальных акциях, предложениях. сообщил о звонке колл-центра.",
           -1
          ],
          [
           "находился тт без бейджа. не уточнил, какие критерии важны при выборе обращает внимание. провёл развернутую презентацию продукта (доп. товары). рассказал клиенту об актуальных акциях, предложениях.",
           -1
          ],
          [
           "не проверил текущее состояние акб: заряд, уровень жидкости. уточнил, какие критерии важны при выборе обращает внимание. показал жидкости акб. провёл развернутую презентацию продукта (доп. товары). рассказал клиенту об актуальных акциях, предложениях. выдал визитные карточки.",
           0
          ],
          [
           "не уточнил, какие критерии важны при выборе обращает внимание. проверил текущее состояние акб: заряд, уровень жидкости. показал нагрузочной вилкой заряда нового акб. жидкости новом предложил клиенту купить сопутствующий ассортимент, аксессуары. провёл развернутую презентацию продукта (доп. товары). рассказал об актуальных акциях, предложениях. грамотно отработал возражения.",
           0
          ],
          [
           "не выдал визитные карточки. рассказал клиенту об актуальных акциях, предложениях. провёл развернутую презентацию продукта (доп. товары). предложил купить сопутствующий ассортимент, аксессуары. показал состояние уровень жидкости новом акб. уточнил, какие критерии важны при выборе обращает внимание. проверил текущее акб: заряд, жидкости.",
           0
          ],
          [
           "не уточнил, какие критерии важны при выборе обращает внимание. показал состояние уровень жидкости новом акб. рассказал клиенту об актуальных акциях, предложениях. выдал визитные карточки.",
           -1
          ],
          [
           "не сообщил о звонке колл-центра. рассказал клиенту об актуальных акциях, предложениях. провёл развернутую презентацию продукта (доп. товары). предложил купить сопутствующий ассортимент, аксессуары. режиме эксплуатации акб: периодичность зарядки, проверке уровня цвета электролита. показал состояние уровень жидкости новом акб.",
           -1
          ],
          [
           "не показал состояние уровень жидкости новом акб. предложил клиенту купить сопутствующий ассортимент, аксессуары. провёл развернутую презентацию продукта (доп. товары). рассказал об актуальных акциях, предложениях.",
           0
          ],
          [
           "не уточнил наличие дисконтной карты (личной, родственника знакомого). во время презентации вовлекал клиента диалог при помощи уточняющих вопросов. предложил клиенту купить сопутствующий ассортимент, аксессуары. провёл развернутую презентацию продукта (доп. товары). рассказал об актуальных акциях, предложениях.",
           -1
          ],
          [
           "не сообщил о звонке колл-центра. предложил клиенту купить сопутствующий ассортимент, аксессуары. рассказал об актуальных акциях, предложениях. провёл развернутую презентацию продукта (доп. товары). режиме эксплуатации акб: периодичность зарядки, проверке уровня цвета электролита.",
           -1
          ],
          [
           "не проверил текущее состояние акб: заряд, уровень жидкости. показал жидкости новом акб. рассказал о режиме эксплуатации периодичность зарядки, проверке уровня цвета электролита. предложил клиенту купить сопутствующий ассортимент, аксессуары. провёл развернутую презентацию продукта (доп. товары). об актуальных акциях, предложениях.",
           0
          ],
          [
           "не показал состояние уровень жидкости новом акб. проверил текущее акб: заряд, жидкости. предложил клиенту купить сопутствующий ассортимент, аксессуары. провёл развернутую презентацию продукта (доп. товары). рассказал об актуальных акциях, предложениях. выдал визитные карточки. сообщил \"ждем через 3-4 месяца проверку состояния акб\" о звонке колл-центра.",
           0
          ],
          [
           "не выдал визитные карточки. провёл развернутую презентацию продукта (доп. товары). показал состояние уровень жидкости новом акб.",
           0
          ],
          [
           "не показывает состояние уровень жидкости новом акб. выдал визитные карточки.",
           1
          ],
          [
           "не показывает состояние уровень жидкости новом акб. рассказал клиенту об актуальных акциях, предложениях. выдал визитные карточки.",
           -1
          ],
          [
           "не предложил клиенту купить сопутствующий ассортимент, аксессуары. провёл развернутую презентацию продукта (доп. товары). рассказал об актуальных акциях, предложениях. выдал визитные карточки. сообщил о звонке колл-центра.",
           -1
          ],
          [
           "не показал состояние уровень жидкости новом акб. рассказал о режиме эксплуатации акб: периодичность зарядки, проверке уровня цвета электролита. провёл развернутую презентацию продукта (доп. товары). клиенту об актуальных акциях, предложениях. сообщил \"ждем через 3-4 месяца проверку состояния акб\". звонке колл-центра.",
           0
          ],
          [
           "не задавал открытые вопросы уточняющие режим эксплуатации авто. уточнял, какие критерии важны при выборе обращает внимание. показал состояние уровень жидкости новом акб рассказал о режиме акб: периодичность зарядки, проверке уровня цвета электролита. предложил клиенту купить сопутствующий ассортимент, аксессуары. провёл развернутую презентацию продукта (доп. товары). об актуальных акциях, предложениях выдал визитные карточки. сообщил бсо. \"ждем через 3-4 месяца проверку состояния акб\". звонке колл-центра.",
           0
          ],
          [
           "не показал состояние уровень жидкости новом акб. провёл развернутую презентацию продукта (доп. товары). рассказал клиенту об актуальных акциях, предложениях. выдал визитные карточки.",
           0
          ],
          [
           "не задает открытые вопросы уточняющие режим эксплуатации авто. уточнил, какие критерии важны при выборе обращает внимание. показал состояние уровень жидкости новом акб. рассказал о режиме акб: периодичность зарядки, проверке уровня цвета электролита. сообщил звонке колл-центра. выдал визитные карточки.",
           0
          ],
          [
           "не уточнил наличие дисконтной карты. озвучил потребность/запрос клиента, режим эксплуатации доп. оборудование. во время презентации вовлекал клиента диалог при помощи уточняющих вопросов. использовал способы стимулирования к совершению покупки, используя фразы «берем?», «оформляем?», «когда планируете покупку?». предложил клиенту купить сопутствующий ассортимент, аксессуары. провёл развернутую презентацию продукта (доп. товары). выдал визитные карточки. сообщил о бсо.",
           -1
          ],
          [
           "не использовал способы стимулирования клиента к совершению покупки, используя фразы «берем?», «оформляем?», «когда планируете покупку?». предложил клиенту купить сопутствующий ассортимент, аксессуары. провёл развернутую презентацию продукта (доп. товары). рассказал об актуальных акциях, предложениях. выдал визитные карточки.",
           -1
          ],
          [
           "не уточнил, какие критерии важны при выборе обращает внимание. задавал открытых вопросов уточняющие режим эксплуатации авто. показал состояние уровень жидкости новом акб. провёл развернутую презентацию продукта (доп. товары). рассказал клиенту об актуальных акциях, предложениях. сообщил о звонке колл-центра.",
           0
          ],
          [
           "не показал состояние уровень жидкости новом акб. рассказал о режиме эксплуатации акб: периодичность зарядки, проверке уровня цвета электролита и.т.д. клиенту об актуальных акциях, предложениях. выдал визитки. сообщил бсо. \"ждем через 3-4 месяца проверку состояния акб\". звонке колл-центра.",
           0
          ],
          [
           "не задавал открытых вопросов уточняющие режим эксплуатации авто. уточнил, какие критерии важны при выборе обращает внимание. показал состояние уровень жидкости акб.",
           0
          ],
          [
           "не уточнил, какие критерии важны при выборе обращает внимание. показал состояние уровень жидкости новом акб. провёл развернутую презентацию продукта (доп. товары).",
           -1
          ],
          [
           "не задает открытых вопросов уточняющих режим эксплуатации авто/другого средства мобильности, характеристики авто. использовал способы стимулирования клиента к совершению покупки. показывает состояние уровень жидкости новом акб. выдал клиенту визитки. при выдаче гарантийного талона покупателю, сообщил о звонке колл-центра.",
           0
          ],
          [
           "не показывает состояние уровень жидкости новом акб. продемонстрировал покупателю доп. товар аксессуары. не предлагал рассрочку. выдал клиенту визитки. сообщил о бсо. сообщил, рекомендовано приезжать проверку каждые 3-4 месяца.",
           0
          ],
          [
           "не задает вопросов уточняющих режим эксплуатации. не показывает состояние уровень жидкости новом акб. предлагал рассрочку. сообщил, ждем через 3-4 месяца проверку.",
           -1
          ],
          [
           "не задает открытых вопросов уточняющих режим эксплуатации. не показывает состояние уровень жидкости новом акб. предлагал рассрочку. выдал визитки. сообщил о бсо.",
           0
          ],
          [
           "не показывает состояние уровень жидкости акб. не предлагал рассрочку. при выдаче гарантийного талона покупателю, сообщил о звонке колл-центра.",
           1
          ],
          [
           "не использовал способы стимулирования клиента к совершению покупки. показывает состояние уровень жидкости новом акб. продемонстрировал покупателю доп. товар аксессуары. не предлагал рассрочку. выдал клиенту визитки. сообщили о бсо. сообщил, рекомендовано приезжать проверку каждые 3-4 месяца.",
           0
          ],
          [
           "не показывает состояние уровень жидкости новом акб. выдал клиенту визитки. при выдаче гарантийного талона покупателю, сообщил о звонке колл-центра.",
           1
          ],
          [
           "не проверил текущее состояние старого акб. использовал способы стимулирования клиента к совершению покупки. не показывает уровень жидкости новом продемонстрировал покупателю доп. товар аксессуары. предлагал рассрочку. выдал клиенту визитки. при выдаче гарантийного талона покупателю, сообщил о звонке колл-центра.",
           0
          ],
          [
           "не задает открытых вопросов уточняющих режим эксплуатации авто/другого средства мобильности, характеристики авто. использовал способы стимулирования клиента к совершению покупки. показывает состояние уровень жидкости новом акб. продемонстрировал покупателю доп. товар аксессуары. не предлагал рассрочку. при выдаче гарантийного талона покупателю, сообщил о звонке колл-центра. оказал помощь донести до багажника.",
           0
          ],
          [
           "не задал открытых вопросов уточняющих режим эксплуатации. уточнил, какие критерии важны при выборе. использовал способы стимулирования клиента к совершению покупки. показывает состояние уровень жидкости новом акб. продемонстрировал покупателю доп. товар аксессуары. не предлагал рассрочку. выдал клиенту визитки. сообщил о бсо. сообщил, рекомендовано приезжать проверку каждые 3-4 месяца. при выдаче гарантийного талона покупателю, звонке колл-центра.",
           0
          ],
          [
           "находится тт без бейджа. не показывает нагрузочной вилкой состояние заряда акб. уровень жидкости новом не продемонстрировал покупателю доп. товар аксессуары. предлагал рассрочку. выдал клиенту визитки.",
           -1
          ],
          [
           "не уточнил наличие дисконтной карты. показывает состояние уровень жидкости новом акб. провёл развернутую презентацию продукта (доп. товары). не предлагал рассрочку. выдал клиенту визитки. сообщил, поступит звонок от колл-центра.",
           0
          ],
          [
           "не проверил текущее состояние старого акб. показывает уровень жидкости новом выдал клиенту визитки. не сообщил о бсо. сообщил, рекомендовано приезжать проверку каждые 3-4 месяца.",
           0
          ],
          [
           "не показывает состояние уровень жидкости новом акб. продемонстрировал покупателю доп. товар аксессуары. не предлагал рассрочку. выдал клиенту визитки. сообщил о бсо. сообщил, рекомендовано приезжать проверку каждые 3-4 месяца. при выдаче гарантийного талона покупателю, звонке колл-центра. оказал помощь установке",
           0
          ],
          [
           "не задал открытых вопросов уточняющих режим эксплуатации. использовал способы стимулирования клиента к совершению покупки. ​​​​продавец показывает состояние уровень жидкости акб. провёл развернутую презентацию продукта (доп. товары). не сообщил о звонке колл-центра. оказал помощь установке акб же донести до багажника.",
           0
          ],
          [
           "не показывает состояние уровень жидкости новом акб. выдал клиенту визитки. не предлагал рассрочку. очень хорошо проконсультировал.",
           1
          ],
          [
           "не задает открытых вопросов уточняющих режим эксплуатации авто/другого средства мобильности, характеристики авто. уточнил, какие критерии важны при выборе. не использовал способы стимулирования клиента к совершению покупки. показывает состояние уровень жидкости новом акб. продемонстрировал покупателю доп. товар аксессуары. предлагал рассрочку. оказал помощь донести до багажника.",
           0
          ],
          [
           "не показывает состояние уровень жидкости новом акб. рассказывает/напоминает о режиме эксплуатации не провёл развернутую презентацию продукта (доп. товары). предлагал рассрочку. при выдаче гарантийного талона покупателю, сообщил звонке колл-центра. оказал помощь донести до багажника.",
           0
          ],
          [
           "при подъезде автомобиля не вышел улицу. проверил текущее состояние старого акб. использовал способы стимулирования клиента к совершению покупки. показывает нагрузочной вилкой заряда не уровень жидкости новом продемонстрировал покупателю доп. товар аксессуары. выдал клиенту визитки. сообщил о бсо. сообщил, рекомендовано приезжать проверку каждые 3-4 месяца. при выдаче гарантийного талона покупателю, звонке колл-центра. оказал помощь донести до багажника.",
           -1
          ],
          [
           "не задал открытых вопросов уточняющих режим эксплуатации. не использовал способы стимулирования клиента к совершению покупки. показывает состояние уровень жидкости новом акб. предлагал рассрочку. выдал клиенту визитки. при выдаче гарантийного талона покупателю, сообщил о звонке колл-центра. оценила работу мере возможности, так-как он разговаривает только по-русски по-оссетински.",
           0
          ],
          [
           "не использовал способы стимулирования клиента к совершению покупки. показывает состояние уровень жидкости акб. не выдал клиенту визитки. сообщил, поступит звонок от колл-центра.",
           0
          ],
          [
           "не задает открытых вопросов уточняющих режим эксплуатации. показывает состояние уровень жидкости акб. предложил клиенту купить сопутствующий ассортимент, аксессуары. не сообщил, поступит звонок от колл-центра.",
           -1
          ],
          [
           "не задает открытых вопросов уточняющих режим эксплуатации. показывает состояние уровень жидкости акб. предложил клиенту купить сопутствующий ассортимент, аксессуары. клиенту выдали визитных карточек листовок. не сообщил, поступит звонок от колл-центра.",
           0
          ],
          [
           "не показывает состояние уровень жидкости новом акб. очень хорошо проконсультировал.",
           1
          ],
          [
           "не проверил текущее состояние старого акб. использовал способы стимулирования клиента к совершению покупки. показывает уровень жидкости новом провёл развернутую презентацию продукта (доп. товары). не предлагал рассрочку. сообщил о бсо. сообщил, рекомендовано приезжать проверку каждые 3-4 месяца. при выдаче гарантийного талона покупателю, звонке колл-центра.",
           0
          ],
          [
           "не задает открытых вопросов уточняющих режим эксплуатации. использовал способы стимулирования клиента к совершению покупки. показывает состояние уровень жидкости акб. предложил клиенту купить сопутствующий ассортимент, аксессуары. не предлагал рассрочку. сообщил рекомендовано приезжать проверку через 3-4 месяца.",
           0
          ],
          [
           "не показывает состояние уровень жидкости новом акб. провёл развернутую презентацию продукта (доп. товары). не предлагал рассрочку. выдал клиенту визитки. сообщил о бсо.",
           0
          ],
          [
           "не задал открытых вопросов уточняющих режим эксплуатации. показывает состояние уровень жидкости новом акб. провёл развернутую презентацию продукта (доп. товары). не предлагал рассрочку.",
           0
          ],
          [
           "не показывает состояние уровень жидкости новом акб. выдал клиенту визитки. не предлагал рассрочку. оказал помощь установке",
           1
          ],
          [
           "не задает открытых вопросов уточняющих режим эксплуатации не уточнил, какие критерии важны при выборе. показывает состояние уровень жидкости новом акб. при выдаче гарантийного талона покупателю, сообщил о звонке колл-центра.",
           0
          ],
          [
           "не использовал способы стимулирования клиента к совершению покупки. из-за этого клиент долго мог определиться брать нет. процессе сильно помог другой (рудиков антон николаевич). показывает состояние уровень жидкости новом акб. не предлагал рассрочку. выдал визитки.",
           -1
          ],
          [
           "не задает вопросов уточняющих режим эксплуатации. показывает состояние уровень жидкости новом акб. продемонстрировал покупателю доп. товар аксессуары. не предлагал рассрочку. при выдаче гарантийного талона покупателю, сообщил о звонке колл-центра. оказал помощь установке",
           0
          ],
          [
           "не показывает состояние уровень жидкости новом акб. не предлагал рассрочку. оказал помощь установке целом хорошо проконсультировал.",
           1
          ],
          [
           "​​​​продавец не уточнил наличие дисконтной карты. не показывает состояние уровень жидкости акб. предлагал рассрочку. сообщил поступит звонок от колл-центра.",
           -1
          ],
          [
           "не задает открытых вопросов уточняющих режим эксплуатации. уточнил, какие критерии важны при выборе. использовал способы стимулирования клиента к совершению покупки. показал состояние уровень жидкости акб. не выдал клиенту визитки. сообщил, поступит звонок от колл-центра.",
           0
          ],
          [
           "не использовал способы стимулирования клиента к совершению покупки. не предлагал рассрочку. выдал клиенту визитки. сообщил о бсо. сообщил, нужно приезжать через 3-4 месяца проверку. поступит звонок от колл-центра.",
           -1
          ],
          [
           "не показал состояние уровень жидкости акб",
           -1
          ],
          [
           "не форме. показывает состояние уровень жидкости новом акб. рассказал о режиме эксплуатации акб: периодичность зарядки, проверке уровня цвета электролита. предложил клиенту купить сопутствующий ассортимент, аксессуары. провёл развернутую презентацию продукта (доп. товары). об актуальных акциях, предложениях.",
           0
          ],
          [
           "бардак прикассовой зоне. находится ртт не форме, без бейджа. поприветствовал клиента сразу же. уточнил, какие критерии важны при выборе обращает внимание. уточнил наличие дисконтной карты (личной, родственника знакомого). озвучил потребность/запрос клиента, режим эксплуатации доп. оборудование. рассказал о продукте используя развернутую презентацию озвучиванием характеристик преимуществ. во время презентации вовлекал диалог помощи уточняющих вопросов. предпринял попытку отработать возникшие возражения. пытался закрыть все возражения клиента. использовал способы стимулирования к совершению покупки, фразы «берем?» предложил клиенту купить сопутствующий ассортимент, аксессуары. провёл продукта (доп. товары). об актуальных акциях, предложениях. сообщил бсо отсутствие субординации отношению во консультации жевал жвачку, подтягивался, находился бейджа, долгое подходил клиенту, хотя был свободен.",
           -1
          ],
          [
           "не проверил текущее состояние акб: заряд, уровень жидкости. показал жидкости новом акб. рассказал о режиме эксплуатации периодичность зарядки, проверке уровня цвета электролита т.д. провёл развернутую презентацию продукта (доп. товары). клиенту об актуальных акциях, предложениях. сообщил звонке колл-центра.",
           0
          ],
          [
           "не использовал способы стимулирования клиента к совершению покупки, используя фразы «берем?», «оформляем?», «когда планируете покупку?». показал состояние уровень жидкости новом акб. выдал клиенту визитки.",
           -1
          ],
          [
           "не задавал открытые вопросы уточняющие режим эксплуатации авто/другого средства мобильности, характеристики авто, сложности эксплуатации. уточнял, какие критерии важны при выборе. показал состояние уровень жидкости новом акб. предложил клиенту купить сопутствующий ассортимент, аксессуары. провёл развернутую презентацию продукта (доп. товары). при выдаче гарантийного талона покупателю, сообщил о звонке колл-центра.",
           0
          ],
          [
           "не проверил текущее состояние акб: заряд, уровень жидкости. уточнил, какие критерии важны при выборе, обращать внимание. рассказал о режиме эксплуатации периодичность зарядки, проверке уровня жидкости и.т.д. выдал гарантийный талон. использовал способы стимулирования клиента к совершению покупки. показал новом акб. визитные карточки. сообщил бсо. сказал \"ждем через 3-4 месяца проверку состояния акб\". звонке колл-центра. цветом выделены отклонения выявленные прошлый просмотр, необходимо обратить",
           0
          ],
          [
           "не показывает состояние уровень жидкости акб. не выдал визитки. сообщил, поступит звонок от колл-центра. целом хорошо проконсультировал.",
           -1
          ],
          [
           "не уточнил наличие дисконтной карты. показывает состояние уровень жидкости новом акб. не предлагал рассрочку. выдал клиенту визитки. при выдаче гарантийного талона покупателю, сообщил о звонке колл-центра.",
           -1
          ],
          [
           "не показывает нагрузочной вилкой состояние заряда акб. уровень жидкости новом выдал клиенту визитки. не оказал помощь установке",
           1
          ],
          [
           "не использовал способы стимулирования клиента к совершению покупки. не показывает состояние уровень жидкости новом акб. продемонстрировал покупателю доп. товар аксессуары. предлагал рассрочку. выдал клиенту визитки. при выдаче гарантийного талона покупателю, сообщил о звонке колл-центра.",
           0
          ],
          [
           "не показывает состояние уровень жидкости новом акб. не предлагал рассрочку. при выдаче гарантийного талона покупателю, сообщил о звонке колл-центра. целом очень хорошо проконсультировал.",
           1
          ],
          [
           "не задал вопросов уточняющих режим эксплуатации. не показывает нагрузочной вилкой состояние заряда акб. уровень жидкости новом предлагал рассрочку. выдал клиенту визитки.",
           0
          ],
          [
           "не показывает нагрузочной вилкой состояние заряда акб. не уровень жидкости выдал клиенту визитки. предлагал рассрочку. сообщил о бсо. нужно через 3-4 месяца проверку.",
           -1
          ],
          [
           "текущая оценка от 11.10 >​​​​продавец не задает открытых вопросов уточняющих режим эксплуатации авто. продемонстрировал покупателю доп. товар аксессуары. >не сообщил, поступит звонок колл-центра. >",
           -1
          ],
          [
           "не задает открытых вопросов уточняющих режим эксплуатации. показывает состояние уровень жидкости акб. клиенту выдали визитных карточек листовок. сообщил о звонке колл-центра.",
           -1
          ],
          [
           "не задает открытых вопросов уточняющих режим эксплуатации. не уточнил, какие критерии важны при выборе. показывает состояние уровень жидкости акб. выдал клиенту визитки. сообщает \"ждем через 3-4 месяца проверку состояния акб\". сообщил, поступит звонок от колл-центра.",
           -1
          ],
          [
           "не задал открытых вопросов уточняющих режим эксплуатации авто. уточнил, какие критерии важны при выборе. показывает состояние уровень жидкости новом акб. не продемонстрировал покупателю доп. товар аксессуары. выдал клиенту визитки. при выдаче гарантийного талона покупателю, сообщил о звонке колл-центра.",
           0
          ],
          [
           "​​​​продавец не задает открытых вопросов уточняющих режим эксплуатации авто. продемонстрировал покупателю доп. товар аксессуары. не сообщил, поступит звонок от колл-центра.",
           -1
          ],
          [
           "​​​​​продавец не задал открытых вопросов уточняющих режим эксплуатации. не сообщил, поступит звонок от колл-центра.",
           -1
          ],
          [
           "не задает открытых вопросов уточняющих режим эксплуатации. показывает нагрузочной вилкой состояние заряда акб. не уровень жидкости новом продемонстрировал покупателю доп. товар аксессуары. предлагал рассрочку. выдал клиенту визитки. сообщил о бсо. сообщил, рекомендовано приезжать проверку каждые 3-4 месяца. при выдаче гарантийного талона покупателю, звонке колл-центра.",
           0
          ],
          [
           "без бейджа. не показывает состояние уровень жидкости новом акб. не продемонстрировал покупателю доп. товар аксессуары. предлагал рассрочку. выдал клиенту визитки.",
           -1
          ],
          [
           "не задал открытых вопросов уточняющих режим эксплуатации. не уточнил, какие критерии важны при выборе. показывает состояние уровень жидкости новом акб. продемонстрировал покупателю доп. товар аксессуары. предлагал рассрочку. выдал клиенту визитки.",
           0
          ],
          [
           "не задал вопросов уточняющих режим эксплуатации. не использовал способы стимулирования клиента к совершению покупки. показывает состояние уровень жидкости новом акб. продемонстрировал покупателю доп. товар аксессуары. предлагал рассрочку. выдал клиенту визитки. сообщил о бсо. сообщил, рекомендовано приезжать проверку каждые 3-4 месяца. при выдаче гарантийного талона покупателю, звонке колл-центра.",
           0
          ],
          [
           "не показывает состояние уровень жидкости новом акб. не предлагал рассрочку. выдал клиенту визитки.",
           1
          ],
          [
           "не показывает состояние уровень жидкости новом акб. выдал клиенту визитки. при выдаче гарантийного талона покупателю, сообщил о звонке колл-центра.",
           1
          ],
          [
           "не проверил текущее состояние старого акб. использовал способы стимулирования клиента к совершению покупки. задает открытых вопросов уточняющих режим эксплуатации. не выдал визиток.",
           -1
          ],
          [
           "не показывает состояние уровень жидкости акб. не сообщил \"поступит звонок от колл-центра для оценки качества обслуживания\" хорошо проконсультировал.",
           -1
          ],
          [
           "не задал вопросов уточняющих режим эксплуатации. показывает состояние уровень жидкости акб. целом очень хорошо проконсультировал.",
           -1
          ],
          [
           "находится ртт нарушением формы обуви. не показывает состояние уровень жидкости нового акб так же была произведена презентация аксессуаров. выдал клиенту визитки рекламные буклеты. сообщает важные составляющие гарантийного талона. сообщил, поступит звонок от колл-центра для оценки качества обслуживания.",
           2
          ],
          [
           "не показывает состояние уровень жидкости нового акб было озвучено предложение приобрести доп. товары. так же была произведена презентация аксессуаров. сообщает \"ждем через 3-4 месяца проверку состояния акб\". выдал клиенту визитки рекламные буклеты. важные составляющие гарантийного талона. о том, поступит звонке колл-центра. помог донести до машины. очень уверенно говорит при презентации.",
           0
          ],
          [
           "не проверил новый акб клиента нагрузочной вилкой. показывает состояние уровень жидкости нового выдал клиенту визитки рекламные буклеты. сообщает важные составляющие гарантийного талона.",
           -1
          ],
          [
           "находится ртт нарушением формы одежды обуви. хорошо консультировал, грамотно отработал все возражения.",
           -1
          ],
          [
           "текущая оценка обусловлена тем, другой вмешался ход продажи. находится ртт нарушением формы одежды обуви. не проверил состояние текущего акб. показывает уровень жидкости нового акб выдал клиенту визитки рекламные буклеты. сообщает важные составляющие гарантийного талона.",
           -1
          ],
          [
           "находится ртт нарушением формы одежды обуви. не показывает состояние уровень жидкости нового акб выдал клиенту визитки рекламные буклеты. сообщает важные составляющие гарантийного талона. так же было озвучено о том, поступит звонке колл-центра.",
           -1
          ],
          [
           "не показывает состояние уровень жидкости нового акб выдал клиенту визитки рекламные буклеты. >очень качественно отработал возражения. грамотная консультация презентацией. >",
           -1
          ],
          [
           "ртт беспорядок. разбросаны товары залу. клиент споткнулся об акб. не вышел улицу текущим акб клиента. находится нарушением формы обуви. выдал клиенту визитки рекламные буклеты. сообщает важные составляющие гарантийного талона.",
           -1
          ],
          [
           "не проверил текущий акб клиента нагрузочной вилкой. показывает состояние уровень жидкости клиента. было озвучено предложение приобрести доп. товары. так же была произведена презентация аксессуаров.",
           -1
          ],
          [
           "не показывает состояние уровень жидкости нового акб выдал клиенту визитки рекламные буклеты. очень качественно отработал возражения. грамотная консультация презентацией.",
           -1
          ],
          [
           "находится ртт нарушением формы обуви. не показывает состояние уровень жидкости нового акб было озвучено предложение приобрести доп. товары. так же была произведена презентация аксессуаров. сообщает \"ждем через 3-4 месяца проверку состояния акб\". выдал клиенту визитки рекламные буклеты. важные составляющие гарантийного талона.",
           0
          ],
          [
           "находится ртт нарушением формата обуви.. не проверил новый акб клиента нагрузочной вилкой. показывает состояние уровень жидкости нового было озвучено предложение приобрести доп. товары. так же была произведена презентация аксессуаров. клиенту о возможности бсо. сообщает \"ждем через 3-4 месяца проверку состояния акб\". выдал клиенту визитки рекламные буклеты.",
           0
          ],
          [
           "находится ртт нарушением формы одежды обуви. не рассказывает о режиме эксплуатации акб. проверил текущий акб клиента нагрузочной вилкой. показывает состояние уровень жидкости нового было озвучено предложение приобрести доп. товары. так же была произведена презентация аксессуаров. сообщает \"ждем через 3-4 месяца проверку состояния акб\". выдал клиенту визитки рекламные буклеты. важные составляющие гарантийного талона.",
           0
          ],
          [
           "находится ртт нарушением формы одежды обуви. не показывает состояние уровень жидкости нового акб было озвучено предложение приобрести доп. товары. так же была произведена презентация аксессуаров. выдал клиенту визитки рекламные буклеты. сообщает важные составляющие гарантийного талона.",
           2
          ],
          [
           "находится ртт нарушением формы одежды обуви. без бейджа. не было озвучено предложение приобрести доп. товары. так же была произведена презентация аксессуаров. выдал клиенту визитки рекламные буклеты. сообщает важные составляющие гарантийного талона. о том, поступит звонке колл-центра.",
           -1
          ],
          [
           "не рассказывает о режиме эксплуатации акб. проверил новый акб клиента нагрузочной вилкой. показывает состояние уровень жидкости нового так же была произведена презентация аксессуаров. сообщает \"ждем через 3-4 месяца проверку состояния акб\". выдал клиенту визитки рекламные буклеты. важные составляющие гарантийного талона. было озвучено том, поступит звонке колл-центра.",
           -1
          ],
          [
           "находится ртт нарушением формы одежды обуви. не проверил текущее состояние акб: заряд, уровень жидкости. задавал активно вопросы, а так же уточнял важные критерии. новый акб клиента нагрузочной вилкой. показывает жидкости нового было озвучено предложение приобрести доп. товары. так была произведена презентация аксессуаров. выдал клиенту визитки рекламные буклеты. сообщает составляющие гарантийного талона.",
           -1
          ],
          [
           "находится ртт нарушением формы одежды обуви. не проверил акб клиента нагрузочной вилкой. показывает состояние уровень жидкости нового клиенту озвучено о возможности бсо. сообщает \"ждем через 3-4 месяца проверку состояния акб\". выдал клиенту визитки рекламные буклеты. важные составляющие гарантийного талона. очень неуверенное завершение продажи, конкретно были сложности при работе компьютером.",
           0
          ],
          [
           "не показывает состояние уровень жидкости нового акб не была произведена презентация аксессуаров. выдал клиенту визитки рекламные буклеты. сообщает важные составляющие гарантийного талона.",
           2
          ],
          [
           "находится ртт нарушением формата обуви. так же не была произведена презентация аксессуаров. выдал клиенту визитки рекламные буклеты. сообщает важные составляющие гарантийного талона.",
           -1
          ],
          [
           "не уточнил наличие дисконтной карты. проверил акб клиента нагрузочной вилкой. так же была произведена презентация аксессуаров. выдал клиенту визитки рекламные буклеты. сообщает важные составляющие гарантийного талона.",
           -1
          ],
          [
           "находится ртт без бейджа. не уточнил наличие дисконтной карты было озвучено предложение приобрести доп. товары. так же была произведена презентация аксессуаров. выдал клиенту визитки рекламные буклеты.",
           -1
          ],
          [
           "находится ртт нарушением формы одежды обуви. не было озвучено предложение приобрести доп. товары. так же была произведена презентация аксессуаров. выдал клиенту визитки рекламные буклеты. сообщает важные составляющие гарантийного талона.",
           2
          ],
          [
           "находится ртт нарушением формы одежды обуви. не рассказывает о режиме эксплуатации акб. проверил новый акб клиента нагрузочной вилкой. показывает состояние уровень жидкости нового было озвучено предложение приобрести доп. товары. так же была произведена презентация аксессуаров. клиенту возможности бсо. сообщает \"ждем через 3-4 месяца проверку состояния акб\". выдал клиенту визитки рекламные буклеты. важные составляющие гарантийного талона. том, поступит звонке колл-центра.",
           0
          ],
          [
           "не выдал клиенту визитки рекламные буклеты. полные полки акб. хорошая уверенная консультация. грамотно отработал все возражения. очень обходителен клиентом.",
           -1
          ],
          [
           "не выдал клиенту визитки рекламные буклеты. магазине все чисто. полные полки акб. очень грамотная консультация. полностью отработаны возражения.",
           -1
          ],
          [
           "не была произведена презентация аксессуаров. не выдал клиенту визитки рекламные буклеты. сообщает важные составляющие гарантийного талона. магазине все чисто. полные полки акб.",
           -1
          ],
          [
           "не показывает состояние уровень жидкости нового акб. было озвучено предложение приобрести доп. товары. так же была произведена презентация аксессуаров. выдал клиенту визитки рекламные буклеты. сообщает важные составляющие гарантийного талона. магазине все чисто. полные полки",
           2
          ],
          [
           "ртт не уставном формате обуви. проверил состояние уровень жидкости акб клиента. так же была произведена презентация аксессуаров. выдал клиенту визитки рекламные буклеты. магазине все чисто. полные полки акб.",
           -1
          ],
          [
           "ртт замечен беспорядок пред кассовой зоне. не выдал клиенту визитки рекламные буклеты. сообщает важные составляющие гарантийного талона. полные полки акб. хорошая уверенная консультация.",
           -1
          ],
          [
           "не выдал клиенту визитки рекламные буклеты. сообщил \"ждем через 3-4 месяца проверку состояния акб\" сообщает важные составляющие гарантийного талона. магазине все чисто. полные полки акб.",
           -1
          ],
          [
           "не показывает состояние уровень жидкости нового акб было озвучено предложение приобрести доп. товары. так же была произведена презентация аксессуаров. выдал клиенту визитки рекламные буклеты. сообщает важные составляющие гарантийного талона. о том, поступит звонок колл-центра. магазине все чисто. полные полки акб.",
           2
          ],
          [
           "обслуживает клиентов не фирменной одежде обуви. показывает состояние уровень жидкости нового акб было озвучено предложение приобрести доп. товары. так же была произведена презентация аксессуаров. выдал клиенту визитки рекламные буклеты. сообщает важные составляющие гарантийного талона. магазине все чисто. полные полки акб.",
           2
          ],
          [
           "не проверил состояние текущего акб клиента. так же было проверки нагрузочной вилке нового показывает уровень жидкости акб. озвучено предложение приобрести доп. товары. была произведена презентация аксессуаров. выдал клиенту визитки рекламные буклеты. сообщает важные составляющие гарантийного талона. не о звонке колл-центра. возможность пользоваться бсо от нашей компании. магазине все чисто. полные полки",
           2
          ],
          [
           "не было озвучено предложение приобрести доп. товары. так же была произведена презентация аксессуаров. выдал клиенту визитки рекламные буклеты. сообщает важные составляющие гарантийного талона. не о звонке колл-центра. магазине все чисто. полные полки акб. грамотно отработал возражения.",
           -1
          ],
          [
           ">на ртт беспорядок пред кассовой зоне. не выдал клиенту визитки рекламные буклеты. предложил купить сопутствующий ассортимент, аксессуары. >не был продемонстрирован доп. товар. > полные полки акб.",
           -1
          ],
          [
           "ртт беспорядок пред кассовой зоне. не выдал клиенту визитки рекламные буклеты. предложил купить сопутствующий ассортимент, аксессуары. не был продемонстрирован доп. товар. полные полки акб.",
           -1
          ],
          [
           "не уставной форме обуви. выдал клиенту визитки рекламные буклеты. >при выдаче гарантийного талона уточнил покупателю важные опции гарантии. сообщает \"ждем через 3-4 месяца проверку состояния акб\" показывает состояние уровень жидкости новом акб. покупателю, сообщил о звонке колл-центра. >в магазине все чисто. полные полки >",
           -1
          ],
          [
           "не уставной форме обуви. выдал клиенту визитки рекламные буклеты. предложил купить сопутствующий ассортимент, аксессуары. не был продемонстрирован доп. товар. магазине все чисто. полные полки акб.",
           -1
          ],
          [
           "не уставной форме обуви. выдал клиенту визитки рекламные буклеты. при выдаче гарантийного талона уточнил покупателю важные опции гарантии. сообщает \"ждем через 3-4 месяца проверку состояния акб\" показывает состояние уровень жидкости новом акб. покупателю, сообщил о звонке колл-центра. магазине все чисто. полные полки",
           -1
          ],
          [
           "не показал состояние уровень жидкости новом акб. было озвучено предложение приобрести доп. товары. так же была произведена презентация аксессуаров. выдал клиенту визитки рекламные буклеты. сообщает клиенту, мы ждем его через 3-4 месяца проверку состояния при выдаче гарантийного талона, указал важные составляющие. магазине все чисто. полные полки грамотно отработал возражения.",
           0
          ],
          [
           "работает не уставной форме одежды. использовал способы стимулирования клиента к совершению покупки, используя фразы «берем?». рассказывает/напоминает о режиме эксплуатации акб: периодичность зарядки, проверке уровня жидкости. не было озвучено том, компания оказывает бсо. магазине все чисто. полные полки акб.",
           -1
          ],
          [
           "обслуживает клиента не рабочей форме. показал состояние уровень жидкости новом акб. было озвучено предложение приобрести доп. товары. так же была произведена презентация аксессуаров. выдал клиенту визитки рекламные буклеты. сообщает клиенту, мы ждем его через 3-4 месяца проверку состояния не о звонке колл-центра. магазине все чисто. полные полки грамотно отработал возражения.",
           0
          ],
          [
           "обслуживает клиента не рабочей форме. показал состояние уровень жидкости новом акб. было озвучено предложение приобрести доп. товары. так же была произведена презентация аксессуаров. выдал клиенту визитки рекламные буклеты. сообщает клиенту, мы ждем его через 3-4 месяца проверку состояния не о звонке колл-центра. магазине все чисто. полные полки грамотно отработал возражения.",
           0
          ],
          [
           "обслуживает клиента не рабочей форме. показал состояние уровень жидкости новом акб. было озвучено предложение приобрести доп. товары. так же была произведена презентация аксессуаров. выдал клиенту визитки рекламные буклеты. сообщает клиенту, мы ждем его через 3-4 месяца проверку состояния не о звонке колл-центра. магазине все чисто. полные полки грамотно отработал возражения.",
           0
          ],
          [
           "не выдал клиенту визитки рекламные буклеты. >в магазине все чисто. полные полки акб. >консультацию провел хорошо. грамотно отработал возражения. >",
           -1
          ],
          [
           "закрыл ртт 19:08. не показал состояние уровень жидкости новом акб. было озвучено предложение приобрести доп. товары. так же была произведена презентация аксессуаров. выдал клиенту визитки рекламные буклеты. магазине все чисто. полные полки консультацию провел хорошо. грамотно отработал возражения.",
           -1
          ],
          [
           "не выдал клиенту визитки рекламные буклеты. магазине все чисто. полные полки акб. консультацию провел хорошо. грамотно отработал возражения.",
           -1
          ],
          [
           "не уставной форме одежды без беджа. выдал клиенту визитки рекламные буклеты. при выдаче гарантийного талона уточнил покупателю важные опции гарантии. продемонстрировал доп. товар аксессуары. показывает состояние уровень жидкости новом акб. покупателю, сообщил о звонке колл-центра. магазине все чисто. полные полки",
           -1
          ],
          [
           "не выдал клиенту визитки рекламные буклеты. проверил текущее состояние акб посетителя: заряд, уровень жидкости. показывает жидкости новом акб. при выдаче гарантийного талона покупателю, сообщил о звонке колл-центра. целом очень достойная консультация. внимательно слушал, благодаря чему продажа завершилась успешно. магазине все чисто. полные полки",
           -1
          ],
          [
           "не выдал клиенту визитки рекламные буклеты. при выдаче гарантийного талона покупателю, озвучил важные моменты гарантийными случаями. целом очень достойная консультация. внимательно слушал, благодаря чему продажа завершилась успешно. магазине все чисто. полные полки акб.",
           -1
          ],
          [
           "не выдал клиенту визитки рекламные буклеты. не было озвучено о том, будет произведен звонок колл-центра. целом очень достойная консультация. внимательно слушал, благодаря чему продажа завершилась успешно. клиент ушел довольный покупкой, обещал вернуться ближайшее время.",
           -1
          ],
          [
           "не выдал клиенту визитки рекламные буклеты. >не было озвучено о том, будет произведен звонок колл-центра. >в целом очень достойная консультация. внимательно слушал, благодаря чему продажа завершилась успешно. >клиент ушел довольный покупкой, обещал вернуться ближайшее время. >",
           -1
          ],
          [
           "не выдал клиенту визитки рекламные буклеты. не было озвучено о том, будет произведен звонок колл-центра. целом очень достойная консультация. внимательно слушал, благодаря чему продажа завершилась успешно. клиент ушел довольный покупкой, обещал вернуться ближайшее время.",
           -1
          ],
          [
           "ртт наблюдается беспорядок пред кассовой зоне, прикассовый стол. очень плохо отработан сервис. клиенту не было выдано визитных карт, рекламных брошюр. выдал клиенту гарантийный талон, соответственно озвучено ключевых моментов мануале гарантийного талона. предупредил покупателя о звонке колл-центра для оценки качества обслуживания. не сообщил бсо. том, профилактики использования акб желательно приезжать бсо раз 3-4 месяца. предложение приобрести доп. товар. производилась презентация аксессуаров. проверил состояние нового акб, уровень жидкости.",
           -1
          ],
          [
           "ртт есть пустоты ветринах. клиенту не выдали визитных карточек листовок. проверил состояние нового акб, уровень жидкости. предупредил покупателя о звонке колл-центра для оценки качества обслуживания. было озвучено предложение приобрести доп. товар. не производилась презентация аксессуаров.",
           -1
          ],
          [
           "клиент не был проинформирован про бсо. обсуживает клиента без беджа. было озвучено клиенту, о необходимости периодического обслуживания акб раз 3-4 месяца. клиенту выдали визитных карточек листовок. проверил состояние нового акб, уровень жидкости. выдавая гарантийный талон, рассказал важных моментах гарантийных случаев. предложение приобрести доп. товар. не производилась презентация аксессуаров.",
           -1
          ],
          [
           "момент завершения сделки не показал состояние уровень жидкости акб. покупателю озвучены предложения купить сопутствующий товар. не производилась презентация доп. товарам. клинту выдали визитных карточек листовок.",
           -1
          ],
          [
           "находиться ртт неуставном формате обуви. момент завершения сделки не показал состояние уровень жидкости акб. проверил акб помощью нагрузочной вилки. клинту выдали визитных карточек листовок. очень затяжная консультация. не отдал клиенту гарантийный талон. клиент забыл сдачу(16:42)",
           -1
          ],
          [
           "находиться ртт не уставной форме одежды обуви. момент завершения сделки показал состояние уровень жидкости акб. клиент был проинформирован о поступлении звонка от оператора колл-центра. клинту выдали визитных карточек листовок клиенту провели развернутую презентацию доп. товаров",
           -1
          ],
          [
           "не проверил текущее состояние акб. момент завершения сделки показал уровень жидкости так же акб нагрузочной вилкой. клиенту были предложены продемонстрированы доп. товары. клинту выдали визитных карточек листовок.",
           -1
          ],
          [
           "не использовал способы стимуляции клиента для покупки.не показывал демонстрацию акб",
           -1
          ],
          [
           "не проверил состояние текущего акб. так же продемонстрировал уровень жидкости новом были озвучены предложения приобрести доп. товары. продемонстрированы клиенту. выдал клиенту визитных карт листовок..",
           -1
          ],
          [
           "не уставной форме обуви. проверил состояние ткущего акб. клиенту было предложено доп. товары. так же демонстрации аксессуаров. клинту выдали визитных карточек листовок.",
           -1
          ]
         ],
         "hovertemplate": "Очищенный текст=%{customdata[0]}<br>Cluster=%{marker.color}<extra></extra>",
         "legendgroup": "",
         "marker": {
          "color": [
           -1,
           0,
           -1,
           0,
           0,
           0,
           -1,
           0,
           0,
           -1,
           -1,
           -1,
           0,
           -1,
           -1,
           0,
           0,
           0,
           0,
           0,
           0,
           0,
           0,
           0,
           -1,
           0,
           0,
           -1,
           0,
           0,
           1,
           0,
           0,
           -1,
           -1,
           0,
           0,
           0,
           1,
           0,
           0,
           0,
           0,
           0,
           0,
           0,
           0,
           -1,
           0,
           0,
           0,
           0,
           0,
           0,
           0,
           0,
           0,
           0,
           0,
           0,
           -1,
           -1,
           -1,
           0,
           0,
           0,
           -1,
           0,
           -1,
           -1,
           0,
           0,
           0,
           -1,
           0,
           0,
           0,
           0,
           0,
           -1,
           0,
           -1,
           0,
           0,
           0,
           0,
           -1,
           0,
           0,
           0,
           -1,
           0,
           0,
           -1,
           0,
           1,
           0,
           -1,
           0,
           0,
           0,
           -1,
           0,
           -1,
           0,
           0,
           0,
           0,
           0,
           -1,
           -1,
           0,
           -1,
           -1,
           -1,
           -1,
           0,
           0,
           0,
           -1,
           -1,
           0,
           -1,
           -1,
           0,
           0,
           0,
           1,
           -1,
           -1,
           0,
           0,
           0,
           0,
           -1,
           -1,
           0,
           0,
           0,
           -1,
           0,
           0,
           -1,
           0,
           1,
           0,
           1,
           0,
           0,
           0,
           -1,
           0,
           0,
           0,
           0,
           1,
           0,
           0,
           -1,
           0,
           0,
           -1,
           0,
           1,
           0,
           0,
           0,
           0,
           1,
           0,
           -1,
           0,
           1,
           -1,
           0,
           -1,
           -1,
           0,
           -1,
           0,
           -1,
           0,
           0,
           -1,
           -1,
           1,
           0,
           1,
           0,
           -1,
           -1,
           -1,
           -1,
           0,
           -1,
           -1,
           0,
           -1,
           0,
           0,
           1,
           1,
           -1,
           -1,
           -1,
           2,
           0,
           -1,
           -1,
           -1,
           -1,
           -1,
           -1,
           -1,
           -1,
           0,
           0,
           0,
           2,
           -1,
           -1,
           -1,
           0,
           2,
           -1,
           -1,
           -1,
           2,
           0,
           -1,
           -1,
           -1,
           2,
           -1,
           -1,
           -1,
           2,
           2,
           2,
           -1,
           -1,
           -1,
           -1,
           -1,
           -1,
           0,
           -1,
           0,
           0,
           0,
           -1,
           -1,
           -1,
           -1,
           -1,
           -1,
           -1,
           -1,
           -1,
           -1,
           -1,
           -1,
           -1,
           -1,
           -1,
           -1,
           -1,
           -1,
           -1
          ],
          "coloraxis": "coloraxis",
          "symbol": "circle"
         },
         "mode": "markers",
         "name": "",
         "orientation": "v",
         "showlegend": false,
         "type": "scatter",
         "x": [
          3.766573190689087,
          11.478554725646973,
          11.589750289916992,
          3.6981453895568848,
          11.142638206481934,
          10.950927734375,
          4.006494045257568,
          4.469419002532959,
          4.3175368309021,
          3.3796582221984863,
          3.581542730331421,
          11.501853942871094,
          4.212104320526123,
          4.520681381225586,
          3.620384931564331,
          4.507315158843994,
          3.671236038208008,
          11.22605037689209,
          6.713346481323242,
          6.269957065582275,
          6.502689838409424,
          6.5627851486206055,
          4.162018299102783,
          4.176061630249023,
          3.562408447265625,
          6.812292098999023,
          4.032626628875732,
          6.141223430633545,
          6.42042875289917,
          5.894341468811035,
          4.697844505310059,
          5.862951278686523,
          3.749504327774048,
          4.697793006896973,
          4.827119827270508,
          3.8740968704223633,
          3.6285853385925293,
          4.06524658203125,
          4.3557047843933105,
          10.493417739868164,
          3.3949615955352783,
          11.266860961914062,
          2.8756489753723145,
          4.124734878540039,
          11.189033508300781,
          11.060797691345215,
          4.0170769691467285,
          4.1262125968933105,
          11.354992866516113,
          11.155756950378418,
          3.4103853702545166,
          4.397656440734863,
          3.326530933380127,
          3.530876874923706,
          4.425786018371582,
          4.445754051208496,
          3.6933348178863525,
          3.5414414405822754,
          4.366255283355713,
          10.40164566040039,
          4.5111470222473145,
          4.773993492126465,
          3.989476203918457,
          4.4119648933410645,
          4.021958827972412,
          11.24274730682373,
          3.6307177543640137,
          10.677684783935547,
          4.895471096038818,
          3.9640839099884033,
          4.248404026031494,
          4.069483757019043,
          11.007681846618652,
          6.043073654174805,
          4.530080795288086,
          4.372646808624268,
          10.876409530639648,
          3.7815091609954834,
          11.09742259979248,
          3.9710402488708496,
          10.354607582092285,
          3.053948163986206,
          10.329361915588379,
          11.195109367370605,
          10.263590812683105,
          10.369940757751465,
          2.187746047973633,
          4.367067337036133,
          3.9513542652130127,
          3.940563678741455,
          3.8439507484436035,
          10.348566055297852,
          4.314460754394531,
          2.2522060871124268,
          11.588255882263184,
          4.596593856811523,
          11.110239028930664,
          3.4319629669189453,
          11.052396774291992,
          10.515741348266602,
          4.057260513305664,
          3.7073402404785156,
          3.8613791465759277,
          2.9630894660949707,
          2.7089104652404785,
          2.738062620162964,
          11.218036651611328,
          11.251269340515137,
          11.266664505004883,
          4.738276958465576,
          4.379645824432373,
          6.3966851234436035,
          6.121922492980957,
          5.840365886688232,
          4.338184356689453,
          5.586276531219482,
          5.4281487464904785,
          5.719827175140381,
          4.198014736175537,
          5.854413986206055,
          4.541303634643555,
          4.124207496643066,
          4.293454170227051,
          4.541601657867432,
          4.819527626037598,
          4.392218112945557,
          3.946559429168701,
          4.699158191680908,
          4.511236190795898,
          4.321506023406982,
          3.961129903793335,
          6.477931022644043,
          4.03898811340332,
          6.696986198425293,
          5.625394344329834,
          4.641942024230957,
          6.50211238861084,
          3.7141125202178955,
          6.831995487213135,
          5.891737937927246,
          11.057171821594238,
          2.7932376861572266,
          6.439843654632568,
          6.675280570983887,
          3.8242788314819336,
          3.2471981048583984,
          4.157512187957764,
          4.013629913330078,
          11.090375900268555,
          6.326529502868652,
          4.132077693939209,
          4.054940700531006,
          3.060180425643921,
          2.605818271636963,
          6.070132732391357,
          4.263680934906006,
          11.12178897857666,
          4.025448799133301,
          3.9806456565856934,
          5.988839149475098,
          4.05765962600708,
          6.531525611877441,
          6.514991760253906,
          4.634021759033203,
          3.701615810394287,
          3.9892640113830566,
          3.969444513320923,
          6.799800872802734,
          4.509047508239746,
          6.7112860679626465,
          4.435800075531006,
          6.600674629211426,
          4.435267925262451,
          3.7078170776367188,
          6.497820854187012,
          3.504345655441284,
          4.587157249450684,
          4.712172985076904,
          2.0837292671203613,
          4.8084893226623535,
          4.623603820800781,
          11.250198364257812,
          5.949106693267822,
          3.914393663406372,
          3.616063356399536,
          4.412133693695068,
          4.310324668884277,
          4.165689468383789,
          6.700286865234375,
          3.153920888900757,
          6.485031604766846,
          6.591357231140137,
          6.839720726013184,
          6.6824822425842285,
          6.4634480476379395,
          6.486762046813965,
          6.605708122253418,
          4.1874189376831055,
          6.569840908050537,
          5.705550670623779,
          4.6046462059021,
          4.362198829650879,
          3.6584038734436035,
          3.909766674041748,
          6.687387466430664,
          2.2296202182769775,
          2.412879705429077,
          2.982422113418579,
          1.990938425064087,
          2.2642557621002197,
          2.2085041999816895,
          4.058253765106201,
          2.0764801502227783,
          3.183560609817505,
          3.864957571029663,
          2.2642343044281006,
          2.3038675785064697,
          2.293121337890625,
          2.1125597953796387,
          1.7529538869857788,
          2.386899471282959,
          5.804020881652832,
          2.2547242641448975,
          2.7325921058654785,
          1.8439816236495972,
          1.7029213905334473,
          1.5815521478652954,
          1.7200462818145752,
          2.2109029293060303,
          1.9281326532363892,
          1.848664402961731,
          1.5423662662506104,
          2.554191827774048,
          2.297269344329834,
          1.982827067375183,
          2.141756534576416,
          2.4982779026031494,
          2.1195361614227295,
          3.003016233444214,
          1.5124918222427368,
          1.6866283416748047,
          1.654105544090271,
          2.0515987873077393,
          1.6794923543930054,
          2.0449538230895996,
          2.3587770462036133,
          4.054358005523682,
          2.3477823734283447,
          2.3013315200805664,
          2.2868921756744385,
          1.8505284786224365,
          2.6917622089385986,
          1.8919984102249146,
          1.9809221029281616,
          3.2952752113342285,
          1.89433753490448,
          2.1411993503570557,
          2.1602377891540527,
          2.0307183265686035,
          1.9743908643722534,
          2.736506462097168,
          2.6888177394866943,
          3.1079468727111816,
          2.652939796447754,
          2.640810012817383,
          2.996720314025879,
          4.551301956176758,
          3.376800060272217,
          2.0231831073760986
         ],
         "xaxis": "x",
         "y": [
          5.245926856994629,
          4.125554084777832,
          4.178128242492676,
          5.1954216957092285,
          3.948495626449585,
          3.895800828933716,
          -0.7860445380210876,
          6.98459529876709,
          7.425049781799316,
          -0.8784279227256775,
          -0.8716023564338684,
          4.437128067016602,
          6.774829387664795,
          7.694560527801514,
          6.611961841583252,
          7.973205089569092,
          5.137594699859619,
          3.8756985664367676,
          3.467848539352417,
          2.982889413833618,
          3.314741611480713,
          3.3064422607421875,
          2.1018505096435547,
          1.5981396436691284,
          3.4167237281799316,
          5.108455181121826,
          1.345273733139038,
          3.309922933578491,
          3.073552131652832,
          3.1046791076660156,
          -1.1305266618728638,
          2.9991986751556396,
          3.471513032913208,
          1.5646581649780273,
          -0.36249518394470215,
          7.0587849617004395,
          5.134288787841797,
          5.130571365356445,
          -0.8494630455970764,
          4.854124069213867,
          5.2585930824279785,
          3.9094362258911133,
          3.6625142097473145,
          6.727846145629883,
          4.207785606384277,
          4.498789310455322,
          7.9945831298828125,
          -0.6404757499694824,
          4.454134941101074,
          4.712941646575928,
          5.042260646820068,
          7.025736331939697,
          5.148713111877441,
          5.017361164093018,
          7.916445732116699,
          8.050683975219727,
          5.209960460662842,
          5.003695487976074,
          7.884254455566406,
          4.742058277130127,
          8.102707862854004,
          7.048239707946777,
          -1.2508080005645752,
          6.961273193359375,
          8.016834259033203,
          3.982471466064453,
          5.346499919891357,
          4.443787574768066,
          6.481785774230957,
          -1.1746442317962646,
          7.528923988342285,
          8.137360572814941,
          3.877122402191162,
          3.9521400928497314,
          8.013741493225098,
          7.881863594055176,
          3.856785535812378,
          6.983798503875732,
          3.7363574504852295,
          7.327960968017578,
          4.877188205718994,
          3.1223044395446777,
          4.834062576293945,
          3.9910244941711426,
          4.799508571624756,
          4.912342548370361,
          -0.9149635434150696,
          7.484971523284912,
          7.927285194396973,
          7.888821125030518,
          7.137851238250732,
          4.859140396118164,
          6.742681980133057,
          -1.4511390924453735,
          4.410144805908203,
          -1.094907522201538,
          4.287322521209717,
          0.883168637752533,
          4.708505153656006,
          4.946333408355713,
          7.532752513885498,
          6.075267314910889,
          6.288166046142578,
          3.8621015548706055,
          3.681718587875366,
          3.750185251235962,
          4.688168048858643,
          4.669191837310791,
          4.149178504943848,
          1.9319524765014648,
          1.0386507511138916,
          3.099417209625244,
          4.346729755401611,
          2.9912943840026855,
          1.9323188066482544,
          3.417062997817993,
          2.975648880004883,
          3.1502554416656494,
          1.6822707653045654,
          3.5738630294799805,
          1.7057710886001587,
          1.6051995754241943,
          1.7345103025436401,
          1.7629355192184448,
          2.7324154376983643,
          2.1452410221099854,
          1.0369460582733154,
          -0.9165657758712769,
          -0.6676908135414124,
          1.7578803300857544,
          3.168456792831421,
          3.1956491470336914,
          1.4150410890579224,
          3.4885308742523193,
          4.8771748542785645,
          6.4178595542907715,
          3.649583339691162,
          3.2709333896636963,
          3.5328550338745117,
          3.5709915161132812,
          4.3133111000061035,
          3.8188488483428955,
          4.927818775177002,
          4.858057975769043,
          -1.1261727809906006,
          5.180362701416016,
          -0.7252548933029175,
          6.43903923034668,
          4.212451457977295,
          4.186686038970947,
          -0.2218412607908249,
          0.7349206805229187,
          3.637587308883667,
          3.8132541179656982,
          5.13070821762085,
          -0.8925415873527527,
          4.084371089935303,
          0.9641133546829224,
          6.4225592613220215,
          5.03894567489624,
          7.9502177238464355,
          4.9517903327941895,
          4.860044479370117,
          -1.0823465585708618,
          6.182985782623291,
          5.1326165199279785,
          0.8416679501533508,
          4.883053302764893,
          -0.6855192184448242,
          4.085213661193848,
          7.55645227432251,
          5.02857780456543,
          -1.0873163938522339,
          -0.7482646107673645,
          4.351467609405518,
          4.903839588165283,
          -1.1546697616577148,
          2.720139980316162,
          -0.4260639548301697,
          2.7828896045684814,
          7.261210918426514,
          3.875969171524048,
          3.047645330429077,
          -1.2502005100250244,
          -0.5794903635978699,
          -0.5635161995887756,
          6.623415470123291,
          -1.0388463735580444,
          4.758893013000488,
          3.129620313644409,
          5.25838041305542,
          4.81413459777832,
          4.278016090393066,
          3.800673246383667,
          5.269931793212891,
          5.274879455566406,
          5.033512115478516,
          -0.2625003755092621,
          3.9830398559570312,
          5.124578475952148,
          -0.8455768823623657,
          -0.8791586756706238,
          6.635004043579102,
          -1.3291574716567993,
          4.777088642120361,
          0.7716565132141113,
          2.369438409805298,
          0.3940761983394623,
          0.14991232752799988,
          0.6670504212379456,
          0.47008952498435974,
          -0.9622449278831482,
          -0.05680007487535477,
          0.7480006217956543,
          -0.8195958137512207,
          1.9188272953033447,
          1.73796808719635,
          1.7061758041381836,
          0.7672765254974365,
          0.3139132857322693,
          2.1878061294555664,
          2.9277172088623047,
          1.9505925178527832,
          0.6632182002067566,
          0.2713363468647003,
          0.3879440128803253,
          0.11853224039077759,
          0.39093145728111267,
          1.2322441339492798,
          -1.1511766910552979,
          -1.021689772605896,
          -0.059309206902980804,
          0.8738605976104736,
          0.35377034544944763,
          -0.5848384499549866,
          2.2274279594421387,
          0.9260833263397217,
          1.0236713886260986,
          0.8178543448448181,
          0.14919188618659973,
          -0.2404552847146988,
          -0.2237580120563507,
          2.1379992961883545,
          0.12492253631353378,
          2.1458895206451416,
          2.4652013778686523,
          8.07308292388916,
          2.5251238346099854,
          2.4697422981262207,
          2.5671708583831787,
          -0.9877631664276123,
          0.9249185919761658,
          -1.1582151651382446,
          1.7954553365707397,
          0.07114166766405106,
          -1.2339071035385132,
          -1.3957655429840088,
          -1.371522307395935,
          -1.3026808500289917,
          -0.4563860297203064,
          0.8415602445602417,
          3.685410976409912,
          0.31460797786712646,
          0.06399671733379364,
          0.24795331060886383,
          0.3839358389377594,
          8.10834789276123,
          0.8299459218978882,
          0.33660516142845154
         ],
         "yaxis": "y"
        }
       ],
       "layout": {
        "coloraxis": {
         "colorbar": {
          "title": {
           "text": "Cluster"
          }
         },
         "colorscale": [
          [
           0,
           "#0d0887"
          ],
          [
           0.1111111111111111,
           "#46039f"
          ],
          [
           0.2222222222222222,
           "#7201a8"
          ],
          [
           0.3333333333333333,
           "#9c179e"
          ],
          [
           0.4444444444444444,
           "#bd3786"
          ],
          [
           0.5555555555555556,
           "#d8576b"
          ],
          [
           0.6666666666666666,
           "#ed7953"
          ],
          [
           0.7777777777777778,
           "#fb9f3a"
          ],
          [
           0.8888888888888888,
           "#fdca26"
          ],
          [
           1,
           "#f0f921"
          ]
         ]
        },
        "legend": {
         "tracegroupgap": 0
        },
        "margin": {
         "t": 60
        },
        "template": {
         "data": {
          "bar": [
           {
            "error_x": {
             "color": "#2a3f5f"
            },
            "error_y": {
             "color": "#2a3f5f"
            },
            "marker": {
             "line": {
              "color": "#E5ECF6",
              "width": 0.5
             },
             "pattern": {
              "fillmode": "overlay",
              "size": 10,
              "solidity": 0.2
             }
            },
            "type": "bar"
           }
          ],
          "barpolar": [
           {
            "marker": {
             "line": {
              "color": "#E5ECF6",
              "width": 0.5
             },
             "pattern": {
              "fillmode": "overlay",
              "size": 10,
              "solidity": 0.2
             }
            },
            "type": "barpolar"
           }
          ],
          "carpet": [
           {
            "aaxis": {
             "endlinecolor": "#2a3f5f",
             "gridcolor": "white",
             "linecolor": "white",
             "minorgridcolor": "white",
             "startlinecolor": "#2a3f5f"
            },
            "baxis": {
             "endlinecolor": "#2a3f5f",
             "gridcolor": "white",
             "linecolor": "white",
             "minorgridcolor": "white",
             "startlinecolor": "#2a3f5f"
            },
            "type": "carpet"
           }
          ],
          "choropleth": [
           {
            "colorbar": {
             "outlinewidth": 0,
             "ticks": ""
            },
            "type": "choropleth"
           }
          ],
          "contour": [
           {
            "colorbar": {
             "outlinewidth": 0,
             "ticks": ""
            },
            "colorscale": [
             [
              0,
              "#0d0887"
             ],
             [
              0.1111111111111111,
              "#46039f"
             ],
             [
              0.2222222222222222,
              "#7201a8"
             ],
             [
              0.3333333333333333,
              "#9c179e"
             ],
             [
              0.4444444444444444,
              "#bd3786"
             ],
             [
              0.5555555555555556,
              "#d8576b"
             ],
             [
              0.6666666666666666,
              "#ed7953"
             ],
             [
              0.7777777777777778,
              "#fb9f3a"
             ],
             [
              0.8888888888888888,
              "#fdca26"
             ],
             [
              1,
              "#f0f921"
             ]
            ],
            "type": "contour"
           }
          ],
          "contourcarpet": [
           {
            "colorbar": {
             "outlinewidth": 0,
             "ticks": ""
            },
            "type": "contourcarpet"
           }
          ],
          "heatmap": [
           {
            "colorbar": {
             "outlinewidth": 0,
             "ticks": ""
            },
            "colorscale": [
             [
              0,
              "#0d0887"
             ],
             [
              0.1111111111111111,
              "#46039f"
             ],
             [
              0.2222222222222222,
              "#7201a8"
             ],
             [
              0.3333333333333333,
              "#9c179e"
             ],
             [
              0.4444444444444444,
              "#bd3786"
             ],
             [
              0.5555555555555556,
              "#d8576b"
             ],
             [
              0.6666666666666666,
              "#ed7953"
             ],
             [
              0.7777777777777778,
              "#fb9f3a"
             ],
             [
              0.8888888888888888,
              "#fdca26"
             ],
             [
              1,
              "#f0f921"
             ]
            ],
            "type": "heatmap"
           }
          ],
          "heatmapgl": [
           {
            "colorbar": {
             "outlinewidth": 0,
             "ticks": ""
            },
            "colorscale": [
             [
              0,
              "#0d0887"
             ],
             [
              0.1111111111111111,
              "#46039f"
             ],
             [
              0.2222222222222222,
              "#7201a8"
             ],
             [
              0.3333333333333333,
              "#9c179e"
             ],
             [
              0.4444444444444444,
              "#bd3786"
             ],
             [
              0.5555555555555556,
              "#d8576b"
             ],
             [
              0.6666666666666666,
              "#ed7953"
             ],
             [
              0.7777777777777778,
              "#fb9f3a"
             ],
             [
              0.8888888888888888,
              "#fdca26"
             ],
             [
              1,
              "#f0f921"
             ]
            ],
            "type": "heatmapgl"
           }
          ],
          "histogram": [
           {
            "marker": {
             "pattern": {
              "fillmode": "overlay",
              "size": 10,
              "solidity": 0.2
             }
            },
            "type": "histogram"
           }
          ],
          "histogram2d": [
           {
            "colorbar": {
             "outlinewidth": 0,
             "ticks": ""
            },
            "colorscale": [
             [
              0,
              "#0d0887"
             ],
             [
              0.1111111111111111,
              "#46039f"
             ],
             [
              0.2222222222222222,
              "#7201a8"
             ],
             [
              0.3333333333333333,
              "#9c179e"
             ],
             [
              0.4444444444444444,
              "#bd3786"
             ],
             [
              0.5555555555555556,
              "#d8576b"
             ],
             [
              0.6666666666666666,
              "#ed7953"
             ],
             [
              0.7777777777777778,
              "#fb9f3a"
             ],
             [
              0.8888888888888888,
              "#fdca26"
             ],
             [
              1,
              "#f0f921"
             ]
            ],
            "type": "histogram2d"
           }
          ],
          "histogram2dcontour": [
           {
            "colorbar": {
             "outlinewidth": 0,
             "ticks": ""
            },
            "colorscale": [
             [
              0,
              "#0d0887"
             ],
             [
              0.1111111111111111,
              "#46039f"
             ],
             [
              0.2222222222222222,
              "#7201a8"
             ],
             [
              0.3333333333333333,
              "#9c179e"
             ],
             [
              0.4444444444444444,
              "#bd3786"
             ],
             [
              0.5555555555555556,
              "#d8576b"
             ],
             [
              0.6666666666666666,
              "#ed7953"
             ],
             [
              0.7777777777777778,
              "#fb9f3a"
             ],
             [
              0.8888888888888888,
              "#fdca26"
             ],
             [
              1,
              "#f0f921"
             ]
            ],
            "type": "histogram2dcontour"
           }
          ],
          "mesh3d": [
           {
            "colorbar": {
             "outlinewidth": 0,
             "ticks": ""
            },
            "type": "mesh3d"
           }
          ],
          "parcoords": [
           {
            "line": {
             "colorbar": {
              "outlinewidth": 0,
              "ticks": ""
             }
            },
            "type": "parcoords"
           }
          ],
          "pie": [
           {
            "automargin": true,
            "type": "pie"
           }
          ],
          "scatter": [
           {
            "fillpattern": {
             "fillmode": "overlay",
             "size": 10,
             "solidity": 0.2
            },
            "type": "scatter"
           }
          ],
          "scatter3d": [
           {
            "line": {
             "colorbar": {
              "outlinewidth": 0,
              "ticks": ""
             }
            },
            "marker": {
             "colorbar": {
              "outlinewidth": 0,
              "ticks": ""
             }
            },
            "type": "scatter3d"
           }
          ],
          "scattercarpet": [
           {
            "marker": {
             "colorbar": {
              "outlinewidth": 0,
              "ticks": ""
             }
            },
            "type": "scattercarpet"
           }
          ],
          "scattergeo": [
           {
            "marker": {
             "colorbar": {
              "outlinewidth": 0,
              "ticks": ""
             }
            },
            "type": "scattergeo"
           }
          ],
          "scattergl": [
           {
            "marker": {
             "colorbar": {
              "outlinewidth": 0,
              "ticks": ""
             }
            },
            "type": "scattergl"
           }
          ],
          "scattermapbox": [
           {
            "marker": {
             "colorbar": {
              "outlinewidth": 0,
              "ticks": ""
             }
            },
            "type": "scattermapbox"
           }
          ],
          "scatterpolar": [
           {
            "marker": {
             "colorbar": {
              "outlinewidth": 0,
              "ticks": ""
             }
            },
            "type": "scatterpolar"
           }
          ],
          "scatterpolargl": [
           {
            "marker": {
             "colorbar": {
              "outlinewidth": 0,
              "ticks": ""
             }
            },
            "type": "scatterpolargl"
           }
          ],
          "scatterternary": [
           {
            "marker": {
             "colorbar": {
              "outlinewidth": 0,
              "ticks": ""
             }
            },
            "type": "scatterternary"
           }
          ],
          "surface": [
           {
            "colorbar": {
             "outlinewidth": 0,
             "ticks": ""
            },
            "colorscale": [
             [
              0,
              "#0d0887"
             ],
             [
              0.1111111111111111,
              "#46039f"
             ],
             [
              0.2222222222222222,
              "#7201a8"
             ],
             [
              0.3333333333333333,
              "#9c179e"
             ],
             [
              0.4444444444444444,
              "#bd3786"
             ],
             [
              0.5555555555555556,
              "#d8576b"
             ],
             [
              0.6666666666666666,
              "#ed7953"
             ],
             [
              0.7777777777777778,
              "#fb9f3a"
             ],
             [
              0.8888888888888888,
              "#fdca26"
             ],
             [
              1,
              "#f0f921"
             ]
            ],
            "type": "surface"
           }
          ],
          "table": [
           {
            "cells": {
             "fill": {
              "color": "#EBF0F8"
             },
             "line": {
              "color": "white"
             }
            },
            "header": {
             "fill": {
              "color": "#C8D4E3"
             },
             "line": {
              "color": "white"
             }
            },
            "type": "table"
           }
          ]
         },
         "layout": {
          "annotationdefaults": {
           "arrowcolor": "#2a3f5f",
           "arrowhead": 0,
           "arrowwidth": 1
          },
          "autotypenumbers": "strict",
          "coloraxis": {
           "colorbar": {
            "outlinewidth": 0,
            "ticks": ""
           }
          },
          "colorscale": {
           "diverging": [
            [
             0,
             "#8e0152"
            ],
            [
             0.1,
             "#c51b7d"
            ],
            [
             0.2,
             "#de77ae"
            ],
            [
             0.3,
             "#f1b6da"
            ],
            [
             0.4,
             "#fde0ef"
            ],
            [
             0.5,
             "#f7f7f7"
            ],
            [
             0.6,
             "#e6f5d0"
            ],
            [
             0.7,
             "#b8e186"
            ],
            [
             0.8,
             "#7fbc41"
            ],
            [
             0.9,
             "#4d9221"
            ],
            [
             1,
             "#276419"
            ]
           ],
           "sequential": [
            [
             0,
             "#0d0887"
            ],
            [
             0.1111111111111111,
             "#46039f"
            ],
            [
             0.2222222222222222,
             "#7201a8"
            ],
            [
             0.3333333333333333,
             "#9c179e"
            ],
            [
             0.4444444444444444,
             "#bd3786"
            ],
            [
             0.5555555555555556,
             "#d8576b"
            ],
            [
             0.6666666666666666,
             "#ed7953"
            ],
            [
             0.7777777777777778,
             "#fb9f3a"
            ],
            [
             0.8888888888888888,
             "#fdca26"
            ],
            [
             1,
             "#f0f921"
            ]
           ],
           "sequentialminus": [
            [
             0,
             "#0d0887"
            ],
            [
             0.1111111111111111,
             "#46039f"
            ],
            [
             0.2222222222222222,
             "#7201a8"
            ],
            [
             0.3333333333333333,
             "#9c179e"
            ],
            [
             0.4444444444444444,
             "#bd3786"
            ],
            [
             0.5555555555555556,
             "#d8576b"
            ],
            [
             0.6666666666666666,
             "#ed7953"
            ],
            [
             0.7777777777777778,
             "#fb9f3a"
            ],
            [
             0.8888888888888888,
             "#fdca26"
            ],
            [
             1,
             "#f0f921"
            ]
           ]
          },
          "colorway": [
           "#636efa",
           "#EF553B",
           "#00cc96",
           "#ab63fa",
           "#FFA15A",
           "#19d3f3",
           "#FF6692",
           "#B6E880",
           "#FF97FF",
           "#FECB52"
          ],
          "font": {
           "color": "#2a3f5f"
          },
          "geo": {
           "bgcolor": "white",
           "lakecolor": "white",
           "landcolor": "#E5ECF6",
           "showlakes": true,
           "showland": true,
           "subunitcolor": "white"
          },
          "hoverlabel": {
           "align": "left"
          },
          "hovermode": "closest",
          "mapbox": {
           "style": "light"
          },
          "paper_bgcolor": "white",
          "plot_bgcolor": "#E5ECF6",
          "polar": {
           "angularaxis": {
            "gridcolor": "white",
            "linecolor": "white",
            "ticks": ""
           },
           "bgcolor": "#E5ECF6",
           "radialaxis": {
            "gridcolor": "white",
            "linecolor": "white",
            "ticks": ""
           }
          },
          "scene": {
           "xaxis": {
            "backgroundcolor": "#E5ECF6",
            "gridcolor": "white",
            "gridwidth": 2,
            "linecolor": "white",
            "showbackground": true,
            "ticks": "",
            "zerolinecolor": "white"
           },
           "yaxis": {
            "backgroundcolor": "#E5ECF6",
            "gridcolor": "white",
            "gridwidth": 2,
            "linecolor": "white",
            "showbackground": true,
            "ticks": "",
            "zerolinecolor": "white"
           },
           "zaxis": {
            "backgroundcolor": "#E5ECF6",
            "gridcolor": "white",
            "gridwidth": 2,
            "linecolor": "white",
            "showbackground": true,
            "ticks": "",
            "zerolinecolor": "white"
           }
          },
          "shapedefaults": {
           "line": {
            "color": "#2a3f5f"
           }
          },
          "ternary": {
           "aaxis": {
            "gridcolor": "white",
            "linecolor": "white",
            "ticks": ""
           },
           "baxis": {
            "gridcolor": "white",
            "linecolor": "white",
            "ticks": ""
           },
           "bgcolor": "#E5ECF6",
           "caxis": {
            "gridcolor": "white",
            "linecolor": "white",
            "ticks": ""
           }
          },
          "title": {
           "x": 0.05
          },
          "xaxis": {
           "automargin": true,
           "gridcolor": "white",
           "linecolor": "white",
           "ticks": "",
           "title": {
            "standoff": 15
           },
           "zerolinecolor": "white",
           "zerolinewidth": 2
          },
          "yaxis": {
           "automargin": true,
           "gridcolor": "white",
           "linecolor": "white",
           "ticks": "",
           "title": {
            "standoff": 15
           },
           "zerolinecolor": "white",
           "zerolinewidth": 2
          }
         }
        },
        "title": {
         "text": "Интерактивная кластеризация текстов с UMAP и DBSCAN"
        },
        "xaxis": {
         "anchor": "y",
         "domain": [
          0,
          1
         ],
         "title": {
          "text": "UMAP1"
         }
        },
        "yaxis": {
         "anchor": "x",
         "domain": [
          0,
          1
         ],
         "title": {
          "text": "UMAP2"
         }
        }
       }
      }
     },
     "metadata": {},
     "output_type": "display_data"
    }
   ],
   "source": [
    "import plotly.express as px\n",
    "from sklearn.decomposition import PCA\n",
    "import umap\n",
    "\n",
    "# Если вы уже использовали HDBSCAN или DBSCAN для получения cluster_labels\n",
    "# cluster_labels содержит метки кластеров\n",
    "# embeddings - массив векторных представлений текста\n",
    "\n",
    "# Уменьшение размерности до 2D для визуализации\n",
    "reducer = umap.UMAP(n_neighbors=15, min_dist=0.1, n_components=2, random_state=42)\n",
    "embeddings_2d = reducer.fit_transform(embeddings)\n",
    "\n",
    "# Добавляем результаты в датафрейм\n",
    "df['UMAP1'] = embeddings_2d[:, 0]\n",
    "df['UMAP2'] = embeddings_2d[:, 1]\n",
    "df['Cluster'] = cluster_labels\n",
    "\n",
    "# Построение интерактивного scatter plot с Plotly\n",
    "fig = px.scatter(\n",
    "    df, x='UMAP1', y='UMAP2',\n",
    "    color='Cluster',\n",
    "    hover_data={'Очищенный текст': True, 'UMAP1': False, 'UMAP2': False, 'Cluster': True}\n",
    ")\n",
    "\n",
    "# Настройка графика\n",
    "fig.update_layout(\n",
    "    title=\"Интерактивная кластеризация текстов с UMAP и DBSCAN\",\n",
    "    xaxis_title=\"UMAP1\",\n",
    "    yaxis_title=\"UMAP2\"\n",
    ")\n",
    "\n",
    "fig.show()\n"
   ]
  }
 ],
 "metadata": {
  "kernelspec": {
   "display_name": "base",
   "language": "python",
   "name": "python3"
  },
  "language_info": {
   "codemirror_mode": {
    "name": "ipython",
    "version": 3
   },
   "file_extension": ".py",
   "mimetype": "text/x-python",
   "name": "python",
   "nbconvert_exporter": "python",
   "pygments_lexer": "ipython3",
   "version": "3.12.3"
  }
 },
 "nbformat": 4,
 "nbformat_minor": 2
}
